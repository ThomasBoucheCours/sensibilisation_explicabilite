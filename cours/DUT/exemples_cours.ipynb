{
 "cells": [
  {
   "cell_type": "markdown",
   "metadata": {},
   "source": [
    "# Exemples cours sensibilisation explicabilité machine learning\n",
    "ce notebook permet d'illustrer le cours avec des exemples. \n",
    "Dans ce cadre, les données et le modèle sont travaillés très rapidement.\n",
    "<br />\n",
    "\n",
    "Les data source proviennent de [Kaggle](https://www.kaggle.com/datasets/saurograndi/airplane-crashes-since-1908)\n",
    "\n",
    "\n",
    "\n",
    "\n"
   ]
  },
  {
   "cell_type": "code",
   "execution_count": 1,
   "metadata": {
    "datalore": {
     "sheet_delimiter": false
    },
    "execution": {
     "iopub.execute_input": "2022-02-25T20:46:03.349598Z",
     "iopub.status.busy": "2022-02-25T20:46:03.349182Z",
     "iopub.status.idle": "2022-02-25T20:46:06.787277Z",
     "shell.execute_reply": "2022-02-25T20:46:06.786558Z",
     "shell.execute_reply.started": "2022-02-25T20:46:03.349483Z"
    },
    "papermill": {
     "duration": 1.859069,
     "end_time": "2022-01-04T15:47:17.038097",
     "exception": false,
     "start_time": "2022-01-04T15:47:15.179028",
     "status": "completed"
    },
    "tags": []
   },
   "outputs": [],
   "source": [
    "#Import des librairies\n",
    "import pandas as pd\n",
    "import numpy as np\n",
    "\n",
    "import shap\n",
    "\n",
    "from datetime import datetime\n",
    "\n",
    "from category_encoders import OrdinalEncoder\n",
    "\n",
    "from shapash.explainer.smart_explainer import SmartExplainer\n",
    "\n",
    "from sklearn.model_selection import train_test_split\n",
    "import catboost\n",
    "import lightgbm\n",
    "from category_encoders import OrdinalEncoder\n",
    "from sklearn.inspection import PartialDependenceDisplay\n",
    "\n",
    "\n",
    "\n"
   ]
  },
  {
   "cell_type": "code",
   "execution_count": 2,
   "metadata": {},
   "outputs": [],
   "source": [
    "pd.set_option('display.max_columns', None)\n",
    "pd.set_option('display.max_rows', None)\n",
    "pd.set_option('display.width', 1000)"
   ]
  },
  {
   "cell_type": "markdown",
   "metadata": {
    "datalore": {
     "sheet_delimiter": false
    },
    "papermill": {
     "duration": 0.028281,
     "end_time": "2022-01-04T15:47:17.095973",
     "exception": false,
     "start_time": "2022-01-04T15:47:17.067692",
     "status": "completed"
    },
    "tags": []
   },
   "source": [
    "## Import du dataset"
   ]
  },
  {
   "cell_type": "code",
   "execution_count": 3,
   "metadata": {},
   "outputs": [],
   "source": [
    "df = pd.read_csv(\"../../data/Airplane_Crashes_and_Fatalities_Since_1908.csv\")"
   ]
  },
  {
   "cell_type": "markdown",
   "metadata": {},
   "source": [
    "## Création de variables et feature engineering"
   ]
  },
  {
   "cell_type": "code",
   "execution_count": 4,
   "metadata": {},
   "outputs": [
    {
     "name": "stderr",
     "output_type": "stream",
     "text": [
      "/tmp/ipykernel_6329/3039592624.py:7: FutureWarning:\n",
      "\n",
      "The default value of regex will change from True to False in a future version.\n",
      "\n"
     ]
    }
   ],
   "source": [
    "#Variable temps\n",
    "df['Time'] = df['Time'].replace(np.nan, '00:00') \n",
    "df['Time'] = df['Time'].str.replace('c: ', '')\n",
    "df['Time'] = df['Time'].str.replace('c:', '')\n",
    "df['Time'] = df['Time'].str.replace('c', '')\n",
    "df['Time'] = df['Time'].str.replace('12\\'20', '12:20')\n",
    "df['Time'] = df['Time'].str.replace('18.40', '18:40')\n",
    "df['Time'] = df['Time'].str.replace('0943', '09:43')\n",
    "df['Time'] = df['Time'].str.replace('22\\'08', '22:08')\n",
    "df['Time'] = df['Time'].str.replace('114:20', '00:00')\n",
    "\n",
    "df['date_time'] = df['Date'] + ' ' + df['Time']\n",
    "def todate(x):\n",
    "    return datetime.strptime(x, '%m/%d/%Y %H:%M')\n",
    "df['date_time'] = df['date_time'].apply(todate) "
   ]
  },
  {
   "cell_type": "code",
   "execution_count": 5,
   "metadata": {},
   "outputs": [],
   "source": [
    "#variables jour, mois année\n",
    "df['day'] = df['date_time'].dt.weekday\n",
    "df['month'] = df['date_time'].dt.month\n",
    "df['year'] = df['date_time'].dt.year"
   ]
  },
  {
   "cell_type": "code",
   "execution_count": 6,
   "metadata": {},
   "outputs": [],
   "source": [
    "#variable Pays\n",
    "s = df['Location'].str[0:].str.split(',', expand=True)\n",
    "df['Country'] = s[3].fillna(s[2]).fillna(s[1]).str.strip()"
   ]
  },
  {
   "cell_type": "code",
   "execution_count": 7,
   "metadata": {},
   "outputs": [
    {
     "name": "stdout",
     "output_type": "stream",
     "text": [
      "(5268, 18)\n",
      "(4878, 18)\n"
     ]
    }
   ],
   "source": [
    "print(df.shape)\n",
    "df.dropna(subset=['Summary'],inplace=True)\n",
    "print(df.shape)"
   ]
  },
  {
   "cell_type": "code",
   "execution_count": 8,
   "metadata": {},
   "outputs": [],
   "source": [
    "# variable sur les causes du crash\n",
    "weather_cause = [\"weather\",\"fog\", \"mist\", \"weat\",\"weather conditions\",\"haze\", \"visibility\", \"wind\", \"winds\", \"thunderstorm\", \"storm\", \"rain\",\n",
    "                 \"snow\", \"ice\", \"icing\", \"lightning.\", \"lightning\", \"turbulence\", \"wind shear\", \"gusty winds\"]\n",
    "\n",
    "pilot_cause = [\"pilot error\", \"crashed\", \"pilot's error\",  \"vfr\",\"VFR\", \"pilot mistake\", \"pilot's mistake\", \"pilot fatigue\",\n",
    "               \"pilot negligence\",\"Midair collisioin\",\"crew\",\"Failed to gain altitude\",\"attempting to land\", \"crew error\", \"crew's error\", \"crew mistake\", \"crew's mistake\", \"crew fatigue\", \"crew negligence\"]\n",
    "\n",
    "mech_cause = [\"engine failure\", \"equipment failure\", \"engine malfunction\", \"equipment malfunction\", \"mechanical failure\",\n",
    "              \"mechanical\", \"malfunction\", \"component\", \"landing gear\", \"flight control\", \"mechanical\", \"malfunction\",\n",
    "              \"landing gear\", \"propeller failure\", \"power loss\", \"engine problems\", \"engine trouble\", \"engine issues\",\n",
    "              \"engine defect\", \"engine failed\",\"engine broke\", \"engine shutdown\", \"engine burst\", \"engine exploded\", \"fire\", \"flames\",\n",
    "              \"burned\", \"Stalled at low altitiude\", \"Hydrogen gas\",\"burning\", \"fuel leak\", \"failed.\", \"fuel exhaustion\",  \"out of fuel\", \"low fuel\", \"maintenance error\",\n",
    "              \"improper repair\", \"overlooked fault\", \"structural failure\", \"airframe\", \"fatigue\", \"in-flight breakup\",\n",
    "              \"systems failure\", \"rear engine\",\"small knoll tearing\",\"Fuselage failure\",\"starboard\",\"navigation failure\", \"fuel\", \"loss\", \"broken\", \"communication failure\"]\n",
    "\n",
    "attack_cause = [\"shot down\", \"shotdown\", \"down by\", \"missile\", \"by British aircraft\", \"anti-aircraft\", \"exploded\",\n",
    "                \"shot at\", \"struck by missile\", \"hit by missile\", \"sabotage\", \"terrorism\", \"bomb\", \"explosive\", \"hijack\"]\n",
    "\n",
    "other_cause = [\"weight imbalance\", \"rapid decompression\", \"drone collision\", \"medical emergency\", \"pilot incapacitated\",\n",
    "               \"heart attack\", \"medical issue\", \"A navigational error\",\"bird strike\", \"bird hit\", \"bird collision\", \"air traffic control error\",\n",
    "               \"runway\",\"Forced landing\",\"forward emergency exit\",\"Cashed into trees shortly after taking off\",\"miscommunication\", \"atc mistake\",\"atc error\"]\n",
    "\n",
    "# Define a function to categorize the cause based on keywords\n",
    "def categorize_cause(text):\n",
    "    if any(keyword in text.lower() for keyword in weather_cause):\n",
    "        return \"Weather\"\n",
    "    elif any(keyword in text.lower() for keyword in pilot_cause):\n",
    "        return \"Pilot Error\"\n",
    "    elif any(keyword in text.lower() for keyword in mech_cause):\n",
    "        return \"Mechanical Failure\"\n",
    "    elif any(keyword in text.lower() for keyword in attack_cause):\n",
    "        return \"Attack\"\n",
    "    elif any(keyword in text.lower() for keyword in other_cause):\n",
    "        return \"Other\"\n",
    "    else:\n",
    "        return \"Unknown\"\n",
    "\n",
    "# Apply the categorize_cause function to the 'Summary' column to create a new 'Cause' column\n",
    "df['Cause'] = df['Summary'].apply(categorize_cause)\n"
   ]
  },
  {
   "cell_type": "code",
   "execution_count": 9,
   "metadata": {},
   "outputs": [],
   "source": [
    "#variable sur le pays de compagnie aérienne\n",
    "us_air = ['US', 'U.S.', 'American']\n",
    "rs_air = ['Russia']\n",
    "fr_air = ['France']\n",
    "ch_air = ['China']\n",
    "uk_air = ['United Kingdom', 'England', 'British']\n",
    "ca_air = ['Canada']\n",
    "\n",
    "df['airline_country'] = 'to_delete'\n",
    "\n",
    "# Map US airlines to United States of America\n",
    "df.loc[df['Operator'].str.contains('|'.join(us_air), na=False, case=False), 'airline_country'] = 'United States of America'\n",
    "\n",
    "# Map Russian airlines to Russia\n",
    "df.loc[df['Operator'].str.contains('|'.join(rs_air), na=False, case=False), 'airline_country'] = 'Russia'\n",
    "\n",
    "# Map French airlines to France\n",
    "df.loc[df['Operator'].str.contains('|'.join(fr_air), na=False, case=False), 'airline_country'] = 'France'\n",
    "\n",
    "# Map Chinese airlines to China\n",
    "df.loc[df['Operator'].str.contains('|'.join(ch_air), na=False, case=False), 'airline_country'] = 'China'\n",
    "\n",
    "# Map UK airlines to United Kingdom\n",
    "df.loc[df['Operator'].str.contains('|'.join(uk_air), na=False, case=False), 'airline_country'] = 'United Kingdom'\n",
    "\n",
    "# Map Canadian airlines to Canada\n",
    "df.loc[df['Operator'].str.contains('|'.join(ca_air), na=False, case=False), 'airline_country'] = 'Canada'"
   ]
  },
  {
   "cell_type": "code",
   "execution_count": 10,
   "metadata": {},
   "outputs": [
    {
     "name": "stdout",
     "output_type": "stream",
     "text": [
      "(4878, 20)\n",
      "(856, 20)\n"
     ]
    }
   ],
   "source": [
    "#sélection sur les pays dont les compagnies sont les plus représentés\n",
    "print(df.shape)\n",
    "df = df[df['airline_country']!='to_delete']\n",
    "print(df.shape)"
   ]
  },
  {
   "cell_type": "markdown",
   "metadata": {},
   "source": [
    "## Modélisation"
   ]
  },
  {
   "cell_type": "code",
   "execution_count": 11,
   "metadata": {},
   "outputs": [],
   "source": [
    "features = ['Country', 'Aboard', 'Fatalities','day','month','Cause','airline_country']"
   ]
  },
  {
   "cell_type": "code",
   "execution_count": 12,
   "metadata": {},
   "outputs": [],
   "source": [
    "df_reduit = df[features].copy()\n",
    "df_reduit.dropna(inplace=True)"
   ]
  },
  {
   "cell_type": "code",
   "execution_count": 13,
   "metadata": {},
   "outputs": [],
   "source": [
    "df_reduit[\"target\"]=df_reduit[\"Fatalities\"]\n",
    "y = df_reduit[\"target\"]\n",
    "X = df_reduit.drop([\"target\", \"Fatalities\"], axis=1)"
   ]
  },
  {
   "cell_type": "code",
   "execution_count": 14,
   "metadata": {},
   "outputs": [],
   "source": [
    "#Conversion des variables catégorielles en numérique\n",
    "features_cat = ['Country','Cause','airline_country']\n",
    "\n",
    "encoder = OrdinalEncoder(\n",
    "    cols=features_cat,\n",
    "    handle_unknown='ignore',\n",
    "    return_df=True).fit(X)\n",
    "\n",
    "X=encoder.transform(X)"
   ]
  },
  {
   "cell_type": "code",
   "execution_count": 15,
   "metadata": {},
   "outputs": [
    {
     "data": {
      "text/plain": [
       "<catboost.core.CatBoostRegressor at 0x7fdf906c8580>"
      ]
     },
     "execution_count": 15,
     "metadata": {},
     "output_type": "execute_result"
    }
   ],
   "source": [
    "Xtrain, Xtest, ytrain, ytest = train_test_split(\n",
    "    X, y, train_size=0.75, random_state=1\n",
    ")\n",
    "\n",
    "model = catboost.CatBoostRegressor()\n",
    "model.fit(Xtrain, ytrain, verbose=False)"
   ]
  },
  {
   "cell_type": "markdown",
   "metadata": {},
   "source": [
    "## Explicabilité"
   ]
  },
  {
   "cell_type": "code",
   "execution_count": 16,
   "metadata": {},
   "outputs": [],
   "source": [
    "#Init Shapash\n",
    "xpl = SmartExplainer(model=model,preprocessing=encoder)"
   ]
  },
  {
   "cell_type": "code",
   "execution_count": 17,
   "metadata": {},
   "outputs": [],
   "source": [
    "# Compilation de Shapash\n",
    "xpl.compile(\n",
    "    x=Xtest,    \n",
    "    y_target = ytest\n",
    ")"
   ]
  },
  {
   "cell_type": "code",
   "execution_count": 18,
   "metadata": {},
   "outputs": [
    {
     "name": "stderr",
     "output_type": "stream",
     "text": [
      "INFO:root:Your Shapash application run on http://maitrejinx-Latitude-E5570:8078/\n",
      "INFO:root:Use the method .kill() to down your app.\n"
     ]
    }
   ],
   "source": [
    "#Lancement de la webapp\n",
    "app=xpl.run_app(port=8078)"
   ]
  },
  {
   "cell_type": "code",
   "execution_count": 19,
   "metadata": {},
   "outputs": [
    {
     "name": "stdout",
     "output_type": "stream",
     "text": [
      "Dash is running on http://0.0.0.0:8078/\n",
      "\n"
     ]
    }
   ],
   "source": [
    "app.kill()"
   ]
  },
  {
   "cell_type": "code",
   "execution_count": 20,
   "metadata": {},
   "outputs": [
    {
     "data": {
      "image/png": "[encoded data removed]",
      "text/plain": [
       "<Figure size 432x288 with 2 Axes>"
      ]
     },
     "metadata": {
      "needs_background": "light"
     },
     "output_type": "display_data"
    }
   ],
   "source": [
    "# PDP par sklearn\n",
    "features_info = {\n",
    "    # features of interest\n",
    "    \"features\": [\"airline_country\"]}\n",
    "\n",
    "display = PartialDependenceDisplay.from_estimator(\n",
    "    model,\n",
    "    Xtest,\n",
    "    **features_info,    \n",
    ")"
   ]
  },
  {
   "cell_type": "code",
   "execution_count": 21,
   "metadata": {},
   "outputs": [
    {
     "data": {
      "image/png": "[encoded data removed]",
      "text/plain": [
       "<Figure size 432x288 with 3 Axes>"
      ]
     },
     "metadata": {
      "needs_background": "light"
     },
     "output_type": "display_data"
    }
   ],
   "source": [
    "# ICE par sklearn\n",
    "features_info = {\n",
    "    # features of interest\n",
    "    \"features\": [\"airline_country\", \"day\"], \"kind\": \"both\",\"centered\": False,}\n",
    "\n",
    "display = PartialDependenceDisplay.from_estimator(\n",
    "    model,\n",
    "    Xtest,\n",
    "    **features_info,    \n",
    ")"
   ]
  },
  {
   "cell_type": "code",
   "execution_count": 22,
   "metadata": {},
   "outputs": [
    {
     "data": {
      "application/vnd.plotly.v1+json": {
       "config": {
        "plotlyServerURL": "https://plot.ly"
       },
       "data": [
        {
         "customdata": [
          [
           "United States<br />of America",
           118
          ],
          [
           "United States<br />of America",
           2417
          ],
          [
           "United States<br />of America",
           705
          ],
          [
           "United States<br />of America",
           1525
          ],
          [
           "France",
           912
          ],
          [
           "United States<br />of America",
           2438
          ],
          [
           "United States<br />of America",
           2617
          ],
          [
           "United Kingdom",
           1975
          ],
          [
           "United States<br />of America",
           490
          ],
          [
           "United States<br />of America",
           2305
          ],
          [
           "United Kingdom",
           984
          ],
          [
           "United States<br />of America",
           594
          ],
          [
           "United States<br />of America",
           1175
          ],
          [
           "United States<br />of America",
           1442
          ],
          [
           "United States<br />of America",
           2890
          ],
          [
           "United States<br />of America",
           3281
          ],
          [
           "United States<br />of America",
           2012
          ],
          [
           "United States<br />of America",
           4242
          ],
          [
           "France",
           848
          ],
          [
           "United States<br />of America",
           1541
          ],
          [
           "United States<br />of America",
           1221
          ],
          [
           "United States<br />of America",
           3608
          ],
          [
           "United States<br />of America",
           1402
          ],
          [
           "China",
           634
          ],
          [
           "China",
           4194
          ],
          [
           "United States<br />of America",
           326
          ],
          [
           "Russia",
           4241
          ],
          [
           "France",
           401
          ],
          [
           "United States<br />of America",
           4560
          ],
          [
           "United States<br />of America",
           605
          ],
          [
           "United States<br />of America",
           1339
          ],
          [
           "United States<br />of America",
           3906
          ],
          [
           "United States<br />of America",
           204
          ],
          [
           "United States<br />of America",
           3471
          ],
          [
           "France",
           463
          ],
          [
           "United States<br />of America",
           447
          ],
          [
           "United States<br />of America",
           3626
          ],
          [
           "United States<br />of America",
           3348
          ],
          [
           "United States<br />of America",
           2664
          ],
          [
           "United Kingdom",
           1878
          ],
          [
           "United States<br />of America",
           990
          ],
          [
           "China",
           4070
          ],
          [
           "Russia",
           4462
          ],
          [
           "United States<br />of America",
           429
          ],
          [
           "United States<br />of America",
           2558
          ],
          [
           "China",
           3205
          ],
          [
           "France",
           1779
          ],
          [
           "United States<br />of America",
           1664
          ],
          [
           "United States<br />of America",
           3641
          ],
          [
           "United States<br />of America",
           1506
          ],
          [
           "United Kingdom",
           2008
          ],
          [
           "United States<br />of America",
           2050
          ],
          [
           "China",
           2283
          ],
          [
           "United States<br />of America",
           1952
          ],
          [
           "United States<br />of America",
           1082
          ],
          [
           "United States<br />of America",
           4435
          ],
          [
           "United States<br />of America",
           1196
          ],
          [
           "United States<br />of America",
           747
          ],
          [
           "France",
           1463
          ],
          [
           "United States<br />of America",
           492
          ],
          [
           "United States<br />of America",
           2560
          ],
          [
           "United States<br />of America",
           2163
          ],
          [
           "Canada",
           552
          ],
          [
           "United States<br />of America",
           2083
          ],
          [
           "United Kingdom",
           881
          ],
          [
           "France",
           1026
          ],
          [
           "United States<br />of America",
           734
          ],
          [
           "United Kingdom",
           771
          ],
          [
           "United States<br />of America",
           4946
          ],
          [
           "United States<br />of America",
           3691
          ],
          [
           "United States<br />of America",
           652
          ],
          [
           "United Kingdom",
           2924
          ],
          [
           "United States<br />of America",
           1272
          ],
          [
           "United States<br />of America",
           2048
          ],
          [
           "China",
           3893
          ],
          [
           "China",
           609
          ],
          [
           "United States<br />of America",
           2273
          ],
          [
           "United States<br />of America",
           398
          ],
          [
           "United States<br />of America",
           4817
          ],
          [
           "United States<br />of America",
           59
          ],
          [
           "United States<br />of America",
           1562
          ],
          [
           "United States<br />of America",
           179
          ],
          [
           "United States<br />of America",
           954
          ],
          [
           "France",
           1699
          ],
          [
           "United States<br />of America",
           1460
          ],
          [
           "United States<br />of America",
           2208
          ],
          [
           "United States<br />of America",
           2229
          ],
          [
           "United States<br />of America",
           2928
          ],
          [
           "China",
           387
          ],
          [
           "United States<br />of America",
           3006
          ],
          [
           "United Kingdom",
           2499
          ],
          [
           "United States<br />of America",
           1650
          ],
          [
           "United States<br />of America",
           1302
          ],
          [
           "France",
           5057
          ],
          [
           "United States<br />of America",
           222
          ],
          [
           "Canada",
           2408
          ],
          [
           "United States<br />of America",
           438
          ],
          [
           "China",
           736
          ],
          [
           "United States<br />of America",
           2753
          ],
          [
           "United Kingdom",
           5186
          ],
          [
           "United States<br />of America",
           827
          ],
          [
           "United States<br />of America",
           2475
          ],
          [
           "Russia",
           3506
          ],
          [
           "United States<br />of America",
           3989
          ],
          [
           "China",
           3604
          ],
          [
           "United States<br />of America",
           908
          ],
          [
           "United States<br />of America",
           2255
          ],
          [
           "China",
           4424
          ],
          [
           "France",
           517
          ],
          [
           "United Kingdom",
           770
          ],
          [
           "United Kingdom",
           1236
          ],
          [
           "United Kingdom",
           1394
          ],
          [
           "France",
           351
          ],
          [
           "United States<br />of America",
           1058
          ],
          [
           "United States<br />of America",
           783
          ],
          [
           "United States<br />of America",
           3798
          ],
          [
           "United States<br />of America",
           660
          ],
          [
           "United States<br />of America",
           2720
          ],
          [
           "Russia",
           4272
          ],
          [
           "United States<br />of America",
           345
          ],
          [
           "United States<br />of America",
           897
          ],
          [
           "United States<br />of America",
           4151
          ],
          [
           "Russia",
           5118
          ],
          [
           "United States<br />of America",
           3024
          ],
          [
           "China",
           4212
          ],
          [
           "United States<br />of America",
           2698
          ],
          [
           "France",
           1416
          ],
          [
           "United States<br />of America",
           1832
          ],
          [
           "United States<br />of America",
           3492
          ],
          [
           "United States<br />of America",
           412
          ],
          [
           "United Kingdom",
           921
          ],
          [
           "United States<br />of America",
           4845
          ],
          [
           "United States<br />of America",
           2021
          ],
          [
           "United Kingdom",
           4230
          ],
          [
           "United States<br />of America",
           2263
          ],
          [
           "United States<br />of America",
           2256
          ],
          [
           "China",
           633
          ],
          [
           "United States<br />of America",
           1100
          ],
          [
           "United Kingdom",
           562
          ],
          [
           "France",
           4556
          ],
          [
           "United States<br />of America",
           389
          ],
          [
           "China",
           5019
          ],
          [
           "China",
           4861
          ],
          [
           "United States<br />of America",
           1228
          ],
          [
           "United States<br />of America",
           2508
          ],
          [
           "United States<br />of America",
           1801
          ],
          [
           "United States<br />of America",
           2303
          ],
          [
           "China",
           3165
          ],
          [
           "United States<br />of America",
           4207
          ],
          [
           "United States<br />of America",
           1144
          ],
          [
           "United States<br />of America",
           284
          ],
          [
           "United States<br />of America",
           2189
          ],
          [
           "China",
           847
          ],
          [
           "Russia",
           3961
          ],
          [
           "United States<br />of America",
           313
          ],
          [
           "France",
           1475
          ],
          [
           "United States<br />of America",
           3879
          ],
          [
           "United States<br />of America",
           4311
          ],
          [
           "United States<br />of America",
           3252
          ],
          [
           "China",
           580
          ],
          [
           "United States<br />of America",
           5245
          ],
          [
           "China",
           4852
          ],
          [
           "United States<br />of America",
           0
          ],
          [
           "United Kingdom",
           1290
          ],
          [
           "United States<br />of America",
           2736
          ],
          [
           "France",
           451
          ],
          [
           "United States<br />of America",
           2352
          ],
          [
           "United States<br />of America",
           1459
          ],
          [
           "United States<br />of America",
           432
          ],
          [
           "United States<br />of America",
           1666
          ],
          [
           "United States<br />of America",
           2733
          ],
          [
           "United States<br />of America",
           1250
          ],
          [
           "United States<br />of America",
           2537
          ],
          [
           "United States<br />of America",
           721
          ],
          [
           "United States<br />of America",
           4294
          ],
          [
           "United States<br />of America",
           3207
          ],
          [
           "United States<br />of America",
           669
          ],
          [
           "United States<br />of America",
           3363
          ],
          [
           "United States<br />of America",
           674
          ],
          [
           "United States<br />of America",
           2996
          ],
          [
           "United States<br />of America",
           1484
          ],
          [
           "United States<br />of America",
           3875
          ],
          [
           "United States<br />of America",
           5068
          ],
          [
           "United States<br />of America",
           154
          ],
          [
           "United Kingdom",
           2466
          ],
          [
           "United Kingdom",
           2039
          ],
          [
           "United States<br />of America",
           1520
          ],
          [
           "United States<br />of America",
           3019
          ],
          [
           "United States<br />of America",
           522
          ],
          [
           "United States<br />of America",
           620
          ],
          [
           "United States<br />of America",
           602
          ],
          [
           "China",
           4208
          ],
          [
           "United States<br />of America",
           1980
          ],
          [
           "France",
           2251
          ],
          [
           "United States<br />of America",
           3393
          ],
          [
           "United States<br />of America",
           5095
          ],
          [
           "United States<br />of America",
           938
          ],
          [
           "United States<br />of America",
           4263
          ],
          [
           "United States<br />of America",
           740
          ],
          [
           "France",
           4308
          ]
         ],
         "hovertemplate": "<b>%{hovertext}</b><br />airline_country :<br />%{customdata[0]}<br />Contribution: %{y:.4f}<extra></extra>",
         "hovertext": [
          "Id: 552<br />Predict: 4.17",
          "Id: 2408<br />Predict: 82.58"
         ],
         "line": {
          "color": "rgba(117, 152, 189, 0.9)"
         },
         "marker": {
          "line": {
           "color": "white",
           "width": 0.8
          },
          "opacity": 0.8,
          "size": 10
         },
         "meanline": {
          "visible": true
         },
         "scalemode": "count",
         "showlegend": false,
         "type": "violin",
         "x": [
          "Canada",
          "Canada"
         ],
         "y": [
          -0.8129628951453054,
          1.4716308686441488
         ]
        },
        {
         "customdata": [
          [
           "United States<br />of America",
           118
          ],
          [
           "United States<br />of America",
           2417
          ],
          [
           "United States<br />of America",
           705
          ],
          [
           "United States<br />of America",
           1525
          ],
          [
           "France",
           912
          ],
          [
           "United States<br />of America",
           2438
          ],
          [
           "United States<br />of America",
           2617
          ],
          [
           "United Kingdom",
           1975
          ],
          [
           "United States<br />of America",
           490
          ],
          [
           "United States<br />of America",
           2305
          ],
          [
           "United Kingdom",
           984
          ],
          [
           "United States<br />of America",
           594
          ],
          [
           "United States<br />of America",
           1175
          ],
          [
           "United States<br />of America",
           1442
          ],
          [
           "United States<br />of America",
           2890
          ],
          [
           "United States<br />of America",
           3281
          ],
          [
           "United States<br />of America",
           2012
          ],
          [
           "United States<br />of America",
           4242
          ],
          [
           "France",
           848
          ],
          [
           "United States<br />of America",
           1541
          ],
          [
           "United States<br />of America",
           1221
          ],
          [
           "United States<br />of America",
           3608
          ],
          [
           "United States<br />of America",
           1402
          ],
          [
           "China",
           634
          ],
          [
           "China",
           4194
          ],
          [
           "United States<br />of America",
           326
          ],
          [
           "Russia",
           4241
          ],
          [
           "France",
           401
          ],
          [
           "United States<br />of America",
           4560
          ],
          [
           "United States<br />of America",
           605
          ],
          [
           "United States<br />of America",
           1339
          ],
          [
           "United States<br />of America",
           3906
          ],
          [
           "United States<br />of America",
           204
          ],
          [
           "United States<br />of America",
           3471
          ],
          [
           "France",
           463
          ],
          [
           "United States<br />of America",
           447
          ],
          [
           "United States<br />of America",
           3626
          ],
          [
           "United States<br />of America",
           3348
          ],
          [
           "United States<br />of America",
           2664
          ],
          [
           "United Kingdom",
           1878
          ],
          [
           "United States<br />of America",
           990
          ],
          [
           "China",
           4070
          ],
          [
           "Russia",
           4462
          ],
          [
           "United States<br />of America",
           429
          ],
          [
           "United States<br />of America",
           2558
          ],
          [
           "China",
           3205
          ],
          [
           "France",
           1779
          ],
          [
           "United States<br />of America",
           1664
          ],
          [
           "United States<br />of America",
           3641
          ],
          [
           "United States<br />of America",
           1506
          ],
          [
           "United Kingdom",
           2008
          ],
          [
           "United States<br />of America",
           2050
          ],
          [
           "China",
           2283
          ],
          [
           "United States<br />of America",
           1952
          ],
          [
           "United States<br />of America",
           1082
          ],
          [
           "United States<br />of America",
           4435
          ],
          [
           "United States<br />of America",
           1196
          ],
          [
           "United States<br />of America",
           747
          ],
          [
           "France",
           1463
          ],
          [
           "United States<br />of America",
           492
          ],
          [
           "United States<br />of America",
           2560
          ],
          [
           "United States<br />of America",
           2163
          ],
          [
           "Canada",
           552
          ],
          [
           "United States<br />of America",
           2083
          ],
          [
           "United Kingdom",
           881
          ],
          [
           "France",
           1026
          ],
          [
           "United States<br />of America",
           734
          ],
          [
           "United Kingdom",
           771
          ],
          [
           "United States<br />of America",
           4946
          ],
          [
           "United States<br />of America",
           3691
          ],
          [
           "United States<br />of America",
           652
          ],
          [
           "United Kingdom",
           2924
          ],
          [
           "United States<br />of America",
           1272
          ],
          [
           "United States<br />of America",
           2048
          ],
          [
           "China",
           3893
          ],
          [
           "China",
           609
          ],
          [
           "United States<br />of America",
           2273
          ],
          [
           "United States<br />of America",
           398
          ],
          [
           "United States<br />of America",
           4817
          ],
          [
           "United States<br />of America",
           59
          ],
          [
           "United States<br />of America",
           1562
          ],
          [
           "United States<br />of America",
           179
          ],
          [
           "United States<br />of America",
           954
          ],
          [
           "France",
           1699
          ],
          [
           "United States<br />of America",
           1460
          ],
          [
           "United States<br />of America",
           2208
          ],
          [
           "United States<br />of America",
           2229
          ],
          [
           "United States<br />of America",
           2928
          ],
          [
           "China",
           387
          ],
          [
           "United States<br />of America",
           3006
          ],
          [
           "United Kingdom",
           2499
          ],
          [
           "United States<br />of America",
           1650
          ],
          [
           "United States<br />of America",
           1302
          ],
          [
           "France",
           5057
          ],
          [
           "United States<br />of America",
           222
          ],
          [
           "Canada",
           2408
          ],
          [
           "United States<br />of America",
           438
          ],
          [
           "China",
           736
          ],
          [
           "United States<br />of America",
           2753
          ],
          [
           "United Kingdom",
           5186
          ],
          [
           "United States<br />of America",
           827
          ],
          [
           "United States<br />of America",
           2475
          ],
          [
           "Russia",
           3506
          ],
          [
           "United States<br />of America",
           3989
          ],
          [
           "China",
           3604
          ],
          [
           "United States<br />of America",
           908
          ],
          [
           "United States<br />of America",
           2255
          ],
          [
           "China",
           4424
          ],
          [
           "France",
           517
          ],
          [
           "United Kingdom",
           770
          ],
          [
           "United Kingdom",
           1236
          ],
          [
           "United Kingdom",
           1394
          ],
          [
           "France",
           351
          ],
          [
           "United States<br />of America",
           1058
          ],
          [
           "United States<br />of America",
           783
          ],
          [
           "United States<br />of America",
           3798
          ],
          [
           "United States<br />of America",
           660
          ],
          [
           "United States<br />of America",
           2720
          ],
          [
           "Russia",
           4272
          ],
          [
           "United States<br />of America",
           345
          ],
          [
           "United States<br />of America",
           897
          ],
          [
           "United States<br />of America",
           4151
          ],
          [
           "Russia",
           5118
          ],
          [
           "United States<br />of America",
           3024
          ],
          [
           "China",
           4212
          ],
          [
           "United States<br />of America",
           2698
          ],
          [
           "France",
           1416
          ],
          [
           "United States<br />of America",
           1832
          ],
          [
           "United States<br />of America",
           3492
          ],
          [
           "United States<br />of America",
           412
          ],
          [
           "United Kingdom",
           921
          ],
          [
           "United States<br />of America",
           4845
          ],
          [
           "United States<br />of America",
           2021
          ],
          [
           "United Kingdom",
           4230
          ],
          [
           "United States<br />of America",
           2263
          ],
          [
           "United States<br />of America",
           2256
          ],
          [
           "China",
           633
          ],
          [
           "United States<br />of America",
           1100
          ],
          [
           "United Kingdom",
           562
          ],
          [
           "France",
           4556
          ],
          [
           "United States<br />of America",
           389
          ],
          [
           "China",
           5019
          ],
          [
           "China",
           4861
          ],
          [
           "United States<br />of America",
           1228
          ],
          [
           "United States<br />of America",
           2508
          ],
          [
           "United States<br />of America",
           1801
          ],
          [
           "United States<br />of America",
           2303
          ],
          [
           "China",
           3165
          ],
          [
           "United States<br />of America",
           4207
          ],
          [
           "United States<br />of America",
           1144
          ],
          [
           "United States<br />of America",
           284
          ],
          [
           "United States<br />of America",
           2189
          ],
          [
           "China",
           847
          ],
          [
           "Russia",
           3961
          ],
          [
           "United States<br />of America",
           313
          ],
          [
           "France",
           1475
          ],
          [
           "United States<br />of America",
           3879
          ],
          [
           "United States<br />of America",
           4311
          ],
          [
           "United States<br />of America",
           3252
          ],
          [
           "China",
           580
          ],
          [
           "United States<br />of America",
           5245
          ],
          [
           "China",
           4852
          ],
          [
           "United States<br />of America",
           0
          ],
          [
           "United Kingdom",
           1290
          ],
          [
           "United States<br />of America",
           2736
          ],
          [
           "France",
           451
          ],
          [
           "United States<br />of America",
           2352
          ],
          [
           "United States<br />of America",
           1459
          ],
          [
           "United States<br />of America",
           432
          ],
          [
           "United States<br />of America",
           1666
          ],
          [
           "United States<br />of America",
           2733
          ],
          [
           "United States<br />of America",
           1250
          ],
          [
           "United States<br />of America",
           2537
          ],
          [
           "United States<br />of America",
           721
          ],
          [
           "United States<br />of America",
           4294
          ],
          [
           "United States<br />of America",
           3207
          ],
          [
           "United States<br />of America",
           669
          ],
          [
           "United States<br />of America",
           3363
          ],
          [
           "United States<br />of America",
           674
          ],
          [
           "United States<br />of America",
           2996
          ],
          [
           "United States<br />of America",
           1484
          ],
          [
           "United States<br />of America",
           3875
          ],
          [
           "United States<br />of America",
           5068
          ],
          [
           "United States<br />of America",
           154
          ],
          [
           "United Kingdom",
           2466
          ],
          [
           "United Kingdom",
           2039
          ],
          [
           "United States<br />of America",
           1520
          ],
          [
           "United States<br />of America",
           3019
          ],
          [
           "United States<br />of America",
           522
          ],
          [
           "United States<br />of America",
           620
          ],
          [
           "United States<br />of America",
           602
          ],
          [
           "China",
           4208
          ],
          [
           "United States<br />of America",
           1980
          ],
          [
           "France",
           2251
          ],
          [
           "United States<br />of America",
           3393
          ],
          [
           "United States<br />of America",
           5095
          ],
          [
           "United States<br />of America",
           938
          ],
          [
           "United States<br />of America",
           4263
          ],
          [
           "United States<br />of America",
           740
          ],
          [
           "France",
           4308
          ]
         ],
         "hovertemplate": "<b>%{hovertext}</b><br />airline_country :<br />%{customdata[0]}<br />Contribution: %{y:.4f}<extra></extra>",
         "hovertext": [
          "Id: 634<br />Predict: 3.71",
          "Id: 4194<br />Predict: 106.99",
          "Id: 4070<br />Predict: 4.35",
          "Id: 3205<br />Predict: 98.54",
          "Id: 2283<br />Predict: 22.69",
          "Id: 3893<br />Predict: 45.83",
          "Id: 609<br />Predict: 3.48",
          "Id: 387<br />Predict: 4.59",
          "Id: 736<br />Predict: 25.16",
          "Id: 3604<br />Predict: 10.85",
          "Id: 4424<br />Predict: 10.5",
          "Id: 4212<br />Predict: 62.21",
          "Id: 633<br />Predict: 3.07",
          "Id: 5019<br />Predict: 45.71",
          "Id: 4861<br />Predict: 135.76",
          "Id: 3165<br />Predict: 7.59",
          "Id: 847<br />Predict: 27.05",
          "Id: 580<br />Predict: 12.74",
          "Id: 4852<br />Predict: 167.07",
          "Id: 4208<br />Predict: 43.3"
         ],
         "line": {
          "color": "rgba(117, 152, 189, 0.9)"
         },
         "marker": {
          "line": {
           "color": "white",
           "width": 0.8
          },
          "opacity": 0.8,
          "size": 10
         },
         "meanline": {
          "visible": true
         },
         "scalemode": "count",
         "showlegend": false,
         "type": "violin",
         "x": [
          "China",
          "China",
          "China",
          "China",
          "China",
          "China",
          "China",
          "China",
          "China",
          "China",
          "China",
          "China",
          "China",
          "China",
          "China",
          "China",
          "China",
          "China",
          "China",
          "China"
         ],
         "y": [
          1.1024070309597136,
          7.633819679717908,
          0.40044802852989597,
          8.008872317463993,
          1.4210781262014853,
          4.502830511977926,
          1.0211820201532162,
          0.9670950138032447,
          1.2815753918354587,
          0.764975635840283,
          0.9675501100599756,
          6.731309182202877,
          1.0397940287750116,
          3.9520934038696596,
          6.736301801351499,
          1.6369624838671117,
          1.9836294136619037,
          0.8390203139879963,
          19.538543885331144,
          4.967560803893712
         ]
        },
        {
         "customdata": [
          [
           "United States<br />of America",
           118
          ],
          [
           "United States<br />of America",
           2417
          ],
          [
           "United States<br />of America",
           705
          ],
          [
           "United States<br />of America",
           1525
          ],
          [
           "France",
           912
          ],
          [
           "United States<br />of America",
           2438
          ],
          [
           "United States<br />of America",
           2617
          ],
          [
           "United Kingdom",
           1975
          ],
          [
           "United States<br />of America",
           490
          ],
          [
           "United States<br />of America",
           2305
          ],
          [
           "United Kingdom",
           984
          ],
          [
           "United States<br />of America",
           594
          ],
          [
           "United States<br />of America",
           1175
          ],
          [
           "United States<br />of America",
           1442
          ],
          [
           "United States<br />of America",
           2890
          ],
          [
           "United States<br />of America",
           3281
          ],
          [
           "United States<br />of America",
           2012
          ],
          [
           "United States<br />of America",
           4242
          ],
          [
           "France",
           848
          ],
          [
           "United States<br />of America",
           1541
          ],
          [
           "United States<br />of America",
           1221
          ],
          [
           "United States<br />of America",
           3608
          ],
          [
           "United States<br />of America",
           1402
          ],
          [
           "China",
           634
          ],
          [
           "China",
           4194
          ],
          [
           "United States<br />of America",
           326
          ],
          [
           "Russia",
           4241
          ],
          [
           "France",
           401
          ],
          [
           "United States<br />of America",
           4560
          ],
          [
           "United States<br />of America",
           605
          ],
          [
           "United States<br />of America",
           1339
          ],
          [
           "United States<br />of America",
           3906
          ],
          [
           "United States<br />of America",
           204
          ],
          [
           "United States<br />of America",
           3471
          ],
          [
           "France",
           463
          ],
          [
           "United States<br />of America",
           447
          ],
          [
           "United States<br />of America",
           3626
          ],
          [
           "United States<br />of America",
           3348
          ],
          [
           "United States<br />of America",
           2664
          ],
          [
           "United Kingdom",
           1878
          ],
          [
           "United States<br />of America",
           990
          ],
          [
           "China",
           4070
          ],
          [
           "Russia",
           4462
          ],
          [
           "United States<br />of America",
           429
          ],
          [
           "United States<br />of America",
           2558
          ],
          [
           "China",
           3205
          ],
          [
           "France",
           1779
          ],
          [
           "United States<br />of America",
           1664
          ],
          [
           "United States<br />of America",
           3641
          ],
          [
           "United States<br />of America",
           1506
          ],
          [
           "United Kingdom",
           2008
          ],
          [
           "United States<br />of America",
           2050
          ],
          [
           "China",
           2283
          ],
          [
           "United States<br />of America",
           1952
          ],
          [
           "United States<br />of America",
           1082
          ],
          [
           "United States<br />of America",
           4435
          ],
          [
           "United States<br />of America",
           1196
          ],
          [
           "United States<br />of America",
           747
          ],
          [
           "France",
           1463
          ],
          [
           "United States<br />of America",
           492
          ],
          [
           "United States<br />of America",
           2560
          ],
          [
           "United States<br />of America",
           2163
          ],
          [
           "Canada",
           552
          ],
          [
           "United States<br />of America",
           2083
          ],
          [
           "United Kingdom",
           881
          ],
          [
           "France",
           1026
          ],
          [
           "United States<br />of America",
           734
          ],
          [
           "United Kingdom",
           771
          ],
          [
           "United States<br />of America",
           4946
          ],
          [
           "United States<br />of America",
           3691
          ],
          [
           "United States<br />of America",
           652
          ],
          [
           "United Kingdom",
           2924
          ],
          [
           "United States<br />of America",
           1272
          ],
          [
           "United States<br />of America",
           2048
          ],
          [
           "China",
           3893
          ],
          [
           "China",
           609
          ],
          [
           "United States<br />of America",
           2273
          ],
          [
           "United States<br />of America",
           398
          ],
          [
           "United States<br />of America",
           4817
          ],
          [
           "United States<br />of America",
           59
          ],
          [
           "United States<br />of America",
           1562
          ],
          [
           "United States<br />of America",
           179
          ],
          [
           "United States<br />of America",
           954
          ],
          [
           "France",
           1699
          ],
          [
           "United States<br />of America",
           1460
          ],
          [
           "United States<br />of America",
           2208
          ],
          [
           "United States<br />of America",
           2229
          ],
          [
           "United States<br />of America",
           2928
          ],
          [
           "China",
           387
          ],
          [
           "United States<br />of America",
           3006
          ],
          [
           "United Kingdom",
           2499
          ],
          [
           "United States<br />of America",
           1650
          ],
          [
           "United States<br />of America",
           1302
          ],
          [
           "France",
           5057
          ],
          [
           "United States<br />of America",
           222
          ],
          [
           "Canada",
           2408
          ],
          [
           "United States<br />of America",
           438
          ],
          [
           "China",
           736
          ],
          [
           "United States<br />of America",
           2753
          ],
          [
           "United Kingdom",
           5186
          ],
          [
           "United States<br />of America",
           827
          ],
          [
           "United States<br />of America",
           2475
          ],
          [
           "Russia",
           3506
          ],
          [
           "United States<br />of America",
           3989
          ],
          [
           "China",
           3604
          ],
          [
           "United States<br />of America",
           908
          ],
          [
           "United States<br />of America",
           2255
          ],
          [
           "China",
           4424
          ],
          [
           "France",
           517
          ],
          [
           "United Kingdom",
           770
          ],
          [
           "United Kingdom",
           1236
          ],
          [
           "United Kingdom",
           1394
          ],
          [
           "France",
           351
          ],
          [
           "United States<br />of America",
           1058
          ],
          [
           "United States<br />of America",
           783
          ],
          [
           "United States<br />of America",
           3798
          ],
          [
           "United States<br />of America",
           660
          ],
          [
           "United States<br />of America",
           2720
          ],
          [
           "Russia",
           4272
          ],
          [
           "United States<br />of America",
           345
          ],
          [
           "United States<br />of America",
           897
          ],
          [
           "United States<br />of America",
           4151
          ],
          [
           "Russia",
           5118
          ],
          [
           "United States<br />of America",
           3024
          ],
          [
           "China",
           4212
          ],
          [
           "United States<br />of America",
           2698
          ],
          [
           "France",
           1416
          ],
          [
           "United States<br />of America",
           1832
          ],
          [
           "United States<br />of America",
           3492
          ],
          [
           "United States<br />of America",
           412
          ],
          [
           "United Kingdom",
           921
          ],
          [
           "United States<br />of America",
           4845
          ],
          [
           "United States<br />of America",
           2021
          ],
          [
           "United Kingdom",
           4230
          ],
          [
           "United States<br />of America",
           2263
          ],
          [
           "United States<br />of America",
           2256
          ],
          [
           "China",
           633
          ],
          [
           "United States<br />of America",
           1100
          ],
          [
           "United Kingdom",
           562
          ],
          [
           "France",
           4556
          ],
          [
           "United States<br />of America",
           389
          ],
          [
           "China",
           5019
          ],
          [
           "China",
           4861
          ],
          [
           "United States<br />of America",
           1228
          ],
          [
           "United States<br />of America",
           2508
          ],
          [
           "United States<br />of America",
           1801
          ],
          [
           "United States<br />of America",
           2303
          ],
          [
           "China",
           3165
          ],
          [
           "United States<br />of America",
           4207
          ],
          [
           "United States<br />of America",
           1144
          ],
          [
           "United States<br />of America",
           284
          ],
          [
           "United States<br />of America",
           2189
          ],
          [
           "China",
           847
          ],
          [
           "Russia",
           3961
          ],
          [
           "United States<br />of America",
           313
          ],
          [
           "France",
           1475
          ],
          [
           "United States<br />of America",
           3879
          ],
          [
           "United States<br />of America",
           4311
          ],
          [
           "United States<br />of America",
           3252
          ],
          [
           "China",
           580
          ],
          [
           "United States<br />of America",
           5245
          ],
          [
           "China",
           4852
          ],
          [
           "United States<br />of America",
           0
          ],
          [
           "United Kingdom",
           1290
          ],
          [
           "United States<br />of America",
           2736
          ],
          [
           "France",
           451
          ],
          [
           "United States<br />of America",
           2352
          ],
          [
           "United States<br />of America",
           1459
          ],
          [
           "United States<br />of America",
           432
          ],
          [
           "United States<br />of America",
           1666
          ],
          [
           "United States<br />of America",
           2733
          ],
          [
           "United States<br />of America",
           1250
          ],
          [
           "United States<br />of America",
           2537
          ],
          [
           "United States<br />of America",
           721
          ],
          [
           "United States<br />of America",
           4294
          ],
          [
           "United States<br />of America",
           3207
          ],
          [
           "United States<br />of America",
           669
          ],
          [
           "United States<br />of America",
           3363
          ],
          [
           "United States<br />of America",
           674
          ],
          [
           "United States<br />of America",
           2996
          ],
          [
           "United States<br />of America",
           1484
          ],
          [
           "United States<br />of America",
           3875
          ],
          [
           "United States<br />of America",
           5068
          ],
          [
           "United States<br />of America",
           154
          ],
          [
           "United Kingdom",
           2466
          ],
          [
           "United Kingdom",
           2039
          ],
          [
           "United States<br />of America",
           1520
          ],
          [
           "United States<br />of America",
           3019
          ],
          [
           "United States<br />of America",
           522
          ],
          [
           "United States<br />of America",
           620
          ],
          [
           "United States<br />of America",
           602
          ],
          [
           "China",
           4208
          ],
          [
           "United States<br />of America",
           1980
          ],
          [
           "France",
           2251
          ],
          [
           "United States<br />of America",
           3393
          ],
          [
           "United States<br />of America",
           5095
          ],
          [
           "United States<br />of America",
           938
          ],
          [
           "United States<br />of America",
           4263
          ],
          [
           "United States<br />of America",
           740
          ],
          [
           "France",
           4308
          ]
         ],
         "hovertemplate": "<b>%{hovertext}</b><br />airline_country :<br />%{customdata[0]}<br />Contribution: %{y:.4f}<extra></extra>",
         "hovertext": [
          "Id: 912<br />Predict: 15.14",
          "Id: 848<br />Predict: 12.01",
          "Id: 401<br />Predict: 3.45",
          "Id: 463<br />Predict: 8.48",
          "Id: 1779<br />Predict: 40.04",
          "Id: 1463<br />Predict: 69.01",
          "Id: 1026<br />Predict: 49.35",
          "Id: 1699<br />Predict: 68.32",
          "Id: 5057<br />Predict: 136.72",
          "Id: 517<br />Predict: 7.24",
          "Id: 351<br />Predict: 7.27",
          "Id: 1416<br />Predict: 57.77",
          "Id: 4556<br />Predict: 53.06",
          "Id: 1475<br />Predict: 27.14",
          "Id: 451<br />Predict: 4.21",
          "Id: 2251<br />Predict: 65.92",
          "Id: 4308<br />Predict: 211.94"
         ],
         "line": {
          "color": "rgba(117, 152, 189, 0.9)"
         },
         "marker": {
          "line": {
           "color": "white",
           "width": 0.8
          },
          "opacity": 0.8,
          "size": 10
         },
         "meanline": {
          "visible": true
         },
         "scalemode": "count",
         "showlegend": false,
         "type": "violin",
         "x": [
          "France",
          "France",
          "France",
          "France",
          "France",
          "France",
          "France",
          "France",
          "France",
          "France",
          "France",
          "France",
          "France",
          "France",
          "France",
          "France",
          "France"
         ],
         "y": [
          2.057039413863552,
          1.4710831716709918,
          0.8407511933438032,
          2.586396486605502,
          -2.1536381803041778,
          4.8359483879203635,
          2.532349896243278,
          3.757886591245407,
          -0.5031360665346286,
          2.022532306755347,
          2.3616527122046747,
          5.105074731950162,
          7.339201235718612,
          2.470932440321991,
          1.0872770920352586,
          9.41440921423297,
          19.452891398330415
         ]
        },
        {
         "customdata": [
          [
           "United States<br />of America",
           118
          ],
          [
           "United States<br />of America",
           2417
          ],
          [
           "United States<br />of America",
           705
          ],
          [
           "United States<br />of America",
           1525
          ],
          [
           "France",
           912
          ],
          [
           "United States<br />of America",
           2438
          ],
          [
           "United States<br />of America",
           2617
          ],
          [
           "United Kingdom",
           1975
          ],
          [
           "United States<br />of America",
           490
          ],
          [
           "United States<br />of America",
           2305
          ],
          [
           "United Kingdom",
           984
          ],
          [
           "United States<br />of America",
           594
          ],
          [
           "United States<br />of America",
           1175
          ],
          [
           "United States<br />of America",
           1442
          ],
          [
           "United States<br />of America",
           2890
          ],
          [
           "United States<br />of America",
           3281
          ],
          [
           "United States<br />of America",
           2012
          ],
          [
           "United States<br />of America",
           4242
          ],
          [
           "France",
           848
          ],
          [
           "United States<br />of America",
           1541
          ],
          [
           "United States<br />of America",
           1221
          ],
          [
           "United States<br />of America",
           3608
          ],
          [
           "United States<br />of America",
           1402
          ],
          [
           "China",
           634
          ],
          [
           "China",
           4194
          ],
          [
           "United States<br />of America",
           326
          ],
          [
           "Russia",
           4241
          ],
          [
           "France",
           401
          ],
          [
           "United States<br />of America",
           4560
          ],
          [
           "United States<br />of America",
           605
          ],
          [
           "United States<br />of America",
           1339
          ],
          [
           "United States<br />of America",
           3906
          ],
          [
           "United States<br />of America",
           204
          ],
          [
           "United States<br />of America",
           3471
          ],
          [
           "France",
           463
          ],
          [
           "United States<br />of America",
           447
          ],
          [
           "United States<br />of America",
           3626
          ],
          [
           "United States<br />of America",
           3348
          ],
          [
           "United States<br />of America",
           2664
          ],
          [
           "United Kingdom",
           1878
          ],
          [
           "United States<br />of America",
           990
          ],
          [
           "China",
           4070
          ],
          [
           "Russia",
           4462
          ],
          [
           "United States<br />of America",
           429
          ],
          [
           "United States<br />of America",
           2558
          ],
          [
           "China",
           3205
          ],
          [
           "France",
           1779
          ],
          [
           "United States<br />of America",
           1664
          ],
          [
           "United States<br />of America",
           3641
          ],
          [
           "United States<br />of America",
           1506
          ],
          [
           "United Kingdom",
           2008
          ],
          [
           "United States<br />of America",
           2050
          ],
          [
           "China",
           2283
          ],
          [
           "United States<br />of America",
           1952
          ],
          [
           "United States<br />of America",
           1082
          ],
          [
           "United States<br />of America",
           4435
          ],
          [
           "United States<br />of America",
           1196
          ],
          [
           "United States<br />of America",
           747
          ],
          [
           "France",
           1463
          ],
          [
           "United States<br />of America",
           492
          ],
          [
           "United States<br />of America",
           2560
          ],
          [
           "United States<br />of America",
           2163
          ],
          [
           "Canada",
           552
          ],
          [
           "United States<br />of America",
           2083
          ],
          [
           "United Kingdom",
           881
          ],
          [
           "France",
           1026
          ],
          [
           "United States<br />of America",
           734
          ],
          [
           "United Kingdom",
           771
          ],
          [
           "United States<br />of America",
           4946
          ],
          [
           "United States<br />of America",
           3691
          ],
          [
           "United States<br />of America",
           652
          ],
          [
           "United Kingdom",
           2924
          ],
          [
           "United States<br />of America",
           1272
          ],
          [
           "United States<br />of America",
           2048
          ],
          [
           "China",
           3893
          ],
          [
           "China",
           609
          ],
          [
           "United States<br />of America",
           2273
          ],
          [
           "United States<br />of America",
           398
          ],
          [
           "United States<br />of America",
           4817
          ],
          [
           "United States<br />of America",
           59
          ],
          [
           "United States<br />of America",
           1562
          ],
          [
           "United States<br />of America",
           179
          ],
          [
           "United States<br />of America",
           954
          ],
          [
           "France",
           1699
          ],
          [
           "United States<br />of America",
           1460
          ],
          [
           "United States<br />of America",
           2208
          ],
          [
           "United States<br />of America",
           2229
          ],
          [
           "United States<br />of America",
           2928
          ],
          [
           "China",
           387
          ],
          [
           "United States<br />of America",
           3006
          ],
          [
           "United Kingdom",
           2499
          ],
          [
           "United States<br />of America",
           1650
          ],
          [
           "United States<br />of America",
           1302
          ],
          [
           "France",
           5057
          ],
          [
           "United States<br />of America",
           222
          ],
          [
           "Canada",
           2408
          ],
          [
           "United States<br />of America",
           438
          ],
          [
           "China",
           736
          ],
          [
           "United States<br />of America",
           2753
          ],
          [
           "United Kingdom",
           5186
          ],
          [
           "United States<br />of America",
           827
          ],
          [
           "United States<br />of America",
           2475
          ],
          [
           "Russia",
           3506
          ],
          [
           "United States<br />of America",
           3989
          ],
          [
           "China",
           3604
          ],
          [
           "United States<br />of America",
           908
          ],
          [
           "United States<br />of America",
           2255
          ],
          [
           "China",
           4424
          ],
          [
           "France",
           517
          ],
          [
           "United Kingdom",
           770
          ],
          [
           "United Kingdom",
           1236
          ],
          [
           "United Kingdom",
           1394
          ],
          [
           "France",
           351
          ],
          [
           "United States<br />of America",
           1058
          ],
          [
           "United States<br />of America",
           783
          ],
          [
           "United States<br />of America",
           3798
          ],
          [
           "United States<br />of America",
           660
          ],
          [
           "United States<br />of America",
           2720
          ],
          [
           "Russia",
           4272
          ],
          [
           "United States<br />of America",
           345
          ],
          [
           "United States<br />of America",
           897
          ],
          [
           "United States<br />of America",
           4151
          ],
          [
           "Russia",
           5118
          ],
          [
           "United States<br />of America",
           3024
          ],
          [
           "China",
           4212
          ],
          [
           "United States<br />of America",
           2698
          ],
          [
           "France",
           1416
          ],
          [
           "United States<br />of America",
           1832
          ],
          [
           "United States<br />of America",
           3492
          ],
          [
           "United States<br />of America",
           412
          ],
          [
           "United Kingdom",
           921
          ],
          [
           "United States<br />of America",
           4845
          ],
          [
           "United States<br />of America",
           2021
          ],
          [
           "United Kingdom",
           4230
          ],
          [
           "United States<br />of America",
           2263
          ],
          [
           "United States<br />of America",
           2256
          ],
          [
           "China",
           633
          ],
          [
           "United States<br />of America",
           1100
          ],
          [
           "United Kingdom",
           562
          ],
          [
           "France",
           4556
          ],
          [
           "United States<br />of America",
           389
          ],
          [
           "China",
           5019
          ],
          [
           "China",
           4861
          ],
          [
           "United States<br />of America",
           1228
          ],
          [
           "United States<br />of America",
           2508
          ],
          [
           "United States<br />of America",
           1801
          ],
          [
           "United States<br />of America",
           2303
          ],
          [
           "China",
           3165
          ],
          [
           "United States<br />of America",
           4207
          ],
          [
           "United States<br />of America",
           1144
          ],
          [
           "United States<br />of America",
           284
          ],
          [
           "United States<br />of America",
           2189
          ],
          [
           "China",
           847
          ],
          [
           "Russia",
           3961
          ],
          [
           "United States<br />of America",
           313
          ],
          [
           "France",
           1475
          ],
          [
           "United States<br />of America",
           3879
          ],
          [
           "United States<br />of America",
           4311
          ],
          [
           "United States<br />of America",
           3252
          ],
          [
           "China",
           580
          ],
          [
           "United States<br />of America",
           5245
          ],
          [
           "China",
           4852
          ],
          [
           "United States<br />of America",
           0
          ],
          [
           "United Kingdom",
           1290
          ],
          [
           "United States<br />of America",
           2736
          ],
          [
           "France",
           451
          ],
          [
           "United States<br />of America",
           2352
          ],
          [
           "United States<br />of America",
           1459
          ],
          [
           "United States<br />of America",
           432
          ],
          [
           "United States<br />of America",
           1666
          ],
          [
           "United States<br />of America",
           2733
          ],
          [
           "United States<br />of America",
           1250
          ],
          [
           "United States<br />of America",
           2537
          ],
          [
           "United States<br />of America",
           721
          ],
          [
           "United States<br />of America",
           4294
          ],
          [
           "United States<br />of America",
           3207
          ],
          [
           "United States<br />of America",
           669
          ],
          [
           "United States<br />of America",
           3363
          ],
          [
           "United States<br />of America",
           674
          ],
          [
           "United States<br />of America",
           2996
          ],
          [
           "United States<br />of America",
           1484
          ],
          [
           "United States<br />of America",
           3875
          ],
          [
           "United States<br />of America",
           5068
          ],
          [
           "United States<br />of America",
           154
          ],
          [
           "United Kingdom",
           2466
          ],
          [
           "United Kingdom",
           2039
          ],
          [
           "United States<br />of America",
           1520
          ],
          [
           "United States<br />of America",
           3019
          ],
          [
           "United States<br />of America",
           522
          ],
          [
           "United States<br />of America",
           620
          ],
          [
           "United States<br />of America",
           602
          ],
          [
           "China",
           4208
          ],
          [
           "United States<br />of America",
           1980
          ],
          [
           "France",
           2251
          ],
          [
           "United States<br />of America",
           3393
          ],
          [
           "United States<br />of America",
           5095
          ],
          [
           "United States<br />of America",
           938
          ],
          [
           "United States<br />of America",
           4263
          ],
          [
           "United States<br />of America",
           740
          ],
          [
           "France",
           4308
          ]
         ],
         "hovertemplate": "<b>%{hovertext}</b><br />airline_country :<br />%{customdata[0]}<br />Contribution: %{y:.4f}<extra></extra>",
         "hovertext": [
          "Id: 4241<br />Predict: 68.11",
          "Id: 4462<br />Predict: 25.27",
          "Id: 3506<br />Predict: 54.56",
          "Id: 4272<br />Predict: 49.79",
          "Id: 5118<br />Predict: 14.23",
          "Id: 3961<br />Predict: 39.37"
         ],
         "line": {
          "color": "rgba(117, 152, 189, 0.9)"
         },
         "marker": {
          "line": {
           "color": "white",
           "width": 0.8
          },
          "opacity": 0.8,
          "size": 10
         },
         "meanline": {
          "visible": true
         },
         "scalemode": "count",
         "showlegend": false,
         "type": "violin",
         "x": [
          "Russia",
          "Russia",
          "Russia",
          "Russia",
          "Russia",
          "Russia"
         ],
         "y": [
          4.97766917966104,
          4.383682007131452,
          8.557224285175902,
          5.24694729667531,
          5.512133717055196,
          6.407397530462088
         ]
        },
        {
         "customdata": [
          [
           "United States<br />of America",
           118
          ],
          [
           "United States<br />of America",
           2417
          ],
          [
           "United States<br />of America",
           705
          ],
          [
           "United States<br />of America",
           1525
          ],
          [
           "France",
           912
          ],
          [
           "United States<br />of America",
           2438
          ],
          [
           "United States<br />of America",
           2617
          ],
          [
           "United Kingdom",
           1975
          ],
          [
           "United States<br />of America",
           490
          ],
          [
           "United States<br />of America",
           2305
          ],
          [
           "United Kingdom",
           984
          ],
          [
           "United States<br />of America",
           594
          ],
          [
           "United States<br />of America",
           1175
          ],
          [
           "United States<br />of America",
           1442
          ],
          [
           "United States<br />of America",
           2890
          ],
          [
           "United States<br />of America",
           3281
          ],
          [
           "United States<br />of America",
           2012
          ],
          [
           "United States<br />of America",
           4242
          ],
          [
           "France",
           848
          ],
          [
           "United States<br />of America",
           1541
          ],
          [
           "United States<br />of America",
           1221
          ],
          [
           "United States<br />of America",
           3608
          ],
          [
           "United States<br />of America",
           1402
          ],
          [
           "China",
           634
          ],
          [
           "China",
           4194
          ],
          [
           "United States<br />of America",
           326
          ],
          [
           "Russia",
           4241
          ],
          [
           "France",
           401
          ],
          [
           "United States<br />of America",
           4560
          ],
          [
           "United States<br />of America",
           605
          ],
          [
           "United States<br />of America",
           1339
          ],
          [
           "United States<br />of America",
           3906
          ],
          [
           "United States<br />of America",
           204
          ],
          [
           "United States<br />of America",
           3471
          ],
          [
           "France",
           463
          ],
          [
           "United States<br />of America",
           447
          ],
          [
           "United States<br />of America",
           3626
          ],
          [
           "United States<br />of America",
           3348
          ],
          [
           "United States<br />of America",
           2664
          ],
          [
           "United Kingdom",
           1878
          ],
          [
           "United States<br />of America",
           990
          ],
          [
           "China",
           4070
          ],
          [
           "Russia",
           4462
          ],
          [
           "United States<br />of America",
           429
          ],
          [
           "United States<br />of America",
           2558
          ],
          [
           "China",
           3205
          ],
          [
           "France",
           1779
          ],
          [
           "United States<br />of America",
           1664
          ],
          [
           "United States<br />of America",
           3641
          ],
          [
           "United States<br />of America",
           1506
          ],
          [
           "United Kingdom",
           2008
          ],
          [
           "United States<br />of America",
           2050
          ],
          [
           "China",
           2283
          ],
          [
           "United States<br />of America",
           1952
          ],
          [
           "United States<br />of America",
           1082
          ],
          [
           "United States<br />of America",
           4435
          ],
          [
           "United States<br />of America",
           1196
          ],
          [
           "United States<br />of America",
           747
          ],
          [
           "France",
           1463
          ],
          [
           "United States<br />of America",
           492
          ],
          [
           "United States<br />of America",
           2560
          ],
          [
           "United States<br />of America",
           2163
          ],
          [
           "Canada",
           552
          ],
          [
           "United States<br />of America",
           2083
          ],
          [
           "United Kingdom",
           881
          ],
          [
           "France",
           1026
          ],
          [
           "United States<br />of America",
           734
          ],
          [
           "United Kingdom",
           771
          ],
          [
           "United States<br />of America",
           4946
          ],
          [
           "United States<br />of America",
           3691
          ],
          [
           "United States<br />of America",
           652
          ],
          [
           "United Kingdom",
           2924
          ],
          [
           "United States<br />of America",
           1272
          ],
          [
           "United States<br />of America",
           2048
          ],
          [
           "China",
           3893
          ],
          [
           "China",
           609
          ],
          [
           "United States<br />of America",
           2273
          ],
          [
           "United States<br />of America",
           398
          ],
          [
           "United States<br />of America",
           4817
          ],
          [
           "United States<br />of America",
           59
          ],
          [
           "United States<br />of America",
           1562
          ],
          [
           "United States<br />of America",
           179
          ],
          [
           "United States<br />of America",
           954
          ],
          [
           "France",
           1699
          ],
          [
           "United States<br />of America",
           1460
          ],
          [
           "United States<br />of America",
           2208
          ],
          [
           "United States<br />of America",
           2229
          ],
          [
           "United States<br />of America",
           2928
          ],
          [
           "China",
           387
          ],
          [
           "United States<br />of America",
           3006
          ],
          [
           "United Kingdom",
           2499
          ],
          [
           "United States<br />of America",
           1650
          ],
          [
           "United States<br />of America",
           1302
          ],
          [
           "France",
           5057
          ],
          [
           "United States<br />of America",
           222
          ],
          [
           "Canada",
           2408
          ],
          [
           "United States<br />of America",
           438
          ],
          [
           "China",
           736
          ],
          [
           "United States<br />of America",
           2753
          ],
          [
           "United Kingdom",
           5186
          ],
          [
           "United States<br />of America",
           827
          ],
          [
           "United States<br />of America",
           2475
          ],
          [
           "Russia",
           3506
          ],
          [
           "United States<br />of America",
           3989
          ],
          [
           "China",
           3604
          ],
          [
           "United States<br />of America",
           908
          ],
          [
           "United States<br />of America",
           2255
          ],
          [
           "China",
           4424
          ],
          [
           "France",
           517
          ],
          [
           "United Kingdom",
           770
          ],
          [
           "United Kingdom",
           1236
          ],
          [
           "United Kingdom",
           1394
          ],
          [
           "France",
           351
          ],
          [
           "United States<br />of America",
           1058
          ],
          [
           "United States<br />of America",
           783
          ],
          [
           "United States<br />of America",
           3798
          ],
          [
           "United States<br />of America",
           660
          ],
          [
           "United States<br />of America",
           2720
          ],
          [
           "Russia",
           4272
          ],
          [
           "United States<br />of America",
           345
          ],
          [
           "United States<br />of America",
           897
          ],
          [
           "United States<br />of America",
           4151
          ],
          [
           "Russia",
           5118
          ],
          [
           "United States<br />of America",
           3024
          ],
          [
           "China",
           4212
          ],
          [
           "United States<br />of America",
           2698
          ],
          [
           "France",
           1416
          ],
          [
           "United States<br />of America",
           1832
          ],
          [
           "United States<br />of America",
           3492
          ],
          [
           "United States<br />of America",
           412
          ],
          [
           "United Kingdom",
           921
          ],
          [
           "United States<br />of America",
           4845
          ],
          [
           "United States<br />of America",
           2021
          ],
          [
           "United Kingdom",
           4230
          ],
          [
           "United States<br />of America",
           2263
          ],
          [
           "United States<br />of America",
           2256
          ],
          [
           "China",
           633
          ],
          [
           "United States<br />of America",
           1100
          ],
          [
           "United Kingdom",
           562
          ],
          [
           "France",
           4556
          ],
          [
           "United States<br />of America",
           389
          ],
          [
           "China",
           5019
          ],
          [
           "China",
           4861
          ],
          [
           "United States<br />of America",
           1228
          ],
          [
           "United States<br />of America",
           2508
          ],
          [
           "United States<br />of America",
           1801
          ],
          [
           "United States<br />of America",
           2303
          ],
          [
           "China",
           3165
          ],
          [
           "United States<br />of America",
           4207
          ],
          [
           "United States<br />of America",
           1144
          ],
          [
           "United States<br />of America",
           284
          ],
          [
           "United States<br />of America",
           2189
          ],
          [
           "China",
           847
          ],
          [
           "Russia",
           3961
          ],
          [
           "United States<br />of America",
           313
          ],
          [
           "France",
           1475
          ],
          [
           "United States<br />of America",
           3879
          ],
          [
           "United States<br />of America",
           4311
          ],
          [
           "United States<br />of America",
           3252
          ],
          [
           "China",
           580
          ],
          [
           "United States<br />of America",
           5245
          ],
          [
           "China",
           4852
          ],
          [
           "United States<br />of America",
           0
          ],
          [
           "United Kingdom",
           1290
          ],
          [
           "United States<br />of America",
           2736
          ],
          [
           "France",
           451
          ],
          [
           "United States<br />of America",
           2352
          ],
          [
           "United States<br />of America",
           1459
          ],
          [
           "United States<br />of America",
           432
          ],
          [
           "United States<br />of America",
           1666
          ],
          [
           "United States<br />of America",
           2733
          ],
          [
           "United States<br />of America",
           1250
          ],
          [
           "United States<br />of America",
           2537
          ],
          [
           "United States<br />of America",
           721
          ],
          [
           "United States<br />of America",
           4294
          ],
          [
           "United States<br />of America",
           3207
          ],
          [
           "United States<br />of America",
           669
          ],
          [
           "United States<br />of America",
           3363
          ],
          [
           "United States<br />of America",
           674
          ],
          [
           "United States<br />of America",
           2996
          ],
          [
           "United States<br />of America",
           1484
          ],
          [
           "United States<br />of America",
           3875
          ],
          [
           "United States<br />of America",
           5068
          ],
          [
           "United States<br />of America",
           154
          ],
          [
           "United Kingdom",
           2466
          ],
          [
           "United Kingdom",
           2039
          ],
          [
           "United States<br />of America",
           1520
          ],
          [
           "United States<br />of America",
           3019
          ],
          [
           "United States<br />of America",
           522
          ],
          [
           "United States<br />of America",
           620
          ],
          [
           "United States<br />of America",
           602
          ],
          [
           "China",
           4208
          ],
          [
           "United States<br />of America",
           1980
          ],
          [
           "France",
           2251
          ],
          [
           "United States<br />of America",
           3393
          ],
          [
           "United States<br />of America",
           5095
          ],
          [
           "United States<br />of America",
           938
          ],
          [
           "United States<br />of America",
           4263
          ],
          [
           "United States<br />of America",
           740
          ],
          [
           "France",
           4308
          ]
         ],
         "hovertemplate": "<b>%{hovertext}</b><br />airline_country :<br />%{customdata[0]}<br />Contribution: %{y:.4f}<extra></extra>",
         "hovertext": [
          "Id: 1975<br />Predict: 25.09",
          "Id: 984<br />Predict: 12.73",
          "Id: 1878<br />Predict: 8.95",
          "Id: 2008<br />Predict: 23.84",
          "Id: 881<br />Predict: 7.72",
          "Id: 771<br />Predict: 3.3",
          "Id: 2924<br />Predict: 90.7",
          "Id: 2499<br />Predict: 54.22",
          "Id: 5186<br />Predict: 42.98",
          "Id: 770<br />Predict: 6.63",
          "Id: 1236<br />Predict: 25.89",
          "Id: 1394<br />Predict: 43.63",
          "Id: 921<br />Predict: 23.9",
          "Id: 4230<br />Predict: 2.2",
          "Id: 562<br />Predict: 7.45",
          "Id: 1290<br />Predict: 18.67",
          "Id: 2466<br />Predict: 2.79",
          "Id: 2039<br />Predict: 88.92"
         ],
         "line": {
          "color": "rgba(117, 152, 189, 0.9)"
         },
         "marker": {
          "line": {
           "color": "white",
           "width": 0.8
          },
          "opacity": 0.8,
          "size": 10
         },
         "meanline": {
          "visible": true
         },
         "scalemode": "count",
         "showlegend": false,
         "type": "violin",
         "x": [
          "United Kingdom",
          "United Kingdom",
          "United Kingdom",
          "United Kingdom",
          "United Kingdom",
          "United Kingdom",
          "United Kingdom",
          "United Kingdom",
          "United Kingdom",
          "United Kingdom",
          "United Kingdom",
          "United Kingdom",
          "United Kingdom",
          "United Kingdom",
          "United Kingdom",
          "United Kingdom",
          "United Kingdom",
          "United Kingdom"
         ],
         "y": [
          -1.0110709360940824,
          -1.2182471398292862,
          -0.05123052600380247,
          -0.08301102431012383,
          -0.47830491967342786,
          -1.103148695557593,
          -1.4449710181025024,
          -0.1886648215588967,
          -0.16513259432091085,
          -0.6883620992543613,
          -1.3966213417302322,
          -0.8855661830225188,
          -0.9836469635920722,
          -0.6370638928335496,
          -0.6719542990727685,
          -0.11153807623404564,
          -1.0147308560389068,
          -0.9543196633554475
         ]
        },
        {
         "customdata": [
          [
           "United States<br />of America",
           118
          ],
          [
           "United States<br />of America",
           2417
          ],
          [
           "United States<br />of America",
           705
          ],
          [
           "United States<br />of America",
           1525
          ],
          [
           "France",
           912
          ],
          [
           "United States<br />of America",
           2438
          ],
          [
           "United States<br />of America",
           2617
          ],
          [
           "United Kingdom",
           1975
          ],
          [
           "United States<br />of America",
           490
          ],
          [
           "United States<br />of America",
           2305
          ],
          [
           "United Kingdom",
           984
          ],
          [
           "United States<br />of America",
           594
          ],
          [
           "United States<br />of America",
           1175
          ],
          [
           "United States<br />of America",
           1442
          ],
          [
           "United States<br />of America",
           2890
          ],
          [
           "United States<br />of America",
           3281
          ],
          [
           "United States<br />of America",
           2012
          ],
          [
           "United States<br />of America",
           4242
          ],
          [
           "France",
           848
          ],
          [
           "United States<br />of America",
           1541
          ],
          [
           "United States<br />of America",
           1221
          ],
          [
           "United States<br />of America",
           3608
          ],
          [
           "United States<br />of America",
           1402
          ],
          [
           "China",
           634
          ],
          [
           "China",
           4194
          ],
          [
           "United States<br />of America",
           326
          ],
          [
           "Russia",
           4241
          ],
          [
           "France",
           401
          ],
          [
           "United States<br />of America",
           4560
          ],
          [
           "United States<br />of America",
           605
          ],
          [
           "United States<br />of America",
           1339
          ],
          [
           "United States<br />of America",
           3906
          ],
          [
           "United States<br />of America",
           204
          ],
          [
           "United States<br />of America",
           3471
          ],
          [
           "France",
           463
          ],
          [
           "United States<br />of America",
           447
          ],
          [
           "United States<br />of America",
           3626
          ],
          [
           "United States<br />of America",
           3348
          ],
          [
           "United States<br />of America",
           2664
          ],
          [
           "United Kingdom",
           1878
          ],
          [
           "United States<br />of America",
           990
          ],
          [
           "China",
           4070
          ],
          [
           "Russia",
           4462
          ],
          [
           "United States<br />of America",
           429
          ],
          [
           "United States<br />of America",
           2558
          ],
          [
           "China",
           3205
          ],
          [
           "France",
           1779
          ],
          [
           "United States<br />of America",
           1664
          ],
          [
           "United States<br />of America",
           3641
          ],
          [
           "United States<br />of America",
           1506
          ],
          [
           "United Kingdom",
           2008
          ],
          [
           "United States<br />of America",
           2050
          ],
          [
           "China",
           2283
          ],
          [
           "United States<br />of America",
           1952
          ],
          [
           "United States<br />of America",
           1082
          ],
          [
           "United States<br />of America",
           4435
          ],
          [
           "United States<br />of America",
           1196
          ],
          [
           "United States<br />of America",
           747
          ],
          [
           "France",
           1463
          ],
          [
           "United States<br />of America",
           492
          ],
          [
           "United States<br />of America",
           2560
          ],
          [
           "United States<br />of America",
           2163
          ],
          [
           "Canada",
           552
          ],
          [
           "United States<br />of America",
           2083
          ],
          [
           "United Kingdom",
           881
          ],
          [
           "France",
           1026
          ],
          [
           "United States<br />of America",
           734
          ],
          [
           "United Kingdom",
           771
          ],
          [
           "United States<br />of America",
           4946
          ],
          [
           "United States<br />of America",
           3691
          ],
          [
           "United States<br />of America",
           652
          ],
          [
           "United Kingdom",
           2924
          ],
          [
           "United States<br />of America",
           1272
          ],
          [
           "United States<br />of America",
           2048
          ],
          [
           "China",
           3893
          ],
          [
           "China",
           609
          ],
          [
           "United States<br />of America",
           2273
          ],
          [
           "United States<br />of America",
           398
          ],
          [
           "United States<br />of America",
           4817
          ],
          [
           "United States<br />of America",
           59
          ],
          [
           "United States<br />of America",
           1562
          ],
          [
           "United States<br />of America",
           179
          ],
          [
           "United States<br />of America",
           954
          ],
          [
           "France",
           1699
          ],
          [
           "United States<br />of America",
           1460
          ],
          [
           "United States<br />of America",
           2208
          ],
          [
           "United States<br />of America",
           2229
          ],
          [
           "United States<br />of America",
           2928
          ],
          [
           "China",
           387
          ],
          [
           "United States<br />of America",
           3006
          ],
          [
           "United Kingdom",
           2499
          ],
          [
           "United States<br />of America",
           1650
          ],
          [
           "United States<br />of America",
           1302
          ],
          [
           "France",
           5057
          ],
          [
           "United States<br />of America",
           222
          ],
          [
           "Canada",
           2408
          ],
          [
           "United States<br />of America",
           438
          ],
          [
           "China",
           736
          ],
          [
           "United States<br />of America",
           2753
          ],
          [
           "United Kingdom",
           5186
          ],
          [
           "United States<br />of America",
           827
          ],
          [
           "United States<br />of America",
           2475
          ],
          [
           "Russia",
           3506
          ],
          [
           "United States<br />of America",
           3989
          ],
          [
           "China",
           3604
          ],
          [
           "United States<br />of America",
           908
          ],
          [
           "United States<br />of America",
           2255
          ],
          [
           "China",
           4424
          ],
          [
           "France",
           517
          ],
          [
           "United Kingdom",
           770
          ],
          [
           "United Kingdom",
           1236
          ],
          [
           "United Kingdom",
           1394
          ],
          [
           "France",
           351
          ],
          [
           "United States<br />of America",
           1058
          ],
          [
           "United States<br />of America",
           783
          ],
          [
           "United States<br />of America",
           3798
          ],
          [
           "United States<br />of America",
           660
          ],
          [
           "United States<br />of America",
           2720
          ],
          [
           "Russia",
           4272
          ],
          [
           "United States<br />of America",
           345
          ],
          [
           "United States<br />of America",
           897
          ],
          [
           "United States<br />of America",
           4151
          ],
          [
           "Russia",
           5118
          ],
          [
           "United States<br />of America",
           3024
          ],
          [
           "China",
           4212
          ],
          [
           "United States<br />of America",
           2698
          ],
          [
           "France",
           1416
          ],
          [
           "United States<br />of America",
           1832
          ],
          [
           "United States<br />of America",
           3492
          ],
          [
           "United States<br />of America",
           412
          ],
          [
           "United Kingdom",
           921
          ],
          [
           "United States<br />of America",
           4845
          ],
          [
           "United States<br />of America",
           2021
          ],
          [
           "United Kingdom",
           4230
          ],
          [
           "United States<br />of America",
           2263
          ],
          [
           "United States<br />of America",
           2256
          ],
          [
           "China",
           633
          ],
          [
           "United States<br />of America",
           1100
          ],
          [
           "United Kingdom",
           562
          ],
          [
           "France",
           4556
          ],
          [
           "United States<br />of America",
           389
          ],
          [
           "China",
           5019
          ],
          [
           "China",
           4861
          ],
          [
           "United States<br />of America",
           1228
          ],
          [
           "United States<br />of America",
           2508
          ],
          [
           "United States<br />of America",
           1801
          ],
          [
           "United States<br />of America",
           2303
          ],
          [
           "China",
           3165
          ],
          [
           "United States<br />of America",
           4207
          ],
          [
           "United States<br />of America",
           1144
          ],
          [
           "United States<br />of America",
           284
          ],
          [
           "United States<br />of America",
           2189
          ],
          [
           "China",
           847
          ],
          [
           "Russia",
           3961
          ],
          [
           "United States<br />of America",
           313
          ],
          [
           "France",
           1475
          ],
          [
           "United States<br />of America",
           3879
          ],
          [
           "United States<br />of America",
           4311
          ],
          [
           "United States<br />of America",
           3252
          ],
          [
           "China",
           580
          ],
          [
           "United States<br />of America",
           5245
          ],
          [
           "China",
           4852
          ],
          [
           "United States<br />of America",
           0
          ],
          [
           "United Kingdom",
           1290
          ],
          [
           "United States<br />of America",
           2736
          ],
          [
           "France",
           451
          ],
          [
           "United States<br />of America",
           2352
          ],
          [
           "United States<br />of America",
           1459
          ],
          [
           "United States<br />of America",
           432
          ],
          [
           "United States<br />of America",
           1666
          ],
          [
           "United States<br />of America",
           2733
          ],
          [
           "United States<br />of America",
           1250
          ],
          [
           "United States<br />of America",
           2537
          ],
          [
           "United States<br />of America",
           721
          ],
          [
           "United States<br />of America",
           4294
          ],
          [
           "United States<br />of America",
           3207
          ],
          [
           "United States<br />of America",
           669
          ],
          [
           "United States<br />of America",
           3363
          ],
          [
           "United States<br />of America",
           674
          ],
          [
           "United States<br />of America",
           2996
          ],
          [
           "United States<br />of America",
           1484
          ],
          [
           "United States<br />of America",
           3875
          ],
          [
           "United States<br />of America",
           5068
          ],
          [
           "United States<br />of America",
           154
          ],
          [
           "United Kingdom",
           2466
          ],
          [
           "United Kingdom",
           2039
          ],
          [
           "United States<br />of America",
           1520
          ],
          [
           "United States<br />of America",
           3019
          ],
          [
           "United States<br />of America",
           522
          ],
          [
           "United States<br />of America",
           620
          ],
          [
           "United States<br />of America",
           602
          ],
          [
           "China",
           4208
          ],
          [
           "United States<br />of America",
           1980
          ],
          [
           "France",
           2251
          ],
          [
           "United States<br />of America",
           3393
          ],
          [
           "United States<br />of America",
           5095
          ],
          [
           "United States<br />of America",
           938
          ],
          [
           "United States<br />of America",
           4263
          ],
          [
           "United States<br />of America",
           740
          ],
          [
           "France",
           4308
          ]
         ],
         "hovertemplate": "<b>%{hovertext}</b><br />airline_country :<br />%{customdata[0]}<br />Contribution: %{y:.4f}<extra></extra>",
         "hovertext": [
          "Id: 118<br />Predict: 4.16",
          "Id: 2417<br />Predict: 28.0",
          "Id: 705<br />Predict: 23.55",
          "Id: 1525<br />Predict: 24.85",
          "Id: 2438<br />Predict: 68.7",
          "Id: 2617<br />Predict: 11.21",
          "Id: 490<br />Predict: 10.16",
          "Id: 2305<br />Predict: 25.21",
          "Id: 594<br />Predict: 22.29",
          "Id: 1175<br />Predict: 15.0",
          "Id: 1442<br />Predict: 33.69",
          "Id: 2890<br />Predict: 2.29",
          "Id: 3281<br />Predict: 19.99",
          "Id: 2012<br />Predict: 31.99",
          "Id: 4242<br />Predict: 7.11",
          "Id: 1541<br />Predict: 41.64",
          "Id: 1221<br />Predict: 13.55",
          "Id: 3608<br />Predict: 12.69",
          "Id: 1402<br />Predict: 11.01",
          "Id: 326<br />Predict: 5.28",
          "Id: 4560<br />Predict: 4.53",
          "Id: 605<br />Predict: 12.53",
          "Id: 1339<br />Predict: 25.73",
          "Id: 3906<br />Predict: 5.84",
          "Id: 204<br />Predict: 3.56",
          "Id: 3471<br />Predict: 13.69",
          "Id: 447<br />Predict: 7.29",
          "Id: 3626<br />Predict: 4.3",
          "Id: 3348<br />Predict: 24.01",
          "Id: 2664<br />Predict: 71.58",
          "Id: 990<br />Predict: 17.14",
          "Id: 429<br />Predict: 3.82",
          "Id: 2558<br />Predict: 11.02",
          "Id: 1664<br />Predict: 7.51",
          "Id: 3641<br />Predict: 5.64",
          "Id: 1506<br />Predict: 36.63",
          "Id: 2050<br />Predict: 19.27",
          "Id: 1952<br />Predict: 5.71",
          "Id: 1082<br />Predict: 51.31",
          "Id: 4435<br />Predict: 7.26",
          "Id: 1196<br />Predict: 50.26",
          "Id: 747<br />Predict: 26.92",
          "Id: 492<br />Predict: 14.09",
          "Id: 2560<br />Predict: 4.04",
          "Id: 2163<br />Predict: 5.64",
          "Id: 2083<br />Predict: 3.05",
          "Id: 734<br />Predict: 36.88",
          "Id: 4946<br />Predict: 2.66",
          "Id: 3691<br />Predict: 5.73",
          "Id: 652<br />Predict: 21.63",
          "Id: 1272<br />Predict: 42.46",
          "Id: 2048<br />Predict: 68.98",
          "Id: 2273<br />Predict: 45.55",
          "Id: 398<br />Predict: 2.4",
          "Id: 4817<br />Predict: 184.69",
          "Id: 59<br />Predict: 35.39",
          "Id: 1562<br />Predict: 18.45",
          "Id: 179<br />Predict: 5.48",
          "Id: 954<br />Predict: 16.54",
          "Id: 1460<br />Predict: 6.36",
          "Id: 2208<br />Predict: 10.67",
          "Id: 2229<br />Predict: 22.79",
          "Id: 2928<br />Predict: 17.78",
          "Id: 3006<br />Predict: 28.22",
          "Id: 1650<br />Predict: 11.43",
          "Id: 1302<br />Predict: 2.56",
          "Id: 222<br />Predict: 3.1",
          "Id: 438<br />Predict: 12.29",
          "Id: 2753<br />Predict: 5.28",
          "Id: 827<br />Predict: 24.93",
          "Id: 2475<br />Predict: 42.15",
          "Id: 3989<br />Predict: 63.65",
          "Id: 908<br />Predict: 18.63",
          "Id: 2255<br />Predict: 11.83",
          "Id: 1058<br />Predict: 36.12",
          "Id: 783<br />Predict: 24.02",
          "Id: 3798<br />Predict: 12.97",
          "Id: 660<br />Predict: 27.3",
          "Id: 2720<br />Predict: 139.0",
          "Id: 345<br />Predict: 1.51",
          "Id: 897<br />Predict: 21.09",
          "Id: 4151<br />Predict: 8.28",
          "Id: 3024<br />Predict: 6.92",
          "Id: 2698<br />Predict: 8.18",
          "Id: 1832<br />Predict: 13.89",
          "Id: 3492<br />Predict: 8.76",
          "Id: 412<br />Predict: 10.92",
          "Id: 4845<br />Predict: 8.81",
          "Id: 2021<br />Predict: 67.96",
          "Id: 2263<br />Predict: 17.62",
          "Id: 2256<br />Predict: 24.63",
          "Id: 1100<br />Predict: 32.0",
          "Id: 389<br />Predict: 1.13",
          "Id: 1228<br />Predict: 32.74",
          "Id: 2508<br />Predict: 49.81",
          "Id: 1801<br />Predict: 30.9",
          "Id: 2303<br />Predict: 51.45",
          "Id: 4207<br />Predict: 5.28",
          "Id: 1144<br />Predict: 1.28",
          "Id: 284<br />Predict: 3.15",
          "Id: 2189<br />Predict: 13.88",
          "Id: 313<br />Predict: 4.63",
          "Id: 3879<br />Predict: 30.55",
          "Id: 4311<br />Predict: 10.27",
          "Id: 3252<br />Predict: 11.82",
          "Id: 5245<br />Predict: 77.65",
          "Id: 0<br />Predict: 2.72",
          "Id: 2736<br />Predict: 11.87",
          "Id: 2352<br />Predict: 7.48",
          "Id: 1459<br />Predict: 30.23",
          "Id: 432<br />Predict: 4.11",
          "Id: 1666<br />Predict: 24.86",
          "Id: 2733<br />Predict: 61.9",
          "Id: 1250<br />Predict: 22.01",
          "Id: 2537<br />Predict: 12.43",
          "Id: 721<br />Predict: 2.38",
          "Id: 4294<br />Predict: 29.01",
          "Id: 3207<br />Predict: 15.19",
          "Id: 669<br />Predict: 8.71",
          "Id: 3363<br />Predict: 76.2",
          "Id: 674<br />Predict: 10.27",
          "Id: 2996<br />Predict: 12.35",
          "Id: 1484<br />Predict: 2.16",
          "Id: 3875<br />Predict: 21.78",
          "Id: 5068<br />Predict: 6.99",
          "Id: 154<br />Predict: 2.95",
          "Id: 1520<br />Predict: 42.38",
          "Id: 3019<br />Predict: 9.95",
          "Id: 522<br />Predict: 10.71",
          "Id: 620<br />Predict: 20.64",
          "Id: 602<br />Predict: 28.27",
          "Id: 1980<br />Predict: 15.74",
          "Id: 3393<br />Predict: 1.05",
          "Id: 5095<br />Predict: 11.22",
          "Id: 938<br />Predict: 26.2",
          "Id: 4263<br />Predict: 7.55",
          "Id: 740<br />Predict: 21.86"
         ],
         "line": {
          "color": "rgba(117, 152, 189, 0.9)"
         },
         "marker": {
          "line": {
           "color": "white",
           "width": 0.8
          },
          "opacity": 0.8,
          "size": 10
         },
         "meanline": {
          "visible": true
         },
         "scalemode": "count",
         "showlegend": false,
         "type": "violin",
         "x": [
          "United States<br />of America",
          "United States<br />of America",
          "United States<br />of America",
          "United States<br />of America",
          "United States<br />of America",
          "United States<br />of America",
          "United States<br />of America",
          "United States<br />of America",
          "United States<br />of America",
          "United States<br />of America",
          "United States<br />of America",
          "United States<br />of America",
          "United States<br />of America",
          "United States<br />of America",
          "United States<br />of America",
          "United States<br />of America",
          "United States<br />of America",
          "United States<br />of America",
          "United States<br />of America",
          "United States<br />of America",
          "United States<br />of America",
          "United States<br />of America",
          "United States<br />of America",
          "United States<br />of America",
          "United States<br />of America",
          "United States<br />of America",
          "United States<br />of America",
          "United States<br />of America",
          "United States<br />of America",
          "United States<br />of America",
          "United States<br />of America",
          "United States<br />of America",
          "United States<br />of America",
          "United States<br />of America",
          "United States<br />of America",
          "United States<br />of America",
          "United States<br />of America",
          "United States<br />of America",
          "United States<br />of America",
          "United States<br />of America",
          "United States<br />of America",
          "United States<br />of America",
          "United States<br />of America",
          "United States<br />of America",
          "United States<br />of America",
          "United States<br />of America",
          "United States<br />of America",
          "United States<br />of America",
          "United States<br />of America",
          "United States<br />of America",
          "United States<br />of America",
          "United States<br />of America",
          "United States<br />of America",
          "United States<br />of America",
          "United States<br />of America",
          "United States<br />of America",
          "United States<br />of America",
          "United States<br />of America",
          "United States<br />of America",
          "United States<br />of America",
          "United States<br />of America",
          "United States<br />of America",
          "United States<br />of America",
          "United States<br />of America",
          "United States<br />of America",
          "United States<br />of America",
          "United States<br />of America",
          "United States<br />of America",
          "United States<br />of America",
          "United States<br />of America",
          "United States<br />of America",
          "United States<br />of America",
          "United States<br />of America",
          "United States<br />of America",
          "United States<br />of America",
          "United States<br />of America",
          "United States<br />of America",
          "United States<br />of America",
          "United States<br />of America",
          "United States<br />of America",
          "United States<br />of America",
          "United States<br />of America",
          "United States<br />of America",
          "United States<br />of America",
          "United States<br />of America",
          "United States<br />of America",
          "United States<br />of America",
          "United States<br />of America",
          "United States<br />of America",
          "United States<br />of America",
          "United States<br />of America",
          "United States<br />of America",
          "United States<br />of America",
          "United States<br />of America",
          "United States<br />of America",
          "United States<br />of America",
          "United States<br />of America",
          "United States<br />of America",
          "United States<br />of America",
          "United States<br />of America",
          "United States<br />of America",
          "United States<br />of America",
          "United States<br />of America",
          "United States<br />of America",
          "United States<br />of America",
          "United States<br />of America",
          "United States<br />of America",
          "United States<br />of America",
          "United States<br />of America",
          "United States<br />of America",
          "United States<br />of America",
          "United States<br />of America",
          "United States<br />of America",
          "United States<br />of America",
          "United States<br />of America",
          "United States<br />of America",
          "United States<br />of America",
          "United States<br />of America",
          "United States<br />of America",
          "United States<br />of America",
          "United States<br />of America",
          "United States<br />of America",
          "United States<br />of America",
          "United States<br />of America",
          "United States<br />of America",
          "United States<br />of America",
          "United States<br />of America",
          "United States<br />of America",
          "United States<br />of America",
          "United States<br />of America",
          "United States<br />of America",
          "United States<br />of America",
          "United States<br />of America",
          "United States<br />of America",
          "United States<br />of America",
          "United States<br />of America",
          "United States<br />of America"
         ],
         "y": [
          -0.18785936541315312,
          -0.3862616325472215,
          -0.4446165965531722,
          -0.4835156621515939,
          -0.9400086393312411,
          -0.6715279593227155,
          -0.572685138772346,
          -0.3902104930821223,
          -0.5603309977112632,
          -0.5983244328671279,
          -2.1003969364087625,
          -0.4839881990459267,
          -0.5243618312526671,
          -2.727784214383927,
          -0.4932142828131241,
          -2.519876350093679,
          -0.6191935319461548,
          -0.5547655137736714,
          -0.30189719755361843,
          -0.4286635631325679,
          -0.7896750363560942,
          -0.5113855604329557,
          -0.4742981531687699,
          -0.4775498565008919,
          -0.5798407325376652,
          -0.5892103153375889,
          -0.4364373665892615,
          -0.6465460537682628,
          -0.6519827991762438,
          -0.2270596733716446,
          -0.7885698887334065,
          -0.4778717253345508,
          -0.41964113121035856,
          -0.43151206338629206,
          -0.6787782376432259,
          -0.3313860891619807,
          -0.1971752640262231,
          -0.8228349595025664,
          -1.2803212880584736,
          -0.6051795169549893,
          -1.469247579167199,
          -0.5849501889644586,
          -0.7078198624006404,
          -0.7577172577921781,
          -0.4844171194427588,
          -0.6501085229667223,
          -2.469549173751831,
          -0.6627287666030294,
          -0.45756944892769186,
          -0.16896935058497725,
          -0.6294482314044338,
          -2.100146226332214,
          -1.1171256219197683,
          -0.15346719499694725,
          3.3855013183187688,
          -0.4462494471893077,
          -0.6209211506734491,
          -0.7225186504640996,
          -0.37704233336749515,
          -0.4687269418176739,
          -0.22128232468985237,
          -0.9063688958348488,
          -0.48232778108377494,
          -0.7341650521320787,
          -0.5957025290434819,
          -0.48817463796278826,
          -0.7728270209096499,
          -0.23273483730481317,
          -0.4294280497566387,
          -0.7618556579266869,
          -0.6930547730158988,
          -1.5347219057811106,
          -0.4802159491237541,
          -0.5711851538440942,
          -0.613491396237958,
          -0.7994809530460246,
          -0.7234401590216012,
          -0.5435249416609146,
          4.859451971865505,
          -0.49371433459279757,
          -0.7724353065591623,
          -0.8263288586752985,
          -0.326087499627375,
          -0.8506412157542061,
          -0.5519042836678095,
          -0.43185260258536,
          -0.2696803776996064,
          -0.5073376691682947,
          1.3135695906367972,
          -0.917841164219296,
          -0.824291208312885,
          -0.7116689976364287,
          -0.49802958962033417,
          -0.6875126084743599,
          -2.0671355296387257,
          -1.0785873089314122,
          -1.4123142574398961,
          -1.151790822227624,
          -0.5236787753815363,
          -0.516338236642942,
          -0.6478714743224723,
          -0.8441282461109109,
          -2.0889381438526833,
          -0.7748330174706928,
          -0.4895418882764865,
          -4.572167218069692,
          -0.29364419416966425,
          -0.5260174486730221,
          -0.4092678490444837,
          -0.5473329338663177,
          -0.25563524383424435,
          -0.5800360103505977,
          -3.8880979144079952,
          -0.5596255122600754,
          -0.4662310749717166,
          -0.4419136421174712,
          -3.1338953844066153,
          -0.34797280367974925,
          -0.31303340349558506,
          -6.765644634176082,
          -0.8394657217425812,
          -0.630512768026477,
          -0.8536123785835825,
          -0.64670360636982,
          -0.5147215246750804,
          -0.23578592883599483,
          -0.6428638474876015,
          -0.8368993999115413,
          -0.18221124360635085,
          -0.5673528348102291,
          -0.6033367122778692,
          -0.5569713333397541,
          -0.5959958565228117,
          -0.7641653611647365,
          -0.5082903798913799,
          -0.4081627394781283,
          -0.7414805898875148
         ]
        },
        {
         "customdata": [
          [
           "United States<br />of America",
           118
          ],
          [
           "United States<br />of America",
           2417
          ],
          [
           "United States<br />of America",
           705
          ],
          [
           "United States<br />of America",
           1525
          ],
          [
           "France",
           912
          ],
          [
           "United States<br />of America",
           2438
          ],
          [
           "United States<br />of America",
           2617
          ],
          [
           "United Kingdom",
           1975
          ],
          [
           "United States<br />of America",
           490
          ],
          [
           "United States<br />of America",
           2305
          ],
          [
           "United Kingdom",
           984
          ],
          [
           "United States<br />of America",
           594
          ],
          [
           "United States<br />of America",
           1175
          ],
          [
           "United States<br />of America",
           1442
          ],
          [
           "United States<br />of America",
           2890
          ],
          [
           "United States<br />of America",
           3281
          ],
          [
           "United States<br />of America",
           2012
          ],
          [
           "United States<br />of America",
           4242
          ],
          [
           "France",
           848
          ],
          [
           "United States<br />of America",
           1541
          ],
          [
           "United States<br />of America",
           1221
          ],
          [
           "United States<br />of America",
           3608
          ],
          [
           "United States<br />of America",
           1402
          ],
          [
           "China",
           634
          ],
          [
           "China",
           4194
          ],
          [
           "United States<br />of America",
           326
          ],
          [
           "Russia",
           4241
          ],
          [
           "France",
           401
          ],
          [
           "United States<br />of America",
           4560
          ],
          [
           "United States<br />of America",
           605
          ],
          [
           "United States<br />of America",
           1339
          ],
          [
           "United States<br />of America",
           3906
          ],
          [
           "United States<br />of America",
           204
          ],
          [
           "United States<br />of America",
           3471
          ],
          [
           "France",
           463
          ],
          [
           "United States<br />of America",
           447
          ],
          [
           "United States<br />of America",
           3626
          ],
          [
           "United States<br />of America",
           3348
          ],
          [
           "United States<br />of America",
           2664
          ],
          [
           "United Kingdom",
           1878
          ],
          [
           "United States<br />of America",
           990
          ],
          [
           "China",
           4070
          ],
          [
           "Russia",
           4462
          ],
          [
           "United States<br />of America",
           429
          ],
          [
           "United States<br />of America",
           2558
          ],
          [
           "China",
           3205
          ],
          [
           "France",
           1779
          ],
          [
           "United States<br />of America",
           1664
          ],
          [
           "United States<br />of America",
           3641
          ],
          [
           "United States<br />of America",
           1506
          ],
          [
           "United Kingdom",
           2008
          ],
          [
           "United States<br />of America",
           2050
          ],
          [
           "China",
           2283
          ],
          [
           "United States<br />of America",
           1952
          ],
          [
           "United States<br />of America",
           1082
          ],
          [
           "United States<br />of America",
           4435
          ],
          [
           "United States<br />of America",
           1196
          ],
          [
           "United States<br />of America",
           747
          ],
          [
           "France",
           1463
          ],
          [
           "United States<br />of America",
           492
          ],
          [
           "United States<br />of America",
           2560
          ],
          [
           "United States<br />of America",
           2163
          ],
          [
           "Canada",
           552
          ],
          [
           "United States<br />of America",
           2083
          ],
          [
           "United Kingdom",
           881
          ],
          [
           "France",
           1026
          ],
          [
           "United States<br />of America",
           734
          ],
          [
           "United Kingdom",
           771
          ],
          [
           "United States<br />of America",
           4946
          ],
          [
           "United States<br />of America",
           3691
          ],
          [
           "United States<br />of America",
           652
          ],
          [
           "United Kingdom",
           2924
          ],
          [
           "United States<br />of America",
           1272
          ],
          [
           "United States<br />of America",
           2048
          ],
          [
           "China",
           3893
          ],
          [
           "China",
           609
          ],
          [
           "United States<br />of America",
           2273
          ],
          [
           "United States<br />of America",
           398
          ],
          [
           "United States<br />of America",
           4817
          ],
          [
           "United States<br />of America",
           59
          ],
          [
           "United States<br />of America",
           1562
          ],
          [
           "United States<br />of America",
           179
          ],
          [
           "United States<br />of America",
           954
          ],
          [
           "France",
           1699
          ],
          [
           "United States<br />of America",
           1460
          ],
          [
           "United States<br />of America",
           2208
          ],
          [
           "United States<br />of America",
           2229
          ],
          [
           "United States<br />of America",
           2928
          ],
          [
           "China",
           387
          ],
          [
           "United States<br />of America",
           3006
          ],
          [
           "United Kingdom",
           2499
          ],
          [
           "United States<br />of America",
           1650
          ],
          [
           "United States<br />of America",
           1302
          ],
          [
           "France",
           5057
          ],
          [
           "United States<br />of America",
           222
          ],
          [
           "Canada",
           2408
          ],
          [
           "United States<br />of America",
           438
          ],
          [
           "China",
           736
          ],
          [
           "United States<br />of America",
           2753
          ],
          [
           "United Kingdom",
           5186
          ],
          [
           "United States<br />of America",
           827
          ],
          [
           "United States<br />of America",
           2475
          ],
          [
           "Russia",
           3506
          ],
          [
           "United States<br />of America",
           3989
          ],
          [
           "China",
           3604
          ],
          [
           "United States<br />of America",
           908
          ],
          [
           "United States<br />of America",
           2255
          ],
          [
           "China",
           4424
          ],
          [
           "France",
           517
          ],
          [
           "United Kingdom",
           770
          ],
          [
           "United Kingdom",
           1236
          ],
          [
           "United Kingdom",
           1394
          ],
          [
           "France",
           351
          ],
          [
           "United States<br />of America",
           1058
          ],
          [
           "United States<br />of America",
           783
          ],
          [
           "United States<br />of America",
           3798
          ],
          [
           "United States<br />of America",
           660
          ],
          [
           "United States<br />of America",
           2720
          ],
          [
           "Russia",
           4272
          ],
          [
           "United States<br />of America",
           345
          ],
          [
           "United States<br />of America",
           897
          ],
          [
           "United States<br />of America",
           4151
          ],
          [
           "Russia",
           5118
          ],
          [
           "United States<br />of America",
           3024
          ],
          [
           "China",
           4212
          ],
          [
           "United States<br />of America",
           2698
          ],
          [
           "France",
           1416
          ],
          [
           "United States<br />of America",
           1832
          ],
          [
           "United States<br />of America",
           3492
          ],
          [
           "United States<br />of America",
           412
          ],
          [
           "United Kingdom",
           921
          ],
          [
           "United States<br />of America",
           4845
          ],
          [
           "United States<br />of America",
           2021
          ],
          [
           "United Kingdom",
           4230
          ],
          [
           "United States<br />of America",
           2263
          ],
          [
           "United States<br />of America",
           2256
          ],
          [
           "China",
           633
          ],
          [
           "United States<br />of America",
           1100
          ],
          [
           "United Kingdom",
           562
          ],
          [
           "France",
           4556
          ],
          [
           "United States<br />of America",
           389
          ],
          [
           "China",
           5019
          ],
          [
           "China",
           4861
          ],
          [
           "United States<br />of America",
           1228
          ],
          [
           "United States<br />of America",
           2508
          ],
          [
           "United States<br />of America",
           1801
          ],
          [
           "United States<br />of America",
           2303
          ],
          [
           "China",
           3165
          ],
          [
           "United States<br />of America",
           4207
          ],
          [
           "United States<br />of America",
           1144
          ],
          [
           "United States<br />of America",
           284
          ],
          [
           "United States<br />of America",
           2189
          ],
          [
           "China",
           847
          ],
          [
           "Russia",
           3961
          ],
          [
           "United States<br />of America",
           313
          ],
          [
           "France",
           1475
          ],
          [
           "United States<br />of America",
           3879
          ],
          [
           "United States<br />of America",
           4311
          ],
          [
           "United States<br />of America",
           3252
          ],
          [
           "China",
           580
          ],
          [
           "United States<br />of America",
           5245
          ],
          [
           "China",
           4852
          ],
          [
           "United States<br />of America",
           0
          ],
          [
           "United Kingdom",
           1290
          ],
          [
           "United States<br />of America",
           2736
          ],
          [
           "France",
           451
          ],
          [
           "United States<br />of America",
           2352
          ],
          [
           "United States<br />of America",
           1459
          ],
          [
           "United States<br />of America",
           432
          ],
          [
           "United States<br />of America",
           1666
          ],
          [
           "United States<br />of America",
           2733
          ],
          [
           "United States<br />of America",
           1250
          ],
          [
           "United States<br />of America",
           2537
          ],
          [
           "United States<br />of America",
           721
          ],
          [
           "United States<br />of America",
           4294
          ],
          [
           "United States<br />of America",
           3207
          ],
          [
           "United States<br />of America",
           669
          ],
          [
           "United States<br />of America",
           3363
          ],
          [
           "United States<br />of America",
           674
          ],
          [
           "United States<br />of America",
           2996
          ],
          [
           "United States<br />of America",
           1484
          ],
          [
           "United States<br />of America",
           3875
          ],
          [
           "United States<br />of America",
           5068
          ],
          [
           "United States<br />of America",
           154
          ],
          [
           "United Kingdom",
           2466
          ],
          [
           "United Kingdom",
           2039
          ],
          [
           "United States<br />of America",
           1520
          ],
          [
           "United States<br />of America",
           3019
          ],
          [
           "United States<br />of America",
           522
          ],
          [
           "United States<br />of America",
           620
          ],
          [
           "United States<br />of America",
           602
          ],
          [
           "China",
           4208
          ],
          [
           "United States<br />of America",
           1980
          ],
          [
           "France",
           2251
          ],
          [
           "United States<br />of America",
           3393
          ],
          [
           "United States<br />of America",
           5095
          ],
          [
           "United States<br />of America",
           938
          ],
          [
           "United States<br />of America",
           4263
          ],
          [
           "United States<br />of America",
           740
          ],
          [
           "France",
           4308
          ]
         ],
         "hovertemplate": "<b>%{hovertext}</b><br />airline_country :<br />%{customdata[0]}<br />Contribution: %{y:.4f}<extra></extra>",
         "hovertext": [
          "Id: 118<br />Predict: 4.16",
          "Id: 2417<br />Predict: 28.0",
          "Id: 705<br />Predict: 23.55",
          "Id: 1525<br />Predict: 24.85",
          "Id: 912<br />Predict: 15.14",
          "Id: 2438<br />Predict: 68.7",
          "Id: 2617<br />Predict: 11.21",
          "Id: 1975<br />Predict: 25.09",
          "Id: 490<br />Predict: 10.16",
          "Id: 2305<br />Predict: 25.21",
          "Id: 984<br />Predict: 12.73",
          "Id: 594<br />Predict: 22.29",
          "Id: 1175<br />Predict: 15.0",
          "Id: 1442<br />Predict: 33.69",
          "Id: 2890<br />Predict: 2.29",
          "Id: 3281<br />Predict: 19.99",
          "Id: 2012<br />Predict: 31.99",
          "Id: 4242<br />Predict: 7.11",
          "Id: 848<br />Predict: 12.01",
          "Id: 1541<br />Predict: 41.64",
          "Id: 1221<br />Predict: 13.55",
          "Id: 3608<br />Predict: 12.69",
          "Id: 1402<br />Predict: 11.01",
          "Id: 634<br />Predict: 3.71",
          "Id: 4194<br />Predict: 106.99",
          "Id: 326<br />Predict: 5.28",
          "Id: 4241<br />Predict: 68.11",
          "Id: 401<br />Predict: 3.45",
          "Id: 4560<br />Predict: 4.53",
          "Id: 605<br />Predict: 12.53",
          "Id: 1339<br />Predict: 25.73",
          "Id: 3906<br />Predict: 5.84",
          "Id: 204<br />Predict: 3.56",
          "Id: 3471<br />Predict: 13.69",
          "Id: 463<br />Predict: 8.48",
          "Id: 447<br />Predict: 7.29",
          "Id: 3626<br />Predict: 4.3",
          "Id: 3348<br />Predict: 24.01",
          "Id: 2664<br />Predict: 71.58",
          "Id: 1878<br />Predict: 8.95",
          "Id: 990<br />Predict: 17.14",
          "Id: 4070<br />Predict: 4.35",
          "Id: 4462<br />Predict: 25.27",
          "Id: 429<br />Predict: 3.82",
          "Id: 2558<br />Predict: 11.02",
          "Id: 3205<br />Predict: 98.54",
          "Id: 1779<br />Predict: 40.04",
          "Id: 1664<br />Predict: 7.51",
          "Id: 3641<br />Predict: 5.64",
          "Id: 1506<br />Predict: 36.63",
          "Id: 2008<br />Predict: 23.84",
          "Id: 2050<br />Predict: 19.27",
          "Id: 2283<br />Predict: 22.69",
          "Id: 1952<br />Predict: 5.71",
          "Id: 1082<br />Predict: 51.31",
          "Id: 4435<br />Predict: 7.26",
          "Id: 1196<br />Predict: 50.26",
          "Id: 747<br />Predict: 26.92",
          "Id: 1463<br />Predict: 69.01",
          "Id: 492<br />Predict: 14.09",
          "Id: 2560<br />Predict: 4.04",
          "Id: 2163<br />Predict: 5.64",
          "Id: 552<br />Predict: 4.17",
          "Id: 2083<br />Predict: 3.05",
          "Id: 881<br />Predict: 7.72",
          "Id: 1026<br />Predict: 49.35",
          "Id: 734<br />Predict: 36.88",
          "Id: 771<br />Predict: 3.3",
          "Id: 4946<br />Predict: 2.66",
          "Id: 3691<br />Predict: 5.73",
          "Id: 652<br />Predict: 21.63",
          "Id: 2924<br />Predict: 90.7",
          "Id: 1272<br />Predict: 42.46",
          "Id: 2048<br />Predict: 68.98",
          "Id: 3893<br />Predict: 45.83",
          "Id: 609<br />Predict: 3.48",
          "Id: 2273<br />Predict: 45.55",
          "Id: 398<br />Predict: 2.4",
          "Id: 4817<br />Predict: 184.69",
          "Id: 59<br />Predict: 35.39",
          "Id: 1562<br />Predict: 18.45",
          "Id: 179<br />Predict: 5.48",
          "Id: 954<br />Predict: 16.54",
          "Id: 1699<br />Predict: 68.32",
          "Id: 1460<br />Predict: 6.36",
          "Id: 2208<br />Predict: 10.67",
          "Id: 2229<br />Predict: 22.79",
          "Id: 2928<br />Predict: 17.78",
          "Id: 387<br />Predict: 4.59",
          "Id: 3006<br />Predict: 28.22",
          "Id: 2499<br />Predict: 54.22",
          "Id: 1650<br />Predict: 11.43",
          "Id: 1302<br />Predict: 2.56",
          "Id: 5057<br />Predict: 136.72",
          "Id: 222<br />Predict: 3.1",
          "Id: 2408<br />Predict: 82.58",
          "Id: 438<br />Predict: 12.29",
          "Id: 736<br />Predict: 25.16",
          "Id: 2753<br />Predict: 5.28",
          "Id: 5186<br />Predict: 42.98",
          "Id: 827<br />Predict: 24.93",
          "Id: 2475<br />Predict: 42.15",
          "Id: 3506<br />Predict: 54.56",
          "Id: 3989<br />Predict: 63.65",
          "Id: 3604<br />Predict: 10.85",
          "Id: 908<br />Predict: 18.63",
          "Id: 2255<br />Predict: 11.83",
          "Id: 4424<br />Predict: 10.5",
          "Id: 517<br />Predict: 7.24",
          "Id: 770<br />Predict: 6.63",
          "Id: 1236<br />Predict: 25.89",
          "Id: 1394<br />Predict: 43.63",
          "Id: 351<br />Predict: 7.27",
          "Id: 1058<br />Predict: 36.12",
          "Id: 783<br />Predict: 24.02",
          "Id: 3798<br />Predict: 12.97",
          "Id: 660<br />Predict: 27.3",
          "Id: 2720<br />Predict: 139.0",
          "Id: 4272<br />Predict: 49.79",
          "Id: 345<br />Predict: 1.51",
          "Id: 897<br />Predict: 21.09",
          "Id: 4151<br />Predict: 8.28",
          "Id: 5118<br />Predict: 14.23",
          "Id: 3024<br />Predict: 6.92",
          "Id: 4212<br />Predict: 62.21",
          "Id: 2698<br />Predict: 8.18",
          "Id: 1416<br />Predict: 57.77",
          "Id: 1832<br />Predict: 13.89",
          "Id: 3492<br />Predict: 8.76",
          "Id: 412<br />Predict: 10.92",
          "Id: 921<br />Predict: 23.9",
          "Id: 4845<br />Predict: 8.81",
          "Id: 2021<br />Predict: 67.96",
          "Id: 4230<br />Predict: 2.2",
          "Id: 2263<br />Predict: 17.62",
          "Id: 2256<br />Predict: 24.63",
          "Id: 633<br />Predict: 3.07",
          "Id: 1100<br />Predict: 32.0",
          "Id: 562<br />Predict: 7.45",
          "Id: 4556<br />Predict: 53.06",
          "Id: 389<br />Predict: 1.13",
          "Id: 5019<br />Predict: 45.71",
          "Id: 4861<br />Predict: 135.76",
          "Id: 1228<br />Predict: 32.74",
          "Id: 2508<br />Predict: 49.81",
          "Id: 1801<br />Predict: 30.9",
          "Id: 2303<br />Predict: 51.45",
          "Id: 3165<br />Predict: 7.59",
          "Id: 4207<br />Predict: 5.28",
          "Id: 1144<br />Predict: 1.28",
          "Id: 284<br />Predict: 3.15",
          "Id: 2189<br />Predict: 13.88",
          "Id: 847<br />Predict: 27.05",
          "Id: 3961<br />Predict: 39.37",
          "Id: 313<br />Predict: 4.63",
          "Id: 1475<br />Predict: 27.14",
          "Id: 3879<br />Predict: 30.55",
          "Id: 4311<br />Predict: 10.27",
          "Id: 3252<br />Predict: 11.82",
          "Id: 580<br />Predict: 12.74",
          "Id: 5245<br />Predict: 77.65",
          "Id: 4852<br />Predict: 167.07",
          "Id: 0<br />Predict: 2.72",
          "Id: 1290<br />Predict: 18.67",
          "Id: 2736<br />Predict: 11.87",
          "Id: 451<br />Predict: 4.21",
          "Id: 2352<br />Predict: 7.48",
          "Id: 1459<br />Predict: 30.23",
          "Id: 432<br />Predict: 4.11",
          "Id: 1666<br />Predict: 24.86",
          "Id: 2733<br />Predict: 61.9",
          "Id: 1250<br />Predict: 22.01",
          "Id: 2537<br />Predict: 12.43",
          "Id: 721<br />Predict: 2.38",
          "Id: 4294<br />Predict: 29.01",
          "Id: 3207<br />Predict: 15.19",
          "Id: 669<br />Predict: 8.71",
          "Id: 3363<br />Predict: 76.2",
          "Id: 674<br />Predict: 10.27",
          "Id: 2996<br />Predict: 12.35",
          "Id: 1484<br />Predict: 2.16",
          "Id: 3875<br />Predict: 21.78",
          "Id: 5068<br />Predict: 6.99",
          "Id: 154<br />Predict: 2.95",
          "Id: 2466<br />Predict: 2.79",
          "Id: 2039<br />Predict: 88.92",
          "Id: 1520<br />Predict: 42.38",
          "Id: 3019<br />Predict: 9.95",
          "Id: 522<br />Predict: 10.71",
          "Id: 620<br />Predict: 20.64",
          "Id: 602<br />Predict: 28.27",
          "Id: 4208<br />Predict: 43.3",
          "Id: 1980<br />Predict: 15.74",
          "Id: 2251<br />Predict: 65.92",
          "Id: 3393<br />Predict: 1.05",
          "Id: 5095<br />Predict: 11.22",
          "Id: 938<br />Predict: 26.2",
          "Id: 4263<br />Predict: 7.55",
          "Id: 740<br />Predict: 21.86",
          "Id: 4308<br />Predict: 211.94"
         ],
         "marker": {
          "color": [
           4.16,
           28,
           23.55,
           24.85,
           15.14,
           68.7,
           11.21,
           25.09,
           10.16,
           25.21,
           12.73,
           22.29,
           15,
           33.69,
           2.29,
           19.99,
           31.99,
           7.11,
           12.01,
           41.64,
           13.55,
           12.69,
           11.01,
           3.71,
           106.99,
           5.28,
           68.11,
           3.45,
           4.53,
           12.53,
           25.73,
           5.84,
           3.56,
           13.69,
           8.48,
           7.29,
           4.3,
           24.01,
           71.58,
           8.95,
           17.14,
           4.35,
           25.27,
           3.82,
           11.02,
           98.54,
           40.04,
           7.51,
           5.64,
           36.63,
           23.84,
           19.27,
           22.69,
           5.71,
           51.31,
           7.26,
           50.26,
           26.92,
           69.01,
           14.09,
           4.04,
           5.64,
           4.17,
           3.05,
           7.72,
           49.35,
           36.88,
           3.3,
           2.66,
           5.73,
           21.63,
           90.7,
           42.46,
           68.98,
           45.83,
           3.48,
           45.55,
           2.4,
           184.69,
           35.39,
           18.45,
           5.48,
           16.54,
           68.32,
           6.36,
           10.67,
           22.79,
           17.78,
           4.59,
           28.22,
           54.22,
           11.43,
           2.56,
           136.72,
           3.1,
           82.58,
           12.29,
           25.16,
           5.28,
           42.98,
           24.93,
           42.15,
           54.56,
           63.65,
           10.85,
           18.63,
           11.83,
           10.5,
           7.24,
           6.63,
           25.89,
           43.63,
           7.27,
           36.12,
           24.02,
           12.97,
           27.3,
           139,
           49.79,
           1.51,
           21.09,
           8.28,
           14.23,
           6.92,
           62.21,
           8.18,
           57.77,
           13.89,
           8.76,
           10.92,
           23.9,
           8.81,
           67.96,
           2.2,
           17.62,
           24.63,
           3.07,
           32,
           7.45,
           53.06,
           1.13,
           45.71,
           135.76,
           32.74,
           49.81,
           30.9,
           51.45,
           7.59,
           5.28,
           1.28,
           3.15,
           13.88,
           27.05,
           39.37,
           4.63,
           27.14,
           30.55,
           10.27,
           11.82,
           12.74,
           77.65,
           167.07,
           2.72,
           18.67,
           11.87,
           4.21,
           7.48,
           30.23,
           4.11,
           24.86,
           61.9,
           22.01,
           12.43,
           2.38,
           29.01,
           15.19,
           8.71,
           76.2,
           10.27,
           12.35,
           2.16,
           21.78,
           6.99,
           2.95,
           2.79,
           88.92,
           42.38,
           9.95,
           10.71,
           20.64,
           28.27,
           43.3,
           15.74,
           65.92,
           1.05,
           11.22,
           26.2,
           7.55,
           21.86,
           211.94
          ],
          "coloraxis": "coloraxis",
          "line": {
           "color": "white",
           "width": 0.8
          },
          "opacity": 0.8,
          "size": 10
         },
         "mode": "markers",
         "showlegend": false,
         "type": "scatter",
         "x": [
          "United States<br />of America",
          "United States<br />of America",
          "United States<br />of America",
          "United States<br />of America",
          "France",
          "United States<br />of America",
          "United States<br />of America",
          "United Kingdom",
          "United States<br />of America",
          "United States<br />of America",
          "United Kingdom",
          "United States<br />of America",
          "United States<br />of America",
          "United States<br />of America",
          "United States<br />of America",
          "United States<br />of America",
          "United States<br />of America",
          "United States<br />of America",
          "France",
          "United States<br />of America",
          "United States<br />of America",
          "United States<br />of America",
          "United States<br />of America",
          "China",
          "China",
          "United States<br />of America",
          "Russia",
          "France",
          "United States<br />of America",
          "United States<br />of America",
          "United States<br />of America",
          "United States<br />of America",
          "United States<br />of America",
          "United States<br />of America",
          "France",
          "United States<br />of America",
          "United States<br />of America",
          "United States<br />of America",
          "United States<br />of America",
          "United Kingdom",
          "United States<br />of America",
          "China",
          "Russia",
          "United States<br />of America",
          "United States<br />of America",
          "China",
          "France",
          "United States<br />of America",
          "United States<br />of America",
          "United States<br />of America",
          "United Kingdom",
          "United States<br />of America",
          "China",
          "United States<br />of America",
          "United States<br />of America",
          "United States<br />of America",
          "United States<br />of America",
          "United States<br />of America",
          "France",
          "United States<br />of America",
          "United States<br />of America",
          "United States<br />of America",
          "Canada",
          "United States<br />of America",
          "United Kingdom",
          "France",
          "United States<br />of America",
          "United Kingdom",
          "United States<br />of America",
          "United States<br />of America",
          "United States<br />of America",
          "United Kingdom",
          "United States<br />of America",
          "United States<br />of America",
          "China",
          "China",
          "United States<br />of America",
          "United States<br />of America",
          "United States<br />of America",
          "United States<br />of America",
          "United States<br />of America",
          "United States<br />of America",
          "United States<br />of America",
          "France",
          "United States<br />of America",
          "United States<br />of America",
          "United States<br />of America",
          "United States<br />of America",
          "China",
          "United States<br />of America",
          "United Kingdom",
          "United States<br />of America",
          "United States<br />of America",
          "France",
          "United States<br />of America",
          "Canada",
          "United States<br />of America",
          "China",
          "United States<br />of America",
          "United Kingdom",
          "United States<br />of America",
          "United States<br />of America",
          "Russia",
          "United States<br />of America",
          "China",
          "United States<br />of America",
          "United States<br />of America",
          "China",
          "France",
          "United Kingdom",
          "United Kingdom",
          "United Kingdom",
          "France",
          "United States<br />of America",
          "United States<br />of America",
          "United States<br />of America",
          "United States<br />of America",
          "United States<br />of America",
          "Russia",
          "United States<br />of America",
          "United States<br />of America",
          "United States<br />of America",
          "Russia",
          "United States<br />of America",
          "China",
          "United States<br />of America",
          "France",
          "United States<br />of America",
          "United States<br />of America",
          "United States<br />of America",
          "United Kingdom",
          "United States<br />of America",
          "United States<br />of America",
          "United Kingdom",
          "United States<br />of America",
          "United States<br />of America",
          "China",
          "United States<br />of America",
          "United Kingdom",
          "France",
          "United States<br />of America",
          "China",
          "China",
          "United States<br />of America",
          "United States<br />of America",
          "United States<br />of America",
          "United States<br />of America",
          "China",
          "United States<br />of America",
          "United States<br />of America",
          "United States<br />of America",
          "United States<br />of America",
          "China",
          "Russia",
          "United States<br />of America",
          "France",
          "United States<br />of America",
          "United States<br />of America",
          "United States<br />of America",
          "China",
          "United States<br />of America",
          "China",
          "United States<br />of America",
          "United Kingdom",
          "United States<br />of America",
          "France",
          "United States<br />of America",
          "United States<br />of America",
          "United States<br />of America",
          "United States<br />of America",
          "United States<br />of America",
          "United States<br />of America",
          "United States<br />of America",
          "United States<br />of America",
          "United States<br />of America",
          "United States<br />of America",
          "United States<br />of America",
          "United States<br />of America",
          "United States<br />of America",
          "United States<br />of America",
          "United States<br />of America",
          "United States<br />of America",
          "United States<br />of America",
          "United States<br />of America",
          "United Kingdom",
          "United Kingdom",
          "United States<br />of America",
          "United States<br />of America",
          "United States<br />of America",
          "United States<br />of America",
          "United States<br />of America",
          "China",
          "United States<br />of America",
          "France",
          "United States<br />of America",
          "United States<br />of America",
          "United States<br />of America",
          "United States<br />of America",
          "United States<br />of America",
          "France"
         ],
         "y": [
          -0.18785936541315312,
          -0.3862616325472215,
          -0.4446165965531722,
          -0.4835156621515939,
          2.057039413863552,
          -0.9400086393312411,
          -0.6715279593227155,
          -1.0110709360940824,
          -0.572685138772346,
          -0.3902104930821223,
          -1.2182471398292862,
          -0.5603309977112632,
          -0.5983244328671279,
          -2.1003969364087625,
          -0.4839881990459267,
          -0.5243618312526671,
          -2.727784214383927,
          -0.4932142828131241,
          1.4710831716709918,
          -2.519876350093679,
          -0.6191935319461548,
          -0.5547655137736714,
          -0.30189719755361843,
          1.1024070309597136,
          7.633819679717908,
          -0.4286635631325679,
          4.97766917966104,
          0.8407511933438032,
          -0.7896750363560942,
          -0.5113855604329557,
          -0.4742981531687699,
          -0.4775498565008919,
          -0.5798407325376652,
          -0.5892103153375889,
          2.586396486605502,
          -0.4364373665892615,
          -0.6465460537682628,
          -0.6519827991762438,
          -0.2270596733716446,
          -0.05123052600380247,
          -0.7885698887334065,
          0.40044802852989597,
          4.383682007131452,
          -0.4778717253345508,
          -0.41964113121035856,
          8.008872317463993,
          -2.1536381803041778,
          -0.43151206338629206,
          -0.6787782376432259,
          -0.3313860891619807,
          -0.08301102431012383,
          -0.1971752640262231,
          1.4210781262014853,
          -0.8228349595025664,
          -1.2803212880584736,
          -0.6051795169549893,
          -1.469247579167199,
          -0.5849501889644586,
          4.8359483879203635,
          -0.7078198624006404,
          -0.7577172577921781,
          -0.4844171194427588,
          -0.8129628951453054,
          -0.6501085229667223,
          -0.47830491967342786,
          2.532349896243278,
          -2.469549173751831,
          -1.103148695557593,
          -0.6627287666030294,
          -0.45756944892769186,
          -0.16896935058497725,
          -1.4449710181025024,
          -0.6294482314044338,
          -2.100146226332214,
          4.502830511977926,
          1.0211820201532162,
          -1.1171256219197683,
          -0.15346719499694725,
          3.3855013183187688,
          -0.4462494471893077,
          -0.6209211506734491,
          -0.7225186504640996,
          -0.37704233336749515,
          3.757886591245407,
          -0.4687269418176739,
          -0.22128232468985237,
          -0.9063688958348488,
          -0.48232778108377494,
          0.9670950138032447,
          -0.7341650521320787,
          -0.1886648215588967,
          -0.5957025290434819,
          -0.48817463796278826,
          -0.5031360665346286,
          -0.7728270209096499,
          1.4716308686441488,
          -0.23273483730481317,
          1.2815753918354587,
          -0.4294280497566387,
          -0.16513259432091085,
          -0.7618556579266869,
          -0.6930547730158988,
          8.557224285175902,
          -1.5347219057811106,
          0.764975635840283,
          -0.4802159491237541,
          -0.5711851538440942,
          0.9675501100599756,
          2.022532306755347,
          -0.6883620992543613,
          -1.3966213417302322,
          -0.8855661830225188,
          2.3616527122046747,
          -0.613491396237958,
          -0.7994809530460246,
          -0.7234401590216012,
          -0.5435249416609146,
          4.859451971865505,
          5.24694729667531,
          -0.49371433459279757,
          -0.7724353065591623,
          -0.8263288586752985,
          5.512133717055196,
          -0.326087499627375,
          6.731309182202877,
          -0.8506412157542061,
          5.105074731950162,
          -0.5519042836678095,
          -0.43185260258536,
          -0.2696803776996064,
          -0.9836469635920722,
          -0.5073376691682947,
          1.3135695906367972,
          -0.6370638928335496,
          -0.917841164219296,
          -0.824291208312885,
          1.0397940287750116,
          -0.7116689976364287,
          -0.6719542990727685,
          7.339201235718612,
          -0.49802958962033417,
          3.9520934038696596,
          6.736301801351499,
          -0.6875126084743599,
          -2.0671355296387257,
          -1.0785873089314122,
          -1.4123142574398961,
          1.6369624838671117,
          -1.151790822227624,
          -0.5236787753815363,
          -0.516338236642942,
          -0.6478714743224723,
          1.9836294136619037,
          6.407397530462088,
          -0.8441282461109109,
          2.470932440321991,
          -2.0889381438526833,
          -0.7748330174706928,
          -0.4895418882764865,
          0.8390203139879963,
          -4.572167218069692,
          19.538543885331144,
          -0.29364419416966425,
          -0.11153807623404564,
          -0.5260174486730221,
          1.0872770920352586,
          -0.4092678490444837,
          -0.5473329338663177,
          -0.25563524383424435,
          -0.5800360103505977,
          -3.8880979144079952,
          -0.5596255122600754,
          -0.4662310749717166,
          -0.4419136421174712,
          -3.1338953844066153,
          -0.34797280367974925,
          -0.31303340349558506,
          -6.765644634176082,
          -0.8394657217425812,
          -0.630512768026477,
          -0.8536123785835825,
          -0.64670360636982,
          -0.5147215246750804,
          -0.23578592883599483,
          -1.0147308560389068,
          -0.9543196633554475,
          -0.6428638474876015,
          -0.8368993999115413,
          -0.18221124360635085,
          -0.5673528348102291,
          -0.6033367122778692,
          4.967560803893712,
          -0.5569713333397541,
          9.41440921423297,
          -0.5959958565228117,
          -0.7641653611647365,
          -0.5082903798913799,
          -0.4081627394781283,
          -0.7414805898875148,
          19.452891398330415
         ]
        }
       ],
       "layout": {
        "coloraxis": {
         "colorbar": {
          "title": {
           "text": "Predicted"
          }
         },
         "colorscale": [
          [
           0,
           "rgb(52, 55, 54)"
          ],
          [
           0.011541337827238582,
           "rgb(74, 99, 138)"
          ],
          [
           0.022047461312376004,
           "rgb(116, 153, 214)"
          ],
          [
           0.03495885836740329,
           "rgb(162, 188, 213)"
          ],
          [
           0.05109864859066913,
           "rgb(212, 234, 242)"
          ],
          [
           0.06837408768688165,
           "rgb(235, 216, 134)"
          ],
          [
           0.10725998098018374,
           "rgb(255, 204, 83)"
          ],
          [
           0.12811456620215986,
           "rgb(244, 192, 0)"
          ],
          [
           0.19688213727541137,
           "rgb(255, 166, 17)"
          ],
          [
           0.3085673562537409,
           "rgb(255, 123, 38)"
          ],
          [
           1,
           "rgb(255, 77, 7)"
          ]
         ]
        },
        "height": 600,
        "hovermode": "closest",
        "template": {
         "data": {
          "scatter": [
           {
            "type": "scatter"
           }
          ]
         }
        },
        "title": {
         "font": {
          "color": "rgb(50, 50, 50)",
          "family": "Arial",
          "size": 24
         },
         "text": "<b>airline_country</b> - Feature Contribution",
         "x": 0.5,
         "xanchor": "center",
         "y": 0.9,
         "yanchor": "middle"
        },
        "violingap": 0.05,
        "violingroupgap": 0,
        "violinmode": "overlay",
        "width": 900,
        "xaxis": {
         "automargin": true,
         "dtick": 1,
         "range": [
          -0.6,
          5.6
         ],
         "tickangle": 45,
         "tickmode": "array",
         "ticktext": [
          "Canada",
          "China",
          "France",
          "Russia",
          "Uni...dom",
          "Uni...ica"
         ],
         "tickvals": [
          "Canada",
          "China",
          "France",
          "Russia",
          "United Kingdom",
          "United States<br />of America"
         ],
         "title": {
          "font": {
           "color": "rgb(50, 50, 50)",
           "family": "Arial Black",
           "size": 16
          },
          "text": "airline_country"
         },
         "type": "category"
        },
        "yaxis": {
         "automargin": true,
         "title": {
          "font": {
           "color": "rgb(50, 50, 50)",
           "family": "Arial Black",
           "size": 16
          },
          "text": "Contribution"
         }
        }
       }
      }
     },
     "metadata": {},
     "output_type": "display_data"
    }
   ],
   "source": [
    "xpl.plot.contribution_plot(col=\"airline_country\")"
   ]
  },
  {
   "cell_type": "code",
   "execution_count": 23,
   "metadata": {},
   "outputs": [
    {
     "data": {
      "application/vnd.plotly.v1+json": {
       "config": {
        "plotlyServerURL": "https://plot.ly"
       },
       "data": [
        {
         "customdata": [
          [
           2,
           118
          ],
          [
           2,
           2417
          ],
          [
           4,
           705
          ],
          [
           4,
           1525
          ],
          [
           1,
           912
          ],
          [
           4,
           2438
          ],
          [
           3,
           2617
          ],
          [
           2,
           1975
          ],
          [
           5,
           490
          ],
          [
           1,
           2305
          ],
          [
           2,
           984
          ],
          [
           3,
           594
          ],
          [
           1,
           1175
          ],
          [
           2,
           1442
          ],
          [
           3,
           2890
          ],
          [
           2,
           3281
          ],
          [
           0,
           2012
          ],
          [
           2,
           4242
          ],
          [
           5,
           848
          ],
          [
           0,
           1541
          ],
          [
           2,
           1221
          ],
          [
           3,
           3608
          ],
          [
           6,
           1402
          ],
          [
           4,
           634
          ],
          [
           4,
           4194
          ],
          [
           5,
           326
          ],
          [
           2,
           4241
          ],
          [
           6,
           401
          ],
          [
           0,
           4560
          ],
          [
           4,
           605
          ],
          [
           4,
           1339
          ],
          [
           4,
           3906
          ],
          [
           3,
           204
          ],
          [
           1,
           3471
          ],
          [
           0,
           463
          ],
          [
           4,
           447
          ],
          [
           1,
           3626
          ],
          [
           1,
           3348
          ],
          [
           6,
           2664
          ],
          [
           1,
           1878
          ],
          [
           0,
           990
          ],
          [
           6,
           4070
          ],
          [
           2,
           4462
          ],
          [
           4,
           429
          ],
          [
           5,
           2558
          ],
          [
           2,
           3205
          ],
          [
           6,
           1779
          ],
          [
           2,
           1664
          ],
          [
           1,
           3641
          ],
          [
           5,
           1506
          ],
          [
           2,
           2008
          ],
          [
           2,
           2050
          ],
          [
           3,
           2283
          ],
          [
           1,
           1952
          ],
          [
           1,
           1082
          ],
          [
           5,
           4435
          ],
          [
           4,
           1196
          ],
          [
           3,
           747
          ],
          [
           1,
           1463
          ],
          [
           1,
           492
          ],
          [
           1,
           2560
          ],
          [
           4,
           2163
          ],
          [
           3,
           552
          ],
          [
           1,
           2083
          ],
          [
           5,
           881
          ],
          [
           4,
           1026
          ],
          [
           1,
           734
          ],
          [
           4,
           771
          ],
          [
           1,
           4946
          ],
          [
           5,
           3691
          ],
          [
           1,
           652
          ],
          [
           4,
           2924
          ],
          [
           4,
           1272
          ],
          [
           4,
           2048
          ],
          [
           3,
           3893
          ],
          [
           3,
           609
          ],
          [
           3,
           2273
          ],
          [
           5,
           398
          ],
          [
           0,
           4817
          ],
          [
           1,
           59
          ],
          [
           3,
           1562
          ],
          [
           0,
           179
          ],
          [
           5,
           954
          ],
          [
           2,
           1699
          ],
          [
           6,
           1460
          ],
          [
           0,
           2208
          ],
          [
           1,
           2229
          ],
          [
           6,
           2928
          ],
          [
           3,
           387
          ],
          [
           4,
           3006
          ],
          [
           5,
           2499
          ],
          [
           1,
           1650
          ],
          [
           2,
           1302
          ],
          [
           1,
           5057
          ],
          [
           0,
           222
          ],
          [
           6,
           2408
          ],
          [
           1,
           438
          ],
          [
           5,
           736
          ],
          [
           6,
           2753
          ],
          [
           3,
           5186
          ],
          [
           1,
           827
          ],
          [
           6,
           2475
          ],
          [
           4,
           3506
          ],
          [
           4,
           3989
          ],
          [
           6,
           3604
          ],
          [
           3,
           908
          ],
          [
           3,
           2255
          ],
          [
           4,
           4424
          ],
          [
           1,
           517
          ],
          [
           5,
           770
          ],
          [
           0,
           1236
          ],
          [
           2,
           1394
          ],
          [
           0,
           351
          ],
          [
           1,
           1058
          ],
          [
           1,
           783
          ],
          [
           1,
           3798
          ],
          [
           1,
           660
          ],
          [
           5,
           2720
          ],
          [
           4,
           4272
          ],
          [
           5,
           345
          ],
          [
           1,
           897
          ],
          [
           0,
           4151
          ],
          [
           0,
           5118
          ],
          [
           0,
           3024
          ],
          [
           5,
           4212
          ],
          [
           1,
           2698
          ],
          [
           0,
           1416
          ],
          [
           2,
           1832
          ],
          [
           3,
           3492
          ],
          [
           6,
           412
          ],
          [
           4,
           921
          ],
          [
           4,
           4845
          ],
          [
           5,
           2021
          ],
          [
           4,
           4230
          ],
          [
           0,
           2263
          ],
          [
           3,
           2256
          ],
          [
           4,
           633
          ],
          [
           1,
           1100
          ],
          [
           0,
           562
          ],
          [
           0,
           4556
          ],
          [
           2,
           389
          ],
          [
           6,
           5019
          ],
          [
           5,
           4861
          ],
          [
           4,
           1228
          ],
          [
           2,
           2508
          ],
          [
           0,
           1801
          ],
          [
           2,
           2303
          ],
          [
           1,
           3165
          ],
          [
           0,
           4207
          ],
          [
           2,
           1144
          ],
          [
           5,
           284
          ],
          [
           1,
           2189
          ],
          [
           1,
           847
          ],
          [
           0,
           3961
          ],
          [
           0,
           313
          ],
          [
           0,
           1475
          ],
          [
           2,
           3879
          ],
          [
           1,
           4311
          ],
          [
           2,
           3252
          ],
          [
           5,
           580
          ],
          [
           3,
           5245
          ],
          [
           0,
           4852
          ],
          [
           3,
           0
          ],
          [
           3,
           1290
          ],
          [
           1,
           2736
          ],
          [
           2,
           451
          ],
          [
           6,
           2352
          ],
          [
           6,
           1459
          ],
          [
           4,
           432
          ],
          [
           4,
           1666
          ],
          [
           0,
           2733
          ],
          [
           2,
           1250
          ],
          [
           1,
           2537
          ],
          [
           5,
           721
          ],
          [
           0,
           4294
          ],
          [
           4,
           3207
          ],
          [
           2,
           669
          ],
          [
           4,
           3363
          ],
          [
           0,
           674
          ],
          [
           1,
           2996
          ],
          [
           0,
           1484
          ],
          [
           4,
           3875
          ],
          [
           4,
           5068
          ],
          [
           3,
           154
          ],
          [
           3,
           2466
          ],
          [
           5,
           2039
          ],
          [
           5,
           1520
          ],
          [
           6,
           3019
          ],
          [
           6,
           522
          ],
          [
           2,
           620
          ],
          [
           4,
           602
          ],
          [
           1,
           4208
          ],
          [
           1,
           1980
          ],
          [
           2,
           2251
          ],
          [
           2,
           3393
          ],
          [
           0,
           5095
          ],
          [
           3,
           938
          ],
          [
           3,
           4263
          ],
          [
           3,
           740
          ],
          [
           0,
           4308
          ]
         ],
         "hovertemplate": "<b>%{hovertext}</b><br />day :<br />%{customdata[0]}<br />Contribution: %{y:.4f}<extra></extra>",
         "hovertext": [
          "Id: 2012<br />Predict: 31.99",
          "Id: 1541<br />Predict: 41.64",
          "Id: 4560<br />Predict: 4.53",
          "Id: 463<br />Predict: 8.48",
          "Id: 990<br />Predict: 17.14",
          "Id: 4817<br />Predict: 184.69",
          "Id: 179<br />Predict: 5.48",
          "Id: 2208<br />Predict: 10.67",
          "Id: 222<br />Predict: 3.1",
          "Id: 1236<br />Predict: 25.89",
          "Id: 351<br />Predict: 7.27",
          "Id: 4151<br />Predict: 8.28",
          "Id: 5118<br />Predict: 14.23",
          "Id: 3024<br />Predict: 6.92",
          "Id: 1416<br />Predict: 57.77",
          "Id: 2263<br />Predict: 17.62",
          "Id: 562<br />Predict: 7.45",
          "Id: 4556<br />Predict: 53.06",
          "Id: 1801<br />Predict: 30.9",
          "Id: 4207<br />Predict: 5.28",
          "Id: 3961<br />Predict: 39.37",
          "Id: 313<br />Predict: 4.63",
          "Id: 1475<br />Predict: 27.14",
          "Id: 4852<br />Predict: 167.07",
          "Id: 2733<br />Predict: 61.9",
          "Id: 4294<br />Predict: 29.01",
          "Id: 674<br />Predict: 10.27",
          "Id: 1484<br />Predict: 2.16",
          "Id: 5095<br />Predict: 11.22",
          "Id: 4308<br />Predict: 211.94"
         ],
         "line": {
          "color": "rgba(117, 152, 189, 0.9)"
         },
         "marker": {
          "line": {
           "color": "white",
           "width": 0.8
          },
          "opacity": 0.8,
          "size": 10
         },
         "meanline": {
          "visible": true
         },
         "scalemode": "count",
         "showlegend": false,
         "type": "violin",
         "x": [
          0,
          0,
          0,
          0,
          0,
          0,
          0,
          0,
          0,
          0,
          0,
          0,
          0,
          0,
          0,
          0,
          0,
          0,
          0,
          0,
          0,
          0,
          0,
          0,
          0,
          0,
          0,
          0,
          0,
          0
         ],
         "y": [
          -2.9213888218182213,
          0.6716830206843154,
          -0.5882313674592451,
          0.09832449615205235,
          -0.31073760048355364,
          -14.883698596505441,
          -1.8608749331661942,
          -1.3732314367913525,
          -2.8383573666257225,
          -1.8447271809782009,
          1.144905560109341,
          -2.750325295973053,
          -1.5146804366474107,
          -2.254983554902241,
          -2.698074222083978,
          -3.9466262335245745,
          -1.5926564260084632,
          2.8317303809209315,
          -5.171286243082388,
          -1.9968609220106175,
          -9.064831132631625,
          -2.375569568779001,
          -0.11724306492953657,
          12.86350539950195,
          -10.74816840927419,
          -2.7928590286894135,
          -1.8743621039732845,
          -1.1243276677520004,
          -1.6285697503124468,
          0.6392152636377019
         ]
        },
        {
         "customdata": [
          [
           2,
           118
          ],
          [
           2,
           2417
          ],
          [
           4,
           705
          ],
          [
           4,
           1525
          ],
          [
           1,
           912
          ],
          [
           4,
           2438
          ],
          [
           3,
           2617
          ],
          [
           2,
           1975
          ],
          [
           5,
           490
          ],
          [
           1,
           2305
          ],
          [
           2,
           984
          ],
          [
           3,
           594
          ],
          [
           1,
           1175
          ],
          [
           2,
           1442
          ],
          [
           3,
           2890
          ],
          [
           2,
           3281
          ],
          [
           0,
           2012
          ],
          [
           2,
           4242
          ],
          [
           5,
           848
          ],
          [
           0,
           1541
          ],
          [
           2,
           1221
          ],
          [
           3,
           3608
          ],
          [
           6,
           1402
          ],
          [
           4,
           634
          ],
          [
           4,
           4194
          ],
          [
           5,
           326
          ],
          [
           2,
           4241
          ],
          [
           6,
           401
          ],
          [
           0,
           4560
          ],
          [
           4,
           605
          ],
          [
           4,
           1339
          ],
          [
           4,
           3906
          ],
          [
           3,
           204
          ],
          [
           1,
           3471
          ],
          [
           0,
           463
          ],
          [
           4,
           447
          ],
          [
           1,
           3626
          ],
          [
           1,
           3348
          ],
          [
           6,
           2664
          ],
          [
           1,
           1878
          ],
          [
           0,
           990
          ],
          [
           6,
           4070
          ],
          [
           2,
           4462
          ],
          [
           4,
           429
          ],
          [
           5,
           2558
          ],
          [
           2,
           3205
          ],
          [
           6,
           1779
          ],
          [
           2,
           1664
          ],
          [
           1,
           3641
          ],
          [
           5,
           1506
          ],
          [
           2,
           2008
          ],
          [
           2,
           2050
          ],
          [
           3,
           2283
          ],
          [
           1,
           1952
          ],
          [
           1,
           1082
          ],
          [
           5,
           4435
          ],
          [
           4,
           1196
          ],
          [
           3,
           747
          ],
          [
           1,
           1463
          ],
          [
           1,
           492
          ],
          [
           1,
           2560
          ],
          [
           4,
           2163
          ],
          [
           3,
           552
          ],
          [
           1,
           2083
          ],
          [
           5,
           881
          ],
          [
           4,
           1026
          ],
          [
           1,
           734
          ],
          [
           4,
           771
          ],
          [
           1,
           4946
          ],
          [
           5,
           3691
          ],
          [
           1,
           652
          ],
          [
           4,
           2924
          ],
          [
           4,
           1272
          ],
          [
           4,
           2048
          ],
          [
           3,
           3893
          ],
          [
           3,
           609
          ],
          [
           3,
           2273
          ],
          [
           5,
           398
          ],
          [
           0,
           4817
          ],
          [
           1,
           59
          ],
          [
           3,
           1562
          ],
          [
           0,
           179
          ],
          [
           5,
           954
          ],
          [
           2,
           1699
          ],
          [
           6,
           1460
          ],
          [
           0,
           2208
          ],
          [
           1,
           2229
          ],
          [
           6,
           2928
          ],
          [
           3,
           387
          ],
          [
           4,
           3006
          ],
          [
           5,
           2499
          ],
          [
           1,
           1650
          ],
          [
           2,
           1302
          ],
          [
           1,
           5057
          ],
          [
           0,
           222
          ],
          [
           6,
           2408
          ],
          [
           1,
           438
          ],
          [
           5,
           736
          ],
          [
           6,
           2753
          ],
          [
           3,
           5186
          ],
          [
           1,
           827
          ],
          [
           6,
           2475
          ],
          [
           4,
           3506
          ],
          [
           4,
           3989
          ],
          [
           6,
           3604
          ],
          [
           3,
           908
          ],
          [
           3,
           2255
          ],
          [
           4,
           4424
          ],
          [
           1,
           517
          ],
          [
           5,
           770
          ],
          [
           0,
           1236
          ],
          [
           2,
           1394
          ],
          [
           0,
           351
          ],
          [
           1,
           1058
          ],
          [
           1,
           783
          ],
          [
           1,
           3798
          ],
          [
           1,
           660
          ],
          [
           5,
           2720
          ],
          [
           4,
           4272
          ],
          [
           5,
           345
          ],
          [
           1,
           897
          ],
          [
           0,
           4151
          ],
          [
           0,
           5118
          ],
          [
           0,
           3024
          ],
          [
           5,
           4212
          ],
          [
           1,
           2698
          ],
          [
           0,
           1416
          ],
          [
           2,
           1832
          ],
          [
           3,
           3492
          ],
          [
           6,
           412
          ],
          [
           4,
           921
          ],
          [
           4,
           4845
          ],
          [
           5,
           2021
          ],
          [
           4,
           4230
          ],
          [
           0,
           2263
          ],
          [
           3,
           2256
          ],
          [
           4,
           633
          ],
          [
           1,
           1100
          ],
          [
           0,
           562
          ],
          [
           0,
           4556
          ],
          [
           2,
           389
          ],
          [
           6,
           5019
          ],
          [
           5,
           4861
          ],
          [
           4,
           1228
          ],
          [
           2,
           2508
          ],
          [
           0,
           1801
          ],
          [
           2,
           2303
          ],
          [
           1,
           3165
          ],
          [
           0,
           4207
          ],
          [
           2,
           1144
          ],
          [
           5,
           284
          ],
          [
           1,
           2189
          ],
          [
           1,
           847
          ],
          [
           0,
           3961
          ],
          [
           0,
           313
          ],
          [
           0,
           1475
          ],
          [
           2,
           3879
          ],
          [
           1,
           4311
          ],
          [
           2,
           3252
          ],
          [
           5,
           580
          ],
          [
           3,
           5245
          ],
          [
           0,
           4852
          ],
          [
           3,
           0
          ],
          [
           3,
           1290
          ],
          [
           1,
           2736
          ],
          [
           2,
           451
          ],
          [
           6,
           2352
          ],
          [
           6,
           1459
          ],
          [
           4,
           432
          ],
          [
           4,
           1666
          ],
          [
           0,
           2733
          ],
          [
           2,
           1250
          ],
          [
           1,
           2537
          ],
          [
           5,
           721
          ],
          [
           0,
           4294
          ],
          [
           4,
           3207
          ],
          [
           2,
           669
          ],
          [
           4,
           3363
          ],
          [
           0,
           674
          ],
          [
           1,
           2996
          ],
          [
           0,
           1484
          ],
          [
           4,
           3875
          ],
          [
           4,
           5068
          ],
          [
           3,
           154
          ],
          [
           3,
           2466
          ],
          [
           5,
           2039
          ],
          [
           5,
           1520
          ],
          [
           6,
           3019
          ],
          [
           6,
           522
          ],
          [
           2,
           620
          ],
          [
           4,
           602
          ],
          [
           1,
           4208
          ],
          [
           1,
           1980
          ],
          [
           2,
           2251
          ],
          [
           2,
           3393
          ],
          [
           0,
           5095
          ],
          [
           3,
           938
          ],
          [
           3,
           4263
          ],
          [
           3,
           740
          ],
          [
           0,
           4308
          ]
         ],
         "hovertemplate": "<b>%{hovertext}</b><br />day :<br />%{customdata[0]}<br />Contribution: %{y:.4f}<extra></extra>",
         "hovertext": [
          "Id: 912<br />Predict: 15.14",
          "Id: 2305<br />Predict: 25.21",
          "Id: 1175<br />Predict: 15.0",
          "Id: 3471<br />Predict: 13.69",
          "Id: 3626<br />Predict: 4.3",
          "Id: 3348<br />Predict: 24.01",
          "Id: 1878<br />Predict: 8.95",
          "Id: 3641<br />Predict: 5.64",
          "Id: 1952<br />Predict: 5.71",
          "Id: 1082<br />Predict: 51.31",
          "Id: 1463<br />Predict: 69.01",
          "Id: 492<br />Predict: 14.09",
          "Id: 2560<br />Predict: 4.04",
          "Id: 2083<br />Predict: 3.05",
          "Id: 734<br />Predict: 36.88",
          "Id: 4946<br />Predict: 2.66",
          "Id: 652<br />Predict: 21.63",
          "Id: 59<br />Predict: 35.39",
          "Id: 2229<br />Predict: 22.79",
          "Id: 1650<br />Predict: 11.43",
          "Id: 5057<br />Predict: 136.72",
          "Id: 438<br />Predict: 12.29",
          "Id: 827<br />Predict: 24.93",
          "Id: 517<br />Predict: 7.24",
          "Id: 1058<br />Predict: 36.12",
          "Id: 783<br />Predict: 24.02",
          "Id: 3798<br />Predict: 12.97",
          "Id: 660<br />Predict: 27.3",
          "Id: 897<br />Predict: 21.09",
          "Id: 2698<br />Predict: 8.18",
          "Id: 1100<br />Predict: 32.0",
          "Id: 3165<br />Predict: 7.59",
          "Id: 2189<br />Predict: 13.88",
          "Id: 847<br />Predict: 27.05",
          "Id: 4311<br />Predict: 10.27",
          "Id: 2736<br />Predict: 11.87",
          "Id: 2537<br />Predict: 12.43",
          "Id: 2996<br />Predict: 12.35",
          "Id: 4208<br />Predict: 43.3",
          "Id: 1980<br />Predict: 15.74"
         ],
         "line": {
          "color": "rgba(117, 152, 189, 0.9)"
         },
         "marker": {
          "line": {
           "color": "white",
           "width": 0.8
          },
          "opacity": 0.8,
          "size": 10
         },
         "meanline": {
          "visible": true
         },
         "scalemode": "count",
         "showlegend": false,
         "type": "violin",
         "x": [
          1,
          1,
          1,
          1,
          1,
          1,
          1,
          1,
          1,
          1,
          1,
          1,
          1,
          1,
          1,
          1,
          1,
          1,
          1,
          1,
          1,
          1,
          1,
          1,
          1,
          1,
          1,
          1,
          1,
          1,
          1,
          1,
          1,
          1,
          1,
          1,
          1,
          1,
          1,
          1
         ],
         "y": [
          0.8176428219608488,
          0.599123942906693,
          0.8747073906684313,
          0.022411318065416585,
          0.24615926467584073,
          -0.09059856295014937,
          0.4100976999252913,
          0.4626338543118451,
          0.02058893661538392,
          0.6615222150930864,
          3.0370947017195573,
          0.30811918770174823,
          0.2815861571115623,
          -0.02488898120012111,
          0.025354670764562146,
          0.15189618466384427,
          0.6604437423273493,
          1.6861034192617135,
          0.07034216142993199,
          0.5946957443133365,
          -0.930943488280158,
          0.6986365576940168,
          0.5092313589932294,
          0.525329017774713,
          0.7987641773248548,
          0.7235642538730013,
          0.3361670376032941,
          0.8868343209599513,
          0.0005507142420339084,
          0.31142131373705806,
          0.579048281015533,
          0.9412093130637751,
          0.34384233752574284,
          0.851224148371214,
          -0.22026287611937412,
          0.44956718934785705,
          0.35522046929506884,
          0.5443733439333439,
          1.137941999604506,
          0.5624250092761773
         ]
        },
        {
         "customdata": [
          [
           2,
           118
          ],
          [
           2,
           2417
          ],
          [
           4,
           705
          ],
          [
           4,
           1525
          ],
          [
           1,
           912
          ],
          [
           4,
           2438
          ],
          [
           3,
           2617
          ],
          [
           2,
           1975
          ],
          [
           5,
           490
          ],
          [
           1,
           2305
          ],
          [
           2,
           984
          ],
          [
           3,
           594
          ],
          [
           1,
           1175
          ],
          [
           2,
           1442
          ],
          [
           3,
           2890
          ],
          [
           2,
           3281
          ],
          [
           0,
           2012
          ],
          [
           2,
           4242
          ],
          [
           5,
           848
          ],
          [
           0,
           1541
          ],
          [
           2,
           1221
          ],
          [
           3,
           3608
          ],
          [
           6,
           1402
          ],
          [
           4,
           634
          ],
          [
           4,
           4194
          ],
          [
           5,
           326
          ],
          [
           2,
           4241
          ],
          [
           6,
           401
          ],
          [
           0,
           4560
          ],
          [
           4,
           605
          ],
          [
           4,
           1339
          ],
          [
           4,
           3906
          ],
          [
           3,
           204
          ],
          [
           1,
           3471
          ],
          [
           0,
           463
          ],
          [
           4,
           447
          ],
          [
           1,
           3626
          ],
          [
           1,
           3348
          ],
          [
           6,
           2664
          ],
          [
           1,
           1878
          ],
          [
           0,
           990
          ],
          [
           6,
           4070
          ],
          [
           2,
           4462
          ],
          [
           4,
           429
          ],
          [
           5,
           2558
          ],
          [
           2,
           3205
          ],
          [
           6,
           1779
          ],
          [
           2,
           1664
          ],
          [
           1,
           3641
          ],
          [
           5,
           1506
          ],
          [
           2,
           2008
          ],
          [
           2,
           2050
          ],
          [
           3,
           2283
          ],
          [
           1,
           1952
          ],
          [
           1,
           1082
          ],
          [
           5,
           4435
          ],
          [
           4,
           1196
          ],
          [
           3,
           747
          ],
          [
           1,
           1463
          ],
          [
           1,
           492
          ],
          [
           1,
           2560
          ],
          [
           4,
           2163
          ],
          [
           3,
           552
          ],
          [
           1,
           2083
          ],
          [
           5,
           881
          ],
          [
           4,
           1026
          ],
          [
           1,
           734
          ],
          [
           4,
           771
          ],
          [
           1,
           4946
          ],
          [
           5,
           3691
          ],
          [
           1,
           652
          ],
          [
           4,
           2924
          ],
          [
           4,
           1272
          ],
          [
           4,
           2048
          ],
          [
           3,
           3893
          ],
          [
           3,
           609
          ],
          [
           3,
           2273
          ],
          [
           5,
           398
          ],
          [
           0,
           4817
          ],
          [
           1,
           59
          ],
          [
           3,
           1562
          ],
          [
           0,
           179
          ],
          [
           5,
           954
          ],
          [
           2,
           1699
          ],
          [
           6,
           1460
          ],
          [
           0,
           2208
          ],
          [
           1,
           2229
          ],
          [
           6,
           2928
          ],
          [
           3,
           387
          ],
          [
           4,
           3006
          ],
          [
           5,
           2499
          ],
          [
           1,
           1650
          ],
          [
           2,
           1302
          ],
          [
           1,
           5057
          ],
          [
           0,
           222
          ],
          [
           6,
           2408
          ],
          [
           1,
           438
          ],
          [
           5,
           736
          ],
          [
           6,
           2753
          ],
          [
           3,
           5186
          ],
          [
           1,
           827
          ],
          [
           6,
           2475
          ],
          [
           4,
           3506
          ],
          [
           4,
           3989
          ],
          [
           6,
           3604
          ],
          [
           3,
           908
          ],
          [
           3,
           2255
          ],
          [
           4,
           4424
          ],
          [
           1,
           517
          ],
          [
           5,
           770
          ],
          [
           0,
           1236
          ],
          [
           2,
           1394
          ],
          [
           0,
           351
          ],
          [
           1,
           1058
          ],
          [
           1,
           783
          ],
          [
           1,
           3798
          ],
          [
           1,
           660
          ],
          [
           5,
           2720
          ],
          [
           4,
           4272
          ],
          [
           5,
           345
          ],
          [
           1,
           897
          ],
          [
           0,
           4151
          ],
          [
           0,
           5118
          ],
          [
           0,
           3024
          ],
          [
           5,
           4212
          ],
          [
           1,
           2698
          ],
          [
           0,
           1416
          ],
          [
           2,
           1832
          ],
          [
           3,
           3492
          ],
          [
           6,
           412
          ],
          [
           4,
           921
          ],
          [
           4,
           4845
          ],
          [
           5,
           2021
          ],
          [
           4,
           4230
          ],
          [
           0,
           2263
          ],
          [
           3,
           2256
          ],
          [
           4,
           633
          ],
          [
           1,
           1100
          ],
          [
           0,
           562
          ],
          [
           0,
           4556
          ],
          [
           2,
           389
          ],
          [
           6,
           5019
          ],
          [
           5,
           4861
          ],
          [
           4,
           1228
          ],
          [
           2,
           2508
          ],
          [
           0,
           1801
          ],
          [
           2,
           2303
          ],
          [
           1,
           3165
          ],
          [
           0,
           4207
          ],
          [
           2,
           1144
          ],
          [
           5,
           284
          ],
          [
           1,
           2189
          ],
          [
           1,
           847
          ],
          [
           0,
           3961
          ],
          [
           0,
           313
          ],
          [
           0,
           1475
          ],
          [
           2,
           3879
          ],
          [
           1,
           4311
          ],
          [
           2,
           3252
          ],
          [
           5,
           580
          ],
          [
           3,
           5245
          ],
          [
           0,
           4852
          ],
          [
           3,
           0
          ],
          [
           3,
           1290
          ],
          [
           1,
           2736
          ],
          [
           2,
           451
          ],
          [
           6,
           2352
          ],
          [
           6,
           1459
          ],
          [
           4,
           432
          ],
          [
           4,
           1666
          ],
          [
           0,
           2733
          ],
          [
           2,
           1250
          ],
          [
           1,
           2537
          ],
          [
           5,
           721
          ],
          [
           0,
           4294
          ],
          [
           4,
           3207
          ],
          [
           2,
           669
          ],
          [
           4,
           3363
          ],
          [
           0,
           674
          ],
          [
           1,
           2996
          ],
          [
           0,
           1484
          ],
          [
           4,
           3875
          ],
          [
           4,
           5068
          ],
          [
           3,
           154
          ],
          [
           3,
           2466
          ],
          [
           5,
           2039
          ],
          [
           5,
           1520
          ],
          [
           6,
           3019
          ],
          [
           6,
           522
          ],
          [
           2,
           620
          ],
          [
           4,
           602
          ],
          [
           1,
           4208
          ],
          [
           1,
           1980
          ],
          [
           2,
           2251
          ],
          [
           2,
           3393
          ],
          [
           0,
           5095
          ],
          [
           3,
           938
          ],
          [
           3,
           4263
          ],
          [
           3,
           740
          ],
          [
           0,
           4308
          ]
         ],
         "hovertemplate": "<b>%{hovertext}</b><br />day :<br />%{customdata[0]}<br />Contribution: %{y:.4f}<extra></extra>",
         "hovertext": [
          "Id: 118<br />Predict: 4.16",
          "Id: 2417<br />Predict: 28.0",
          "Id: 1975<br />Predict: 25.09",
          "Id: 984<br />Predict: 12.73",
          "Id: 1442<br />Predict: 33.69",
          "Id: 3281<br />Predict: 19.99",
          "Id: 4242<br />Predict: 7.11",
          "Id: 1221<br />Predict: 13.55",
          "Id: 4241<br />Predict: 68.11",
          "Id: 4462<br />Predict: 25.27",
          "Id: 3205<br />Predict: 98.54",
          "Id: 1664<br />Predict: 7.51",
          "Id: 2008<br />Predict: 23.84",
          "Id: 2050<br />Predict: 19.27",
          "Id: 1699<br />Predict: 68.32",
          "Id: 1302<br />Predict: 2.56",
          "Id: 1394<br />Predict: 43.63",
          "Id: 1832<br />Predict: 13.89",
          "Id: 389<br />Predict: 1.13",
          "Id: 2508<br />Predict: 49.81",
          "Id: 2303<br />Predict: 51.45",
          "Id: 1144<br />Predict: 1.28",
          "Id: 3879<br />Predict: 30.55",
          "Id: 3252<br />Predict: 11.82",
          "Id: 451<br />Predict: 4.21",
          "Id: 1250<br />Predict: 22.01",
          "Id: 669<br />Predict: 8.71",
          "Id: 620<br />Predict: 20.64",
          "Id: 2251<br />Predict: 65.92",
          "Id: 3393<br />Predict: 1.05"
         ],
         "line": {
          "color": "rgba(117, 152, 189, 0.9)"
         },
         "marker": {
          "line": {
           "color": "white",
           "width": 0.8
          },
          "opacity": 0.8,
          "size": 10
         },
         "meanline": {
          "visible": true
         },
         "scalemode": "count",
         "showlegend": false,
         "type": "violin",
         "x": [
          2,
          2,
          2,
          2,
          2,
          2,
          2,
          2,
          2,
          2,
          2,
          2,
          2,
          2,
          2,
          2,
          2,
          2,
          2,
          2,
          2,
          2,
          2,
          2,
          2,
          2,
          2,
          2,
          2,
          2
         ],
         "y": [
          0.48735342853774954,
          1.240759946637828,
          0.5999670531179065,
          0.528465382187066,
          -0.7249057757723205,
          0.7606062990592605,
          0.6599524588761878,
          0.2523573822668151,
          1.7993848535444301,
          0.5824176997576469,
          2.145816622359899,
          0.24774567036337664,
          -0.03321633463370767,
          0.7606003704249886,
          2.146381500204141,
          0.3003197915391156,
          0.558923833139907,
          0.5751385684488285,
          0.33371345742892744,
          1.7063392784088907,
          1.344648264702078,
          0.09339389230088414,
          -0.11647838514211631,
          0.4430413836361423,
          0.025251887179188776,
          0.6561236336907919,
          0.5063202471764722,
          0.7773310864322871,
          2.216116603281947,
          0.04251513542001277
         ]
        },
        {
         "customdata": [
          [
           2,
           118
          ],
          [
           2,
           2417
          ],
          [
           4,
           705
          ],
          [
           4,
           1525
          ],
          [
           1,
           912
          ],
          [
           4,
           2438
          ],
          [
           3,
           2617
          ],
          [
           2,
           1975
          ],
          [
           5,
           490
          ],
          [
           1,
           2305
          ],
          [
           2,
           984
          ],
          [
           3,
           594
          ],
          [
           1,
           1175
          ],
          [
           2,
           1442
          ],
          [
           3,
           2890
          ],
          [
           2,
           3281
          ],
          [
           0,
           2012
          ],
          [
           2,
           4242
          ],
          [
           5,
           848
          ],
          [
           0,
           1541
          ],
          [
           2,
           1221
          ],
          [
           3,
           3608
          ],
          [
           6,
           1402
          ],
          [
           4,
           634
          ],
          [
           4,
           4194
          ],
          [
           5,
           326
          ],
          [
           2,
           4241
          ],
          [
           6,
           401
          ],
          [
           0,
           4560
          ],
          [
           4,
           605
          ],
          [
           4,
           1339
          ],
          [
           4,
           3906
          ],
          [
           3,
           204
          ],
          [
           1,
           3471
          ],
          [
           0,
           463
          ],
          [
           4,
           447
          ],
          [
           1,
           3626
          ],
          [
           1,
           3348
          ],
          [
           6,
           2664
          ],
          [
           1,
           1878
          ],
          [
           0,
           990
          ],
          [
           6,
           4070
          ],
          [
           2,
           4462
          ],
          [
           4,
           429
          ],
          [
           5,
           2558
          ],
          [
           2,
           3205
          ],
          [
           6,
           1779
          ],
          [
           2,
           1664
          ],
          [
           1,
           3641
          ],
          [
           5,
           1506
          ],
          [
           2,
           2008
          ],
          [
           2,
           2050
          ],
          [
           3,
           2283
          ],
          [
           1,
           1952
          ],
          [
           1,
           1082
          ],
          [
           5,
           4435
          ],
          [
           4,
           1196
          ],
          [
           3,
           747
          ],
          [
           1,
           1463
          ],
          [
           1,
           492
          ],
          [
           1,
           2560
          ],
          [
           4,
           2163
          ],
          [
           3,
           552
          ],
          [
           1,
           2083
          ],
          [
           5,
           881
          ],
          [
           4,
           1026
          ],
          [
           1,
           734
          ],
          [
           4,
           771
          ],
          [
           1,
           4946
          ],
          [
           5,
           3691
          ],
          [
           1,
           652
          ],
          [
           4,
           2924
          ],
          [
           4,
           1272
          ],
          [
           4,
           2048
          ],
          [
           3,
           3893
          ],
          [
           3,
           609
          ],
          [
           3,
           2273
          ],
          [
           5,
           398
          ],
          [
           0,
           4817
          ],
          [
           1,
           59
          ],
          [
           3,
           1562
          ],
          [
           0,
           179
          ],
          [
           5,
           954
          ],
          [
           2,
           1699
          ],
          [
           6,
           1460
          ],
          [
           0,
           2208
          ],
          [
           1,
           2229
          ],
          [
           6,
           2928
          ],
          [
           3,
           387
          ],
          [
           4,
           3006
          ],
          [
           5,
           2499
          ],
          [
           1,
           1650
          ],
          [
           2,
           1302
          ],
          [
           1,
           5057
          ],
          [
           0,
           222
          ],
          [
           6,
           2408
          ],
          [
           1,
           438
          ],
          [
           5,
           736
          ],
          [
           6,
           2753
          ],
          [
           3,
           5186
          ],
          [
           1,
           827
          ],
          [
           6,
           2475
          ],
          [
           4,
           3506
          ],
          [
           4,
           3989
          ],
          [
           6,
           3604
          ],
          [
           3,
           908
          ],
          [
           3,
           2255
          ],
          [
           4,
           4424
          ],
          [
           1,
           517
          ],
          [
           5,
           770
          ],
          [
           0,
           1236
          ],
          [
           2,
           1394
          ],
          [
           0,
           351
          ],
          [
           1,
           1058
          ],
          [
           1,
           783
          ],
          [
           1,
           3798
          ],
          [
           1,
           660
          ],
          [
           5,
           2720
          ],
          [
           4,
           4272
          ],
          [
           5,
           345
          ],
          [
           1,
           897
          ],
          [
           0,
           4151
          ],
          [
           0,
           5118
          ],
          [
           0,
           3024
          ],
          [
           5,
           4212
          ],
          [
           1,
           2698
          ],
          [
           0,
           1416
          ],
          [
           2,
           1832
          ],
          [
           3,
           3492
          ],
          [
           6,
           412
          ],
          [
           4,
           921
          ],
          [
           4,
           4845
          ],
          [
           5,
           2021
          ],
          [
           4,
           4230
          ],
          [
           0,
           2263
          ],
          [
           3,
           2256
          ],
          [
           4,
           633
          ],
          [
           1,
           1100
          ],
          [
           0,
           562
          ],
          [
           0,
           4556
          ],
          [
           2,
           389
          ],
          [
           6,
           5019
          ],
          [
           5,
           4861
          ],
          [
           4,
           1228
          ],
          [
           2,
           2508
          ],
          [
           0,
           1801
          ],
          [
           2,
           2303
          ],
          [
           1,
           3165
          ],
          [
           0,
           4207
          ],
          [
           2,
           1144
          ],
          [
           5,
           284
          ],
          [
           1,
           2189
          ],
          [
           1,
           847
          ],
          [
           0,
           3961
          ],
          [
           0,
           313
          ],
          [
           0,
           1475
          ],
          [
           2,
           3879
          ],
          [
           1,
           4311
          ],
          [
           2,
           3252
          ],
          [
           5,
           580
          ],
          [
           3,
           5245
          ],
          [
           0,
           4852
          ],
          [
           3,
           0
          ],
          [
           3,
           1290
          ],
          [
           1,
           2736
          ],
          [
           2,
           451
          ],
          [
           6,
           2352
          ],
          [
           6,
           1459
          ],
          [
           4,
           432
          ],
          [
           4,
           1666
          ],
          [
           0,
           2733
          ],
          [
           2,
           1250
          ],
          [
           1,
           2537
          ],
          [
           5,
           721
          ],
          [
           0,
           4294
          ],
          [
           4,
           3207
          ],
          [
           2,
           669
          ],
          [
           4,
           3363
          ],
          [
           0,
           674
          ],
          [
           1,
           2996
          ],
          [
           0,
           1484
          ],
          [
           4,
           3875
          ],
          [
           4,
           5068
          ],
          [
           3,
           154
          ],
          [
           3,
           2466
          ],
          [
           5,
           2039
          ],
          [
           5,
           1520
          ],
          [
           6,
           3019
          ],
          [
           6,
           522
          ],
          [
           2,
           620
          ],
          [
           4,
           602
          ],
          [
           1,
           4208
          ],
          [
           1,
           1980
          ],
          [
           2,
           2251
          ],
          [
           2,
           3393
          ],
          [
           0,
           5095
          ],
          [
           3,
           938
          ],
          [
           3,
           4263
          ],
          [
           3,
           740
          ],
          [
           0,
           4308
          ]
         ],
         "hovertemplate": "<b>%{hovertext}</b><br />day :<br />%{customdata[0]}<br />Contribution: %{y:.4f}<extra></extra>",
         "hovertext": [
          "Id: 2617<br />Predict: 11.21",
          "Id: 594<br />Predict: 22.29",
          "Id: 2890<br />Predict: 2.29",
          "Id: 3608<br />Predict: 12.69",
          "Id: 204<br />Predict: 3.56",
          "Id: 2283<br />Predict: 22.69",
          "Id: 747<br />Predict: 26.92",
          "Id: 552<br />Predict: 4.17",
          "Id: 3893<br />Predict: 45.83",
          "Id: 609<br />Predict: 3.48",
          "Id: 2273<br />Predict: 45.55",
          "Id: 1562<br />Predict: 18.45",
          "Id: 387<br />Predict: 4.59",
          "Id: 5186<br />Predict: 42.98",
          "Id: 908<br />Predict: 18.63",
          "Id: 2255<br />Predict: 11.83",
          "Id: 3492<br />Predict: 8.76",
          "Id: 2256<br />Predict: 24.63",
          "Id: 5245<br />Predict: 77.65",
          "Id: 0<br />Predict: 2.72",
          "Id: 1290<br />Predict: 18.67",
          "Id: 154<br />Predict: 2.95",
          "Id: 2466<br />Predict: 2.79",
          "Id: 938<br />Predict: 26.2",
          "Id: 4263<br />Predict: 7.55",
          "Id: 740<br />Predict: 21.86"
         ],
         "line": {
          "color": "rgba(117, 152, 189, 0.9)"
         },
         "marker": {
          "line": {
           "color": "white",
           "width": 0.8
          },
          "opacity": 0.8,
          "size": 10
         },
         "meanline": {
          "visible": true
         },
         "scalemode": "count",
         "showlegend": false,
         "type": "violin",
         "x": [
          3,
          3,
          3,
          3,
          3,
          3,
          3,
          3,
          3,
          3,
          3,
          3,
          3,
          3,
          3,
          3,
          3,
          3,
          3,
          3,
          3,
          3,
          3,
          3,
          3,
          3
         ],
         "y": [
          0.7356367616617118,
          1.1026992399861018,
          0.5179220589221802,
          0.6558937433575666,
          0.23560037068047218,
          0.22886698421613416,
          1.1598393859575498,
          0.40657537402657873,
          0.698352161377381,
          0.14886279309794642,
          1.7827074716281075,
          0.7618316927345757,
          0.09833861851979647,
          1.5812184574878794,
          0.8680473229543895,
          0.8271726093863955,
          0.8259951696017394,
          0.9208773812280975,
          1.536403423816005,
          0.3597846404564352,
          0.5470380608419763,
          0.46835182197513736,
          0.5265755730467,
          0.5794367738912503,
          0.5069958421607511,
          0.6091700403407014
         ]
        },
        {
         "customdata": [
          [
           2,
           118
          ],
          [
           2,
           2417
          ],
          [
           4,
           705
          ],
          [
           4,
           1525
          ],
          [
           1,
           912
          ],
          [
           4,
           2438
          ],
          [
           3,
           2617
          ],
          [
           2,
           1975
          ],
          [
           5,
           490
          ],
          [
           1,
           2305
          ],
          [
           2,
           984
          ],
          [
           3,
           594
          ],
          [
           1,
           1175
          ],
          [
           2,
           1442
          ],
          [
           3,
           2890
          ],
          [
           2,
           3281
          ],
          [
           0,
           2012
          ],
          [
           2,
           4242
          ],
          [
           5,
           848
          ],
          [
           0,
           1541
          ],
          [
           2,
           1221
          ],
          [
           3,
           3608
          ],
          [
           6,
           1402
          ],
          [
           4,
           634
          ],
          [
           4,
           4194
          ],
          [
           5,
           326
          ],
          [
           2,
           4241
          ],
          [
           6,
           401
          ],
          [
           0,
           4560
          ],
          [
           4,
           605
          ],
          [
           4,
           1339
          ],
          [
           4,
           3906
          ],
          [
           3,
           204
          ],
          [
           1,
           3471
          ],
          [
           0,
           463
          ],
          [
           4,
           447
          ],
          [
           1,
           3626
          ],
          [
           1,
           3348
          ],
          [
           6,
           2664
          ],
          [
           1,
           1878
          ],
          [
           0,
           990
          ],
          [
           6,
           4070
          ],
          [
           2,
           4462
          ],
          [
           4,
           429
          ],
          [
           5,
           2558
          ],
          [
           2,
           3205
          ],
          [
           6,
           1779
          ],
          [
           2,
           1664
          ],
          [
           1,
           3641
          ],
          [
           5,
           1506
          ],
          [
           2,
           2008
          ],
          [
           2,
           2050
          ],
          [
           3,
           2283
          ],
          [
           1,
           1952
          ],
          [
           1,
           1082
          ],
          [
           5,
           4435
          ],
          [
           4,
           1196
          ],
          [
           3,
           747
          ],
          [
           1,
           1463
          ],
          [
           1,
           492
          ],
          [
           1,
           2560
          ],
          [
           4,
           2163
          ],
          [
           3,
           552
          ],
          [
           1,
           2083
          ],
          [
           5,
           881
          ],
          [
           4,
           1026
          ],
          [
           1,
           734
          ],
          [
           4,
           771
          ],
          [
           1,
           4946
          ],
          [
           5,
           3691
          ],
          [
           1,
           652
          ],
          [
           4,
           2924
          ],
          [
           4,
           1272
          ],
          [
           4,
           2048
          ],
          [
           3,
           3893
          ],
          [
           3,
           609
          ],
          [
           3,
           2273
          ],
          [
           5,
           398
          ],
          [
           0,
           4817
          ],
          [
           1,
           59
          ],
          [
           3,
           1562
          ],
          [
           0,
           179
          ],
          [
           5,
           954
          ],
          [
           2,
           1699
          ],
          [
           6,
           1460
          ],
          [
           0,
           2208
          ],
          [
           1,
           2229
          ],
          [
           6,
           2928
          ],
          [
           3,
           387
          ],
          [
           4,
           3006
          ],
          [
           5,
           2499
          ],
          [
           1,
           1650
          ],
          [
           2,
           1302
          ],
          [
           1,
           5057
          ],
          [
           0,
           222
          ],
          [
           6,
           2408
          ],
          [
           1,
           438
          ],
          [
           5,
           736
          ],
          [
           6,
           2753
          ],
          [
           3,
           5186
          ],
          [
           1,
           827
          ],
          [
           6,
           2475
          ],
          [
           4,
           3506
          ],
          [
           4,
           3989
          ],
          [
           6,
           3604
          ],
          [
           3,
           908
          ],
          [
           3,
           2255
          ],
          [
           4,
           4424
          ],
          [
           1,
           517
          ],
          [
           5,
           770
          ],
          [
           0,
           1236
          ],
          [
           2,
           1394
          ],
          [
           0,
           351
          ],
          [
           1,
           1058
          ],
          [
           1,
           783
          ],
          [
           1,
           3798
          ],
          [
           1,
           660
          ],
          [
           5,
           2720
          ],
          [
           4,
           4272
          ],
          [
           5,
           345
          ],
          [
           1,
           897
          ],
          [
           0,
           4151
          ],
          [
           0,
           5118
          ],
          [
           0,
           3024
          ],
          [
           5,
           4212
          ],
          [
           1,
           2698
          ],
          [
           0,
           1416
          ],
          [
           2,
           1832
          ],
          [
           3,
           3492
          ],
          [
           6,
           412
          ],
          [
           4,
           921
          ],
          [
           4,
           4845
          ],
          [
           5,
           2021
          ],
          [
           4,
           4230
          ],
          [
           0,
           2263
          ],
          [
           3,
           2256
          ],
          [
           4,
           633
          ],
          [
           1,
           1100
          ],
          [
           0,
           562
          ],
          [
           0,
           4556
          ],
          [
           2,
           389
          ],
          [
           6,
           5019
          ],
          [
           5,
           4861
          ],
          [
           4,
           1228
          ],
          [
           2,
           2508
          ],
          [
           0,
           1801
          ],
          [
           2,
           2303
          ],
          [
           1,
           3165
          ],
          [
           0,
           4207
          ],
          [
           2,
           1144
          ],
          [
           5,
           284
          ],
          [
           1,
           2189
          ],
          [
           1,
           847
          ],
          [
           0,
           3961
          ],
          [
           0,
           313
          ],
          [
           0,
           1475
          ],
          [
           2,
           3879
          ],
          [
           1,
           4311
          ],
          [
           2,
           3252
          ],
          [
           5,
           580
          ],
          [
           3,
           5245
          ],
          [
           0,
           4852
          ],
          [
           3,
           0
          ],
          [
           3,
           1290
          ],
          [
           1,
           2736
          ],
          [
           2,
           451
          ],
          [
           6,
           2352
          ],
          [
           6,
           1459
          ],
          [
           4,
           432
          ],
          [
           4,
           1666
          ],
          [
           0,
           2733
          ],
          [
           2,
           1250
          ],
          [
           1,
           2537
          ],
          [
           5,
           721
          ],
          [
           0,
           4294
          ],
          [
           4,
           3207
          ],
          [
           2,
           669
          ],
          [
           4,
           3363
          ],
          [
           0,
           674
          ],
          [
           1,
           2996
          ],
          [
           0,
           1484
          ],
          [
           4,
           3875
          ],
          [
           4,
           5068
          ],
          [
           3,
           154
          ],
          [
           3,
           2466
          ],
          [
           5,
           2039
          ],
          [
           5,
           1520
          ],
          [
           6,
           3019
          ],
          [
           6,
           522
          ],
          [
           2,
           620
          ],
          [
           4,
           602
          ],
          [
           1,
           4208
          ],
          [
           1,
           1980
          ],
          [
           2,
           2251
          ],
          [
           2,
           3393
          ],
          [
           0,
           5095
          ],
          [
           3,
           938
          ],
          [
           3,
           4263
          ],
          [
           3,
           740
          ],
          [
           0,
           4308
          ]
         ],
         "hovertemplate": "<b>%{hovertext}</b><br />day :<br />%{customdata[0]}<br />Contribution: %{y:.4f}<extra></extra>",
         "hovertext": [
          "Id: 705<br />Predict: 23.55",
          "Id: 1525<br />Predict: 24.85",
          "Id: 2438<br />Predict: 68.7",
          "Id: 634<br />Predict: 3.71",
          "Id: 4194<br />Predict: 106.99",
          "Id: 605<br />Predict: 12.53",
          "Id: 1339<br />Predict: 25.73",
          "Id: 3906<br />Predict: 5.84",
          "Id: 447<br />Predict: 7.29",
          "Id: 429<br />Predict: 3.82",
          "Id: 1196<br />Predict: 50.26",
          "Id: 2163<br />Predict: 5.64",
          "Id: 1026<br />Predict: 49.35",
          "Id: 771<br />Predict: 3.3",
          "Id: 2924<br />Predict: 90.7",
          "Id: 1272<br />Predict: 42.46",
          "Id: 2048<br />Predict: 68.98",
          "Id: 3006<br />Predict: 28.22",
          "Id: 3506<br />Predict: 54.56",
          "Id: 3989<br />Predict: 63.65",
          "Id: 4424<br />Predict: 10.5",
          "Id: 4272<br />Predict: 49.79",
          "Id: 921<br />Predict: 23.9",
          "Id: 4845<br />Predict: 8.81",
          "Id: 4230<br />Predict: 2.2",
          "Id: 633<br />Predict: 3.07",
          "Id: 1228<br />Predict: 32.74",
          "Id: 432<br />Predict: 4.11",
          "Id: 1666<br />Predict: 24.86",
          "Id: 3207<br />Predict: 15.19",
          "Id: 3363<br />Predict: 76.2",
          "Id: 3875<br />Predict: 21.78",
          "Id: 5068<br />Predict: 6.99",
          "Id: 602<br />Predict: 28.27"
         ],
         "line": {
          "color": "rgba(117, 152, 189, 0.9)"
         },
         "marker": {
          "line": {
           "color": "white",
           "width": 0.8
          },
          "opacity": 0.8,
          "size": 10
         },
         "meanline": {
          "visible": true
         },
         "scalemode": "count",
         "showlegend": false,
         "type": "violin",
         "x": [
          4,
          4,
          4,
          4,
          4,
          4,
          4,
          4,
          4,
          4,
          4,
          4,
          4,
          4,
          4,
          4,
          4,
          4,
          4,
          4,
          4,
          4,
          4,
          4,
          4,
          4,
          4,
          4,
          4,
          4,
          4,
          4,
          4,
          4
         ],
         "y": [
          0.7275361376462611,
          0.5237106086079971,
          2.1987363438952783,
          0.10803717804878914,
          2.247666813094354,
          0.35211095561549993,
          1.0059879682909214,
          0.3517214625618388,
          0.6794068186292983,
          0.22621833854149453,
          0.4805563505279447,
          0.4476419218540005,
          0.9217587452581463,
          0.20557613499172836,
          -2.3985693626067617,
          1.0724052549083019,
          1.6632338135724054,
          1.3527790796392676,
          0.6937689275188703,
          3.093627871291868,
          0.17636305221163803,
          0.5561126418424173,
          0.34850678497518656,
          0.28755576008052297,
          0.3654880630000876,
          0.3519140834924311,
          1.4867911337320647,
          0.29372920414073433,
          0.9877368517750489,
          0.7129956089665822,
          -1.2919716027452417,
          0.8107440038140491,
          0.5527468190435163,
          0.39685273748036914
         ]
        },
        {
         "customdata": [
          [
           2,
           118
          ],
          [
           2,
           2417
          ],
          [
           4,
           705
          ],
          [
           4,
           1525
          ],
          [
           1,
           912
          ],
          [
           4,
           2438
          ],
          [
           3,
           2617
          ],
          [
           2,
           1975
          ],
          [
           5,
           490
          ],
          [
           1,
           2305
          ],
          [
           2,
           984
          ],
          [
           3,
           594
          ],
          [
           1,
           1175
          ],
          [
           2,
           1442
          ],
          [
           3,
           2890
          ],
          [
           2,
           3281
          ],
          [
           0,
           2012
          ],
          [
           2,
           4242
          ],
          [
           5,
           848
          ],
          [
           0,
           1541
          ],
          [
           2,
           1221
          ],
          [
           3,
           3608
          ],
          [
           6,
           1402
          ],
          [
           4,
           634
          ],
          [
           4,
           4194
          ],
          [
           5,
           326
          ],
          [
           2,
           4241
          ],
          [
           6,
           401
          ],
          [
           0,
           4560
          ],
          [
           4,
           605
          ],
          [
           4,
           1339
          ],
          [
           4,
           3906
          ],
          [
           3,
           204
          ],
          [
           1,
           3471
          ],
          [
           0,
           463
          ],
          [
           4,
           447
          ],
          [
           1,
           3626
          ],
          [
           1,
           3348
          ],
          [
           6,
           2664
          ],
          [
           1,
           1878
          ],
          [
           0,
           990
          ],
          [
           6,
           4070
          ],
          [
           2,
           4462
          ],
          [
           4,
           429
          ],
          [
           5,
           2558
          ],
          [
           2,
           3205
          ],
          [
           6,
           1779
          ],
          [
           2,
           1664
          ],
          [
           1,
           3641
          ],
          [
           5,
           1506
          ],
          [
           2,
           2008
          ],
          [
           2,
           2050
          ],
          [
           3,
           2283
          ],
          [
           1,
           1952
          ],
          [
           1,
           1082
          ],
          [
           5,
           4435
          ],
          [
           4,
           1196
          ],
          [
           3,
           747
          ],
          [
           1,
           1463
          ],
          [
           1,
           492
          ],
          [
           1,
           2560
          ],
          [
           4,
           2163
          ],
          [
           3,
           552
          ],
          [
           1,
           2083
          ],
          [
           5,
           881
          ],
          [
           4,
           1026
          ],
          [
           1,
           734
          ],
          [
           4,
           771
          ],
          [
           1,
           4946
          ],
          [
           5,
           3691
          ],
          [
           1,
           652
          ],
          [
           4,
           2924
          ],
          [
           4,
           1272
          ],
          [
           4,
           2048
          ],
          [
           3,
           3893
          ],
          [
           3,
           609
          ],
          [
           3,
           2273
          ],
          [
           5,
           398
          ],
          [
           0,
           4817
          ],
          [
           1,
           59
          ],
          [
           3,
           1562
          ],
          [
           0,
           179
          ],
          [
           5,
           954
          ],
          [
           2,
           1699
          ],
          [
           6,
           1460
          ],
          [
           0,
           2208
          ],
          [
           1,
           2229
          ],
          [
           6,
           2928
          ],
          [
           3,
           387
          ],
          [
           4,
           3006
          ],
          [
           5,
           2499
          ],
          [
           1,
           1650
          ],
          [
           2,
           1302
          ],
          [
           1,
           5057
          ],
          [
           0,
           222
          ],
          [
           6,
           2408
          ],
          [
           1,
           438
          ],
          [
           5,
           736
          ],
          [
           6,
           2753
          ],
          [
           3,
           5186
          ],
          [
           1,
           827
          ],
          [
           6,
           2475
          ],
          [
           4,
           3506
          ],
          [
           4,
           3989
          ],
          [
           6,
           3604
          ],
          [
           3,
           908
          ],
          [
           3,
           2255
          ],
          [
           4,
           4424
          ],
          [
           1,
           517
          ],
          [
           5,
           770
          ],
          [
           0,
           1236
          ],
          [
           2,
           1394
          ],
          [
           0,
           351
          ],
          [
           1,
           1058
          ],
          [
           1,
           783
          ],
          [
           1,
           3798
          ],
          [
           1,
           660
          ],
          [
           5,
           2720
          ],
          [
           4,
           4272
          ],
          [
           5,
           345
          ],
          [
           1,
           897
          ],
          [
           0,
           4151
          ],
          [
           0,
           5118
          ],
          [
           0,
           3024
          ],
          [
           5,
           4212
          ],
          [
           1,
           2698
          ],
          [
           0,
           1416
          ],
          [
           2,
           1832
          ],
          [
           3,
           3492
          ],
          [
           6,
           412
          ],
          [
           4,
           921
          ],
          [
           4,
           4845
          ],
          [
           5,
           2021
          ],
          [
           4,
           4230
          ],
          [
           0,
           2263
          ],
          [
           3,
           2256
          ],
          [
           4,
           633
          ],
          [
           1,
           1100
          ],
          [
           0,
           562
          ],
          [
           0,
           4556
          ],
          [
           2,
           389
          ],
          [
           6,
           5019
          ],
          [
           5,
           4861
          ],
          [
           4,
           1228
          ],
          [
           2,
           2508
          ],
          [
           0,
           1801
          ],
          [
           2,
           2303
          ],
          [
           1,
           3165
          ],
          [
           0,
           4207
          ],
          [
           2,
           1144
          ],
          [
           5,
           284
          ],
          [
           1,
           2189
          ],
          [
           1,
           847
          ],
          [
           0,
           3961
          ],
          [
           0,
           313
          ],
          [
           0,
           1475
          ],
          [
           2,
           3879
          ],
          [
           1,
           4311
          ],
          [
           2,
           3252
          ],
          [
           5,
           580
          ],
          [
           3,
           5245
          ],
          [
           0,
           4852
          ],
          [
           3,
           0
          ],
          [
           3,
           1290
          ],
          [
           1,
           2736
          ],
          [
           2,
           451
          ],
          [
           6,
           2352
          ],
          [
           6,
           1459
          ],
          [
           4,
           432
          ],
          [
           4,
           1666
          ],
          [
           0,
           2733
          ],
          [
           2,
           1250
          ],
          [
           1,
           2537
          ],
          [
           5,
           721
          ],
          [
           0,
           4294
          ],
          [
           4,
           3207
          ],
          [
           2,
           669
          ],
          [
           4,
           3363
          ],
          [
           0,
           674
          ],
          [
           1,
           2996
          ],
          [
           0,
           1484
          ],
          [
           4,
           3875
          ],
          [
           4,
           5068
          ],
          [
           3,
           154
          ],
          [
           3,
           2466
          ],
          [
           5,
           2039
          ],
          [
           5,
           1520
          ],
          [
           6,
           3019
          ],
          [
           6,
           522
          ],
          [
           2,
           620
          ],
          [
           4,
           602
          ],
          [
           1,
           4208
          ],
          [
           1,
           1980
          ],
          [
           2,
           2251
          ],
          [
           2,
           3393
          ],
          [
           0,
           5095
          ],
          [
           3,
           938
          ],
          [
           3,
           4263
          ],
          [
           3,
           740
          ],
          [
           0,
           4308
          ]
         ],
         "hovertemplate": "<b>%{hovertext}</b><br />day :<br />%{customdata[0]}<br />Contribution: %{y:.4f}<extra></extra>",
         "hovertext": [
          "Id: 490<br />Predict: 10.16",
          "Id: 848<br />Predict: 12.01",
          "Id: 326<br />Predict: 5.28",
          "Id: 2558<br />Predict: 11.02",
          "Id: 1506<br />Predict: 36.63",
          "Id: 4435<br />Predict: 7.26",
          "Id: 881<br />Predict: 7.72",
          "Id: 3691<br />Predict: 5.73",
          "Id: 398<br />Predict: 2.4",
          "Id: 954<br />Predict: 16.54",
          "Id: 2499<br />Predict: 54.22",
          "Id: 736<br />Predict: 25.16",
          "Id: 770<br />Predict: 6.63",
          "Id: 2720<br />Predict: 139.0",
          "Id: 345<br />Predict: 1.51",
          "Id: 4212<br />Predict: 62.21",
          "Id: 2021<br />Predict: 67.96",
          "Id: 4861<br />Predict: 135.76",
          "Id: 284<br />Predict: 3.15",
          "Id: 580<br />Predict: 12.74",
          "Id: 721<br />Predict: 2.38",
          "Id: 2039<br />Predict: 88.92",
          "Id: 1520<br />Predict: 42.38"
         ],
         "line": {
          "color": "rgba(117, 152, 189, 0.9)"
         },
         "marker": {
          "line": {
           "color": "white",
           "width": 0.8
          },
          "opacity": 0.8,
          "size": 10
         },
         "meanline": {
          "visible": true
         },
         "scalemode": "count",
         "showlegend": false,
         "type": "violin",
         "x": [
          5,
          5,
          5,
          5,
          5,
          5,
          5,
          5,
          5,
          5,
          5,
          5,
          5,
          5,
          5,
          5,
          5,
          5,
          5,
          5,
          5,
          5,
          5
         ],
         "y": [
          -0.45444421479507013,
          -1.2326025952815134,
          -0.3778529317649983,
          -0.7887490469149236,
          0.048600119013077925,
          -0.12439969982150993,
          -0.3675574689329464,
          -0.42244976636015885,
          -0.6991677426286829,
          -0.436338085720674,
          0.2531932378028001,
          -0.759963841580217,
          -0.5311549783659502,
          6.062356454617796,
          -0.028202873978998084,
          -1.3981809620253047,
          1.761828936063631,
          -6.504128863651395,
          -0.037221124297695314,
          -1.250786368946789,
          -0.40818140586177654,
          -0.4538980949176289,
          -0.5819765126120422
         ]
        },
        {
         "customdata": [
          [
           2,
           118
          ],
          [
           2,
           2417
          ],
          [
           4,
           705
          ],
          [
           4,
           1525
          ],
          [
           1,
           912
          ],
          [
           4,
           2438
          ],
          [
           3,
           2617
          ],
          [
           2,
           1975
          ],
          [
           5,
           490
          ],
          [
           1,
           2305
          ],
          [
           2,
           984
          ],
          [
           3,
           594
          ],
          [
           1,
           1175
          ],
          [
           2,
           1442
          ],
          [
           3,
           2890
          ],
          [
           2,
           3281
          ],
          [
           0,
           2012
          ],
          [
           2,
           4242
          ],
          [
           5,
           848
          ],
          [
           0,
           1541
          ],
          [
           2,
           1221
          ],
          [
           3,
           3608
          ],
          [
           6,
           1402
          ],
          [
           4,
           634
          ],
          [
           4,
           4194
          ],
          [
           5,
           326
          ],
          [
           2,
           4241
          ],
          [
           6,
           401
          ],
          [
           0,
           4560
          ],
          [
           4,
           605
          ],
          [
           4,
           1339
          ],
          [
           4,
           3906
          ],
          [
           3,
           204
          ],
          [
           1,
           3471
          ],
          [
           0,
           463
          ],
          [
           4,
           447
          ],
          [
           1,
           3626
          ],
          [
           1,
           3348
          ],
          [
           6,
           2664
          ],
          [
           1,
           1878
          ],
          [
           0,
           990
          ],
          [
           6,
           4070
          ],
          [
           2,
           4462
          ],
          [
           4,
           429
          ],
          [
           5,
           2558
          ],
          [
           2,
           3205
          ],
          [
           6,
           1779
          ],
          [
           2,
           1664
          ],
          [
           1,
           3641
          ],
          [
           5,
           1506
          ],
          [
           2,
           2008
          ],
          [
           2,
           2050
          ],
          [
           3,
           2283
          ],
          [
           1,
           1952
          ],
          [
           1,
           1082
          ],
          [
           5,
           4435
          ],
          [
           4,
           1196
          ],
          [
           3,
           747
          ],
          [
           1,
           1463
          ],
          [
           1,
           492
          ],
          [
           1,
           2560
          ],
          [
           4,
           2163
          ],
          [
           3,
           552
          ],
          [
           1,
           2083
          ],
          [
           5,
           881
          ],
          [
           4,
           1026
          ],
          [
           1,
           734
          ],
          [
           4,
           771
          ],
          [
           1,
           4946
          ],
          [
           5,
           3691
          ],
          [
           1,
           652
          ],
          [
           4,
           2924
          ],
          [
           4,
           1272
          ],
          [
           4,
           2048
          ],
          [
           3,
           3893
          ],
          [
           3,
           609
          ],
          [
           3,
           2273
          ],
          [
           5,
           398
          ],
          [
           0,
           4817
          ],
          [
           1,
           59
          ],
          [
           3,
           1562
          ],
          [
           0,
           179
          ],
          [
           5,
           954
          ],
          [
           2,
           1699
          ],
          [
           6,
           1460
          ],
          [
           0,
           2208
          ],
          [
           1,
           2229
          ],
          [
           6,
           2928
          ],
          [
           3,
           387
          ],
          [
           4,
           3006
          ],
          [
           5,
           2499
          ],
          [
           1,
           1650
          ],
          [
           2,
           1302
          ],
          [
           1,
           5057
          ],
          [
           0,
           222
          ],
          [
           6,
           2408
          ],
          [
           1,
           438
          ],
          [
           5,
           736
          ],
          [
           6,
           2753
          ],
          [
           3,
           5186
          ],
          [
           1,
           827
          ],
          [
           6,
           2475
          ],
          [
           4,
           3506
          ],
          [
           4,
           3989
          ],
          [
           6,
           3604
          ],
          [
           3,
           908
          ],
          [
           3,
           2255
          ],
          [
           4,
           4424
          ],
          [
           1,
           517
          ],
          [
           5,
           770
          ],
          [
           0,
           1236
          ],
          [
           2,
           1394
          ],
          [
           0,
           351
          ],
          [
           1,
           1058
          ],
          [
           1,
           783
          ],
          [
           1,
           3798
          ],
          [
           1,
           660
          ],
          [
           5,
           2720
          ],
          [
           4,
           4272
          ],
          [
           5,
           345
          ],
          [
           1,
           897
          ],
          [
           0,
           4151
          ],
          [
           0,
           5118
          ],
          [
           0,
           3024
          ],
          [
           5,
           4212
          ],
          [
           1,
           2698
          ],
          [
           0,
           1416
          ],
          [
           2,
           1832
          ],
          [
           3,
           3492
          ],
          [
           6,
           412
          ],
          [
           4,
           921
          ],
          [
           4,
           4845
          ],
          [
           5,
           2021
          ],
          [
           4,
           4230
          ],
          [
           0,
           2263
          ],
          [
           3,
           2256
          ],
          [
           4,
           633
          ],
          [
           1,
           1100
          ],
          [
           0,
           562
          ],
          [
           0,
           4556
          ],
          [
           2,
           389
          ],
          [
           6,
           5019
          ],
          [
           5,
           4861
          ],
          [
           4,
           1228
          ],
          [
           2,
           2508
          ],
          [
           0,
           1801
          ],
          [
           2,
           2303
          ],
          [
           1,
           3165
          ],
          [
           0,
           4207
          ],
          [
           2,
           1144
          ],
          [
           5,
           284
          ],
          [
           1,
           2189
          ],
          [
           1,
           847
          ],
          [
           0,
           3961
          ],
          [
           0,
           313
          ],
          [
           0,
           1475
          ],
          [
           2,
           3879
          ],
          [
           1,
           4311
          ],
          [
           2,
           3252
          ],
          [
           5,
           580
          ],
          [
           3,
           5245
          ],
          [
           0,
           4852
          ],
          [
           3,
           0
          ],
          [
           3,
           1290
          ],
          [
           1,
           2736
          ],
          [
           2,
           451
          ],
          [
           6,
           2352
          ],
          [
           6,
           1459
          ],
          [
           4,
           432
          ],
          [
           4,
           1666
          ],
          [
           0,
           2733
          ],
          [
           2,
           1250
          ],
          [
           1,
           2537
          ],
          [
           5,
           721
          ],
          [
           0,
           4294
          ],
          [
           4,
           3207
          ],
          [
           2,
           669
          ],
          [
           4,
           3363
          ],
          [
           0,
           674
          ],
          [
           1,
           2996
          ],
          [
           0,
           1484
          ],
          [
           4,
           3875
          ],
          [
           4,
           5068
          ],
          [
           3,
           154
          ],
          [
           3,
           2466
          ],
          [
           5,
           2039
          ],
          [
           5,
           1520
          ],
          [
           6,
           3019
          ],
          [
           6,
           522
          ],
          [
           2,
           620
          ],
          [
           4,
           602
          ],
          [
           1,
           4208
          ],
          [
           1,
           1980
          ],
          [
           2,
           2251
          ],
          [
           2,
           3393
          ],
          [
           0,
           5095
          ],
          [
           3,
           938
          ],
          [
           3,
           4263
          ],
          [
           3,
           740
          ],
          [
           0,
           4308
          ]
         ],
         "hovertemplate": "<b>%{hovertext}</b><br />day :<br />%{customdata[0]}<br />Contribution: %{y:.4f}<extra></extra>",
         "hovertext": [
          "Id: 1402<br />Predict: 11.01",
          "Id: 401<br />Predict: 3.45",
          "Id: 2664<br />Predict: 71.58",
          "Id: 4070<br />Predict: 4.35",
          "Id: 1779<br />Predict: 40.04",
          "Id: 1460<br />Predict: 6.36",
          "Id: 2928<br />Predict: 17.78",
          "Id: 2408<br />Predict: 82.58",
          "Id: 2753<br />Predict: 5.28",
          "Id: 2475<br />Predict: 42.15",
          "Id: 3604<br />Predict: 10.85",
          "Id: 412<br />Predict: 10.92",
          "Id: 5019<br />Predict: 45.71",
          "Id: 2352<br />Predict: 7.48",
          "Id: 1459<br />Predict: 30.23",
          "Id: 3019<br />Predict: 9.95",
          "Id: 522<br />Predict: 10.71"
         ],
         "line": {
          "color": "rgba(117, 152, 189, 0.9)"
         },
         "marker": {
          "line": {
           "color": "white",
           "width": 0.8
          },
          "opacity": 0.8,
          "size": 10
         },
         "meanline": {
          "visible": true
         },
         "scalemode": "count",
         "showlegend": false,
         "type": "violin",
         "x": [
          6,
          6,
          6,
          6,
          6,
          6,
          6,
          6,
          6,
          6,
          6,
          6,
          6,
          6,
          6,
          6,
          6
         ],
         "y": [
          0.6146127683888153,
          -0.22121701588424386,
          1.8995797816326807,
          -0.14158358453771605,
          -12.61053876273852,
          -0.09395988591315095,
          0.44544274747485296,
          0.9543921813525815,
          0.21542915617511196,
          0.5777484954203781,
          -1.0041379077131165,
          1.6770345288746902,
          3.082461409123333,
          1.865679779197404,
          0.7132665874387509,
          0.3875770608022681,
          -0.7947330556356619
         ]
        },
        {
         "customdata": [
          [
           2,
           118
          ],
          [
           2,
           2417
          ],
          [
           4,
           705
          ],
          [
           4,
           1525
          ],
          [
           1,
           912
          ],
          [
           4,
           2438
          ],
          [
           3,
           2617
          ],
          [
           2,
           1975
          ],
          [
           5,
           490
          ],
          [
           1,
           2305
          ],
          [
           2,
           984
          ],
          [
           3,
           594
          ],
          [
           1,
           1175
          ],
          [
           2,
           1442
          ],
          [
           3,
           2890
          ],
          [
           2,
           3281
          ],
          [
           0,
           2012
          ],
          [
           2,
           4242
          ],
          [
           5,
           848
          ],
          [
           0,
           1541
          ],
          [
           2,
           1221
          ],
          [
           3,
           3608
          ],
          [
           6,
           1402
          ],
          [
           4,
           634
          ],
          [
           4,
           4194
          ],
          [
           5,
           326
          ],
          [
           2,
           4241
          ],
          [
           6,
           401
          ],
          [
           0,
           4560
          ],
          [
           4,
           605
          ],
          [
           4,
           1339
          ],
          [
           4,
           3906
          ],
          [
           3,
           204
          ],
          [
           1,
           3471
          ],
          [
           0,
           463
          ],
          [
           4,
           447
          ],
          [
           1,
           3626
          ],
          [
           1,
           3348
          ],
          [
           6,
           2664
          ],
          [
           1,
           1878
          ],
          [
           0,
           990
          ],
          [
           6,
           4070
          ],
          [
           2,
           4462
          ],
          [
           4,
           429
          ],
          [
           5,
           2558
          ],
          [
           2,
           3205
          ],
          [
           6,
           1779
          ],
          [
           2,
           1664
          ],
          [
           1,
           3641
          ],
          [
           5,
           1506
          ],
          [
           2,
           2008
          ],
          [
           2,
           2050
          ],
          [
           3,
           2283
          ],
          [
           1,
           1952
          ],
          [
           1,
           1082
          ],
          [
           5,
           4435
          ],
          [
           4,
           1196
          ],
          [
           3,
           747
          ],
          [
           1,
           1463
          ],
          [
           1,
           492
          ],
          [
           1,
           2560
          ],
          [
           4,
           2163
          ],
          [
           3,
           552
          ],
          [
           1,
           2083
          ],
          [
           5,
           881
          ],
          [
           4,
           1026
          ],
          [
           1,
           734
          ],
          [
           4,
           771
          ],
          [
           1,
           4946
          ],
          [
           5,
           3691
          ],
          [
           1,
           652
          ],
          [
           4,
           2924
          ],
          [
           4,
           1272
          ],
          [
           4,
           2048
          ],
          [
           3,
           3893
          ],
          [
           3,
           609
          ],
          [
           3,
           2273
          ],
          [
           5,
           398
          ],
          [
           0,
           4817
          ],
          [
           1,
           59
          ],
          [
           3,
           1562
          ],
          [
           0,
           179
          ],
          [
           5,
           954
          ],
          [
           2,
           1699
          ],
          [
           6,
           1460
          ],
          [
           0,
           2208
          ],
          [
           1,
           2229
          ],
          [
           6,
           2928
          ],
          [
           3,
           387
          ],
          [
           4,
           3006
          ],
          [
           5,
           2499
          ],
          [
           1,
           1650
          ],
          [
           2,
           1302
          ],
          [
           1,
           5057
          ],
          [
           0,
           222
          ],
          [
           6,
           2408
          ],
          [
           1,
           438
          ],
          [
           5,
           736
          ],
          [
           6,
           2753
          ],
          [
           3,
           5186
          ],
          [
           1,
           827
          ],
          [
           6,
           2475
          ],
          [
           4,
           3506
          ],
          [
           4,
           3989
          ],
          [
           6,
           3604
          ],
          [
           3,
           908
          ],
          [
           3,
           2255
          ],
          [
           4,
           4424
          ],
          [
           1,
           517
          ],
          [
           5,
           770
          ],
          [
           0,
           1236
          ],
          [
           2,
           1394
          ],
          [
           0,
           351
          ],
          [
           1,
           1058
          ],
          [
           1,
           783
          ],
          [
           1,
           3798
          ],
          [
           1,
           660
          ],
          [
           5,
           2720
          ],
          [
           4,
           4272
          ],
          [
           5,
           345
          ],
          [
           1,
           897
          ],
          [
           0,
           4151
          ],
          [
           0,
           5118
          ],
          [
           0,
           3024
          ],
          [
           5,
           4212
          ],
          [
           1,
           2698
          ],
          [
           0,
           1416
          ],
          [
           2,
           1832
          ],
          [
           3,
           3492
          ],
          [
           6,
           412
          ],
          [
           4,
           921
          ],
          [
           4,
           4845
          ],
          [
           5,
           2021
          ],
          [
           4,
           4230
          ],
          [
           0,
           2263
          ],
          [
           3,
           2256
          ],
          [
           4,
           633
          ],
          [
           1,
           1100
          ],
          [
           0,
           562
          ],
          [
           0,
           4556
          ],
          [
           2,
           389
          ],
          [
           6,
           5019
          ],
          [
           5,
           4861
          ],
          [
           4,
           1228
          ],
          [
           2,
           2508
          ],
          [
           0,
           1801
          ],
          [
           2,
           2303
          ],
          [
           1,
           3165
          ],
          [
           0,
           4207
          ],
          [
           2,
           1144
          ],
          [
           5,
           284
          ],
          [
           1,
           2189
          ],
          [
           1,
           847
          ],
          [
           0,
           3961
          ],
          [
           0,
           313
          ],
          [
           0,
           1475
          ],
          [
           2,
           3879
          ],
          [
           1,
           4311
          ],
          [
           2,
           3252
          ],
          [
           5,
           580
          ],
          [
           3,
           5245
          ],
          [
           0,
           4852
          ],
          [
           3,
           0
          ],
          [
           3,
           1290
          ],
          [
           1,
           2736
          ],
          [
           2,
           451
          ],
          [
           6,
           2352
          ],
          [
           6,
           1459
          ],
          [
           4,
           432
          ],
          [
           4,
           1666
          ],
          [
           0,
           2733
          ],
          [
           2,
           1250
          ],
          [
           1,
           2537
          ],
          [
           5,
           721
          ],
          [
           0,
           4294
          ],
          [
           4,
           3207
          ],
          [
           2,
           669
          ],
          [
           4,
           3363
          ],
          [
           0,
           674
          ],
          [
           1,
           2996
          ],
          [
           0,
           1484
          ],
          [
           4,
           3875
          ],
          [
           4,
           5068
          ],
          [
           3,
           154
          ],
          [
           3,
           2466
          ],
          [
           5,
           2039
          ],
          [
           5,
           1520
          ],
          [
           6,
           3019
          ],
          [
           6,
           522
          ],
          [
           2,
           620
          ],
          [
           4,
           602
          ],
          [
           1,
           4208
          ],
          [
           1,
           1980
          ],
          [
           2,
           2251
          ],
          [
           2,
           3393
          ],
          [
           0,
           5095
          ],
          [
           3,
           938
          ],
          [
           3,
           4263
          ],
          [
           3,
           740
          ],
          [
           0,
           4308
          ]
         ],
         "hovertemplate": "<b>%{hovertext}</b><br />day :<br />%{customdata[0]}<br />Contribution: %{y:.4f}<extra></extra>",
         "hovertext": [
          "Id: 118<br />Predict: 4.16",
          "Id: 2417<br />Predict: 28.0",
          "Id: 705<br />Predict: 23.55",
          "Id: 1525<br />Predict: 24.85",
          "Id: 912<br />Predict: 15.14",
          "Id: 2438<br />Predict: 68.7",
          "Id: 2617<br />Predict: 11.21",
          "Id: 1975<br />Predict: 25.09",
          "Id: 490<br />Predict: 10.16",
          "Id: 2305<br />Predict: 25.21",
          "Id: 984<br />Predict: 12.73",
          "Id: 594<br />Predict: 22.29",
          "Id: 1175<br />Predict: 15.0",
          "Id: 1442<br />Predict: 33.69",
          "Id: 2890<br />Predict: 2.29",
          "Id: 3281<br />Predict: 19.99",
          "Id: 2012<br />Predict: 31.99",
          "Id: 4242<br />Predict: 7.11",
          "Id: 848<br />Predict: 12.01",
          "Id: 1541<br />Predict: 41.64",
          "Id: 1221<br />Predict: 13.55",
          "Id: 3608<br />Predict: 12.69",
          "Id: 1402<br />Predict: 11.01",
          "Id: 634<br />Predict: 3.71",
          "Id: 4194<br />Predict: 106.99",
          "Id: 326<br />Predict: 5.28",
          "Id: 4241<br />Predict: 68.11",
          "Id: 401<br />Predict: 3.45",
          "Id: 4560<br />Predict: 4.53",
          "Id: 605<br />Predict: 12.53",
          "Id: 1339<br />Predict: 25.73",
          "Id: 3906<br />Predict: 5.84",
          "Id: 204<br />Predict: 3.56",
          "Id: 3471<br />Predict: 13.69",
          "Id: 463<br />Predict: 8.48",
          "Id: 447<br />Predict: 7.29",
          "Id: 3626<br />Predict: 4.3",
          "Id: 3348<br />Predict: 24.01",
          "Id: 2664<br />Predict: 71.58",
          "Id: 1878<br />Predict: 8.95",
          "Id: 990<br />Predict: 17.14",
          "Id: 4070<br />Predict: 4.35",
          "Id: 4462<br />Predict: 25.27",
          "Id: 429<br />Predict: 3.82",
          "Id: 2558<br />Predict: 11.02",
          "Id: 3205<br />Predict: 98.54",
          "Id: 1779<br />Predict: 40.04",
          "Id: 1664<br />Predict: 7.51",
          "Id: 3641<br />Predict: 5.64",
          "Id: 1506<br />Predict: 36.63",
          "Id: 2008<br />Predict: 23.84",
          "Id: 2050<br />Predict: 19.27",
          "Id: 2283<br />Predict: 22.69",
          "Id: 1952<br />Predict: 5.71",
          "Id: 1082<br />Predict: 51.31",
          "Id: 4435<br />Predict: 7.26",
          "Id: 1196<br />Predict: 50.26",
          "Id: 747<br />Predict: 26.92",
          "Id: 1463<br />Predict: 69.01",
          "Id: 492<br />Predict: 14.09",
          "Id: 2560<br />Predict: 4.04",
          "Id: 2163<br />Predict: 5.64",
          "Id: 552<br />Predict: 4.17",
          "Id: 2083<br />Predict: 3.05",
          "Id: 881<br />Predict: 7.72",
          "Id: 1026<br />Predict: 49.35",
          "Id: 734<br />Predict: 36.88",
          "Id: 771<br />Predict: 3.3",
          "Id: 4946<br />Predict: 2.66",
          "Id: 3691<br />Predict: 5.73",
          "Id: 652<br />Predict: 21.63",
          "Id: 2924<br />Predict: 90.7",
          "Id: 1272<br />Predict: 42.46",
          "Id: 2048<br />Predict: 68.98",
          "Id: 3893<br />Predict: 45.83",
          "Id: 609<br />Predict: 3.48",
          "Id: 2273<br />Predict: 45.55",
          "Id: 398<br />Predict: 2.4",
          "Id: 4817<br />Predict: 184.69",
          "Id: 59<br />Predict: 35.39",
          "Id: 1562<br />Predict: 18.45",
          "Id: 179<br />Predict: 5.48",
          "Id: 954<br />Predict: 16.54",
          "Id: 1699<br />Predict: 68.32",
          "Id: 1460<br />Predict: 6.36",
          "Id: 2208<br />Predict: 10.67",
          "Id: 2229<br />Predict: 22.79",
          "Id: 2928<br />Predict: 17.78",
          "Id: 387<br />Predict: 4.59",
          "Id: 3006<br />Predict: 28.22",
          "Id: 2499<br />Predict: 54.22",
          "Id: 1650<br />Predict: 11.43",
          "Id: 1302<br />Predict: 2.56",
          "Id: 5057<br />Predict: 136.72",
          "Id: 222<br />Predict: 3.1",
          "Id: 2408<br />Predict: 82.58",
          "Id: 438<br />Predict: 12.29",
          "Id: 736<br />Predict: 25.16",
          "Id: 2753<br />Predict: 5.28",
          "Id: 5186<br />Predict: 42.98",
          "Id: 827<br />Predict: 24.93",
          "Id: 2475<br />Predict: 42.15",
          "Id: 3506<br />Predict: 54.56",
          "Id: 3989<br />Predict: 63.65",
          "Id: 3604<br />Predict: 10.85",
          "Id: 908<br />Predict: 18.63",
          "Id: 2255<br />Predict: 11.83",
          "Id: 4424<br />Predict: 10.5",
          "Id: 517<br />Predict: 7.24",
          "Id: 770<br />Predict: 6.63",
          "Id: 1236<br />Predict: 25.89",
          "Id: 1394<br />Predict: 43.63",
          "Id: 351<br />Predict: 7.27",
          "Id: 1058<br />Predict: 36.12",
          "Id: 783<br />Predict: 24.02",
          "Id: 3798<br />Predict: 12.97",
          "Id: 660<br />Predict: 27.3",
          "Id: 2720<br />Predict: 139.0",
          "Id: 4272<br />Predict: 49.79",
          "Id: 345<br />Predict: 1.51",
          "Id: 897<br />Predict: 21.09",
          "Id: 4151<br />Predict: 8.28",
          "Id: 5118<br />Predict: 14.23",
          "Id: 3024<br />Predict: 6.92",
          "Id: 4212<br />Predict: 62.21",
          "Id: 2698<br />Predict: 8.18",
          "Id: 1416<br />Predict: 57.77",
          "Id: 1832<br />Predict: 13.89",
          "Id: 3492<br />Predict: 8.76",
          "Id: 412<br />Predict: 10.92",
          "Id: 921<br />Predict: 23.9",
          "Id: 4845<br />Predict: 8.81",
          "Id: 2021<br />Predict: 67.96",
          "Id: 4230<br />Predict: 2.2",
          "Id: 2263<br />Predict: 17.62",
          "Id: 2256<br />Predict: 24.63",
          "Id: 633<br />Predict: 3.07",
          "Id: 1100<br />Predict: 32.0",
          "Id: 562<br />Predict: 7.45",
          "Id: 4556<br />Predict: 53.06",
          "Id: 389<br />Predict: 1.13",
          "Id: 5019<br />Predict: 45.71",
          "Id: 4861<br />Predict: 135.76",
          "Id: 1228<br />Predict: 32.74",
          "Id: 2508<br />Predict: 49.81",
          "Id: 1801<br />Predict: 30.9",
          "Id: 2303<br />Predict: 51.45",
          "Id: 3165<br />Predict: 7.59",
          "Id: 4207<br />Predict: 5.28",
          "Id: 1144<br />Predict: 1.28",
          "Id: 284<br />Predict: 3.15",
          "Id: 2189<br />Predict: 13.88",
          "Id: 847<br />Predict: 27.05",
          "Id: 3961<br />Predict: 39.37",
          "Id: 313<br />Predict: 4.63",
          "Id: 1475<br />Predict: 27.14",
          "Id: 3879<br />Predict: 30.55",
          "Id: 4311<br />Predict: 10.27",
          "Id: 3252<br />Predict: 11.82",
          "Id: 580<br />Predict: 12.74",
          "Id: 5245<br />Predict: 77.65",
          "Id: 4852<br />Predict: 167.07",
          "Id: 0<br />Predict: 2.72",
          "Id: 1290<br />Predict: 18.67",
          "Id: 2736<br />Predict: 11.87",
          "Id: 451<br />Predict: 4.21",
          "Id: 2352<br />Predict: 7.48",
          "Id: 1459<br />Predict: 30.23",
          "Id: 432<br />Predict: 4.11",
          "Id: 1666<br />Predict: 24.86",
          "Id: 2733<br />Predict: 61.9",
          "Id: 1250<br />Predict: 22.01",
          "Id: 2537<br />Predict: 12.43",
          "Id: 721<br />Predict: 2.38",
          "Id: 4294<br />Predict: 29.01",
          "Id: 3207<br />Predict: 15.19",
          "Id: 669<br />Predict: 8.71",
          "Id: 3363<br />Predict: 76.2",
          "Id: 674<br />Predict: 10.27",
          "Id: 2996<br />Predict: 12.35",
          "Id: 1484<br />Predict: 2.16",
          "Id: 3875<br />Predict: 21.78",
          "Id: 5068<br />Predict: 6.99",
          "Id: 154<br />Predict: 2.95",
          "Id: 2466<br />Predict: 2.79",
          "Id: 2039<br />Predict: 88.92",
          "Id: 1520<br />Predict: 42.38",
          "Id: 3019<br />Predict: 9.95",
          "Id: 522<br />Predict: 10.71",
          "Id: 620<br />Predict: 20.64",
          "Id: 602<br />Predict: 28.27",
          "Id: 4208<br />Predict: 43.3",
          "Id: 1980<br />Predict: 15.74",
          "Id: 2251<br />Predict: 65.92",
          "Id: 3393<br />Predict: 1.05",
          "Id: 5095<br />Predict: 11.22",
          "Id: 938<br />Predict: 26.2",
          "Id: 4263<br />Predict: 7.55",
          "Id: 740<br />Predict: 21.86",
          "Id: 4308<br />Predict: 211.94"
         ],
         "marker": {
          "color": [
           4.16,
           28,
           23.55,
           24.85,
           15.14,
           68.7,
           11.21,
           25.09,
           10.16,
           25.21,
           12.73,
           22.29,
           15,
           33.69,
           2.29,
           19.99,
           31.99,
           7.11,
           12.01,
           41.64,
           13.55,
           12.69,
           11.01,
           3.71,
           106.99,
           5.28,
           68.11,
           3.45,
           4.53,
           12.53,
           25.73,
           5.84,
           3.56,
           13.69,
           8.48,
           7.29,
           4.3,
           24.01,
           71.58,
           8.95,
           17.14,
           4.35,
           25.27,
           3.82,
           11.02,
           98.54,
           40.04,
           7.51,
           5.64,
           36.63,
           23.84,
           19.27,
           22.69,
           5.71,
           51.31,
           7.26,
           50.26,
           26.92,
           69.01,
           14.09,
           4.04,
           5.64,
           4.17,
           3.05,
           7.72,
           49.35,
           36.88,
           3.3,
           2.66,
           5.73,
           21.63,
           90.7,
           42.46,
           68.98,
           45.83,
           3.48,
           45.55,
           2.4,
           184.69,
           35.39,
           18.45,
           5.48,
           16.54,
           68.32,
           6.36,
           10.67,
           22.79,
           17.78,
           4.59,
           28.22,
           54.22,
           11.43,
           2.56,
           136.72,
           3.1,
           82.58,
           12.29,
           25.16,
           5.28,
           42.98,
           24.93,
           42.15,
           54.56,
           63.65,
           10.85,
           18.63,
           11.83,
           10.5,
           7.24,
           6.63,
           25.89,
           43.63,
           7.27,
           36.12,
           24.02,
           12.97,
           27.3,
           139,
           49.79,
           1.51,
           21.09,
           8.28,
           14.23,
           6.92,
           62.21,
           8.18,
           57.77,
           13.89,
           8.76,
           10.92,
           23.9,
           8.81,
           67.96,
           2.2,
           17.62,
           24.63,
           3.07,
           32,
           7.45,
           53.06,
           1.13,
           45.71,
           135.76,
           32.74,
           49.81,
           30.9,
           51.45,
           7.59,
           5.28,
           1.28,
           3.15,
           13.88,
           27.05,
           39.37,
           4.63,
           27.14,
           30.55,
           10.27,
           11.82,
           12.74,
           77.65,
           167.07,
           2.72,
           18.67,
           11.87,
           4.21,
           7.48,
           30.23,
           4.11,
           24.86,
           61.9,
           22.01,
           12.43,
           2.38,
           29.01,
           15.19,
           8.71,
           76.2,
           10.27,
           12.35,
           2.16,
           21.78,
           6.99,
           2.95,
           2.79,
           88.92,
           42.38,
           9.95,
           10.71,
           20.64,
           28.27,
           43.3,
           15.74,
           65.92,
           1.05,
           11.22,
           26.2,
           7.55,
           21.86,
           211.94
          ],
          "coloraxis": "coloraxis",
          "line": {
           "color": "white",
           "width": 0.8
          },
          "opacity": 0.8,
          "size": 10
         },
         "mode": "markers",
         "showlegend": false,
         "type": "scatter",
         "x": [
          2,
          2,
          4,
          4,
          1,
          4,
          3,
          2,
          5,
          1,
          2,
          3,
          1,
          2,
          3,
          2,
          0,
          2,
          5,
          0,
          2,
          3,
          6,
          4,
          4,
          5,
          2,
          6,
          0,
          4,
          4,
          4,
          3,
          1,
          0,
          4,
          1,
          1,
          6,
          1,
          0,
          6,
          2,
          4,
          5,
          2,
          6,
          2,
          1,
          5,
          2,
          2,
          3,
          1,
          1,
          5,
          4,
          3,
          1,
          1,
          1,
          4,
          3,
          1,
          5,
          4,
          1,
          4,
          1,
          5,
          1,
          4,
          4,
          4,
          3,
          3,
          3,
          5,
          0,
          1,
          3,
          0,
          5,
          2,
          6,
          0,
          1,
          6,
          3,
          4,
          5,
          1,
          2,
          1,
          0,
          6,
          1,
          5,
          6,
          3,
          1,
          6,
          4,
          4,
          6,
          3,
          3,
          4,
          1,
          5,
          0,
          2,
          0,
          1,
          1,
          1,
          1,
          5,
          4,
          5,
          1,
          0,
          0,
          0,
          5,
          1,
          0,
          2,
          3,
          6,
          4,
          4,
          5,
          4,
          0,
          3,
          4,
          1,
          0,
          0,
          2,
          6,
          5,
          4,
          2,
          0,
          2,
          1,
          0,
          2,
          5,
          1,
          1,
          0,
          0,
          0,
          2,
          1,
          2,
          5,
          3,
          0,
          3,
          3,
          1,
          2,
          6,
          6,
          4,
          4,
          0,
          2,
          1,
          5,
          0,
          4,
          2,
          4,
          0,
          1,
          0,
          4,
          4,
          3,
          3,
          5,
          5,
          6,
          6,
          2,
          4,
          1,
          1,
          2,
          2,
          0,
          3,
          3,
          3,
          0
         ],
         "y": [
          0.48735342853774954,
          1.240759946637828,
          0.7275361376462611,
          0.5237106086079971,
          0.8176428219608488,
          2.1987363438952783,
          0.7356367616617118,
          0.5999670531179065,
          -0.45444421479507013,
          0.599123942906693,
          0.528465382187066,
          1.1026992399861018,
          0.8747073906684313,
          -0.7249057757723205,
          0.5179220589221802,
          0.7606062990592605,
          -2.9213888218182213,
          0.6599524588761878,
          -1.2326025952815134,
          0.6716830206843154,
          0.2523573822668151,
          0.6558937433575666,
          0.6146127683888153,
          0.10803717804878914,
          2.247666813094354,
          -0.3778529317649983,
          1.7993848535444301,
          -0.22121701588424386,
          -0.5882313674592451,
          0.35211095561549993,
          1.0059879682909214,
          0.3517214625618388,
          0.23560037068047218,
          0.022411318065416585,
          0.09832449615205235,
          0.6794068186292983,
          0.24615926467584073,
          -0.09059856295014937,
          1.8995797816326807,
          0.4100976999252913,
          -0.31073760048355364,
          -0.14158358453771605,
          0.5824176997576469,
          0.22621833854149453,
          -0.7887490469149236,
          2.145816622359899,
          -12.61053876273852,
          0.24774567036337664,
          0.4626338543118451,
          0.048600119013077925,
          -0.03321633463370767,
          0.7606003704249886,
          0.22886698421613416,
          0.02058893661538392,
          0.6615222150930864,
          -0.12439969982150993,
          0.4805563505279447,
          1.1598393859575498,
          3.0370947017195573,
          0.30811918770174823,
          0.2815861571115623,
          0.4476419218540005,
          0.40657537402657873,
          -0.02488898120012111,
          -0.3675574689329464,
          0.9217587452581463,
          0.025354670764562146,
          0.20557613499172836,
          0.15189618466384427,
          -0.42244976636015885,
          0.6604437423273493,
          -2.3985693626067617,
          1.0724052549083019,
          1.6632338135724054,
          0.698352161377381,
          0.14886279309794642,
          1.7827074716281075,
          -0.6991677426286829,
          -14.883698596505441,
          1.6861034192617135,
          0.7618316927345757,
          -1.8608749331661942,
          -0.436338085720674,
          2.146381500204141,
          -0.09395988591315095,
          -1.3732314367913525,
          0.07034216142993199,
          0.44544274747485296,
          0.09833861851979647,
          1.3527790796392676,
          0.2531932378028001,
          0.5946957443133365,
          0.3003197915391156,
          -0.930943488280158,
          -2.8383573666257225,
          0.9543921813525815,
          0.6986365576940168,
          -0.759963841580217,
          0.21542915617511196,
          1.5812184574878794,
          0.5092313589932294,
          0.5777484954203781,
          0.6937689275188703,
          3.093627871291868,
          -1.0041379077131165,
          0.8680473229543895,
          0.8271726093863955,
          0.17636305221163803,
          0.525329017774713,
          -0.5311549783659502,
          -1.8447271809782009,
          0.558923833139907,
          1.144905560109341,
          0.7987641773248548,
          0.7235642538730013,
          0.3361670376032941,
          0.8868343209599513,
          6.062356454617796,
          0.5561126418424173,
          -0.028202873978998084,
          0.0005507142420339084,
          -2.750325295973053,
          -1.5146804366474107,
          -2.254983554902241,
          -1.3981809620253047,
          0.31142131373705806,
          -2.698074222083978,
          0.5751385684488285,
          0.8259951696017394,
          1.6770345288746902,
          0.34850678497518656,
          0.28755576008052297,
          1.761828936063631,
          0.3654880630000876,
          -3.9466262335245745,
          0.9208773812280975,
          0.3519140834924311,
          0.579048281015533,
          -1.5926564260084632,
          2.8317303809209315,
          0.33371345742892744,
          3.082461409123333,
          -6.504128863651395,
          1.4867911337320647,
          1.7063392784088907,
          -5.171286243082388,
          1.344648264702078,
          0.9412093130637751,
          -1.9968609220106175,
          0.09339389230088414,
          -0.037221124297695314,
          0.34384233752574284,
          0.851224148371214,
          -9.064831132631625,
          -2.375569568779001,
          -0.11724306492953657,
          -0.11647838514211631,
          -0.22026287611937412,
          0.4430413836361423,
          -1.250786368946789,
          1.536403423816005,
          12.86350539950195,
          0.3597846404564352,
          0.5470380608419763,
          0.44956718934785705,
          0.025251887179188776,
          1.865679779197404,
          0.7132665874387509,
          0.29372920414073433,
          0.9877368517750489,
          -10.74816840927419,
          0.6561236336907919,
          0.35522046929506884,
          -0.40818140586177654,
          -2.7928590286894135,
          0.7129956089665822,
          0.5063202471764722,
          -1.2919716027452417,
          -1.8743621039732845,
          0.5443733439333439,
          -1.1243276677520004,
          0.8107440038140491,
          0.5527468190435163,
          0.46835182197513736,
          0.5265755730467,
          -0.4538980949176289,
          -0.5819765126120422,
          0.3875770608022681,
          -0.7947330556356619,
          0.7773310864322871,
          0.39685273748036914,
          1.137941999604506,
          0.5624250092761773,
          2.216116603281947,
          0.04251513542001277,
          -1.6285697503124468,
          0.5794367738912503,
          0.5069958421607511,
          0.6091700403407014,
          0.6392152636377019
         ]
        }
       ],
       "layout": {
        "coloraxis": {
         "colorbar": {
          "title": {
           "text": "Predicted"
          }
         },
         "colorscale": [
          [
           0,
           "rgb(52, 55, 54)"
          ],
          [
           0.011541337827238582,
           "rgb(74, 99, 138)"
          ],
          [
           0.022047461312376004,
           "rgb(116, 153, 214)"
          ],
          [
           0.03495885836740329,
           "rgb(162, 188, 213)"
          ],
          [
           0.05109864859066913,
           "rgb(212, 234, 242)"
          ],
          [
           0.06837408768688165,
           "rgb(235, 216, 134)"
          ],
          [
           0.10725998098018374,
           "rgb(255, 204, 83)"
          ],
          [
           0.12811456620215986,
           "rgb(244, 192, 0)"
          ],
          [
           0.19688213727541137,
           "rgb(255, 166, 17)"
          ],
          [
           0.3085673562537409,
           "rgb(255, 123, 38)"
          ],
          [
           1,
           "rgb(255, 77, 7)"
          ]
         ]
        },
        "height": 600,
        "hovermode": "closest",
        "template": {
         "data": {
          "scatter": [
           {
            "type": "scatter"
           }
          ]
         }
        },
        "title": {
         "font": {
          "color": "rgb(50, 50, 50)",
          "family": "Arial",
          "size": 24
         },
         "text": "<b>day</b> - Feature Contribution",
         "x": 0.5,
         "xanchor": "center",
         "y": 0.9,
         "yanchor": "middle"
        },
        "violingap": 0.05,
        "violingroupgap": 0,
        "violinmode": "overlay",
        "width": 900,
        "xaxis": {
         "automargin": true,
         "range": [
          -0.6,
          6.6
         ],
         "title": {
          "font": {
           "color": "rgb(50, 50, 50)",
           "family": "Arial Black",
           "size": 16
          },
          "text": "day"
         },
         "type": "category"
        },
        "yaxis": {
         "automargin": true,
         "title": {
          "font": {
           "color": "rgb(50, 50, 50)",
           "family": "Arial Black",
           "size": 16
          },
          "text": "Contribution"
         }
        }
       }
      }
     },
     "metadata": {},
     "output_type": "display_data"
    }
   ],
   "source": [
    "xpl.plot.contribution_plot(col=\"day\")"
   ]
  },
  {
   "cell_type": "code",
   "execution_count": 24,
   "metadata": {},
   "outputs": [
    {
     "data": {
      "application/vnd.plotly.v1+json": {
       "config": {
        "plotlyServerURL": "https://plot.ly"
       },
       "data": [
        {
         "customdata": [
          "month",
          "Cause",
          "day",
          "airline_country",
          "Country",
          "Aboard"
         ],
         "hovertemplate": "Feature: %{customdata}<br />Contribution: %{x:.4f}<extra></extra>",
         "marker": {
          "color": [
           "rgba(244, 192, 0, 1.0)",
           "rgba(244, 192, 0, 1.0)",
           "rgba(244, 192, 0, 1.0)",
           "rgba(244, 192, 0, 1.0)",
           "rgba(244, 192, 0, 1.0)",
           "rgba(244, 192, 0, 1.0)"
          ],
          "line": {
           "color": "rgba(52, 55, 54, 0.8)",
           "width": 0.5
          }
         },
         "name": "Global",
         "orientation": "h",
         "type": "bar",
         "x": [
          0.0331,
          0.0459,
          0.0461,
          0.0596,
          0.0765,
          0.7389
         ],
         "y": [
          "month",
          "Cause",
          "day",
          "airline_country",
          "Country",
          "Aboard"
         ]
        }
       ],
       "layout": {
        "autosize": false,
        "barmode": "group",
        "height": 500,
        "hovermode": "closest",
        "margin": {
         "b": 50,
         "l": 160,
         "r": 0,
         "t": 80
        },
        "template": {
         "data": {
          "scatter": [
           {
            "type": "scatter"
           }
          ]
         }
        },
        "title": {
         "font": {
          "color": "rgb(50, 50, 50)",
          "family": "Arial",
          "size": 24
         },
         "text": "Features Importance",
         "x": 0.5,
         "xanchor": "center",
         "y": 0.9,
         "yanchor": "middle"
        },
        "width": 900,
        "xaxis": {
         "title": {
          "font": {
           "color": "rgb(50, 50, 50)",
           "family": "Arial Black",
           "size": 16
          },
          "text": "Mean absolute Contribution"
         }
        },
        "yaxis": {
         "automargin": true,
         "dtick": 1,
         "tickmode": "array",
         "ticktext": [
          "month",
          "Cause",
          "day",
          "airline_country",
          "Country",
          "Aboard"
         ],
         "tickvals": [
          "month",
          "Cause",
          "day",
          "airline_country",
          "Country",
          "Aboard"
         ],
         "title": {
          "font": {
           "color": "rgb(50, 50, 50)",
           "family": "Arial Black",
           "size": 16
          }
         }
        }
       }
      }
     },
     "metadata": {},
     "output_type": "display_data"
    }
   ],
   "source": [
    "xpl.plot.features_importance()"
   ]
  },
  {
   "cell_type": "code",
   "execution_count": 25,
   "metadata": {},
   "outputs": [
    {
     "data": {
      "image/png": "[encoded data removed]",
      "text/plain": [
       "<Figure size 576x324 with 3 Axes>"
      ]
     },
     "metadata": {},
     "output_type": "display_data"
    }
   ],
   "source": [
    "explainer = shap.Explainer(model)\n",
    "shap_values = explainer(X)\n",
    "shap.plots.waterfall(shap_values[0])"
   ]
  },
  {
   "cell_type": "code",
   "execution_count": 26,
   "metadata": {},
   "outputs": [
    {
     "data": {
      "application/vnd.plotly.v1+json": {
       "config": {
        "plotlyServerURL": "https://plot.ly"
       },
       "data": [
        {
         "customdata": [
          "<b>Aboard :</b><br />2.0"
         ],
         "hovertemplate": "%{customdata}<br />Contribution: %{x:.4f}<extra></extra>",
         "marker": {
          "color": "rgba(74, 99, 138, 0.7)",
          "line": {
           "color": "rgba(27, 28, 28, 1.0)",
           "width": 0.5
          }
         },
         "orientation": "h",
         "showlegend": false,
         "type": "bar",
         "x": [
          -16.857897831151835
         ],
         "y": [
          "<b>Aboard :</b><br />2.0"
         ]
        },
        {
         "customdata": [
          "<b>Country :</b><br />Virginia"
         ],
         "hovertemplate": "%{customdata}<br />Contribution: %{x:.4f}<extra></extra>",
         "marker": {
          "color": "rgba(74, 99, 138, 0.7)",
          "line": {
           "color": "rgba(27, 28, 28, 1.0)",
           "width": 0.5
          }
         },
         "orientation": "h",
         "showlegend": false,
         "type": "bar",
         "x": [
          -3.036644514955148
         ],
         "y": [
          "<b>Country :</b><br />Virginia"
         ]
        },
        {
         "customdata": [
          "<b>Cause :</b><br />Mechanical Failure"
         ],
         "hovertemplate": "%{customdata}<br />Contribution: %{x:.4f}<extra></extra>",
         "marker": {
          "color": "rgba(74, 99, 138, 0.7)",
          "line": {
           "color": "rgba(27, 28, 28, 1.0)",
           "width": 0.5
          }
         },
         "orientation": "h",
         "showlegend": false,
         "type": "bar",
         "x": [
          -1.623820142305765
         ],
         "y": [
          "<b>Cause :</b><br />Mechanical Failure"
         ]
        },
        {
         "customdata": [
          "<b>airline_country :</b><br />United States of America"
         ],
         "hovertemplate": "%{customdata}<br />Contribution: %{x:.4f}<extra></extra>",
         "marker": {
          "color": "rgba(74, 99, 138, 0.7)",
          "line": {
           "color": "rgba(27, 28, 28, 1.0)",
           "width": 0.5
          }
         },
         "orientation": "h",
         "showlegend": false,
         "type": "bar",
         "x": [
          -0.29364419416966425
         ],
         "y": [
          "<b>airline_country :</b><br />United States of America"
         ]
        },
        {
         "customdata": [
          "<b>month :</b><br />9"
         ],
         "hovertemplate": "%{customdata}<br />Contribution: %{x:.4f}<extra></extra>",
         "marker": {
          "color": "rgba(74, 99, 138, 0.7)",
          "line": {
           "color": "rgba(27, 28, 28, 1.0)",
           "width": 0.5
          }
         },
         "orientation": "h",
         "showlegend": false,
         "type": "bar",
         "x": [
          -0.002403937925375238
         ],
         "y": [
          "<b>month :</b><br />9"
         ]
        },
        {
         "customdata": [
          "<b>day :</b><br />3"
         ],
         "hovertemplate": "%{customdata}<br />Contribution: %{x:.4f}<extra></extra>",
         "marker": {
          "color": "rgba(244, 192, 0, 1.0)",
          "line": {
           "color": "rgba(52, 55, 54, 0.8)",
           "width": 0.5
          }
         },
         "orientation": "h",
         "showlegend": false,
         "type": "bar",
         "x": [
          0.3597846404564352
         ],
         "y": [
          "<b>day :</b><br />3"
         ]
        }
       ],
       "layout": {
        "barmode": "group",
        "height": 550,
        "hovermode": "closest",
        "margin": {
         "b": 70,
         "l": 150,
         "r": 20,
         "t": 95
        },
        "template": {
         "data": {
          "scatter": [
           {
            "type": "scatter"
           }
          ]
         }
        },
        "title": {
         "font": {
          "color": "rgb(50, 50, 50)",
          "family": "Arial",
          "size": 24
         },
         "text": "Local Explanation - Id: <b>0</b><br><sup>Predict: <b>2.72</b></sup>",
         "x": 0.5,
         "xanchor": "center",
         "y": 0.9,
         "yanchor": "middle"
        },
        "width": 900,
        "xaxis": {
         "title": {
          "font": {
           "color": "rgb(50, 50, 50)",
           "family": "Arial Black",
           "size": 16
          },
          "text": "Contribution"
         }
        },
        "yaxis": {
         "automargin": true,
         "dtick": 1,
         "title": {
          "font": {
           "color": "rgb(50, 50, 50)",
           "family": "Arial Black",
           "size": 16
          }
         },
         "type": "category"
        }
       }
      }
     },
     "metadata": {},
     "output_type": "display_data"
    }
   ],
   "source": [
    "xpl.plot.local_plot(index=0)"
   ]
  },
  {
   "cell_type": "code",
   "execution_count": 27,
   "metadata": {},
   "outputs": [
    {
     "data": {
      "text/html": [
       "<style>#sk-container-id-1 {color: black;}#sk-container-id-1 pre{padding: 0;}#sk-container-id-1 div.sk-toggleable {background-color: white;}#sk-container-id-1 label.sk-toggleable__label {cursor: pointer;display: block;width: 100%;margin-bottom: 0;padding: 0.3em;box-sizing: border-box;text-align: center;}#sk-container-id-1 label.sk-toggleable__label-arrow:before {content: \"▸\";float: left;margin-right: 0.25em;color: #696969;}#sk-container-id-1 label.sk-toggleable__label-arrow:hover:before {color: black;}#sk-container-id-1 div.sk-estimator:hover label.sk-toggleable__label-arrow:before {color: black;}#sk-container-id-1 div.sk-toggleable__content {max-height: 0;max-width: 0;overflow: hidden;text-align: left;background-color: #f0f8ff;}#sk-container-id-1 div.sk-toggleable__content pre {margin: 0.2em;color: black;border-radius: 0.25em;background-color: #f0f8ff;}#sk-container-id-1 input.sk-toggleable__control:checked~div.sk-toggleable__content {max-height: 200px;max-width: 100%;overflow: auto;}#sk-container-id-1 input.sk-toggleable__control:checked~label.sk-toggleable__label-arrow:before {content: \"▾\";}#sk-container-id-1 div.sk-estimator input.sk-toggleable__control:checked~label.sk-toggleable__label {background-color: #d4ebff;}#sk-container-id-1 div.sk-label input.sk-toggleable__control:checked~label.sk-toggleable__label {background-color: #d4ebff;}#sk-container-id-1 input.sk-hidden--visually {border: 0;clip: rect(1px 1px 1px 1px);clip: rect(1px, 1px, 1px, 1px);height: 1px;margin: -1px;overflow: hidden;padding: 0;position: absolute;width: 1px;}#sk-container-id-1 div.sk-estimator {font-family: monospace;background-color: #f0f8ff;border: 1px dotted black;border-radius: 0.25em;box-sizing: border-box;margin-bottom: 0.5em;}#sk-container-id-1 div.sk-estimator:hover {background-color: #d4ebff;}#sk-container-id-1 div.sk-parallel-item::after {content: \"\";width: 100%;border-bottom: 1px solid gray;flex-grow: 1;}#sk-container-id-1 div.sk-label:hover label.sk-toggleable__label {background-color: #d4ebff;}#sk-container-id-1 div.sk-serial::before {content: \"\";position: absolute;border-left: 1px solid gray;box-sizing: border-box;top: 0;bottom: 0;left: 50%;z-index: 0;}#sk-container-id-1 div.sk-serial {display: flex;flex-direction: column;align-items: center;background-color: white;padding-right: 0.2em;padding-left: 0.2em;position: relative;}#sk-container-id-1 div.sk-item {position: relative;z-index: 1;}#sk-container-id-1 div.sk-parallel {display: flex;align-items: stretch;justify-content: center;background-color: white;position: relative;}#sk-container-id-1 div.sk-item::before, #sk-container-id-1 div.sk-parallel-item::before {content: \"\";position: absolute;border-left: 1px solid gray;box-sizing: border-box;top: 0;bottom: 0;left: 50%;z-index: -1;}#sk-container-id-1 div.sk-parallel-item {display: flex;flex-direction: column;z-index: 1;position: relative;background-color: white;}#sk-container-id-1 div.sk-parallel-item:first-child::after {align-self: flex-end;width: 50%;}#sk-container-id-1 div.sk-parallel-item:last-child::after {align-self: flex-start;width: 50%;}#sk-container-id-1 div.sk-parallel-item:only-child::after {width: 0;}#sk-container-id-1 div.sk-dashed-wrapped {border: 1px dashed gray;margin: 0 0.4em 0.5em 0.4em;box-sizing: border-box;padding-bottom: 0.4em;background-color: white;}#sk-container-id-1 div.sk-label label {font-family: monospace;font-weight: bold;display: inline-block;line-height: 1.2em;}#sk-container-id-1 div.sk-label-container {text-align: center;}#sk-container-id-1 div.sk-container {/* jupyter's `normalize.less` sets `[hidden] { display: none; }` but bootstrap.min.css set `[hidden] { display: none !important; }` so we also need the `!important` here to be able to override the default hidden behavior on the sphinx rendered scikit-learn.org. See: https://github.com/scikit-learn/scikit-learn/issues/21755 */display: inline-block !important;position: relative;}#sk-container-id-1 div.sk-text-repr-fallback {display: none;}</style><div id=\"sk-container-id-1\" class=\"sk-top-container\"><div class=\"sk-text-repr-fallback\"><pre>LGBMRegressor()</pre><b>In a Jupyter environment, please rerun this cell to show the HTML representation or trust the notebook. <br />On GitHub, the HTML representation is unable to render, please try loading this page with nbviewer.org.</b></div><div class=\"sk-container\" hidden><div class=\"sk-item\"><div class=\"sk-estimator sk-toggleable\"><input class=\"sk-toggleable__control sk-hidden--visually\" id=\"sk-estimator-id-1\" type=\"checkbox\" checked><label for=\"sk-estimator-id-1\" class=\"sk-toggleable__label sk-toggleable__label-arrow\">LGBMRegressor</label><div class=\"sk-toggleable__content\"><pre>LGBMRegressor()</pre></div></div></div></div></div>"
      ],
      "text/plain": [
       "LGBMRegressor()"
      ]
     },
     "execution_count": 27,
     "metadata": {},
     "output_type": "execute_result"
    }
   ],
   "source": [
    "model_lgb = lightgbm.LGBMRegressor()\n",
    "model_lgb.fit(Xtrain, ytrain, verbose=False)"
   ]
  },
  {
   "cell_type": "code",
   "execution_count": 28,
   "metadata": {},
   "outputs": [],
   "source": [
    "xpl_lgb = SmartExplainer(model=model_lgb,preprocessing=encoder)\n",
    "\n",
    "xpl_lgb.compile(\n",
    "    x=Xtest,    \n",
    "    y_target = ytest\n",
    ")"
   ]
  },
  {
   "cell_type": "code",
   "execution_count": 29,
   "metadata": {},
   "outputs": [
    {
     "data": {
      "application/vnd.plotly.v1+json": {
       "config": {
        "plotlyServerURL": "https://plot.ly"
       },
       "data": [
        {
         "line": {
          "color": "rgba(117, 152, 189, 0.9)"
         },
         "marker": {
          "line": {
           "color": "white",
           "width": 0.8
          },
          "opacity": 0.8,
          "size": 8
         },
         "meanline": {
          "visible": true
         },
         "scalemode": "count",
         "showlegend": false,
         "type": "violin",
         "x": [
          "Canada",
          "Canada"
         ],
         "y": [
          -0.1158465650591046,
          -0.12485197544586128
         ]
        },
        {
         "line": {
          "color": "rgba(117, 152, 189, 0.9)"
         },
         "marker": {
          "line": {
           "color": "white",
           "width": 0.8
          },
          "opacity": 0.8,
          "size": 8
         },
         "meanline": {
          "visible": true
         },
         "scalemode": "count",
         "showlegend": false,
         "type": "violin",
         "x": [
          "China",
          "China",
          "China",
          "China",
          "China",
          "China",
          "China",
          "China",
          "China",
          "China",
          "China",
          "China",
          "China",
          "China",
          "China",
          "China",
          "China",
          "China",
          "China",
          "China"
         ],
         "y": [
          -0.08755241539606703,
          0.28194849975727415,
          -0.043878795506552104,
          -0.13877551039994343,
          -0.092052321818971,
          0.11850163197165947,
          -0.09449977987366132,
          -0.08277880021536221,
          -0.09683109344271226,
          -0.09184597476161721,
          -0.271223594689456,
          0.2921084685057979,
          -0.08977518590033125,
          0.1569356490537338,
          -0.051820438723696155,
          -0.05188264739242297,
          -0.1532818834537517,
          -0.2236782510061318,
          -0.06352180329061453,
          0.23016571980354725
         ]
        },
        {
         "line": {
          "color": "rgba(117, 152, 189, 0.9)"
         },
         "marker": {
          "line": {
           "color": "white",
           "width": 0.8
          },
          "opacity": 0.8,
          "size": 8
         },
         "meanline": {
          "visible": true
         },
         "scalemode": "count",
         "showlegend": false,
         "type": "violin",
         "x": [
          "France",
          "France",
          "France",
          "France",
          "France",
          "France",
          "France",
          "France",
          "France",
          "France",
          "France",
          "France",
          "France",
          "France",
          "France",
          "France",
          "France"
         ],
         "y": [
          -0.24445932405531826,
          0.10931125413980851,
          -0.11360464003601638,
          0.09279148333726808,
          0.29378677593136365,
          0.22432799902741307,
          -0.3401263679145823,
          0.3313026645961124,
          0.037973001131359305,
          0.03429096457627054,
          -0.06399368853014183,
          -0.37720926441680813,
          0.11657123783492974,
          -0.03816129891232191,
          -0.06490617938108183,
          0.2173576957893072,
          0.04586663451538065
         ]
        },
        {
         "line": {
          "color": "rgba(117, 152, 189, 0.9)"
         },
         "marker": {
          "line": {
           "color": "white",
           "width": 0.8
          },
          "opacity": 0.8,
          "size": 8
         },
         "meanline": {
          "visible": true
         },
         "scalemode": "count",
         "showlegend": false,
         "type": "violin",
         "x": [
          "Russia",
          "Russia",
          "Russia",
          "Russia",
          "Russia",
          "Russia"
         ],
         "y": [
          -0.38350195595193537,
          -0.04768944073000991,
          -0.10550981113663224,
          -0.3309893998130818,
          -0.012579420800554464,
          0.2749267050202231
         ]
        },
        {
         "line": {
          "color": "rgba(117, 152, 189, 0.9)"
         },
         "marker": {
          "line": {
           "color": "white",
           "width": 0.8
          },
          "opacity": 0.8,
          "size": 8
         },
         "meanline": {
          "visible": true
         },
         "scalemode": "count",
         "showlegend": false,
         "type": "violin",
         "x": [
          "United Kingdom",
          "United Kingdom",
          "United Kingdom",
          "United Kingdom",
          "United Kingdom",
          "United Kingdom",
          "United Kingdom",
          "United Kingdom",
          "United Kingdom",
          "United Kingdom",
          "United Kingdom",
          "United Kingdom",
          "United Kingdom",
          "United Kingdom",
          "United Kingdom",
          "United Kingdom",
          "United Kingdom",
          "United Kingdom"
         ],
         "y": [
          -0.06214541160399296,
          0.016089584000933466,
          -0.021910007893203447,
          -0.003382002312104875,
          -0.1909275985939151,
          -0.05936746872844237,
          -0.003389060130993913,
          0.15379768092030477,
          -0.13920919514545443,
          -0.056124378112480125,
          -0.13746543520589238,
          -0.023368800586925188,
          -0.07358010677044584,
          -0.06107081801918514,
          0.01672255438262887,
          -0.20162921879021306,
          0.01498266616968239,
          0.07793103974842822
         ]
        },
        {
         "line": {
          "color": "rgba(117, 152, 189, 0.9)"
         },
         "marker": {
          "line": {
           "color": "white",
           "width": 0.8
          },
          "opacity": 0.8,
          "size": 8
         },
         "meanline": {
          "visible": true
         },
         "scalemode": "count",
         "showlegend": false,
         "type": "violin",
         "x": [
          "United States<br />of America",
          "United States<br />of America",
          "United States<br />of America",
          "United States<br />of America",
          "United States<br />of America",
          "United States<br />of America",
          "United States<br />of America",
          "United States<br />of America",
          "United States<br />of America",
          "United States<br />of America",
          "United States<br />of America",
          "United States<br />of America",
          "United States<br />of America",
          "United States<br />of America",
          "United States<br />of America",
          "United States<br />of America",
          "United States<br />of America",
          "United States<br />of America",
          "United States<br />of America",
          "United States<br />of America",
          "United States<br />of America",
          "United States<br />of America",
          "United States<br />of America",
          "United States<br />of America",
          "United States<br />of America",
          "United States<br />of America",
          "United States<br />of America",
          "United States<br />of America",
          "United States<br />of America",
          "United States<br />of America",
          "United States<br />of America",
          "United States<br />of America",
          "United States<br />of America",
          "United States<br />of America",
          "United States<br />of America",
          "United States<br />of America",
          "United States<br />of America",
          "United States<br />of America",
          "United States<br />of America",
          "United States<br />of America",
          "United States<br />of America",
          "United States<br />of America",
          "United States<br />of America",
          "United States<br />of America",
          "United States<br />of America",
          "United States<br />of America",
          "United States<br />of America",
          "United States<br />of America",
          "United States<br />of America",
          "United States<br />of America",
          "United States<br />of America",
          "United States<br />of America",
          "United States<br />of America",
          "United States<br />of America",
          "United States<br />of America",
          "United States<br />of America",
          "United States<br />of America",
          "United States<br />of America",
          "United States<br />of America",
          "United States<br />of America",
          "United States<br />of America",
          "United States<br />of America",
          "United States<br />of America",
          "United States<br />of America",
          "United States<br />of America",
          "United States<br />of America",
          "United States<br />of America",
          "United States<br />of America",
          "United States<br />of America",
          "United States<br />of America",
          "United States<br />of America",
          "United States<br />of America",
          "United States<br />of America",
          "United States<br />of America",
          "United States<br />of America",
          "United States<br />of America",
          "United States<br />of America",
          "United States<br />of America",
          "United States<br />of America",
          "United States<br />of America",
          "United States<br />of America",
          "United States<br />of America",
          "United States<br />of America",
          "United States<br />of America",
          "United States<br />of America",
          "United States<br />of America",
          "United States<br />of America",
          "United States<br />of America",
          "United States<br />of America",
          "United States<br />of America",
          "United States<br />of America",
          "United States<br />of America",
          "United States<br />of America",
          "United States<br />of America",
          "United States<br />of America",
          "United States<br />of America",
          "United States<br />of America",
          "United States<br />of America",
          "United States<br />of America",
          "United States<br />of America",
          "United States<br />of America",
          "United States<br />of America",
          "United States<br />of America",
          "United States<br />of America",
          "United States<br />of America",
          "United States<br />of America",
          "United States<br />of America",
          "United States<br />of America",
          "United States<br />of America",
          "United States<br />of America",
          "United States<br />of America",
          "United States<br />of America",
          "United States<br />of America",
          "United States<br />of America",
          "United States<br />of America",
          "United States<br />of America",
          "United States<br />of America",
          "United States<br />of America",
          "United States<br />of America",
          "United States<br />of America",
          "United States<br />of America",
          "United States<br />of America",
          "United States<br />of America",
          "United States<br />of America",
          "United States<br />of America",
          "United States<br />of America",
          "United States<br />of America",
          "United States<br />of America",
          "United States<br />of America",
          "United States<br />of America",
          "United States<br />of America",
          "United States<br />of America",
          "United States<br />of America",
          "United States<br />of America",
          "United States<br />of America",
          "United States<br />of America",
          "United States<br />of America"
         ],
         "y": [
          -0.017801096618589057,
          0.009865622514172404,
          0.04043796697337144,
          0.02390035249045107,
          0.12543688043704437,
          -0.0713149811798807,
          -0.0021822869556346065,
          0.013618402017073402,
          -0.03036436988080046,
          -0.07627277894022536,
          -0.020956138951941303,
          0.02387282619577252,
          0.004459218204143835,
          -0.09554391993381794,
          -0.023642274842940025,
          -0.015282379527198195,
          -0.0008391279890487564,
          -0.11038168501105125,
          0.028781788090524354,
          0.0021622069300868047,
          -0.025045214346130416,
          -0.0224798399427693,
          0.003965586101461057,
          0.00928692195559293,
          -0.02092390497098033,
          -0.020358305172304005,
          -0.06394742305606414,
          -0.017971737669258442,
          0.011276049527790571,
          0.07774303112869381,
          -0.006434467644735334,
          -0.037041712679321416,
          -0.018378834533774414,
          0.06822167402241713,
          -0.024761342290990463,
          0.026651188597387007,
          0.006559614896832563,
          0.010234114227986852,
          0.10104312500045165,
          -0.11264202120199465,
          -0.12085381308057261,
          0.010127308982490495,
          0.06067098382696061,
          -0.006273414244407478,
          0.0005446748233401862,
          -0.014236306697636151,
          -0.022691234030422832,
          0.017743920428366228,
          -0.04100122244294842,
          0.06913093788231178,
          0.0645966858963757,
          0.1246337525571779,
          0.08552133941494672,
          -0.036167633240060025,
          -0.0048814193604829696,
          -0.11185503606837068,
          -0.013551918796049013,
          0.02834243861626501,
          -0.027061265807945958,
          0.008623385141343046,
          0.018242631432242508,
          0.003945999373421726,
          0.056755652276027344,
          -0.0009413651339152673,
          0.04294711456159477,
          0.027040289305987158,
          -0.01983728492569973,
          -0.009919313426384961,
          -0.06510547312740003,
          0.05005227943510432,
          -0.0445398097963418,
          -0.059512400397346926,
          -0.007185573686258332,
          -0.004253489535084749,
          0.0163201077833355,
          0.04743442697740543,
          0.05982709835058888,
          0.050418547462165404,
          -0.034312166695643666,
          0.004203156535775991,
          0.032528511919239125,
          -0.009422732947774319,
          -0.03151766396190763,
          0.0019056237771014018,
          0.030732534573383576,
          -0.06538603908001436,
          -0.06165874356181754,
          -0.019716021531926593,
          0.12365600252012658,
          0.005389972426469783,
          -0.00968518701820037,
          0.006124259075667669,
          -0.009400908502413917,
          0.03733503062142655,
          0.02533055311310807,
          0.06297468073409992,
          0.11387815301814407,
          -0.09838839941096306,
          0.0349457685770575,
          0.04782886457939768,
          0.041194863995478614,
          -0.024238123927733238,
          -0.08259969162961076,
          -0.10373547958061417,
          0.023516241427158923,
          -0.011384376655158684,
          -0.014295082347822468,
          0.06047878144812598,
          0.005513892195001071,
          0.013717003291404226,
          -0.02906366830410708,
          0.0035013252066900605,
          0.07012001785412703,
          -0.008175244428092799,
          -0.07183621888873669,
          0.012488997893783665,
          0.11034784288543409,
          0.02231372569109431,
          0.07845009962813355,
          0.07226622584860792,
          -0.02010796112104264,
          -0.019724524844461175,
          0.014252971594570254,
          -0.06960126257851265,
          -0.003745574443437633,
          -0.012469219624038139,
          -0.02882102805223157,
          -0.09405927214747925,
          0.0036193596242715276,
          0.010504660578529099,
          -0.012186305557272653,
          -0.002626209060531218,
          -0.022021417124440543,
          -0.1495070579381149,
          0.004143536262576156,
          0.05123389263641043,
          -0.06080186186837665
         ]
        },
        {
         "hovertemplate": "Country=Germany<br>airline_country=%{x}<br>Shap interaction value=%{y}<extra></extra>",
         "legendgroup": "Germany",
         "marker": {
          "color": "rgb(133, 92, 117)",
          "line": {
           "color": "white",
           "width": 0.8
          },
          "opacity": 0.8,
          "size": 8,
          "symbol": "circle"
         },
         "mode": "markers",
         "name": "Germany",
         "orientation": "v",
         "showlegend": true,
         "type": "scatter",
         "x": [
          "United States<br<br />/>of America",
          "United States<br<br />/>of America",
          "United States<br<br />/>of America",
          "United States<br<br />/>of America",
          "United States<br<br />/>of America",
          "United States<br<br />/>of America",
          "United States<br<br />/>of America",
          "United States<br<br />/>of America",
          "United States<br<br />/>of America",
          "United States<br<br />/>of America",
          "United States<br<br />/>of America"
         ],
         "xaxis": "x",
         "y": [
          -0.017801096618589057,
          -0.02092390497098033,
          -0.06394742305606414,
          -0.014236306697636151,
          -0.036167633240060025,
          -0.01983728492569973,
          -0.06165874356181754,
          -0.024238123927733238,
          -0.02906366830410708,
          -0.012469219624038139,
          -0.06080186186837665
         ],
         "yaxis": "y"
        },
        {
         "hovertemplate": "Country=South Vietnam<br>airline_country=%{x}<br>Shap interaction value=%{y}<extra></extra>",
         "legendgroup": "South Vietnam",
         "marker": {
          "color": "rgb(217, 175, 107)",
          "line": {
           "color": "white",
           "width": 0.8
          },
          "opacity": 0.8,
          "size": 8,
          "symbol": "circle"
         },
         "mode": "markers",
         "name": "South Vietnam",
         "orientation": "v",
         "showlegend": true,
         "type": "scatter",
         "x": [
          "United States<br<br />/>of America",
          "United States<br<br />/>of America",
          "United States<br<br />/>of America",
          "United States<br<br />/>of America",
          "United States<br<br />/>of America",
          "United States<br<br />/>of America",
          "United States<br<br />/>of America",
          "United States<br<br />/>of America"
         ],
         "xaxis": "x",
         "y": [
          0.009865622514172404,
          0.12543688043704437,
          0.006559614896832563,
          0.003945999373421726,
          0.12365600252012658,
          0.005389972426469783,
          -0.00968518701820037,
          0.11387815301814407
         ],
         "yaxis": "y"
        },
        {
         "hovertemplate": "Country=Texas<br>airline_country=%{x}<br>Shap interaction value=%{y}<extra></extra>",
         "legendgroup": "Texas",
         "marker": {
          "color": "rgb(175, 100, 88)",
          "line": {
           "color": "white",
           "width": 0.8
          },
          "opacity": 0.8,
          "size": 8,
          "symbol": "circle"
         },
         "mode": "markers",
         "name": "Texas",
         "orientation": "v",
         "showlegend": true,
         "type": "scatter",
         "x": [
          "United States<br<br />/>of America",
          "United States<br<br />/>of America"
         ],
         "xaxis": "x",
         "y": [
          0.04043796697337144,
          0.06047878144812598
         ],
         "yaxis": "y"
        },
        {
         "hovertemplate": "Country=Okinawa<br>airline_country=%{x}<br>Shap interaction value=%{y}<extra></extra>",
         "legendgroup": "Okinawa",
         "marker": {
          "color": "rgb(115, 111, 76)",
          "line": {
           "color": "white",
           "width": 0.8
          },
          "opacity": 0.8,
          "size": 8,
          "symbol": "circle"
         },
         "mode": "markers",
         "name": "Okinawa",
         "orientation": "v",
         "showlegend": true,
         "type": "scatter",
         "x": [
          "United States<br<br />/>of America"
         ],
         "xaxis": "x",
         "y": [
          0.02390035249045107
         ],
         "yaxis": "y"
        },
        {
         "hovertemplate": "Country=France<br>airline_country=%{x}<br>Shap interaction value=%{y}<extra></extra>",
         "legendgroup": "France",
         "marker": {
          "color": "rgb(82, 106, 131)",
          "line": {
           "color": "white",
           "width": 0.8
          },
          "opacity": 0.8,
          "size": 8,
          "symbol": "circle"
         },
         "mode": "markers",
         "name": "France",
         "orientation": "v",
         "showlegend": true,
         "type": "scatter",
         "x": [
          "France",
          "France",
          "France",
          "France",
          "United States<br<br />/>of America",
          "France",
          "France",
          "United States<br<br />/>of America",
          "France",
          "United States<br<br />/>of America"
         ],
         "xaxis": "x",
         "y": [
          -0.24445932405531826,
          -0.11360464003601638,
          0.29378677593136365,
          0.22432799902741307,
          0.06913093788231178,
          -0.06399368853014183,
          -0.06490617938108183,
          0.07845009962813355,
          0.2173576957893072,
          0.05123389263641043
         ],
         "yaxis": "y"
        },
        {
         "hovertemplate": "Country=Laos<br>airline_country=%{x}<br>Shap interaction value=%{y}<extra></extra>",
         "legendgroup": "Laos",
         "marker": {
          "color": "rgb(98, 83, 119)",
          "line": {
           "color": "white",
           "width": 0.8
          },
          "opacity": 0.8,
          "size": 8,
          "symbol": "circle"
         },
         "mode": "markers",
         "name": "Laos",
         "orientation": "v",
         "showlegend": true,
         "type": "scatter",
         "x": [
          "United States<br<br />/>of America",
          "United States<br<br />/>of America"
         ],
         "xaxis": "x",
         "y": [
          -0.0713149811798807,
          -0.07183621888873669
         ],
         "yaxis": "y"
        },
        {
         "hovertemplate": "Country=UK<br>airline_country=%{x}<br>Shap interaction value=%{y}<extra></extra>",
         "legendgroup": "UK",
         "marker": {
          "color": "rgb(104, 133, 92)",
          "line": {
           "color": "white",
           "width": 0.8
          },
          "opacity": 0.8,
          "size": 8,
          "symbol": "circle"
         },
         "mode": "markers",
         "name": "UK",
         "orientation": "v",
         "showlegend": true,
         "type": "scatter",
         "x": [
          "United Kingdom"
         ],
         "xaxis": "x",
         "y": [
          -0.06214541160399296
         ],
         "yaxis": "y"
        },
        {
         "hovertemplate": "Country=Switzerland<br>airline_country=%{x}<br>Shap interaction value=%{y}<extra></extra>",
         "legendgroup": "Switzerland",
         "marker": {
          "color": "rgb(156, 156, 94)",
          "line": {
           "color": "white",
           "width": 0.8
          },
          "opacity": 0.8,
          "size": 8,
          "symbol": "circle"
         },
         "mode": "markers",
         "name": "Switzerland",
         "orientation": "v",
         "showlegend": true,
         "type": "scatter",
         "x": [
          "United States<br<br />/>of America"
         ],
         "xaxis": "x",
         "y": [
          -0.0021822869556346065
         ],
         "yaxis": "y"
        },
        {
         "hovertemplate": "Country=North Korea<br>airline_country=%{x}<br>Shap interaction value=%{y}<extra></extra>",
         "legendgroup": "North Korea",
         "marker": {
          "color": "rgb(160, 97, 119)",
          "line": {
           "color": "white",
           "width": 0.8
          },
          "opacity": 0.8,
          "size": 8,
          "symbol": "circle"
         },
         "mode": "markers",
         "name": "North Korea",
         "orientation": "v",
         "showlegend": true,
         "type": "scatter",
         "x": [
          "United States<br<br />/>of America"
         ],
         "xaxis": "x",
         "y": [
          0.013618402017073402
         ],
         "yaxis": "y"
        },
        {
         "hovertemplate": "Country=Brazil<br>airline_country=%{x}<br>Shap interaction value=%{y}<extra></extra>",
         "legendgroup": "Brazil",
         "marker": {
          "color": "rgb(140, 120, 93)",
          "line": {
           "color": "white",
           "width": 0.8
          },
          "opacity": 0.8,
          "size": 8,
          "symbol": "circle"
         },
         "mode": "markers",
         "name": "Brazil",
         "orientation": "v",
         "showlegend": true,
         "type": "scatter",
         "x": [
          "United Kingdom",
          "United States<br<br />/>of America"
         ],
         "xaxis": "x",
         "y": [
          0.016089584000933466,
          0.0036193596242715276
         ],
         "yaxis": "y"
        },
        {
         "hovertemplate": "Country=Puerto Rico<br>airline_country=%{x}<br>Shap interaction value=%{y}<extra></extra>",
         "legendgroup": "Puerto Rico",
         "marker": {
          "color": "rgb(124, 124, 124)",
          "line": {
           "color": "white",
           "width": 0.8
          },
          "opacity": 0.8,
          "size": 8,
          "symbol": "circle"
         },
         "mode": "markers",
         "name": "Puerto Rico",
         "orientation": "v",
         "showlegend": true,
         "type": "scatter",
         "x": [
          "United States<br<br />/>of America",
          "United States<br<br />/>of America",
          "United States<br<br />/>of America",
          "United States<br<br />/>of America"
         ],
         "xaxis": "x",
         "y": [
          -0.03036436988080046,
          -0.12085381308057261,
          -0.03151766396190763,
          -0.06538603908001436
         ],
         "yaxis": "y"
        },
        {
         "hovertemplate": "Country=New Jersey<br>airline_country=%{x}<br>Shap interaction value=%{y}<extra></extra>",
         "legendgroup": "New Jersey",
         "marker": {
          "color": "rgb(133, 92, 117)",
          "line": {
           "color": "white",
           "width": 0.8
          },
          "opacity": 0.8,
          "size": 8,
          "symbol": "circle"
         },
         "mode": "markers",
         "name": "New Jersey",
         "orientation": "v",
         "showlegend": true,
         "type": "scatter",
         "x": [
          "United States<br<br />/>of America"
         ],
         "xaxis": "x",
         "y": [
          -0.07627277894022536
         ],
         "yaxis": "y"
        },
        {
         "hovertemplate": "Country=England<br>airline_country=%{x}<br>Shap interaction value=%{y}<extra></extra>",
         "legendgroup": "England",
         "marker": {
          "color": "rgb(217, 175, 107)",
          "line": {
           "color": "white",
           "width": 0.8
          },
          "opacity": 0.8,
          "size": 8,
          "symbol": "circle"
         },
         "mode": "markers",
         "name": "England",
         "orientation": "v",
         "showlegend": true,
         "type": "scatter",
         "x": [
          "United States<br<br />/>of America",
          "United Kingdom",
          "United Kingdom",
          "United Kingdom",
          "United Kingdom",
          "United States<br<br />/>of America"
         ],
         "xaxis": "x",
         "y": [
          -0.020956138951941303,
          -0.021910007893203447,
          -0.003382002312104875,
          -0.13920919514545443,
          -0.06107081801918514,
          0.04782886457939768
         ],
         "yaxis": "y"
        },
        {
         "hovertemplate": "Country=Colorado<br>airline_country=%{x}<br>Shap interaction value=%{y}<extra></extra>",
         "legendgroup": "Colorado",
         "marker": {
          "color": "rgb(175, 100, 88)",
          "line": {
           "color": "white",
           "width": 0.8
          },
          "opacity": 0.8,
          "size": 8,
          "symbol": "circle"
         },
         "mode": "markers",
         "name": "Colorado",
         "orientation": "v",
         "showlegend": true,
         "type": "scatter",
         "x": [
          "United States<br<br />/>of America"
         ],
         "xaxis": "x",
         "y": [
          0.02387282619577252
         ],
         "yaxis": "y"
        },
        {
         "hovertemplate": "Country=Maryland<br>airline_country=%{x}<br>Shap interaction value=%{y}<extra></extra>",
         "legendgroup": "Maryland",
         "marker": {
          "color": "rgb(115, 111, 76)",
          "line": {
           "color": "white",
           "width": 0.8
          },
          "opacity": 0.8,
          "size": 8,
          "symbol": "circle"
         },
         "mode": "markers",
         "name": "Maryland",
         "orientation": "v",
         "showlegend": true,
         "type": "scatter",
         "x": [
          "United States<br<br />/>of America",
          "United States<br<br />/>of America",
          "United States<br<br />/>of America"
         ],
         "xaxis": "x",
         "y": [
          0.004459218204143835,
          0.00928692195559293,
          0.030732534573383576
         ],
         "yaxis": "y"
        },
        {
         "hovertemplate": "Country=Kentucky<br>airline_country=%{x}<br>Shap interaction value=%{y}<extra></extra>",
         "legendgroup": "Kentucky",
         "marker": {
          "color": "rgb(82, 106, 131)",
          "line": {
           "color": "white",
           "width": 0.8
          },
          "opacity": 0.8,
          "size": 8,
          "symbol": "circle"
         },
         "mode": "markers",
         "name": "Kentucky",
         "orientation": "v",
         "showlegend": true,
         "type": "scatter",
         "x": [
          "United States<br<br />/>of America",
          "United States<br<br />/>of America",
          "United States<br<br />/>of America"
         ],
         "xaxis": "x",
         "y": [
          -0.09554391993381794,
          -0.024761342290990463,
          0.010504660578529099
         ],
         "yaxis": "y"
        },
        {
         "hovertemplate": "Country=North Carolina<br>airline_country=%{x}<br>Shap interaction value=%{y}<extra></extra>",
         "legendgroup": "North Carolina",
         "marker": {
          "color": "rgb(98, 83, 119)",
          "line": {
           "color": "white",
           "width": 0.8
          },
          "opacity": 0.8,
          "size": 8,
          "symbol": "circle"
         },
         "mode": "markers",
         "name": "North Carolina",
         "orientation": "v",
         "showlegend": true,
         "type": "scatter",
         "x": [
          "United States<br<br />/>of America",
          "United States<br<br />/>of America"
         ],
         "xaxis": "x",
         "y": [
          -0.023642274842940025,
          -0.025045214346130416
         ],
         "yaxis": "y"
        },
        {
         "hovertemplate": "Country=Portugal<br>airline_country=%{x}<br>Shap interaction value=%{y}<extra></extra>",
         "legendgroup": "Portugal",
         "marker": {
          "color": "rgb(104, 133, 92)",
          "line": {
           "color": "white",
           "width": 0.8
          },
          "opacity": 0.8,
          "size": 8,
          "symbol": "circle"
         },
         "mode": "markers",
         "name": "Portugal",
         "orientation": "v",
         "showlegend": true,
         "type": "scatter",
         "x": [
          "France"
         ],
         "xaxis": "x",
         "y": [
          0.10931125413980851
         ],
         "yaxis": "y"
        },
        {
         "hovertemplate": "Country=Philippines<br>airline_country=%{x}<br>Shap interaction value=%{y}<extra></extra>",
         "legendgroup": "Philippines",
         "marker": {
          "color": "rgb(156, 156, 94)",
          "line": {
           "color": "white",
           "width": 0.8
          },
          "opacity": 0.8,
          "size": 8,
          "symbol": "circle"
         },
         "mode": "markers",
         "name": "Philippines",
         "orientation": "v",
         "showlegend": true,
         "type": "scatter",
         "x": [
          "United States<br<br />/>of America",
          "China",
          "United States<br<br />/>of America",
          "United States<br<br />/>of America",
          "United States<br<br />/>of America",
          "United States<br<br />/>of America"
         ],
         "xaxis": "x",
         "y": [
          -0.015282379527198195,
          -0.13877551039994343,
          -0.0009413651339152673,
          -0.019716021531926593,
          0.006124259075667669,
          0.02533055311310807
         ],
         "yaxis": "y"
        },
        {
         "hovertemplate": "Country=Arizona<br>airline_country=%{x}<br>Shap interaction value=%{y}<extra></extra>",
         "legendgroup": "Arizona",
         "marker": {
          "color": "rgb(160, 97, 119)",
          "line": {
           "color": "white",
           "width": 0.8
          },
          "opacity": 0.8,
          "size": 8,
          "symbol": "circle"
         },
         "mode": "markers",
         "name": "Arizona",
         "orientation": "v",
         "showlegend": true,
         "type": "scatter",
         "x": [
          "United States<br<br />/>of America",
          "United States<br<br />/>of America"
         ],
         "xaxis": "x",
         "y": [
          -0.0008391279890487564,
          0.0005446748233401862
         ],
         "yaxis": "y"
        },
        {
         "hovertemplate": "Country=Indonesia<br>airline_country=%{x}<br>Shap interaction value=%{y}<extra></extra>",
         "legendgroup": "Indonesia",
         "marker": {
          "color": "rgb(140, 120, 93)",
          "line": {
           "color": "white",
           "width": 0.8
          },
          "opacity": 0.8,
          "size": 8,
          "symbol": "circle"
         },
         "mode": "markers",
         "name": "Indonesia",
         "orientation": "v",
         "showlegend": true,
         "type": "scatter",
         "x": [
          "United States<br<br />/>of America",
          "United States<br<br />/>of America",
          "United States<br<br />/>of America",
          "United States<br<br />/>of America"
         ],
         "xaxis": "x",
         "y": [
          -0.11038168501105125,
          -0.04100122244294842,
          0.07012001785412703,
          -0.06960126257851265
         ],
         "yaxis": "y"
        },
        {
         "hovertemplate": "Country=Japan<br>airline_country=%{x}<br>Shap interaction value=%{y}<extra></extra>",
         "legendgroup": "Japan",
         "marker": {
          "color": "rgb(124, 124, 124)",
          "line": {
           "color": "white",
           "width": 0.8
          },
          "opacity": 0.8,
          "size": 8,
          "symbol": "circle"
         },
         "mode": "markers",
         "name": "Japan",
         "orientation": "v",
         "showlegend": true,
         "type": "scatter",
         "x": [
          "United States<br<br />/>of America",
          "United States<br<br />/>of America",
          "United States<br<br />/>of America",
          "United States<br<br />/>of America",
          "United Kingdom"
         ],
         "xaxis": "x",
         "y": [
          0.028781788090524354,
          0.10104312500045165,
          0.05005227943510432,
          0.041194863995478614,
          0.07793103974842822
         ],
         "yaxis": "y"
        },
        {
         "hovertemplate": "Country=China<br>airline_country=%{x}<br>Shap interaction value=%{y}<extra></extra>",
         "legendgroup": "China",
         "marker": {
          "color": "rgb(133, 92, 117)",
          "line": {
           "color": "white",
           "width": 0.8
          },
          "opacity": 0.8,
          "size": 8,
          "symbol": "circle"
         },
         "mode": "markers",
         "name": "China",
         "orientation": "v",
         "showlegend": true,
         "type": "scatter",
         "x": [
          "China",
          "China",
          "United States<br<br />/>of America",
          "China",
          "China",
          "China",
          "China",
          "China",
          "China",
          "China",
          "China",
          "China",
          "China",
          "China"
         ],
         "xaxis": "x",
         "y": [
          -0.08755241539606703,
          0.28194849975727415,
          -0.022691234030422832,
          0.11850163197165947,
          -0.09449977987366132,
          -0.08277880021536221,
          -0.09683109344271226,
          -0.271223594689456,
          0.2921084685057979,
          -0.08977518590033125,
          0.1569356490537338,
          -0.1532818834537517,
          -0.2236782510061318,
          0.23016571980354725
         ],
         "yaxis": "y"
        },
        {
         "hovertemplate": "Country=New York<br>airline_country=%{x}<br>Shap interaction value=%{y}<extra></extra>",
         "legendgroup": "New York",
         "marker": {
          "color": "rgb(217, 175, 107)",
          "line": {
           "color": "white",
           "width": 0.8
          },
          "opacity": 0.8,
          "size": 8,
          "symbol": "circle"
         },
         "mode": "markers",
         "name": "New York",
         "orientation": "v",
         "showlegend": true,
         "type": "scatter",
         "x": [
          "United States<br<br />/>of America",
          "United States<br<br />/>of America",
          "United States<br<br />/>of America",
          "United States<br<br />/>of America",
          "United States<br<br />/>of America",
          "United States<br<br />/>of America"
         ],
         "xaxis": "x",
         "y": [
          0.0021622069300868047,
          -0.0048814193604829696,
          -0.009400908502413917,
          -0.08259969162961076,
          -0.011384376655158684,
          0.012488997893783665
         ],
         "yaxis": "y"
        },
        {
         "hovertemplate": "Country=Russia<br>airline_country=%{x}<br>Shap interaction value=%{y}<extra></extra>",
         "legendgroup": "Russia",
         "marker": {
          "color": "rgb(175, 100, 88)",
          "line": {
           "color": "white",
           "width": 0.8
          },
          "opacity": 0.8,
          "size": 8,
          "symbol": "circle"
         },
         "mode": "markers",
         "name": "Russia",
         "orientation": "v",
         "showlegend": true,
         "type": "scatter",
         "x": [
          "Russia",
          "Russia",
          "Russia",
          "Russia"
         ],
         "xaxis": "x",
         "y": [
          -0.38350195595193537,
          -0.04768944073000991,
          -0.3309893998130818,
          -0.012579420800554464
         ],
         "yaxis": "y"
        },
        {
         "hovertemplate": "Country=Peru<br>airline_country=%{x}<br>Shap interaction value=%{y}<extra></extra>",
         "legendgroup": "Peru",
         "marker": {
          "color": "rgb(115, 111, 76)",
          "line": {
           "color": "white",
           "width": 0.8
          },
          "opacity": 0.8,
          "size": 8,
          "symbol": "circle"
         },
         "mode": "markers",
         "name": "Peru",
         "orientation": "v",
         "showlegend": true,
         "type": "scatter",
         "x": [
          "United States<br<br />/>of America"
         ],
         "xaxis": "x",
         "y": [
          -0.0224798399427693
         ],
         "yaxis": "y"
        },
        {
         "hovertemplate": "Country=South Dekota<br>airline_country=%{x}<br>Shap interaction value=%{y}<extra></extra>",
         "legendgroup": "South Dekota",
         "marker": {
          "color": "rgb(82, 106, 131)",
          "line": {
           "color": "white",
           "width": 0.8
          },
          "opacity": 0.8,
          "size": 8,
          "symbol": "circle"
         },
         "mode": "markers",
         "name": "South Dekota",
         "orientation": "v",
         "showlegend": true,
         "type": "scatter",
         "x": [
          "United States<br<br />/>of America"
         ],
         "xaxis": "x",
         "y": [
          0.003965586101461057
         ],
         "yaxis": "y"
        },
        {
         "hovertemplate": "Country=Spain<br>airline_country=%{x}<br>Shap interaction value=%{y}<extra></extra>",
         "legendgroup": "Spain",
         "marker": {
          "color": "rgb(98, 83, 119)",
          "line": {
           "color": "white",
           "width": 0.8
          },
          "opacity": 0.8,
          "size": 8,
          "symbol": "circle"
         },
         "mode": "markers",
         "name": "Spain",
         "orientation": "v",
         "showlegend": true,
         "type": "scatter",
         "x": [
          "United States<br<br />/>of America"
         ],
         "xaxis": "x",
         "y": [
          -0.020358305172304005
         ],
         "yaxis": "y"
        },
        {
         "hovertemplate": "Country=India<br>airline_country=%{x}<br>Shap interaction value=%{y}<extra></extra>",
         "legendgroup": "India",
         "marker": {
          "color": "rgb(104, 133, 92)",
          "line": {
           "color": "white",
           "width": 0.8
          },
          "opacity": 0.8,
          "size": 8,
          "symbol": "circle"
         },
         "mode": "markers",
         "name": "India",
         "orientation": "v",
         "showlegend": true,
         "type": "scatter",
         "x": [
          "France"
         ],
         "xaxis": "x",
         "y": [
          0.09279148333726808
         ],
         "yaxis": "y"
        },
        {
         "hovertemplate": "Country=Panama<br>airline_country=%{x}<br>Shap interaction value=%{y}<extra></extra>",
         "legendgroup": "Panama",
         "marker": {
          "color": "rgb(156, 156, 94)",
          "line": {
           "color": "white",
           "width": 0.8
          },
          "opacity": 0.8,
          "size": 8,
          "symbol": "circle"
         },
         "mode": "markers",
         "name": "Panama",
         "orientation": "v",
         "showlegend": true,
         "type": "scatter",
         "x": [
          "United States<br<br />/>of America",
          "United States<br<br />/>of America"
         ],
         "xaxis": "x",
         "y": [
          -0.017971737669258442,
          -0.009919313426384961
         ],
         "yaxis": "y"
        },
        {
         "hovertemplate": "Country=Turkey<br>airline_country=%{x}<br>Shap interaction value=%{y}<extra></extra>",
         "legendgroup": "Turkey",
         "marker": {
          "color": "rgb(160, 97, 119)",
          "line": {
           "color": "white",
           "width": 0.8
          },
          "opacity": 0.8,
          "size": 8,
          "symbol": "circle"
         },
         "mode": "markers",
         "name": "Turkey",
         "orientation": "v",
         "showlegend": true,
         "type": "scatter",
         "x": [
          "United States<br<br />/>of America",
          "United States<br<br />/>of America"
         ],
         "xaxis": "x",
         "y": [
          0.011276049527790571,
          0.02231372569109431
         ],
         "yaxis": "y"
        },
        {
         "hovertemplate": "Country=Tahiti<br>airline_country=%{x}<br>Shap interaction value=%{y}<extra></extra>",
         "legendgroup": "Tahiti",
         "marker": {
          "color": "rgb(140, 120, 93)",
          "line": {
           "color": "white",
           "width": 0.8
          },
          "opacity": 0.8,
          "size": 8,
          "symbol": "circle"
         },
         "mode": "markers",
         "name": "Tahiti",
         "orientation": "v",
         "showlegend": true,
         "type": "scatter",
         "x": [
          "United States<br<br />/>of America"
         ],
         "xaxis": "x",
         "y": [
          0.07774303112869381
         ],
         "yaxis": "y"
        },
        {
         "hovertemplate": "Country=Scotland<br>airline_country=%{x}<br>Shap interaction value=%{y}<extra></extra>",
         "legendgroup": "Scotland",
         "marker": {
          "color": "rgb(124, 124, 124)",
          "line": {
           "color": "white",
           "width": 0.8
          },
          "opacity": 0.8,
          "size": 8,
          "symbol": "circle"
         },
         "mode": "markers",
         "name": "Scotland",
         "orientation": "v",
         "showlegend": true,
         "type": "scatter",
         "x": [
          "United States<br<br />/>of America",
          "United Kingdom"
         ],
         "xaxis": "x",
         "y": [
          -0.006434467644735334,
          0.01672255438262887
         ],
         "yaxis": "y"
        },
        {
         "hovertemplate": "Country=Taiwan<br>airline_country=%{x}<br>Shap interaction value=%{y}<extra></extra>",
         "legendgroup": "Taiwan",
         "marker": {
          "color": "rgb(133, 92, 117)",
          "line": {
           "color": "white",
           "width": 0.8
          },
          "opacity": 0.8,
          "size": 8,
          "symbol": "circle"
         },
         "mode": "markers",
         "name": "Taiwan",
         "orientation": "v",
         "showlegend": true,
         "type": "scatter",
         "x": [
          "China",
          "China",
          "China",
          "China",
          "China"
         ],
         "xaxis": "x",
         "y": [
          -0.043878795506552104,
          -0.092052321818971,
          -0.09184597476161721,
          -0.051820438723696155,
          -0.05188264739242297
         ],
         "yaxis": "y"
        },
        {
         "hovertemplate": "Country=Gambia<br>airline_country=%{x}<br>Shap interaction value=%{y}<extra></extra>",
         "legendgroup": "Gambia",
         "marker": {
          "color": "rgb(217, 175, 107)",
          "line": {
           "color": "white",
           "width": 0.8
          },
          "opacity": 0.8,
          "size": 8,
          "symbol": "circle"
         },
         "mode": "markers",
         "name": "Gambia",
         "orientation": "v",
         "showlegend": true,
         "type": "scatter",
         "x": [
          "United States<br<br />/>of America"
         ],
         "xaxis": "x",
         "y": [
          -0.037041712679321416
         ],
         "yaxis": "y"
        },
        {
         "hovertemplate": "Country=Morocco<br>airline_country=%{x}<br>Shap interaction value=%{y}<extra></extra>",
         "legendgroup": "Morocco",
         "marker": {
          "color": "rgb(175, 100, 88)",
          "line": {
           "color": "white",
           "width": 0.8
          },
          "opacity": 0.8,
          "size": 8,
          "symbol": "circle"
         },
         "mode": "markers",
         "name": "Morocco",
         "orientation": "v",
         "showlegend": true,
         "type": "scatter",
         "x": [
          "United States<br<br />/>of America",
          "France"
         ],
         "xaxis": "x",
         "y": [
          -0.018378834533774414,
          0.03429096457627054
         ],
         "yaxis": "y"
        },
        {
         "hovertemplate": "Country=Argentina<br>airline_country=%{x}<br>Shap interaction value=%{y}<extra></extra>",
         "legendgroup": "Argentina",
         "marker": {
          "color": "rgb(115, 111, 76)",
          "line": {
           "color": "white",
           "width": 0.8
          },
          "opacity": 0.8,
          "size": 8,
          "symbol": "circle"
         },
         "mode": "markers",
         "name": "Argentina",
         "orientation": "v",
         "showlegend": true,
         "type": "scatter",
         "x": [
          "United States<br<br />/>of America",
          "United Kingdom"
         ],
         "xaxis": "x",
         "y": [
          0.06822167402241713,
          -0.1909275985939151
         ],
         "yaxis": "y"
        },
        {
         "hovertemplate": "Country=PacifiOcean<br>airline_country=%{x}<br>Shap interaction value=%{y}<extra></extra>",
         "legendgroup": "PacifiOcean",
         "marker": {
          "color": "rgb(82, 106, 131)",
          "line": {
           "color": "white",
           "width": 0.8
          },
          "opacity": 0.8,
          "size": 8,
          "symbol": "circle"
         },
         "mode": "markers",
         "name": "PacifiOcean",
         "orientation": "v",
         "showlegend": true,
         "type": "scatter",
         "x": [
          "United States<br<br />/>of America"
         ],
         "xaxis": "x",
         "y": [
          0.026651188597387007
         ],
         "yaxis": "y"
        },
        {
         "hovertemplate": "Country=Costa Rica<br>airline_country=%{x}<br>Shap interaction value=%{y}<extra></extra>",
         "legendgroup": "Costa Rica",
         "marker": {
          "color": "rgb(98, 83, 119)",
          "line": {
           "color": "white",
           "width": 0.8
          },
          "opacity": 0.8,
          "size": 8,
          "symbol": "circle"
         },
         "mode": "markers",
         "name": "Costa Rica",
         "orientation": "v",
         "showlegend": true,
         "type": "scatter",
         "x": [
          "United States<br<br />/>of America"
         ],
         "xaxis": "x",
         "y": [
          0.010234114227986852
         ],
         "yaxis": "y"
        },
        {
         "hovertemplate": "Country=Wyoming<br>airline_country=%{x}<br>Shap interaction value=%{y}<extra></extra>",
         "legendgroup": "Wyoming",
         "marker": {
          "color": "rgb(104, 133, 92)",
          "line": {
           "color": "white",
           "width": 0.8
          },
          "opacity": 0.8,
          "size": 8,
          "symbol": "circle"
         },
         "mode": "markers",
         "name": "Wyoming",
         "orientation": "v",
         "showlegend": true,
         "type": "scatter",
         "x": [
          "United States<br<br />/>of America"
         ],
         "xaxis": "x",
         "y": [
          -0.11264202120199465
         ],
         "yaxis": "y"
        },
        {
         "hovertemplate": "Country=New Guinea<br>airline_country=%{x}<br>Shap interaction value=%{y}<extra></extra>",
         "legendgroup": "New Guinea",
         "marker": {
          "color": "rgb(156, 156, 94)",
          "line": {
           "color": "white",
           "width": 0.8
          },
          "opacity": 0.8,
          "size": 8,
          "symbol": "circle"
         },
         "mode": "markers",
         "name": "New Guinea",
         "orientation": "v",
         "showlegend": true,
         "type": "scatter",
         "x": [
          "United States<br<br />/>of America"
         ],
         "xaxis": "x",
         "y": [
          0.010127308982490495
         ],
         "yaxis": "y"
        },
        {
         "hovertemplate": "Country=Australia<br>airline_country=%{x}<br>Shap interaction value=%{y}<extra></extra>",
         "legendgroup": "Australia",
         "marker": {
          "color": "rgb(160, 97, 119)",
          "line": {
           "color": "white",
           "width": 0.8
          },
          "opacity": 0.8,
          "size": 8,
          "symbol": "circle"
         },
         "mode": "markers",
         "name": "Australia",
         "orientation": "v",
         "showlegend": true,
         "type": "scatter",
         "x": [
          "United States<br<br />/>of America",
          "United States<br<br />/>of America"
         ],
         "xaxis": "x",
         "y": [
          0.06067098382696061,
          0.0349457685770575
         ],
         "yaxis": "y"
        },
        {
         "hovertemplate": "Country=Chile<br>airline_country=%{x}<br>Shap interaction value=%{y}<extra></extra>",
         "legendgroup": "Chile",
         "marker": {
          "color": "rgb(140, 120, 93)",
          "line": {
           "color": "white",
           "width": 0.8
          },
          "opacity": 0.8,
          "size": 8,
          "symbol": "circle"
         },
         "mode": "markers",
         "name": "Chile",
         "orientation": "v",
         "showlegend": true,
         "type": "scatter",
         "x": [
          "United States<br<br />/>of America"
         ],
         "xaxis": "x",
         "y": [
          -0.006273414244407478
         ],
         "yaxis": "y"
        },
        {
         "hovertemplate": "Country=Canada<br>airline_country=%{x}<br>Shap interaction value=%{y}<extra></extra>",
         "legendgroup": "Canada",
         "marker": {
          "color": "rgb(124, 124, 124)",
          "line": {
           "color": "white",
           "width": 0.8
          },
          "opacity": 0.8,
          "size": 8,
          "symbol": "circle"
         },
         "mode": "markers",
         "name": "Canada",
         "orientation": "v",
         "showlegend": true,
         "type": "scatter",
         "x": [
          "Canada",
          "United States<br<br />/>of America",
          "France",
          "Canada",
          "United States<br<br />/>of America"
         ],
         "xaxis": "x",
         "y": [
          -0.1158465650591046,
          -0.027061265807945958,
          0.037973001131359305,
          -0.12485197544586128,
          0.005513892195001071
         ],
         "yaxis": "y"
        },
        {
         "hovertemplate": "Country=Azores<br>airline_country=%{x}<br>Shap interaction value=%{y}<extra></extra>",
         "legendgroup": "Azores",
         "marker": {
          "color": "rgb(133, 92, 117)",
          "line": {
           "color": "white",
           "width": 0.8
          },
          "opacity": 0.8,
          "size": 8,
          "symbol": "circle"
         },
         "mode": "markers",
         "name": "Azores",
         "orientation": "v",
         "showlegend": true,
         "type": "scatter",
         "x": [
          "France"
         ],
         "xaxis": "x",
         "y": [
          -0.3401263679145823
         ],
         "yaxis": "y"
        },
        {
         "hovertemplate": "Country=Malta<br>airline_country=%{x}<br>Shap interaction value=%{y}<extra></extra>",
         "legendgroup": "Malta",
         "marker": {
          "color": "rgb(217, 175, 107)",
          "line": {
           "color": "white",
           "width": 0.8
          },
          "opacity": 0.8,
          "size": 8,
          "symbol": "circle"
         },
         "mode": "markers",
         "name": "Malta",
         "orientation": "v",
         "showlegend": true,
         "type": "scatter",
         "x": [
          "United Kingdom"
         ],
         "xaxis": "x",
         "y": [
          -0.05936746872844237
         ],
         "yaxis": "y"
        },
        {
         "hovertemplate": "Country=Massachusetts<br>airline_country=%{x}<br>Shap interaction value=%{y}<extra></extra>",
         "legendgroup": "Massachusetts",
         "marker": {
          "color": "rgb(175, 100, 88)",
          "line": {
           "color": "white",
           "width": 0.8
          },
          "opacity": 0.8,
          "size": 8,
          "symbol": "circle"
         },
         "mode": "markers",
         "name": "Massachusetts",
         "orientation": "v",
         "showlegend": true,
         "type": "scatter",
         "x": [
          "United States<br<br />/>of America",
          "United States<br<br />/>of America"
         ],
         "xaxis": "x",
         "y": [
          0.017743920428366228,
          0.04743442697740543
         ],
         "yaxis": "y"
        },
        {
         "hovertemplate": "Country=Yugoslavia<br>airline_country=%{x}<br>Shap interaction value=%{y}<extra></extra>",
         "legendgroup": "Yugoslavia",
         "marker": {
          "color": "rgb(115, 111, 76)",
          "line": {
           "color": "white",
           "width": 0.8
          },
          "opacity": 0.8,
          "size": 8,
          "symbol": "circle"
         },
         "mode": "markers",
         "name": "Yugoslavia",
         "orientation": "v",
         "showlegend": true,
         "type": "scatter",
         "x": [
          "United Kingdom"
         ],
         "xaxis": "x",
         "y": [
          -0.003389060130993913
         ],
         "yaxis": "y"
        },
        {
         "hovertemplate": "Country=Florida<br>airline_country=%{x}<br>Shap interaction value=%{y}<extra></extra>",
         "legendgroup": "Florida",
         "marker": {
          "color": "rgb(82, 106, 131)",
          "line": {
           "color": "white",
           "width": 0.8
          },
          "opacity": 0.8,
          "size": 8,
          "symbol": "circle"
         },
         "mode": "markers",
         "name": "Florida",
         "orientation": "v",
         "showlegend": true,
         "type": "scatter",
         "x": [
          "United States<br<br />/>of America"
         ],
         "xaxis": "x",
         "y": [
          0.0645966858963757
         ],
         "yaxis": "y"
        },
        {
         "hovertemplate": "Country=Oklahoma<br>airline_country=%{x}<br>Shap interaction value=%{y}<extra></extra>",
         "legendgroup": "Oklahoma",
         "marker": {
          "color": "rgb(98, 83, 119)",
          "line": {
           "color": "white",
           "width": 0.8
          },
          "opacity": 0.8,
          "size": 8,
          "symbol": "circle"
         },
         "mode": "markers",
         "name": "Oklahoma",
         "orientation": "v",
         "showlegend": true,
         "type": "scatter",
         "x": [
          "United States<br<br />/>of America",
          "United States<br<br />/>of America"
         ],
         "xaxis": "x",
         "y": [
          0.1246337525571779,
          0.008623385141343046
         ],
         "yaxis": "y"
        },
        {
         "hovertemplate": "Country=Venezuela<br>airline_country=%{x}<br>Shap interaction value=%{y}<extra></extra>",
         "legendgroup": "Venezuela",
         "marker": {
          "color": "rgb(104, 133, 92)",
          "line": {
           "color": "white",
           "width": 0.8
          },
          "opacity": 0.8,
          "size": 8,
          "symbol": "circle"
         },
         "mode": "markers",
         "name": "Venezuela",
         "orientation": "v",
         "showlegend": true,
         "type": "scatter",
         "x": [
          "United States<br<br />/>of America"
         ],
         "xaxis": "x",
         "y": [
          0.08552133941494672
         ],
         "yaxis": "y"
        },
        {
         "hovertemplate": "Country=Virginia<br>airline_country=%{x}<br>Shap interaction value=%{y}<extra></extra>",
         "legendgroup": "Virginia",
         "marker": {
          "color": "rgb(156, 156, 94)",
          "line": {
           "color": "white",
           "width": 0.8
          },
          "opacity": 0.8,
          "size": 8,
          "symbol": "circle"
         },
         "mode": "markers",
         "name": "Virginia",
         "orientation": "v",
         "showlegend": true,
         "type": "scatter",
         "x": [
          "United States<br<br />/>of America",
          "United States<br<br />/>of America"
         ],
         "xaxis": "x",
         "y": [
          -0.11185503606837068,
          -0.014295082347822468
         ],
         "yaxis": "y"
        },
        {
         "hovertemplate": "Country=Idaho<br>airline_country=%{x}<br>Shap interaction value=%{y}<extra></extra>",
         "legendgroup": "Idaho",
         "marker": {
          "color": "rgb(160, 97, 119)",
          "line": {
           "color": "white",
           "width": 0.8
          },
          "opacity": 0.8,
          "size": 8,
          "symbol": "circle"
         },
         "mode": "markers",
         "name": "Idaho",
         "orientation": "v",
         "showlegend": true,
         "type": "scatter",
         "x": [
          "United States<br<br />/>of America"
         ],
         "xaxis": "x",
         "y": [
          -0.013551918796049013
         ],
         "yaxis": "y"
        },
        {
         "hovertemplate": "Country=Cuba<br>airline_country=%{x}<br>Shap interaction value=%{y}<extra></extra>",
         "legendgroup": "Cuba",
         "marker": {
          "color": "rgb(140, 120, 93)",
          "line": {
           "color": "white",
           "width": 0.8
          },
          "opacity": 0.8,
          "size": 8,
          "symbol": "circle"
         },
         "mode": "markers",
         "name": "Cuba",
         "orientation": "v",
         "showlegend": true,
         "type": "scatter",
         "x": [
          "United States<br<br />/>of America",
          "United States<br<br />/>of America"
         ],
         "xaxis": "x",
         "y": [
          0.02834243861626501,
          0.050418547462165404
         ],
         "yaxis": "y"
        },
        {
         "hovertemplate": "Country=Algeria<br>airline_country=%{x}<br>Shap interaction value=%{y}<extra></extra>",
         "legendgroup": "Algeria",
         "marker": {
          "color": "rgb(124, 124, 124)",
          "line": {
           "color": "white",
           "width": 0.8
          },
          "opacity": 0.8,
          "size": 8,
          "symbol": "circle"
         },
         "mode": "markers",
         "name": "Algeria",
         "orientation": "v",
         "showlegend": true,
         "type": "scatter",
         "x": [
          "France",
          "France",
          "France"
         ],
         "xaxis": "x",
         "y": [
          0.3313026645961124,
          -0.03816129891232191,
          0.04586663451538065
         ],
         "yaxis": "y"
        },
        {
         "hovertemplate": "Country=Vietnam<br>airline_country=%{x}<br>Shap interaction value=%{y}<extra></extra>",
         "legendgroup": "Vietnam",
         "marker": {
          "color": "rgb(133, 92, 117)",
          "line": {
           "color": "white",
           "width": 0.8
          },
          "opacity": 0.8,
          "size": 8,
          "symbol": "circle"
         },
         "mode": "markers",
         "name": "Vietnam",
         "orientation": "v",
         "showlegend": true,
         "type": "scatter",
         "x": [
          "United States<br<br />/>of America",
          "United States<br<br />/>of America"
         ],
         "xaxis": "x",
         "y": [
          0.018242631432242508,
          -0.004253489535084749
         ],
         "yaxis": "y"
        },
        {
         "hovertemplate": "Country=Michigan<br>airline_country=%{x}<br>Shap interaction value=%{y}<extra></extra>",
         "legendgroup": "Michigan",
         "marker": {
          "color": "rgb(217, 175, 107)",
          "line": {
           "color": "white",
           "width": 0.8
          },
          "opacity": 0.8,
          "size": 8,
          "symbol": "circle"
         },
         "mode": "markers",
         "name": "Michigan",
         "orientation": "v",
         "showlegend": true,
         "type": "scatter",
         "x": [
          "United States<br<br />/>of America",
          "United States<br<br />/>of America"
         ],
         "xaxis": "x",
         "y": [
          0.056755652276027344,
          0.05982709835058888
         ],
         "yaxis": "y"
        },
        {
         "hovertemplate": "Country=Belgium<br>airline_country=%{x}<br>Shap interaction value=%{y}<extra></extra>",
         "legendgroup": "Belgium",
         "marker": {
          "color": "rgb(175, 100, 88)",
          "line": {
           "color": "white",
           "width": 0.8
          },
          "opacity": 0.8,
          "size": 8,
          "symbol": "circle"
         },
         "mode": "markers",
         "name": "Belgium",
         "orientation": "v",
         "showlegend": true,
         "type": "scatter",
         "x": [
          "United Kingdom"
         ],
         "xaxis": "x",
         "y": [
          0.15379768092030477
         ],
         "yaxis": "y"
        },
        {
         "hovertemplate": "Country=Colombia<br>airline_country=%{x}<br>Shap interaction value=%{y}<extra></extra>",
         "legendgroup": "Colombia",
         "marker": {
          "color": "rgb(115, 111, 76)",
          "line": {
           "color": "white",
           "width": 0.8
          },
          "opacity": 0.8,
          "size": 8,
          "symbol": "circle"
         },
         "mode": "markers",
         "name": "Colombia",
         "orientation": "v",
         "showlegend": true,
         "type": "scatter",
         "x": [
          "United States<br<br />/>of America",
          "France"
         ],
         "xaxis": "x",
         "y": [
          0.04294711456159477,
          0.11657123783492974
         ],
         "yaxis": "y"
        },
        {
         "hovertemplate": "Country=California<br>airline_country=%{x}<br>Shap interaction value=%{y}<extra></extra>",
         "legendgroup": "California",
         "marker": {
          "color": "rgb(82, 106, 131)",
          "line": {
           "color": "white",
           "width": 0.8
          },
          "opacity": 0.8,
          "size": 8,
          "symbol": "circle"
         },
         "mode": "markers",
         "name": "California",
         "orientation": "v",
         "showlegend": true,
         "type": "scatter",
         "x": [
          "United States<br<br />/>of America",
          "United States<br<br />/>of America",
          "United States<br<br />/>of America",
          "United Kingdom",
          "United States<br<br />/>of America"
         ],
         "xaxis": "x",
         "y": [
          0.027040289305987158,
          -0.0445398097963418,
          -0.059512400397346926,
          -0.20162921879021306,
          -0.02882102805223157
         ],
         "yaxis": "y"
        },
        {
         "hovertemplate": "Country=Bolivia<br>airline_country=%{x}<br>Shap interaction value=%{y}<extra></extra>",
         "legendgroup": "Bolivia",
         "marker": {
          "color": "rgb(98, 83, 119)",
          "line": {
           "color": "white",
           "width": 0.8
          },
          "opacity": 0.8,
          "size": 8,
          "symbol": "circle"
         },
         "mode": "markers",
         "name": "Bolivia",
         "orientation": "v",
         "showlegend": true,
         "type": "scatter",
         "x": [
          "United States<br<br />/>of America"
         ],
         "xaxis": "x",
         "y": [
          -0.06510547312740003
         ],
         "yaxis": "y"
        },
        {
         "hovertemplate": "Country=Afghanistan<br>airline_country=%{x}<br>Shap interaction value=%{y}<extra></extra>",
         "legendgroup": "Afghanistan",
         "marker": {
          "color": "rgb(104, 133, 92)",
          "line": {
           "color": "white",
           "width": 0.8
          },
          "opacity": 0.8,
          "size": 8,
          "symbol": "circle"
         },
         "mode": "markers",
         "name": "Afghanistan",
         "orientation": "v",
         "showlegend": true,
         "type": "scatter",
         "x": [
          "Russia",
          "United States<br<br />/>of America"
         ],
         "xaxis": "x",
         "y": [
          -0.10550981113663224,
          -0.1495070579381149
         ],
         "yaxis": "y"
        },
        {
         "hovertemplate": "Country=Tennessee<br>airline_country=%{x}<br>Shap interaction value=%{y}<extra></extra>",
         "legendgroup": "Tennessee",
         "marker": {
          "color": "rgb(156, 156, 94)",
          "line": {
           "color": "white",
           "width": 0.8
          },
          "opacity": 0.8,
          "size": 8,
          "symbol": "circle"
         },
         "mode": "markers",
         "name": "Tennessee",
         "orientation": "v",
         "showlegend": true,
         "type": "scatter",
         "x": [
          "United States<br<br />/>of America",
          "United States<br<br />/>of America"
         ],
         "xaxis": "x",
         "y": [
          -0.007185573686258332,
          0.004203156535775991
         ],
         "yaxis": "y"
        },
        {
         "hovertemplate": "Country=Indian Ocean<br>airline_country=%{x}<br>Shap interaction value=%{y}<extra></extra>",
         "legendgroup": "Indian Ocean",
         "marker": {
          "color": "rgb(160, 97, 119)",
          "line": {
           "color": "white",
           "width": 0.8
          },
          "opacity": 0.8,
          "size": 8,
          "symbol": "circle"
         },
         "mode": "markers",
         "name": "Indian Ocean",
         "orientation": "v",
         "showlegend": true,
         "type": "scatter",
         "x": [
          "United Kingdom"
         ],
         "xaxis": "x",
         "y": [
          -0.056124378112480125
         ],
         "yaxis": "y"
        },
        {
         "hovertemplate": "Country=Northern Ireland<br>airline_country=%{x}<br>Shap interaction value=%{y}<extra></extra>",
         "legendgroup": "Northern Ireland",
         "marker": {
          "color": "rgb(140, 120, 93)",
          "line": {
           "color": "white",
           "width": 0.8
          },
          "opacity": 0.8,
          "size": 8,
          "symbol": "circle"
         },
         "mode": "markers",
         "name": "Northern Ireland",
         "orientation": "v",
         "showlegend": true,
         "type": "scatter",
         "x": [
          "United Kingdom"
         ],
         "xaxis": "x",
         "y": [
          -0.13746543520589238
         ],
         "yaxis": "y"
        },
        {
         "hovertemplate": "Country=Libya<br>airline_country=%{x}<br>Shap interaction value=%{y}<extra></extra>",
         "legendgroup": "Libya",
         "marker": {
          "color": "rgb(124, 124, 124)",
          "line": {
           "color": "white",
           "width": 0.8
          },
          "opacity": 0.8,
          "size": 8,
          "symbol": "circle"
         },
         "mode": "markers",
         "name": "Libya",
         "orientation": "v",
         "showlegend": true,
         "type": "scatter",
         "x": [
          "United Kingdom"
         ],
         "xaxis": "x",
         "y": [
          -0.023368800586925188
         ],
         "yaxis": "y"
        },
        {
         "hovertemplate": "Country=South Carolina<br>airline_country=%{x}<br>Shap interaction value=%{y}<extra></extra>",
         "legendgroup": "South Carolina",
         "marker": {
          "color": "rgb(133, 92, 117)",
          "line": {
           "color": "white",
           "width": 0.8
          },
          "opacity": 0.8,
          "size": 8,
          "symbol": "circle"
         },
         "mode": "markers",
         "name": "South Carolina",
         "orientation": "v",
         "showlegend": true,
         "type": "scatter",
         "x": [
          "United States<br<br />/>of America"
         ],
         "xaxis": "x",
         "y": [
          0.0163201077833355
         ],
         "yaxis": "y"
        },
        {
         "hovertemplate": "Country=HI<br>airline_country=%{x}<br>Shap interaction value=%{y}<extra></extra>",
         "legendgroup": "HI",
         "marker": {
          "color": "rgb(217, 175, 107)",
          "line": {
           "color": "white",
           "width": 0.8
          },
          "opacity": 0.8,
          "size": 8,
          "symbol": "circle"
         },
         "mode": "markers",
         "name": "HI",
         "orientation": "v",
         "showlegend": true,
         "type": "scatter",
         "x": [
          "United States<br<br />/>of America"
         ],
         "xaxis": "x",
         "y": [
          -0.034312166695643666
         ],
         "yaxis": "y"
        },
        {
         "hovertemplate": "Country=New Mexico<br>airline_country=%{x}<br>Shap interaction value=%{y}<extra></extra>",
         "legendgroup": "New Mexico",
         "marker": {
          "color": "rgb(175, 100, 88)",
          "line": {
           "color": "white",
           "width": 0.8
          },
          "opacity": 0.8,
          "size": 8,
          "symbol": "circle"
         },
         "mode": "markers",
         "name": "New Mexico",
         "orientation": "v",
         "showlegend": true,
         "type": "scatter",
         "x": [
          "United States<br<br />/>of America"
         ],
         "xaxis": "x",
         "y": [
          0.032528511919239125
         ],
         "yaxis": "y"
        },
        {
         "hovertemplate": "Country=Montana<br>airline_country=%{x}<br>Shap interaction value=%{y}<extra></extra>",
         "legendgroup": "Montana",
         "marker": {
          "color": "rgb(115, 111, 76)",
          "line": {
           "color": "white",
           "width": 0.8
          },
          "opacity": 0.8,
          "size": 8,
          "symbol": "circle"
         },
         "mode": "markers",
         "name": "Montana",
         "orientation": "v",
         "showlegend": true,
         "type": "scatter",
         "x": [
          "United States<br<br />/>of America"
         ],
         "xaxis": "x",
         "y": [
          -0.009422732947774319
         ],
         "yaxis": "y"
        },
        {
         "hovertemplate": "Country=Alaska<br>airline_country=%{x}<br>Shap interaction value=%{y}<extra></extra>",
         "legendgroup": "Alaska",
         "marker": {
          "color": "rgb(82, 106, 131)",
          "line": {
           "color": "white",
           "width": 0.8
          },
          "opacity": 0.8,
          "size": 8,
          "symbol": "circle"
         },
         "mode": "markers",
         "name": "Alaska",
         "orientation": "v",
         "showlegend": true,
         "type": "scatter",
         "x": [
          "United States<br<br />/>of America",
          "United States<br<br />/>of America"
         ],
         "xaxis": "x",
         "y": [
          0.0019056237771014018,
          -0.019724524844461175
         ],
         "yaxis": "y"
        },
        {
         "hovertemplate": "Country=Egypt<br>airline_country=%{x}<br>Shap interaction value=%{y}<extra></extra>",
         "legendgroup": "Egypt",
         "marker": {
          "color": "rgb(98, 83, 119)",
          "line": {
           "color": "white",
           "width": 0.8
          },
          "opacity": 0.8,
          "size": 8,
          "symbol": "circle"
         },
         "mode": "markers",
         "name": "Egypt",
         "orientation": "v",
         "showlegend": true,
         "type": "scatter",
         "x": [
          "France",
          "United States<br<br />/>of America"
         ],
         "xaxis": "x",
         "y": [
          -0.37720926441680813,
          0.023516241427158923
         ],
         "yaxis": "y"
        },
        {
         "hovertemplate": "Country=NE of Bermuda<br>airline_country=%{x}<br>Shap interaction value=%{y}<extra></extra>",
         "legendgroup": "NE of Bermuda",
         "marker": {
          "color": "rgb(104, 133, 92)",
          "line": {
           "color": "white",
           "width": 0.8
          },
          "opacity": 0.8,
          "size": 8,
          "symbol": "circle"
         },
         "mode": "markers",
         "name": "NE of Bermuda",
         "orientation": "v",
         "showlegend": true,
         "type": "scatter",
         "x": [
          "United Kingdom"
         ],
         "xaxis": "x",
         "y": [
          -0.07358010677044584
         ],
         "yaxis": "y"
        },
        {
         "hovertemplate": "Country=Washington<br>airline_country=%{x}<br>Shap interaction value=%{y}<extra></extra>",
         "legendgroup": "Washington",
         "marker": {
          "color": "rgb(156, 156, 94)",
          "line": {
           "color": "white",
           "width": 0.8
          },
          "opacity": 0.8,
          "size": 8,
          "symbol": "circle"
         },
         "mode": "markers",
         "name": "Washington",
         "orientation": "v",
         "showlegend": true,
         "type": "scatter",
         "x": [
          "United States<br<br />/>of America",
          "United States<br<br />/>of America"
         ],
         "xaxis": "x",
         "y": [
          0.03733503062142655,
          0.06297468073409992
         ],
         "yaxis": "y"
        },
        {
         "hovertemplate": "Country=New Zealand<br>airline_country=%{x}<br>Shap interaction value=%{y}<extra></extra>",
         "legendgroup": "New Zealand",
         "marker": {
          "color": "rgb(160, 97, 119)",
          "line": {
           "color": "white",
           "width": 0.8
          },
          "opacity": 0.8,
          "size": 8,
          "symbol": "circle"
         },
         "mode": "markers",
         "name": "New Zealand",
         "orientation": "v",
         "showlegend": true,
         "type": "scatter",
         "x": [
          "United States<br<br />/>of America"
         ],
         "xaxis": "x",
         "y": [
          -0.09838839941096306
         ],
         "yaxis": "y"
        },
        {
         "hovertemplate": "Country=Georgia<br>airline_country=%{x}<br>Shap interaction value=%{y}<extra></extra>",
         "legendgroup": "Georgia",
         "marker": {
          "color": "rgb(140, 120, 93)",
          "line": {
           "color": "white",
           "width": 0.8
          },
          "opacity": 0.8,
          "size": 8,
          "symbol": "circle"
         },
         "mode": "markers",
         "name": "Georgia",
         "orientation": "v",
         "showlegend": true,
         "type": "scatter",
         "x": [
          "Russia",
          "United States<br<br />/>of America"
         ],
         "xaxis": "x",
         "y": [
          0.2749267050202231,
          -0.002626209060531218
         ],
         "yaxis": "y"
        },
        {
         "hovertemplate": "Country=Inodnesia<br>airline_country=%{x}<br>Shap interaction value=%{y}<extra></extra>",
         "legendgroup": "Inodnesia",
         "marker": {
          "color": "rgb(124, 124, 124)",
          "line": {
           "color": "white",
           "width": 0.8
          },
          "opacity": 0.8,
          "size": 8,
          "symbol": "circle"
         },
         "mode": "markers",
         "name": "Inodnesia",
         "orientation": "v",
         "showlegend": true,
         "type": "scatter",
         "x": [
          "United States<br<br />/>of America"
         ],
         "xaxis": "x",
         "y": [
          -0.10373547958061417
         ],
         "yaxis": "y"
        },
        {
         "hovertemplate": "Country=South Korea<br>airline_country=%{x}<br>Shap interaction value=%{y}<extra></extra>",
         "legendgroup": "South Korea",
         "marker": {
          "color": "rgb(133, 92, 117)",
          "line": {
           "color": "white",
           "width": 0.8
          },
          "opacity": 0.8,
          "size": 8,
          "symbol": "circle"
         },
         "mode": "markers",
         "name": "South Korea",
         "orientation": "v",
         "showlegend": true,
         "type": "scatter",
         "x": [
          "China"
         ],
         "xaxis": "x",
         "y": [
          -0.06352180329061453
         ],
         "yaxis": "y"
        },
        {
         "hovertemplate": "Country=Saudi Arabia<br>airline_country=%{x}<br>Shap interaction value=%{y}<extra></extra>",
         "legendgroup": "Saudi Arabia",
         "marker": {
          "color": "rgb(217, 175, 107)",
          "line": {
           "color": "white",
           "width": 0.8
          },
          "opacity": 0.8,
          "size": 8,
          "symbol": "circle"
         },
         "mode": "markers",
         "name": "Saudi Arabia",
         "orientation": "v",
         "showlegend": true,
         "type": "scatter",
         "x": [
          "United States<br<br />/>of America"
         ],
         "xaxis": "x",
         "y": [
          0.013717003291404226
         ],
         "yaxis": "y"
        },
        {
         "hovertemplate": "Country=Qld. Australia<br>airline_country=%{x}<br>Shap interaction value=%{y}<extra></extra>",
         "legendgroup": "Qld. Australia",
         "marker": {
          "color": "rgb(175, 100, 88)",
          "line": {
           "color": "white",
           "width": 0.8
          },
          "opacity": 0.8,
          "size": 8,
          "symbol": "circle"
         },
         "mode": "markers",
         "name": "Qld. Australia",
         "orientation": "v",
         "showlegend": true,
         "type": "scatter",
         "x": [
          "United States<br<br />/>of America"
         ],
         "xaxis": "x",
         "y": [
          0.0035013252066900605
         ],
         "yaxis": "y"
        },
        {
         "hovertemplate": "Country=Newfoundland<br>airline_country=%{x}<br>Shap interaction value=%{y}<extra></extra>",
         "legendgroup": "Newfoundland",
         "marker": {
          "color": "rgb(115, 111, 76)",
          "line": {
           "color": "white",
           "width": 0.8
          },
          "opacity": 0.8,
          "size": 8,
          "symbol": "circle"
         },
         "mode": "markers",
         "name": "Newfoundland",
         "orientation": "v",
         "showlegend": true,
         "type": "scatter",
         "x": [
          "United States<br<br />/>of America"
         ],
         "xaxis": "x",
         "y": [
          -0.008175244428092799
         ],
         "yaxis": "y"
        },
        {
         "hovertemplate": "Country=Indiana<br>airline_country=%{x}<br>Shap interaction value=%{y}<extra></extra>",
         "legendgroup": "Indiana",
         "marker": {
          "color": "rgb(82, 106, 131)",
          "line": {
           "color": "white",
           "width": 0.8
          },
          "opacity": 0.8,
          "size": 8,
          "symbol": "circle"
         },
         "mode": "markers",
         "name": "Indiana",
         "orientation": "v",
         "showlegend": true,
         "type": "scatter",
         "x": [
          "United States<br<br />/>of America"
         ],
         "xaxis": "x",
         "y": [
          0.11034784288543409
         ],
         "yaxis": "y"
        },
        {
         "hovertemplate": "Country=Louisiana<br>airline_country=%{x}<br>Shap interaction value=%{y}<extra></extra>",
         "legendgroup": "Louisiana",
         "marker": {
          "color": "rgb(98, 83, 119)",
          "line": {
           "color": "white",
           "width": 0.8
          },
          "opacity": 0.8,
          "size": 8,
          "symbol": "circle"
         },
         "mode": "markers",
         "name": "Louisiana",
         "orientation": "v",
         "showlegend": true,
         "type": "scatter",
         "x": [
          "United States<br<br />/>of America"
         ],
         "xaxis": "x",
         "y": [
          0.07226622584860792
         ],
         "yaxis": "y"
        },
        {
         "hovertemplate": "Country=Norway<br>airline_country=%{x}<br>Shap interaction value=%{y}<extra></extra>",
         "legendgroup": "Norway",
         "marker": {
          "color": "rgb(104, 133, 92)",
          "line": {
           "color": "white",
           "width": 0.8
          },
          "opacity": 0.8,
          "size": 8,
          "symbol": "circle"
         },
         "mode": "markers",
         "name": "Norway",
         "orientation": "v",
         "showlegend": true,
         "type": "scatter",
         "x": [
          "United States<br<br />/>of America"
         ],
         "xaxis": "x",
         "y": [
          -0.02010796112104264
         ],
         "yaxis": "y"
        },
        {
         "hovertemplate": "Country=Greenland<br>airline_country=%{x}<br>Shap interaction value=%{y}<extra></extra>",
         "legendgroup": "Greenland",
         "marker": {
          "color": "rgb(156, 156, 94)",
          "line": {
           "color": "white",
           "width": 0.8
          },
          "opacity": 0.8,
          "size": 8,
          "symbol": "circle"
         },
         "mode": "markers",
         "name": "Greenland",
         "orientation": "v",
         "showlegend": true,
         "type": "scatter",
         "x": [
          "United States<br<br />/>of America"
         ],
         "xaxis": "x",
         "y": [
          0.014252971594570254
         ],
         "yaxis": "y"
        },
        {
         "hovertemplate": "Country=Hawaii<br>airline_country=%{x}<br>Shap interaction value=%{y}<extra></extra>",
         "legendgroup": "Hawaii",
         "marker": {
          "color": "rgb(160, 97, 119)",
          "line": {
           "color": "white",
           "width": 0.8
          },
          "opacity": 0.8,
          "size": 8,
          "symbol": "circle"
         },
         "mode": "markers",
         "name": "Hawaii",
         "orientation": "v",
         "showlegend": true,
         "type": "scatter",
         "x": [
          "United States<br<br />/>of America"
         ],
         "xaxis": "x",
         "y": [
          -0.003745574443437633
         ],
         "yaxis": "y"
        },
        {
         "hovertemplate": "Country=New Hampshire<br>airline_country=%{x}<br>Shap interaction value=%{y}<extra></extra>",
         "legendgroup": "New Hampshire",
         "marker": {
          "color": "rgb(140, 120, 93)",
          "line": {
           "color": "white",
           "width": 0.8
          },
          "opacity": 0.8,
          "size": 8,
          "symbol": "circle"
         },
         "mode": "markers",
         "name": "New Hampshire",
         "orientation": "v",
         "showlegend": true,
         "type": "scatter",
         "x": [
          "United Kingdom"
         ],
         "xaxis": "x",
         "y": [
          0.01498266616968239
         ],
         "yaxis": "y"
        },
        {
         "hovertemplate": "Country=Canary Islands<br>airline_country=%{x}<br>Shap interaction value=%{y}<extra></extra>",
         "legendgroup": "Canary Islands",
         "marker": {
          "color": "rgb(124, 124, 124)",
          "line": {
           "color": "white",
           "width": 0.8
          },
          "opacity": 0.8,
          "size": 8,
          "symbol": "circle"
         },
         "mode": "markers",
         "name": "Canary Islands",
         "orientation": "v",
         "showlegend": true,
         "type": "scatter",
         "x": [
          "United States<br<br />/>of America"
         ],
         "xaxis": "x",
         "y": [
          -0.09405927214747925
         ],
         "yaxis": "y"
        },
        {
         "hovertemplate": "Country=Dutch Guyana<br>airline_country=%{x}<br>Shap interaction value=%{y}<extra></extra>",
         "legendgroup": "Dutch Guyana",
         "marker": {
          "color": "rgb(133, 92, 117)",
          "line": {
           "color": "white",
           "width": 0.8
          },
          "opacity": 0.8,
          "size": 8,
          "symbol": "circle"
         },
         "mode": "markers",
         "name": "Dutch Guyana",
         "orientation": "v",
         "showlegend": true,
         "type": "scatter",
         "x": [
          "United States<br<br />/>of America"
         ],
         "xaxis": "x",
         "y": [
          -0.012186305557272653
         ],
         "yaxis": "y"
        },
        {
         "hovertemplate": "Country=Ohio<br>airline_country=%{x}<br>Shap interaction value=%{y}<extra></extra>",
         "legendgroup": "Ohio",
         "marker": {
          "color": "rgb(217, 175, 107)",
          "line": {
           "color": "white",
           "width": 0.8
          },
          "opacity": 0.8,
          "size": 8,
          "symbol": "circle"
         },
         "mode": "markers",
         "name": "Ohio",
         "orientation": "v",
         "showlegend": true,
         "type": "scatter",
         "x": [
          "United States<br<br />/>of America"
         ],
         "xaxis": "x",
         "y": [
          -0.022021417124440543
         ],
         "yaxis": "y"
        },
        {
         "hovertemplate": "Country=Ireland<br>airline_country=%{x}<br>Shap interaction value=%{y}<extra></extra>",
         "legendgroup": "Ireland",
         "marker": {
          "color": "rgb(175, 100, 88)",
          "line": {
           "color": "white",
           "width": 0.8
          },
          "opacity": 0.8,
          "size": 8,
          "symbol": "circle"
         },
         "mode": "markers",
         "name": "Ireland",
         "orientation": "v",
         "showlegend": true,
         "type": "scatter",
         "x": [
          "United States<br<br />/>of America"
         ],
         "xaxis": "x",
         "y": [
          0.004143536262576156
         ],
         "yaxis": "y"
        }
       ],
       "layout": {
        "autosize": false,
        "coloraxis": {
         "colorbar": {
          "title": {
           "text": "Country"
          }
         }
        },
        "height": 600,
        "hovermode": "closest",
        "legend": {
         "title": {
          "text": "Country"
         }
        },
        "template": {
         "data": {
          "scatter": [
           {
            "type": "scatter"
           }
          ]
         }
        },
        "title": {
         "font": {
          "color": "rgb(50, 50, 50)",
          "family": "Arial",
          "size": 24
         },
         "text": "<b>airline_country and Country</b> shap interaction values",
         "x": 0.5,
         "xanchor": "center",
         "y": 0.9,
         "yanchor": "middle"
        },
        "violingap": 0.05,
        "violingroupgap": 0,
        "violinmode": "overlay",
        "width": 900,
        "xaxis": {
         "automargin": true,
         "range": [
          -0.6,
          5.6
         ],
         "title": {
          "font": {
           "color": "rgb(50, 50, 50)",
           "family": "Arial Black",
           "size": 16
          },
          "text": "airline_country"
         },
         "type": "category"
        },
        "yaxis": {
         "automargin": true,
         "title": {
          "font": {
           "color": "rgb(50, 50, 50)",
           "family": "Arial Black",
           "size": 16
          },
          "text": "Shap interaction value"
         }
        }
       }
      }
     },
     "metadata": {},
     "output_type": "display_data"
    }
   ],
   "source": [
    "xpl_lgb.plot.interactions_plot('airline_country', 'Country')\n",
    "\n"
   ]
  },
  {
   "cell_type": "code",
   "execution_count": 30,
   "metadata": {},
   "outputs": [
    {
     "data": {
      "application/vnd.plotly.v1+json": {
       "config": {
        "plotlyServerURL": "https://plot.ly"
       },
       "data": [
        {
         "line": {
          "color": "rgba(117, 152, 189, 0.9)"
         },
         "marker": {
          "line": {
           "color": "white",
           "width": 0.8
          },
          "opacity": 0.8,
          "size": 8
         },
         "meanline": {
          "visible": true
         },
         "scalemode": "count",
         "showlegend": false,
         "type": "violin",
         "visible": true,
         "x": [
          "Attack",
          "Attack",
          "Attack",
          "Attack",
          "Attack",
          "Attack"
         ],
         "y": [
          0.35804593724240696,
          0.3984372258567819,
          0.2966002583189648,
          2.339034805746801,
          0.506475822226463,
          0.8760918436274819
         ]
        },
        {
         "line": {
          "color": "rgba(117, 152, 189, 0.9)"
         },
         "marker": {
          "line": {
           "color": "white",
           "width": 0.8
          },
          "opacity": 0.8,
          "size": 8
         },
         "meanline": {
          "visible": true
         },
         "scalemode": "count",
         "showlegend": false,
         "type": "violin",
         "visible": true,
         "x": [
          "Mechanical<br />Failure",
          "Mechanical<br />Failure",
          "Mechanical<br />Failure",
          "Mechanical<br />Failure",
          "Mechanical<br />Failure",
          "Mechanical<br />Failure",
          "Mechanical<br />Failure",
          "Mechanical<br />Failure",
          "Mechanical<br />Failure",
          "Mechanical<br />Failure",
          "Mechanical<br />Failure",
          "Mechanical<br />Failure",
          "Mechanical<br />Failure",
          "Mechanical<br />Failure",
          "Mechanical<br />Failure"
         ],
         "y": [
          0.9010521564578247,
          -0.6905088385217281,
          0.321615014077145,
          0.543818867060547,
          0.9086565977641679,
          0.6372232718142457,
          0.531863307257191,
          -2.849160245588439,
          0.943598437150538,
          0.6129062538969888,
          2.8050329461643884,
          0.7394641452340158,
          0.887326175497094,
          0.7438324187248073,
          0.34792585347117116
         ]
        },
        {
         "line": {
          "color": "rgba(117, 152, 189, 0.9)"
         },
         "marker": {
          "line": {
           "color": "white",
           "width": 0.8
          },
          "opacity": 0.8,
          "size": 8
         },
         "meanline": {
          "visible": true
         },
         "scalemode": "count",
         "showlegend": false,
         "type": "violin",
         "visible": true,
         "x": [
          "Other",
          "Other"
         ],
         "y": [
          9.576658771688507,
          8.471273776628264
         ]
        },
        {
         "line": {
          "color": "rgba(117, 152, 189, 0.9)"
         },
         "marker": {
          "line": {
           "color": "white",
           "width": 0.8
          },
          "opacity": 0.8,
          "size": 8
         },
         "meanline": {
          "visible": true
         },
         "scalemode": "count",
         "showlegend": false,
         "type": "violin",
         "visible": true,
         "x": [
          "Pilot Error",
          "Pilot Error",
          "Pilot Error",
          "Pilot Error",
          "Pilot Error",
          "Pilot Error",
          "Pilot Error",
          "Pilot Error",
          "Pilot Error",
          "Pilot Error",
          "Pilot Error",
          "Pilot Error",
          "Pilot Error",
          "Pilot Error",
          "Pilot Error",
          "Pilot Error",
          "Pilot Error",
          "Pilot Error",
          "Pilot Error",
          "Pilot Error",
          "Pilot Error",
          "Pilot Error",
          "Pilot Error",
          "Pilot Error",
          "Pilot Error",
          "Pilot Error",
          "Pilot Error",
          "Pilot Error",
          "Pilot Error",
          "Pilot Error",
          "Pilot Error",
          "Pilot Error",
          "Pilot Error",
          "Pilot Error",
          "Pilot Error",
          "Pilot Error",
          "Pilot Error",
          "Pilot Error",
          "Pilot Error",
          "Pilot Error",
          "Pilot Error",
          "Pilot Error",
          "Pilot Error",
          "Pilot Error",
          "Pilot Error",
          "Pilot Error",
          "Pilot Error",
          "Pilot Error",
          "Pilot Error",
          "Pilot Error",
          "Pilot Error",
          "Pilot Error",
          "Pilot Error",
          "Pilot Error",
          "Pilot Error",
          "Pilot Error",
          "Pilot Error",
          "Pilot Error",
          "Pilot Error",
          "Pilot Error",
          "Pilot Error",
          "Pilot Error",
          "Pilot Error",
          "Pilot Error",
          "Pilot Error",
          "Pilot Error",
          "Pilot Error",
          "Pilot Error",
          "Pilot Error",
          "Pilot Error",
          "Pilot Error",
          "Pilot Error",
          "Pilot Error",
          "Pilot Error",
          "Pilot Error",
          "Pilot Error",
          "Pilot Error",
          "Pilot Error",
          "Pilot Error",
          "Pilot Error",
          "Pilot Error",
          "Pilot Error",
          "Pilot Error",
          "Pilot Error",
          "Pilot Error"
         ],
         "y": [
          0.8056456226483101,
          0.24142563901555797,
          2.6214463012983327,
          0.4208530701890458,
          0.57901842670862,
          0.8060623632107046,
          0.45902503665257255,
          0.5471638674813746,
          0.6732668669097928,
          -8.29624732540951,
          2.632778293271733,
          0.09173406118685026,
          0.5838471540034463,
          0.6067309132823233,
          0.5318058879257573,
          0.5633628065200282,
          2.694344066470894,
          0.5659599511079114,
          0.8366303174896546,
          0.508263306273572,
          0.2612262288472419,
          -8.979443880801902,
          0.5569176741248641,
          0.5887263551931964,
          1.0410212954072904,
          2.7519630029264652,
          0.4233836472253064,
          2.4795347778152834,
          0.5982585838293712,
          0.5010675983470778,
          0.4696328553259559,
          0.6169536789183461,
          0.2174605345245028,
          0.5125256913365631,
          0.40203490850726215,
          0.6865098971390325,
          0.18119107713955662,
          1.1613398331443,
          0.3949636534513651,
          0.8624429401740528,
          0.3096646032813035,
          0.6429156556217296,
          2.76781151791191,
          2.232175977571993,
          0.17989297688315636,
          0.5576804429685387,
          1.0301918103137548,
          0.3589618016288618,
          0.5722792668807901,
          0.832765934522671,
          0.2546413391071726,
          0.6918794708460381,
          0.47261756580583136,
          0.33640808826898855,
          0.539358167991381,
          0.35443483761050454,
          0.5734759422766269,
          0.3912828843820554,
          0.8566899689385156,
          2.027215996039531,
          0.31435898668262724,
          0.7690167493121444,
          0.5970749876280633,
          0.8729805504381932,
          0.3944556264882884,
          0.8085238049319987,
          2.64026493442396,
          0.2525936638958955,
          0.5385953603473035,
          0.18235147693611398,
          0.8021579001008549,
          0.2720793427520436,
          0.44284511646573715,
          0.5636683938426962,
          -10.074977802116342,
          0.2714299748333656,
          0.1671230575131118,
          -2.9001817385281514,
          0.30549780357261996,
          0.7798932210798389,
          0.5417046255010619,
          0.5449803434438225,
          0.4669157483793852,
          0.4209253723690582,
          0.6430568527614936
         ]
        },
        {
         "line": {
          "color": "rgba(117, 152, 189, 0.9)"
         },
         "marker": {
          "line": {
           "color": "white",
           "width": 0.8
          },
          "opacity": 0.8,
          "size": 8
         },
         "meanline": {
          "visible": true
         },
         "scalemode": "count",
         "showlegend": false,
         "type": "violin",
         "visible": true,
         "x": [
          "Unknown",
          "Unknown",
          "Unknown",
          "Unknown",
          "Unknown",
          "Unknown",
          "Unknown",
          "Unknown",
          "Unknown",
          "Unknown",
          "Unknown",
          "Unknown",
          "Unknown",
          "Unknown",
          "Unknown",
          "Unknown"
         ],
         "y": [
          -0.4956667808704463,
          -1.4180642374517494,
          -0.6021238230039972,
          -0.6003629494895449,
          -0.8219208316779409,
          -0.8028259732424075,
          -0.6650498343280378,
          -1.3964699348519443,
          -0.22827424690522274,
          -0.6339631483769225,
          -0.45383066109362025,
          9.524754153267814,
          -0.9598958273448431,
          -0.3774197330260275,
          -0.9431617077892042,
          -0.5182436604307598
         ]
        },
        {
         "line": {
          "color": "rgba(117, 152, 189, 0.9)"
         },
         "marker": {
          "line": {
           "color": "white",
           "width": 0.8
          },
          "opacity": 0.8,
          "size": 8
         },
         "meanline": {
          "visible": true
         },
         "scalemode": "count",
         "showlegend": false,
         "type": "violin",
         "visible": true,
         "x": [
          "Weather",
          "Weather",
          "Weather",
          "Weather",
          "Weather",
          "Weather",
          "Weather",
          "Weather",
          "Weather",
          "Weather",
          "Weather",
          "Weather",
          "Weather",
          "Weather",
          "Weather",
          "Weather",
          "Weather",
          "Weather",
          "Weather",
          "Weather",
          "Weather",
          "Weather",
          "Weather",
          "Weather",
          "Weather",
          "Weather",
          "Weather",
          "Weather",
          "Weather",
          "Weather",
          "Weather",
          "Weather",
          "Weather",
          "Weather",
          "Weather",
          "Weather",
          "Weather",
          "Weather",
          "Weather",
          "Weather",
          "Weather",
          "Weather",
          "Weather",
          "Weather",
          "Weather",
          "Weather",
          "Weather",
          "Weather",
          "Weather",
          "Weather",
          "Weather",
          "Weather",
          "Weather",
          "Weather",
          "Weather",
          "Weather",
          "Weather",
          "Weather",
          "Weather",
          "Weather",
          "Weather",
          "Weather",
          "Weather",
          "Weather",
          "Weather",
          "Weather",
          "Weather",
          "Weather",
          "Weather",
          "Weather",
          "Weather",
          "Weather",
          "Weather",
          "Weather",
          "Weather",
          "Weather"
         ],
         "y": [
          -0.7822267993575698,
          -0.7925741260984019,
          -0.707498023178674,
          -1.934252528295287,
          -0.30610143090820763,
          -1.5331382890560479,
          -0.27250190090896076,
          -0.37741763145269147,
          -0.5019078048683074,
          -0.36619605680911005,
          -0.5136254094321441,
          -0.8669895703223065,
          -0.5858620511332877,
          -0.8856640819876065,
          -0.7210413052674478,
          8.733547152425528,
          -0.6764951732758311,
          -0.410486705503909,
          -0.8932979623343277,
          -0.6482003640223423,
          -0.6317012862966567,
          2.3868436596767757,
          9.572946409064906,
          -0.5643247236489854,
          -0.6774215434452638,
          -0.6251089087570331,
          -0.6510100957383782,
          -0.5417733981013714,
          -0.4341879649300321,
          9.553126583856717,
          8.30834700296832,
          -0.7710275071431303,
          -0.7060448015941975,
          -0.5217361155315511,
          -0.1894160762640879,
          -0.22536166373971986,
          -0.37036983041390276,
          -0.3164352784014983,
          -0.43983797150774956,
          2.431839761244375,
          -0.8194578835671371,
          -2.5530697440294934,
          -0.2722678271840463,
          -0.3473337304281193,
          -1.467259906783005,
          -0.35755570719451685,
          -1.3316673170667233,
          9.516881494833752,
          -0.37998011802134696,
          -0.3492990902315334,
          -0.327327322626153,
          -0.9597362194368851,
          -2.384721706428903,
          -0.3923506667191394,
          9.405140796202227,
          -0.40154085130223166,
          -0.5132378920418113,
          -0.6472565328554385,
          -0.543536611063819,
          -0.7505387309320737,
          -0.35387538645991146,
          -2.0828037018226455,
          -0.45082471172923283,
          8.592784667396808,
          -0.3996959847347355,
          -0.3810882842187916,
          -0.47325803385237675,
          8.635114879145389,
          -0.5162277277286876,
          -0.751635061958572,
          -2.536990274637187,
          -2.5616994225172944,
          -0.49600415568192013,
          -0.6965522730411483,
          -0.31215163998424456,
          9.444716462914137
         ]
        },
        {
         "hovertemplate": "Cause=%{x}<br>Shap interaction value=%{y}<br>Aboard=%{marker.color}<extra></extra>",
         "legendgroup": "",
         "marker": {
          "color": [
           5,
           32,
           25,
           26,
           16,
           79,
           16,
           27,
           13,
           31,
           17,
           22,
           23,
           59,
           2,
           21,
           62,
           7,
           16,
           57,
           16,
           16,
           11,
           3,
           113,
           7,
           75,
           3,
           5,
           15,
           27,
           5,
           3,
           18,
           7,
           12,
           4,
           27,
           79,
           7,
           20,
           5,
           23,
           4,
           14,
           135,
           132,
           10,
           4,
           44,
           36,
           20,
           24,
           5,
           51,
           9,
           69,
           28,
           70,
           18,
           3,
           4,
           12,
           3,
           11,
           48,
           59,
           4,
           2,
           8,
           22,
           176,
           46,
           98,
           54,
           3,
           51,
           6,
           260,
           45,
           19,
           5,
           26,
           78,
           10,
           12,
           29,
           20,
           6,
           37,
           63,
           13,
           1,
           309,
           8,
           109,
           14,
           31,
           7,
           152,
           24,
           51,
           50,
           99,
           13,
           20,
           13,
           12,
           9,
           10,
           35,
           47,
           3,
           39,
           25,
           17,
           31,
           298,
           47,
           1,
           25,
           13,
           15,
           10,
           102,
           10,
           64,
           14,
           9,
           15,
           31,
           10,
           85,
           2,
           23,
           25,
           3,
           38,
           10,
           53,
           2,
           53,
           225,
           38,
           69,
           44,
           78,
           6,
           9,
           2,
           2,
           12,
           26,
           61,
           8,
           34,
           63,
           14,
           13,
           17,
           155,
           166,
           2,
           19,
           12,
           7,
           4,
           37,
           6,
           29,
           107,
           23,
           14,
           3,
           68,
           18,
           9,
           145,
           15,
           13,
           3,
           22,
           6,
           3,
           4,
           124,
           49,
           13,
           16,
           22,
           35,
           80,
           18,
           95,
           2,
           16,
           31,
           7,
           30,
           239
          ],
          "coloraxis": "coloraxis",
          "line": {
           "color": "white",
           "width": 0.8
          },
          "opacity": 0.8,
          "size": 8,
          "symbol": "circle"
         },
         "mode": "markers",
         "name": "",
         "orientation": "v",
         "showlegend": false,
         "type": "scatter",
         "visible": true,
         "x": [
          "Mechanical<br<br />/>Failure",
          "Attack",
          "Weather",
          "Pilot Error",
          "Pilot Error",
          "Pilot Error",
          "Pilot Error",
          "Weather",
          "Unknown",
          "Attack",
          "Pilot Error",
          "Pilot Error",
          "Weather",
          "Unknown",
          "Pilot Error",
          "Unknown",
          "Weather",
          "Pilot Error",
          "Weather",
          "Weather",
          "Weather",
          "Weather",
          "Pilot Error",
          "Unknown",
          "Pilot Error",
          "Weather",
          "Pilot Error",
          "Weather",
          "Weather",
          "Pilot Error",
          "Weather",
          "Pilot Error",
          "Unknown",
          "Weather",
          "Pilot Error",
          "Pilot Error",
          "Pilot Error",
          "Weather",
          "Pilot Error",
          "Unknown",
          "Weather",
          "Pilot Error",
          "Pilot Error",
          "Pilot Error",
          "Pilot Error",
          "Weather",
          "Pilot Error",
          "Weather",
          "Pilot Error",
          "Mechanical<br<br />/>Failure",
          "Weather",
          "Mechanical<br<br />/>Failure",
          "Weather",
          "Pilot Error",
          "Pilot Error",
          "Weather",
          "Pilot Error",
          "Pilot Error",
          "Pilot Error",
          "Pilot Error",
          "Unknown",
          "Pilot Error",
          "Pilot Error",
          "Pilot Error",
          "Weather",
          "Pilot Error",
          "Unknown",
          "Pilot Error",
          "Pilot Error",
          "Pilot Error",
          "Mechanical<br<br />/>Failure",
          "Other",
          "Pilot Error",
          "Weather",
          "Pilot Error",
          "Pilot Error",
          "Pilot Error",
          "Mechanical<br<br />/>Failure",
          "Weather",
          "Pilot Error",
          "Weather",
          "Pilot Error",
          "Weather",
          "Pilot Error",
          "Weather",
          "Mechanical<br<br />/>Failure",
          "Unknown",
          "Weather",
          "Weather",
          "Weather",
          "Pilot Error",
          "Pilot Error",
          "Pilot Error",
          "Weather",
          "Pilot Error",
          "Weather",
          "Mechanical<br<br />/>Failure",
          "Pilot Error",
          "Pilot Error",
          "Other",
          "Pilot Error",
          "Weather",
          "Attack",
          "Mechanical<br<br />/>Failure",
          "Pilot Error",
          "Pilot Error",
          "Pilot Error",
          "Pilot Error",
          "Weather",
          "Weather",
          "Pilot Error",
          "Weather",
          "Unknown",
          "Pilot Error",
          "Unknown",
          "Pilot Error",
          "Pilot Error",
          "Unknown",
          "Weather",
          "Weather",
          "Pilot Error",
          "Weather",
          "Weather",
          "Mechanical<br<br />/>Failure",
          "Weather",
          "Unknown",
          "Pilot Error",
          "Pilot Error",
          "Pilot Error",
          "Mechanical<br<br />/>Failure",
          "Weather",
          "Pilot Error",
          "Weather",
          "Weather",
          "Pilot Error",
          "Unknown",
          "Weather",
          "Pilot Error",
          "Pilot Error",
          "Weather",
          "Weather",
          "Weather",
          "Weather",
          "Weather",
          "Pilot Error",
          "Pilot Error",
          "Mechanical<br<br />/>Failure",
          "Pilot Error",
          "Unknown",
          "Weather",
          "Weather",
          "Pilot Error",
          "Pilot Error",
          "Attack",
          "Weather",
          "Pilot Error",
          "Weather",
          "Weather",
          "Pilot Error",
          "Pilot Error",
          "Pilot Error",
          "Weather",
          "Mechanical<br<br />/>Failure",
          "Weather",
          "Pilot Error",
          "Weather",
          "Weather",
          "Pilot Error",
          "Mechanical<br<br />/>Failure",
          "Weather",
          "Pilot Error",
          "Weather",
          "Attack",
          "Weather",
          "Weather",
          "Weather",
          "Attack",
          "Weather",
          "Weather",
          "Pilot Error",
          "Weather",
          "Pilot Error",
          "Weather",
          "Mechanical<br<br />/>Failure",
          "Pilot Error",
          "Weather",
          "Weather",
          "Unknown",
          "Mechanical<br<br />/>Failure",
          "Weather",
          "Pilot Error",
          "Weather",
          "Pilot Error",
          "Weather",
          "Weather",
          "Pilot Error",
          "Weather",
          "Pilot Error",
          "Weather",
          "Weather"
         ],
         "xaxis": "x",
         "y": [
          0.9010521564578247,
          0.35804593724240696,
          -0.7822267993575698,
          0.8056456226483101,
          0.24142563901555797,
          2.6214463012983327,
          0.4208530701890458,
          -0.7925741260984019,
          -0.4956667808704463,
          0.3984372258567819,
          0.57901842670862,
          0.8060623632107046,
          -0.707498023178674,
          -1.4180642374517494,
          0.45902503665257255,
          -0.6021238230039972,
          -1.934252528295287,
          0.5471638674813746,
          -0.30610143090820763,
          -1.5331382890560479,
          -0.27250190090896076,
          -0.37741763145269147,
          0.6732668669097928,
          -0.6003629494895449,
          -8.29624732540951,
          -0.5019078048683074,
          2.632778293271733,
          -0.36619605680911005,
          -0.5136254094321441,
          0.09173406118685026,
          -0.8669895703223065,
          0.5838471540034463,
          -0.8219208316779409,
          -0.5858620511332877,
          0.6067309132823233,
          0.5318058879257573,
          0.5633628065200282,
          -0.8856640819876065,
          2.694344066470894,
          -0.8028259732424075,
          -0.7210413052674478,
          0.5659599511079114,
          0.8366303174896546,
          0.508263306273572,
          0.2612262288472419,
          8.733547152425528,
          -8.979443880801902,
          -0.6764951732758311,
          0.5569176741248641,
          -0.6905088385217281,
          -0.410486705503909,
          0.321615014077145,
          -0.8932979623343277,
          0.5887263551931964,
          1.0410212954072904,
          -0.6482003640223423,
          2.7519630029264652,
          0.4233836472253064,
          2.4795347778152834,
          0.5982585838293712,
          -0.6650498343280378,
          0.5010675983470778,
          0.4696328553259559,
          0.6169536789183461,
          -0.6317012862966567,
          0.2174605345245028,
          -1.3964699348519443,
          0.5125256913365631,
          0.40203490850726215,
          0.6865098971390325,
          0.543818867060547,
          9.576658771688507,
          0.18119107713955662,
          2.3868436596767757,
          1.1613398331443,
          0.3949636534513651,
          0.8624429401740528,
          0.9086565977641679,
          9.572946409064906,
          0.3096646032813035,
          -0.5643247236489854,
          0.6429156556217296,
          -0.6774215434452638,
          2.76781151791191,
          -0.6251089087570331,
          0.6372232718142457,
          -0.22827424690522274,
          -0.6510100957383782,
          -0.5417733981013714,
          -0.4341879649300321,
          2.232175977571993,
          0.17989297688315636,
          0.5576804429685387,
          9.553126583856717,
          1.0301918103137548,
          8.30834700296832,
          0.531863307257191,
          0.3589618016288618,
          0.5722792668807901,
          8.471273776628264,
          0.832765934522671,
          -0.7710275071431303,
          0.2966002583189648,
          -2.849160245588439,
          0.2546413391071726,
          0.6918794708460381,
          0.47261756580583136,
          0.33640808826898855,
          -0.7060448015941975,
          -0.5217361155315511,
          0.539358167991381,
          -0.1894160762640879,
          -0.6339631483769225,
          0.35443483761050454,
          -0.45383066109362025,
          0.5734759422766269,
          0.3912828843820554,
          9.524754153267814,
          -0.22536166373971986,
          -0.37036983041390276,
          0.8566899689385156,
          -0.3164352784014983,
          -0.43983797150774956,
          0.943598437150538,
          2.431839761244375,
          -0.9598958273448431,
          2.027215996039531,
          0.31435898668262724,
          0.7690167493121444,
          0.6129062538969888,
          -0.8194578835671371,
          0.5970749876280633,
          -2.5530697440294934,
          -0.2722678271840463,
          0.8729805504381932,
          -0.3774197330260275,
          -0.3473337304281193,
          0.3944556264882884,
          0.8085238049319987,
          -1.467259906783005,
          -0.35755570719451685,
          -1.3316673170667233,
          9.516881494833752,
          -0.37998011802134696,
          2.64026493442396,
          0.2525936638958955,
          2.8050329461643884,
          0.5385953603473035,
          -0.9431617077892042,
          -0.3492990902315334,
          -0.327327322626153,
          0.18235147693611398,
          0.8021579001008549,
          2.339034805746801,
          -0.9597362194368851,
          0.2720793427520436,
          -2.384721706428903,
          -0.3923506667191394,
          0.44284511646573715,
          0.5636683938426962,
          -10.074977802116342,
          9.405140796202227,
          0.7394641452340158,
          -0.40154085130223166,
          0.2714299748333656,
          -0.5132378920418113,
          -0.6472565328554385,
          0.1671230575131118,
          0.887326175497094,
          -0.543536611063819,
          -2.9001817385281514,
          -0.7505387309320737,
          0.506475822226463,
          -0.35387538645991146,
          -2.0828037018226455,
          -0.45082471172923283,
          0.8760918436274819,
          8.592784667396808,
          -0.3996959847347355,
          0.30549780357261996,
          -0.3810882842187916,
          0.7798932210798389,
          -0.47325803385237675,
          0.7438324187248073,
          0.5417046255010619,
          8.635114879145389,
          -0.5162277277286876,
          -0.5182436604307598,
          0.34792585347117116,
          -0.751635061958572,
          0.5449803434438225,
          -2.536990274637187,
          0.4669157483793852,
          -2.5616994225172944,
          -0.49600415568192013,
          0.4209253723690582,
          -0.6965522730411483,
          0.6430568527614936,
          -0.31215163998424456,
          9.444716462914137
         ],
         "yaxis": "y"
        },
        {
         "hovertemplate": "Country=Germany<br>Aboard=%{x}<br>Shap interaction value=%{y}<extra></extra>",
         "legendgroup": "Germany",
         "marker": {
          "color": "rgb(133, 92, 117)",
          "line": {
           "color": "white",
           "width": 0.8
          },
          "opacity": 0.8,
          "size": 8,
          "symbol": "circle"
         },
         "mode": "markers",
         "name": "Germany",
         "orientation": "v",
         "showlegend": true,
         "type": "scatter",
         "visible": false,
         "x": [
          5,
          3,
          12,
          3,
          6,
          8,
          15,
          8,
          6,
          3,
          30
         ],
         "xaxis": "x",
         "y": [
          2.40256099972879,
          2.1296528080604125,
          1.051405756462932,
          2.4334185323627127,
          2.1728165418017715,
          2.4623679068001714,
          0.6803198892502128,
          2.065015048353689,
          2.191049082315064,
          2.4503341399920733,
          1.227789120507135
         ],
         "yaxis": "y"
        },
        {
         "hovertemplate": "Country=South Vietnam<br>Aboard=%{x}<br>Shap interaction value=%{y}<extra></extra>",
         "legendgroup": "South Vietnam",
         "marker": {
          "color": "rgb(217, 175, 107)",
          "line": {
           "color": "white",
           "width": 0.8
          },
          "opacity": 0.8,
          "size": 8,
          "symbol": "circle"
         },
         "mode": "markers",
         "name": "South Vietnam",
         "orientation": "v",
         "showlegend": true,
         "type": "scatter",
         "visible": false,
         "x": [
          32,
          79,
          20,
          29,
          85,
          23,
          25,
          78
         ],
         "xaxis": "x",
         "y": [
          -0.049199417501665565,
          1.7819496552660479,
          -1.1408983355253457,
          -0.6477272501543767,
          1.858910927727743,
          -0.4232791854075913,
          -0.04329972133391556,
          -0.22292987185643268
         ],
         "yaxis": "y"
        },
        {
         "hovertemplate": "Country=Texas<br>Aboard=%{x}<br>Shap interaction value=%{y}<extra></extra>",
         "legendgroup": "Texas",
         "marker": {
          "color": "rgb(175, 100, 88)",
          "line": {
           "color": "white",
           "width": 0.8
          },
          "opacity": 0.8,
          "size": 8,
          "symbol": "circle"
         },
         "mode": "markers",
         "name": "Texas",
         "orientation": "v",
         "showlegend": true,
         "type": "scatter",
         "visible": false,
         "x": [
          25,
          12
         ],
         "xaxis": "x",
         "y": [
          -0.5668525136092724,
          0.40493406981173974
         ],
         "yaxis": "y"
        },
        {
         "hovertemplate": "Country=Okinawa<br>Aboard=%{x}<br>Shap interaction value=%{y}<extra></extra>",
         "legendgroup": "Okinawa",
         "marker": {
          "color": "rgb(115, 111, 76)",
          "line": {
           "color": "white",
           "width": 0.8
          },
          "opacity": 0.8,
          "size": 8,
          "symbol": "circle"
         },
         "mode": "markers",
         "name": "Okinawa",
         "orientation": "v",
         "showlegend": true,
         "type": "scatter",
         "visible": false,
         "x": [
          26
         ],
         "xaxis": "x",
         "y": [
          0.20944645074402202
         ],
         "yaxis": "y"
        },
        {
         "hovertemplate": "Country=France<br>Aboard=%{x}<br>Shap interaction value=%{y}<extra></extra>",
         "legendgroup": "France",
         "marker": {
          "color": "rgb(82, 106, 131)",
          "line": {
           "color": "white",
           "width": 0.8
          },
          "opacity": 0.8,
          "size": 8,
          "symbol": "circle"
         },
         "mode": "markers",
         "name": "France",
         "orientation": "v",
         "showlegend": true,
         "type": "scatter",
         "visible": false,
         "x": [
          16,
          3,
          132,
          70,
          22,
          3,
          7,
          9,
          95,
          7
         ],
         "xaxis": "x",
         "y": [
          0.25859000723784475,
          0.332338733186597,
          -3.560983633219858,
          -0.04268186458736489,
          0.34158124871493173,
          0.3860365118247353,
          0.4641970646425343,
          0.9572740234665734,
          -2.768674138432335,
          0.23669020775300828
         ],
         "yaxis": "y"
        },
        {
         "hovertemplate": "Country=Laos<br>Aboard=%{x}<br>Shap interaction value=%{y}<extra></extra>",
         "legendgroup": "Laos",
         "marker": {
          "color": "rgb(98, 83, 119)",
          "line": {
           "color": "white",
           "width": 0.8
          },
          "opacity": 0.8,
          "size": 8,
          "symbol": "circle"
         },
         "mode": "markers",
         "name": "Laos",
         "orientation": "v",
         "showlegend": true,
         "type": "scatter",
         "visible": false,
         "x": [
          16,
          14
         ],
         "xaxis": "x",
         "y": [
          -0.4432758658370086,
          0.8549628826445618
         ],
         "yaxis": "y"
        },
        {
         "hovertemplate": "Country=UK<br>Aboard=%{x}<br>Shap interaction value=%{y}<extra></extra>",
         "legendgroup": "UK",
         "marker": {
          "color": "rgb(104, 133, 92)",
          "line": {
           "color": "white",
           "width": 0.8
          },
          "opacity": 0.8,
          "size": 8,
          "symbol": "circle"
         },
         "mode": "markers",
         "name": "UK",
         "orientation": "v",
         "showlegend": true,
         "type": "scatter",
         "visible": false,
         "x": [
          27
         ],
         "xaxis": "x",
         "y": [
          -0.43168923897137945
         ],
         "yaxis": "y"
        },
        {
         "hovertemplate": "Country=Switzerland<br>Aboard=%{x}<br>Shap interaction value=%{y}<extra></extra>",
         "legendgroup": "Switzerland",
         "marker": {
          "color": "rgb(156, 156, 94)",
          "line": {
           "color": "white",
           "width": 0.8
          },
          "opacity": 0.8,
          "size": 8,
          "symbol": "circle"
         },
         "mode": "markers",
         "name": "Switzerland",
         "orientation": "v",
         "showlegend": true,
         "type": "scatter",
         "visible": false,
         "x": [
          13
         ],
         "xaxis": "x",
         "y": [
          0.1749056669910125
         ],
         "yaxis": "y"
        },
        {
         "hovertemplate": "Country=North Korea<br>Aboard=%{x}<br>Shap interaction value=%{y}<extra></extra>",
         "legendgroup": "North Korea",
         "marker": {
          "color": "rgb(160, 97, 119)",
          "line": {
           "color": "white",
           "width": 0.8
          },
          "opacity": 0.8,
          "size": 8,
          "symbol": "circle"
         },
         "mode": "markers",
         "name": "North Korea",
         "orientation": "v",
         "showlegend": true,
         "type": "scatter",
         "visible": false,
         "x": [
          31
         ],
         "xaxis": "x",
         "y": [
          -1.5812995232612768
         ],
         "yaxis": "y"
        },
        {
         "hovertemplate": "Country=Brazil<br>Aboard=%{x}<br>Shap interaction value=%{y}<extra></extra>",
         "legendgroup": "Brazil",
         "marker": {
          "color": "rgb(140, 120, 93)",
          "line": {
           "color": "white",
           "width": 0.8
          },
          "opacity": 0.8,
          "size": 8,
          "symbol": "circle"
         },
         "mode": "markers",
         "name": "Brazil",
         "orientation": "v",
         "showlegend": true,
         "type": "scatter",
         "visible": false,
         "x": [
          17,
          16
         ],
         "xaxis": "x",
         "y": [
          -0.09129669951016402,
          -0.16192045757259949
         ],
         "yaxis": "y"
        },
        {
         "hovertemplate": "Country=Puerto Rico<br>Aboard=%{x}<br>Shap interaction value=%{y}<extra></extra>",
         "legendgroup": "Puerto Rico",
         "marker": {
          "color": "rgb(124, 124, 124)",
          "line": {
           "color": "white",
           "width": 0.8
          },
          "opacity": 0.8,
          "size": 8,
          "symbol": "circle"
         },
         "mode": "markers",
         "name": "Puerto Rico",
         "orientation": "v",
         "showlegend": true,
         "type": "scatter",
         "visible": false,
         "x": [
          22,
          69,
          10,
          9
         ],
         "xaxis": "x",
         "y": [
          -0.33933422335761193,
          -0.6609346064202116,
          0.31963108855531236,
          0.26013446163804743
         ],
         "yaxis": "y"
        },
        {
         "hovertemplate": "Country=New Jersey<br>Aboard=%{x}<br>Shap interaction value=%{y}<extra></extra>",
         "legendgroup": "New Jersey",
         "marker": {
          "color": "rgb(133, 92, 117)",
          "line": {
           "color": "white",
           "width": 0.8
          },
          "opacity": 0.8,
          "size": 8,
          "symbol": "circle"
         },
         "mode": "markers",
         "name": "New Jersey",
         "orientation": "v",
         "showlegend": true,
         "type": "scatter",
         "visible": false,
         "x": [
          23
         ],
         "xaxis": "x",
         "y": [
          0.6539820366893323
         ],
         "yaxis": "y"
        },
        {
         "hovertemplate": "Country=England<br>Aboard=%{x}<br>Shap interaction value=%{y}<extra></extra>",
         "legendgroup": "England",
         "marker": {
          "color": "rgb(217, 175, 107)",
          "line": {
           "color": "white",
           "width": 0.8
          },
          "opacity": 0.8,
          "size": 8,
          "symbol": "circle"
         },
         "mode": "markers",
         "name": "England",
         "orientation": "v",
         "showlegend": true,
         "type": "scatter",
         "visible": false,
         "x": [
          59,
          7,
          36,
          152,
          2,
          2
         ],
         "xaxis": "x",
         "y": [
          -3.6549220380700658,
          2.2369196791183907,
          1.1741427046377435,
          -14.61723965706132,
          2.0930515919257897,
          2.0801862319373745
         ],
         "yaxis": "y"
        },
        {
         "hovertemplate": "Country=Colorado<br>Aboard=%{x}<br>Shap interaction value=%{y}<extra></extra>",
         "legendgroup": "Colorado",
         "marker": {
          "color": "rgb(175, 100, 88)",
          "line": {
           "color": "white",
           "width": 0.8
          },
          "opacity": 0.8,
          "size": 8,
          "symbol": "circle"
         },
         "mode": "markers",
         "name": "Colorado",
         "orientation": "v",
         "showlegend": true,
         "type": "scatter",
         "visible": false,
         "x": [
          2
         ],
         "xaxis": "x",
         "y": [
          -0.5275063667424473
         ],
         "yaxis": "y"
        },
        {
         "hovertemplate": "Country=Maryland<br>Aboard=%{x}<br>Shap interaction value=%{y}<extra></extra>",
         "legendgroup": "Maryland",
         "marker": {
          "color": "rgb(115, 111, 76)",
          "line": {
           "color": "white",
           "width": 0.8
          },
          "opacity": 0.8,
          "size": 8,
          "symbol": "circle"
         },
         "mode": "markers",
         "name": "Maryland",
         "orientation": "v",
         "showlegend": true,
         "type": "scatter",
         "visible": false,
         "x": [
          21,
          5,
          14
         ],
         "xaxis": "x",
         "y": [
          -1.0034471001450693,
          -0.5110776447982397,
          0.43295170677074574
         ],
         "yaxis": "y"
        },
        {
         "hovertemplate": "Country=Kentucky<br>Aboard=%{x}<br>Shap interaction value=%{y}<extra></extra>",
         "legendgroup": "Kentucky",
         "marker": {
          "color": "rgb(82, 106, 131)",
          "line": {
           "color": "white",
           "width": 0.8
          },
          "opacity": 0.8,
          "size": 8,
          "symbol": "circle"
         },
         "mode": "markers",
         "name": "Kentucky",
         "orientation": "v",
         "showlegend": true,
         "type": "scatter",
         "visible": false,
         "x": [
          62,
          4,
          22
         ],
         "xaxis": "x",
         "y": [
          -1.585281221936974,
          -0.3371141884699945,
          0.03147055025905869
         ],
         "yaxis": "y"
        },
        {
         "hovertemplate": "Country=North Carolina<br>Aboard=%{x}<br>Shap interaction value=%{y}<extra></extra>",
         "legendgroup": "North Carolina",
         "marker": {
          "color": "rgb(98, 83, 119)",
          "line": {
           "color": "white",
           "width": 0.8
          },
          "opacity": 0.8,
          "size": 8,
          "symbol": "circle"
         },
         "mode": "markers",
         "name": "North Carolina",
         "orientation": "v",
         "showlegend": true,
         "type": "scatter",
         "visible": false,
         "x": [
          7,
          5
         ],
         "xaxis": "x",
         "y": [
          -0.27309382947347943,
          -0.23900650327229267
         ],
         "yaxis": "y"
        },
        {
         "hovertemplate": "Country=Portugal<br>Aboard=%{x}<br>Shap interaction value=%{y}<extra></extra>",
         "legendgroup": "Portugal",
         "marker": {
          "color": "rgb(104, 133, 92)",
          "line": {
           "color": "white",
           "width": 0.8
          },
          "opacity": 0.8,
          "size": 8,
          "symbol": "circle"
         },
         "mode": "markers",
         "name": "Portugal",
         "orientation": "v",
         "showlegend": true,
         "type": "scatter",
         "visible": false,
         "x": [
          16
         ],
         "xaxis": "x",
         "y": [
          -0.3807778410146405
         ],
         "yaxis": "y"
        },
        {
         "hovertemplate": "Country=Philippines<br>Aboard=%{x}<br>Shap interaction value=%{y}<extra></extra>",
         "legendgroup": "Philippines",
         "marker": {
          "color": "rgb(156, 156, 94)",
          "line": {
           "color": "white",
           "width": 0.8
          },
          "opacity": 0.8,
          "size": 8,
          "symbol": "circle"
         },
         "mode": "markers",
         "name": "Philippines",
         "orientation": "v",
         "showlegend": true,
         "type": "scatter",
         "visible": false,
         "x": [
          57,
          135,
          37,
          10,
          38,
          69
         ],
         "xaxis": "x",
         "y": [
          0.6901950928797238,
          2.670016998711213,
          -0.4208609242509641,
          -1.0724829420774165,
          0.05161190928301915,
          0.3021907750744533
         ],
         "yaxis": "y"
        },
        {
         "hovertemplate": "Country=Arizona<br>Aboard=%{x}<br>Shap interaction value=%{y}<extra></extra>",
         "legendgroup": "Arizona",
         "marker": {
          "color": "rgb(160, 97, 119)",
          "line": {
           "color": "white",
           "width": 0.8
          },
          "opacity": 0.8,
          "size": 8,
          "symbol": "circle"
         },
         "mode": "markers",
         "name": "Arizona",
         "orientation": "v",
         "showlegend": true,
         "type": "scatter",
         "visible": false,
         "x": [
          16,
          4
         ],
         "xaxis": "x",
         "y": [
          0.20260930416283846,
          -0.6016917273085893
         ],
         "yaxis": "y"
        },
        {
         "hovertemplate": "Country=Indonesia<br>Aboard=%{x}<br>Shap interaction value=%{y}<extra></extra>",
         "legendgroup": "Indonesia",
         "marker": {
          "color": "rgb(140, 120, 93)",
          "line": {
           "color": "white",
           "width": 0.8
          },
          "opacity": 0.8,
          "size": 8,
          "symbol": "circle"
         },
         "mode": "markers",
         "name": "Indonesia",
         "orientation": "v",
         "showlegend": true,
         "type": "scatter",
         "visible": false,
         "x": [
          16,
          8,
          107,
          22
         ],
         "xaxis": "x",
         "y": [
          -0.6760680524030569,
          0.2209654266492946,
          2.7276596251927834,
          -2.203454972928757
         ],
         "yaxis": "y"
        },
        {
         "hovertemplate": "Country=Japan<br>Aboard=%{x}<br>Shap interaction value=%{y}<extra></extra>",
         "legendgroup": "Japan",
         "marker": {
          "color": "rgb(124, 124, 124)",
          "line": {
           "color": "white",
           "width": 0.8
          },
          "opacity": 0.8,
          "size": 8,
          "symbol": "circle"
         },
         "mode": "markers",
         "name": "Japan",
         "orientation": "v",
         "showlegend": true,
         "type": "scatter",
         "visible": false,
         "x": [
          11,
          51,
          24,
          12,
          124
         ],
         "xaxis": "x",
         "y": [
          -0.363092569945692,
          0.7830379075055168,
          -0.21115800157913847,
          -0.3131789292111837,
          2.555974090641812
         ],
         "yaxis": "y"
        },
        {
         "hovertemplate": "Country=China<br>Aboard=%{x}<br>Shap interaction value=%{y}<extra></extra>",
         "legendgroup": "China",
         "marker": {
          "color": "rgb(133, 92, 117)",
          "line": {
           "color": "white",
           "width": 0.8
          },
          "opacity": 0.8,
          "size": 8,
          "symbol": "circle"
         },
         "mode": "markers",
         "name": "China",
         "orientation": "v",
         "showlegend": true,
         "type": "scatter",
         "visible": false,
         "x": [
          3,
          113,
          59,
          54,
          3,
          6,
          31,
          12,
          102,
          3,
          53,
          26,
          17,
          80
         ],
         "xaxis": "x",
         "y": [
          0.049731477850733105,
          1.220097552194284,
          1.2930324176179648,
          1.3816332414689865,
          -0.2385766577724441,
          -0.2727401308203378,
          -0.37796676886177316,
          -0.11638359113199148,
          0.20303588239814604,
          -0.0035195273184583827,
          1.042518139789704,
          -0.2185831695856642,
          0.21511941177526306,
          0.06267919704164647
         ],
         "yaxis": "y"
        },
        {
         "hovertemplate": "Country=New York<br>Aboard=%{x}<br>Shap interaction value=%{y}<extra></extra>",
         "legendgroup": "New York",
         "marker": {
          "color": "rgb(217, 175, 107)",
          "line": {
           "color": "white",
           "width": 0.8
          },
          "opacity": 0.8,
          "size": 8,
          "symbol": "circle"
         },
         "mode": "markers",
         "name": "New York",
         "orientation": "v",
         "showlegend": true,
         "type": "scatter",
         "visible": false,
         "x": [
          7,
          260,
          2,
          63,
          155,
          3
         ],
         "xaxis": "x",
         "y": [
          0.31068277103891706,
          3.039001051336891,
          0.16663210287778973,
          -1.3835550233732536,
          2.812893893549745,
          0.2914292730412851
         ],
         "yaxis": "y"
        },
        {
         "hovertemplate": "Country=Russia<br>Aboard=%{x}<br>Shap interaction value=%{y}<extra></extra>",
         "legendgroup": "Russia",
         "marker": {
          "color": "rgb(175, 100, 88)",
          "line": {
           "color": "white",
           "width": 0.8
          },
          "opacity": 0.8,
          "size": 8,
          "symbol": "circle"
         },
         "mode": "markers",
         "name": "Russia",
         "orientation": "v",
         "showlegend": true,
         "type": "scatter",
         "visible": false,
         "x": [
          75,
          23,
          47,
          15
         ],
         "xaxis": "x",
         "y": [
          -0.4686450219037698,
          0.1036298509833637,
          0.5472242051101007,
          0.39959213263859344
         ],
         "yaxis": "y"
        },
        {
         "hovertemplate": "Country=Peru<br>Aboard=%{x}<br>Shap interaction value=%{y}<extra></extra>",
         "legendgroup": "Peru",
         "marker": {
          "color": "rgb(115, 111, 76)",
          "line": {
           "color": "white",
           "width": 0.8
          },
          "opacity": 0.8,
          "size": 8,
          "symbol": "circle"
         },
         "mode": "markers",
         "name": "Peru",
         "orientation": "v",
         "showlegend": true,
         "type": "scatter",
         "visible": false,
         "x": [
          15
         ],
         "xaxis": "x",
         "y": [
          -0.5246586036278555
         ],
         "yaxis": "y"
        },
        {
         "hovertemplate": "Country=South Dekota<br>Aboard=%{x}<br>Shap interaction value=%{y}<extra></extra>",
         "legendgroup": "South Dekota",
         "marker": {
          "color": "rgb(82, 106, 131)",
          "line": {
           "color": "white",
           "width": 0.8
          },
          "opacity": 0.8,
          "size": 8,
          "symbol": "circle"
         },
         "mode": "markers",
         "name": "South Dekota",
         "orientation": "v",
         "showlegend": true,
         "type": "scatter",
         "visible": false,
         "x": [
          27
         ],
         "xaxis": "x",
         "y": [
          -0.5941881985319919
         ],
         "yaxis": "y"
        },
        {
         "hovertemplate": "Country=Spain<br>Aboard=%{x}<br>Shap interaction value=%{y}<extra></extra>",
         "legendgroup": "Spain",
         "marker": {
          "color": "rgb(98, 83, 119)",
          "line": {
           "color": "white",
           "width": 0.8
          },
          "opacity": 0.8,
          "size": 8,
          "symbol": "circle"
         },
         "mode": "markers",
         "name": "Spain",
         "orientation": "v",
         "showlegend": true,
         "type": "scatter",
         "visible": false,
         "x": [
          18
         ],
         "xaxis": "x",
         "y": [
          -0.514020753346426
         ],
         "yaxis": "y"
        },
        {
         "hovertemplate": "Country=India<br>Aboard=%{x}<br>Shap interaction value=%{y}<extra></extra>",
         "legendgroup": "India",
         "marker": {
          "color": "rgb(104, 133, 92)",
          "line": {
           "color": "white",
           "width": 0.8
          },
          "opacity": 0.8,
          "size": 8,
          "symbol": "circle"
         },
         "mode": "markers",
         "name": "India",
         "orientation": "v",
         "showlegend": true,
         "type": "scatter",
         "visible": false,
         "x": [
          7
         ],
         "xaxis": "x",
         "y": [
          0.18786315490268385
         ],
         "yaxis": "y"
        },
        {
         "hovertemplate": "Country=Panama<br>Aboard=%{x}<br>Shap interaction value=%{y}<extra></extra>",
         "legendgroup": "Panama",
         "marker": {
          "color": "rgb(156, 156, 94)",
          "line": {
           "color": "white",
           "width": 0.8
          },
          "opacity": 0.8,
          "size": 8,
          "symbol": "circle"
         },
         "mode": "markers",
         "name": "Panama",
         "orientation": "v",
         "showlegend": true,
         "type": "scatter",
         "visible": false,
         "x": [
          4,
          14
         ],
         "xaxis": "x",
         "y": [
          0.13610470773520233,
          -0.1533812211186173
         ],
         "yaxis": "y"
        },
        {
         "hovertemplate": "Country=Turkey<br>Aboard=%{x}<br>Shap interaction value=%{y}<extra></extra>",
         "legendgroup": "Turkey",
         "marker": {
          "color": "rgb(160, 97, 119)",
          "line": {
           "color": "white",
           "width": 0.8
          },
          "opacity": 0.8,
          "size": 8,
          "symbol": "circle"
         },
         "mode": "markers",
         "name": "Turkey",
         "orientation": "v",
         "showlegend": true,
         "type": "scatter",
         "visible": false,
         "x": [
          27,
          18
         ],
         "xaxis": "x",
         "y": [
          -0.8114324760310291,
          -0.5168559676695718
         ],
         "yaxis": "y"
        },
        {
         "hovertemplate": "Country=Tahiti<br>Aboard=%{x}<br>Shap interaction value=%{y}<extra></extra>",
         "legendgroup": "Tahiti",
         "marker": {
          "color": "rgb(140, 120, 93)",
          "line": {
           "color": "white",
           "width": 0.8
          },
          "opacity": 0.8,
          "size": 8,
          "symbol": "circle"
         },
         "mode": "markers",
         "name": "Tahiti",
         "orientation": "v",
         "showlegend": true,
         "type": "scatter",
         "visible": false,
         "x": [
          79
         ],
         "xaxis": "x",
         "y": [
          2.703538082360243
         ],
         "yaxis": "y"
        },
        {
         "hovertemplate": "Country=Scotland<br>Aboard=%{x}<br>Shap interaction value=%{y}<extra></extra>",
         "legendgroup": "Scotland",
         "marker": {
          "color": "rgb(124, 124, 124)",
          "line": {
           "color": "white",
           "width": 0.8
          },
          "opacity": 0.8,
          "size": 8,
          "symbol": "circle"
         },
         "mode": "markers",
         "name": "Scotland",
         "orientation": "v",
         "showlegend": true,
         "type": "scatter",
         "visible": false,
         "x": [
          20,
          10
         ],
         "xaxis": "x",
         "y": [
          0.8267838224371409,
          0.3253155054986201
         ],
         "yaxis": "y"
        },
        {
         "hovertemplate": "Country=Taiwan<br>Aboard=%{x}<br>Shap interaction value=%{y}<extra></extra>",
         "legendgroup": "Taiwan",
         "marker": {
          "color": "rgb(133, 92, 117)",
          "line": {
           "color": "white",
           "width": 0.8
          },
          "opacity": 0.8,
          "size": 8,
          "symbol": "circle"
         },
         "mode": "markers",
         "name": "Taiwan",
         "orientation": "v",
         "showlegend": true,
         "type": "scatter",
         "visible": false,
         "x": [
          5,
          24,
          13,
          225,
          6
         ],
         "xaxis": "x",
         "y": [
          -0.2711326677079314,
          -0.8037669502889491,
          0.028840126612772552,
          2.556786918305874,
          -0.18757568987434947
         ],
         "yaxis": "y"
        },
        {
         "hovertemplate": "Country=Gambia<br>Aboard=%{x}<br>Shap interaction value=%{y}<extra></extra>",
         "legendgroup": "Gambia",
         "marker": {
          "color": "rgb(217, 175, 107)",
          "line": {
           "color": "white",
           "width": 0.8
          },
          "opacity": 0.8,
          "size": 8,
          "symbol": "circle"
         },
         "mode": "markers",
         "name": "Gambia",
         "orientation": "v",
         "showlegend": true,
         "type": "scatter",
         "visible": false,
         "x": [
          4
         ],
         "xaxis": "x",
         "y": [
          0.07861296926463619
         ],
         "yaxis": "y"
        },
        {
         "hovertemplate": "Country=Morocco<br>Aboard=%{x}<br>Shap interaction value=%{y}<extra></extra>",
         "legendgroup": "Morocco",
         "marker": {
          "color": "rgb(175, 100, 88)",
          "line": {
           "color": "white",
           "width": 0.8
          },
          "opacity": 0.8,
          "size": 8,
          "symbol": "circle"
         },
         "mode": "markers",
         "name": "Morocco",
         "orientation": "v",
         "showlegend": true,
         "type": "scatter",
         "visible": false,
         "x": [
          14,
          9
         ],
         "xaxis": "x",
         "y": [
          -0.13872465152017655,
          0.45438904186874846
         ],
         "yaxis": "y"
        },
        {
         "hovertemplate": "Country=Argentina<br>Aboard=%{x}<br>Shap interaction value=%{y}<extra></extra>",
         "legendgroup": "Argentina",
         "marker": {
          "color": "rgb(115, 111, 76)",
          "line": {
           "color": "white",
           "width": 0.8
          },
          "opacity": 0.8,
          "size": 8,
          "symbol": "circle"
         },
         "mode": "markers",
         "name": "Argentina",
         "orientation": "v",
         "showlegend": true,
         "type": "scatter",
         "visible": false,
         "x": [
          10,
          11
         ],
         "xaxis": "x",
         "y": [
          1.066171543220606,
          0.6413472751878854
         ],
         "yaxis": "y"
        },
        {
         "hovertemplate": "Country=PacifiOcean<br>Aboard=%{x}<br>Shap interaction value=%{y}<extra></extra>",
         "legendgroup": "PacifiOcean",
         "marker": {
          "color": "rgb(82, 106, 131)",
          "line": {
           "color": "white",
           "width": 0.8
          },
          "opacity": 0.8,
          "size": 8,
          "symbol": "circle"
         },
         "mode": "markers",
         "name": "PacifiOcean",
         "orientation": "v",
         "showlegend": true,
         "type": "scatter",
         "visible": false,
         "x": [
          44
         ],
         "xaxis": "x",
         "y": [
          0.9211415679563197
         ],
         "yaxis": "y"
        },
        {
         "hovertemplate": "Country=Costa Rica<br>Aboard=%{x}<br>Shap interaction value=%{y}<extra></extra>",
         "legendgroup": "Costa Rica",
         "marker": {
          "color": "rgb(98, 83, 119)",
          "line": {
           "color": "white",
           "width": 0.8
          },
          "opacity": 0.8,
          "size": 8,
          "symbol": "circle"
         },
         "mode": "markers",
         "name": "Costa Rica",
         "orientation": "v",
         "showlegend": true,
         "type": "scatter",
         "visible": false,
         "x": [
          5
         ],
         "xaxis": "x",
         "y": [
          -0.5896972300440668
         ],
         "yaxis": "y"
        },
        {
         "hovertemplate": "Country=Wyoming<br>Aboard=%{x}<br>Shap interaction value=%{y}<extra></extra>",
         "legendgroup": "Wyoming",
         "marker": {
          "color": "rgb(104, 133, 92)",
          "line": {
           "color": "white",
           "width": 0.8
          },
          "opacity": 0.8,
          "size": 8,
          "symbol": "circle"
         },
         "mode": "markers",
         "name": "Wyoming",
         "orientation": "v",
         "showlegend": true,
         "type": "scatter",
         "visible": false,
         "x": [
          9
         ],
         "xaxis": "x",
         "y": [
          -3.3987403594791434
         ],
         "yaxis": "y"
        },
        {
         "hovertemplate": "Country=New Guinea<br>Aboard=%{x}<br>Shap interaction value=%{y}<extra></extra>",
         "legendgroup": "New Guinea",
         "marker": {
          "color": "rgb(156, 156, 94)",
          "line": {
           "color": "white",
           "width": 0.8
          },
          "opacity": 0.8,
          "size": 8,
          "symbol": "circle"
         },
         "mode": "markers",
         "name": "New Guinea",
         "orientation": "v",
         "showlegend": true,
         "type": "scatter",
         "visible": false,
         "x": [
          28
         ],
         "xaxis": "x",
         "y": [
          -0.2918302149834976
         ],
         "yaxis": "y"
        },
        {
         "hovertemplate": "Country=Australia<br>Aboard=%{x}<br>Shap interaction value=%{y}<extra></extra>",
         "legendgroup": "Australia",
         "marker": {
          "color": "rgb(160, 97, 119)",
          "line": {
           "color": "white",
           "width": 0.8
          },
          "opacity": 0.8,
          "size": 8,
          "symbol": "circle"
         },
         "mode": "markers",
         "name": "Australia",
         "orientation": "v",
         "showlegend": true,
         "type": "scatter",
         "visible": false,
         "x": [
          18,
          2
         ],
         "xaxis": "x",
         "y": [
          -0.10417477684540355,
          -0.07632028763461751
         ],
         "yaxis": "y"
        },
        {
         "hovertemplate": "Country=Chile<br>Aboard=%{x}<br>Shap interaction value=%{y}<extra></extra>",
         "legendgroup": "Chile",
         "marker": {
          "color": "rgb(140, 120, 93)",
          "line": {
           "color": "white",
           "width": 0.8
          },
          "opacity": 0.8,
          "size": 8,
          "symbol": "circle"
         },
         "mode": "markers",
         "name": "Chile",
         "orientation": "v",
         "showlegend": true,
         "type": "scatter",
         "visible": false,
         "x": [
          3
         ],
         "xaxis": "x",
         "y": [
          0.060837521670912484
         ],
         "yaxis": "y"
        },
        {
         "hovertemplate": "Country=Canada<br>Aboard=%{x}<br>Shap interaction value=%{y}<extra></extra>",
         "legendgroup": "Canada",
         "marker": {
          "color": "rgb(124, 124, 124)",
          "line": {
           "color": "white",
           "width": 0.8
          },
          "opacity": 0.8,
          "size": 8,
          "symbol": "circle"
         },
         "mode": "markers",
         "name": "Canada",
         "orientation": "v",
         "showlegend": true,
         "type": "scatter",
         "visible": false,
         "x": [
          12,
          26,
          309,
          109,
          4
         ],
         "xaxis": "x",
         "y": [
          1.0702866196329806,
          1.2864941040589513,
          -11.451544361389667,
          -5.5922365417253594,
          1.9505680680717161
         ],
         "yaxis": "y"
        },
        {
         "hovertemplate": "Country=Azores<br>Aboard=%{x}<br>Shap interaction value=%{y}<extra></extra>",
         "legendgroup": "Azores",
         "marker": {
          "color": "rgb(133, 92, 117)",
          "line": {
           "color": "white",
           "width": 0.8
          },
          "opacity": 0.8,
          "size": 8,
          "symbol": "circle"
         },
         "mode": "markers",
         "name": "Azores",
         "orientation": "v",
         "showlegend": true,
         "type": "scatter",
         "visible": false,
         "x": [
          48
         ],
         "xaxis": "x",
         "y": [
          1.149193156487086
         ],
         "yaxis": "y"
        },
        {
         "hovertemplate": "Country=Malta<br>Aboard=%{x}<br>Shap interaction value=%{y}<extra></extra>",
         "legendgroup": "Malta",
         "marker": {
          "color": "rgb(217, 175, 107)",
          "line": {
           "color": "white",
           "width": 0.8
          },
          "opacity": 0.8,
          "size": 8,
          "symbol": "circle"
         },
         "mode": "markers",
         "name": "Malta",
         "orientation": "v",
         "showlegend": true,
         "type": "scatter",
         "visible": false,
         "x": [
          4
         ],
         "xaxis": "x",
         "y": [
          -0.3856107720520766
         ],
         "yaxis": "y"
        },
        {
         "hovertemplate": "Country=Massachusetts<br>Aboard=%{x}<br>Shap interaction value=%{y}<extra></extra>",
         "legendgroup": "Massachusetts",
         "marker": {
          "color": "rgb(175, 100, 88)",
          "line": {
           "color": "white",
           "width": 0.8
          },
          "opacity": 0.8,
          "size": 8,
          "symbol": "circle"
         },
         "mode": "markers",
         "name": "Massachusetts",
         "orientation": "v",
         "showlegend": true,
         "type": "scatter",
         "visible": false,
         "x": [
          2,
          25
         ],
         "xaxis": "x",
         "y": [
          -0.35025907988685745,
          -0.08466049133936611
         ],
         "yaxis": "y"
        },
        {
         "hovertemplate": "Country=Yugoslavia<br>Aboard=%{x}<br>Shap interaction value=%{y}<extra></extra>",
         "legendgroup": "Yugoslavia",
         "marker": {
          "color": "rgb(115, 111, 76)",
          "line": {
           "color": "white",
           "width": 0.8
          },
          "opacity": 0.8,
          "size": 8,
          "symbol": "circle"
         },
         "mode": "markers",
         "name": "Yugoslavia",
         "orientation": "v",
         "showlegend": true,
         "type": "scatter",
         "visible": false,
         "x": [
          176
         ],
         "xaxis": "x",
         "y": [
          2.3723376109152654
         ],
         "yaxis": "y"
        },
        {
         "hovertemplate": "Country=Florida<br>Aboard=%{x}<br>Shap interaction value=%{y}<extra></extra>",
         "legendgroup": "Florida",
         "marker": {
          "color": "rgb(82, 106, 131)",
          "line": {
           "color": "white",
           "width": 0.8
          },
          "opacity": 0.8,
          "size": 8,
          "symbol": "circle"
         },
         "mode": "markers",
         "name": "Florida",
         "orientation": "v",
         "showlegend": true,
         "type": "scatter",
         "visible": false,
         "x": [
          46
         ],
         "xaxis": "x",
         "y": [
          1.857566088195555
         ],
         "yaxis": "y"
        },
        {
         "hovertemplate": "Country=Oklahoma<br>Aboard=%{x}<br>Shap interaction value=%{y}<extra></extra>",
         "legendgroup": "Oklahoma",
         "marker": {
          "color": "rgb(98, 83, 119)",
          "line": {
           "color": "white",
           "width": 0.8
          },
          "opacity": 0.8,
          "size": 8,
          "symbol": "circle"
         },
         "mode": "markers",
         "name": "Oklahoma",
         "orientation": "v",
         "showlegend": true,
         "type": "scatter",
         "visible": false,
         "x": [
          98,
          10
         ],
         "xaxis": "x",
         "y": [
          1.2707436532051481,
          -0.7522738737505037
         ],
         "yaxis": "y"
        },
        {
         "hovertemplate": "Country=Venezuela<br>Aboard=%{x}<br>Shap interaction value=%{y}<extra></extra>",
         "legendgroup": "Venezuela",
         "marker": {
          "color": "rgb(104, 133, 92)",
          "line": {
           "color": "white",
           "width": 0.8
          },
          "opacity": 0.8,
          "size": 8,
          "symbol": "circle"
         },
         "mode": "markers",
         "name": "Venezuela",
         "orientation": "v",
         "showlegend": true,
         "type": "scatter",
         "visible": false,
         "x": [
          51
         ],
         "xaxis": "x",
         "y": [
          -0.3614734501014905
         ],
         "yaxis": "y"
        },
        {
         "hovertemplate": "Country=Virginia<br>Aboard=%{x}<br>Shap interaction value=%{y}<extra></extra>",
         "legendgroup": "Virginia",
         "marker": {
          "color": "rgb(156, 156, 94)",
          "line": {
           "color": "white",
           "width": 0.8
          },
          "opacity": 0.8,
          "size": 8,
          "symbol": "circle"
         },
         "mode": "markers",
         "name": "Virginia",
         "orientation": "v",
         "showlegend": true,
         "type": "scatter",
         "visible": false,
         "x": [
          45,
          2
         ],
         "xaxis": "x",
         "y": [
          -4.18459556000787,
          2.4393164077584744
         ],
         "yaxis": "y"
        },
        {
         "hovertemplate": "Country=Idaho<br>Aboard=%{x}<br>Shap interaction value=%{y}<extra></extra>",
         "legendgroup": "Idaho",
         "marker": {
          "color": "rgb(160, 97, 119)",
          "line": {
           "color": "white",
           "width": 0.8
          },
          "opacity": 0.8,
          "size": 8,
          "symbol": "circle"
         },
         "mode": "markers",
         "name": "Idaho",
         "orientation": "v",
         "showlegend": true,
         "type": "scatter",
         "visible": false,
         "x": [
          19
         ],
         "xaxis": "x",
         "y": [
          -0.504446057441272
         ],
         "yaxis": "y"
        },
        {
         "hovertemplate": "Country=Cuba<br>Aboard=%{x}<br>Shap interaction value=%{y}<extra></extra>",
         "legendgroup": "Cuba",
         "marker": {
          "color": "rgb(140, 120, 93)",
          "line": {
           "color": "white",
           "width": 0.8
          },
          "opacity": 0.8,
          "size": 8,
          "symbol": "circle"
         },
         "mode": "markers",
         "name": "Cuba",
         "orientation": "v",
         "showlegend": true,
         "type": "scatter",
         "visible": false,
         "x": [
          5,
          31
         ],
         "xaxis": "x",
         "y": [
          2.0005857237174185,
          1.145771152593296
         ],
         "yaxis": "y"
        },
        {
         "hovertemplate": "Country=Algeria<br>Aboard=%{x}<br>Shap interaction value=%{y}<extra></extra>",
         "legendgroup": "Algeria",
         "marker": {
          "color": "rgb(124, 124, 124)",
          "line": {
           "color": "white",
           "width": 0.8
          },
          "opacity": 0.8,
          "size": 8,
          "symbol": "circle"
         },
         "mode": "markers",
         "name": "Algeria",
         "orientation": "v",
         "showlegend": true,
         "type": "scatter",
         "visible": false,
         "x": [
          78,
          34,
          239
         ],
         "xaxis": "x",
         "y": [
          -0.7984054220896885,
          -1.229007727038339,
          2.3228324277202317
         ],
         "yaxis": "y"
        },
        {
         "hovertemplate": "Country=Vietnam<br>Aboard=%{x}<br>Shap interaction value=%{y}<extra></extra>",
         "legendgroup": "Vietnam",
         "marker": {
          "color": "rgb(133, 92, 117)",
          "line": {
           "color": "white",
           "width": 0.8
          },
          "opacity": 0.8,
          "size": 8,
          "symbol": "circle"
         },
         "mode": "markers",
         "name": "Vietnam",
         "orientation": "v",
         "showlegend": true,
         "type": "scatter",
         "visible": false,
         "x": [
          12,
          13
         ],
         "xaxis": "x",
         "y": [
          0.6849898077805082,
          0.7779613520989394
         ],
         "yaxis": "y"
        },
        {
         "hovertemplate": "Country=Michigan<br>Aboard=%{x}<br>Shap interaction value=%{y}<extra></extra>",
         "legendgroup": "Michigan",
         "marker": {
          "color": "rgb(217, 175, 107)",
          "line": {
           "color": "white",
           "width": 0.8
          },
          "opacity": 0.8,
          "size": 8,
          "symbol": "circle"
         },
         "mode": "markers",
         "name": "Michigan",
         "orientation": "v",
         "showlegend": true,
         "type": "scatter",
         "visible": false,
         "x": [
          20,
          17
         ],
         "xaxis": "x",
         "y": [
          0.643253683466711,
          0.277006349228312
         ],
         "yaxis": "y"
        },
        {
         "hovertemplate": "Country=Belgium<br>Aboard=%{x}<br>Shap interaction value=%{y}<extra></extra>",
         "legendgroup": "Belgium",
         "marker": {
          "color": "rgb(175, 100, 88)",
          "line": {
           "color": "white",
           "width": 0.8
          },
          "opacity": 0.8,
          "size": 8,
          "symbol": "circle"
         },
         "mode": "markers",
         "name": "Belgium",
         "orientation": "v",
         "showlegend": true,
         "type": "scatter",
         "visible": false,
         "x": [
          63
         ],
         "xaxis": "x",
         "y": [
          1.6384389705780262
         ],
         "yaxis": "y"
        },
        {
         "hovertemplate": "Country=Colombia<br>Aboard=%{x}<br>Shap interaction value=%{y}<extra></extra>",
         "legendgroup": "Colombia",
         "marker": {
          "color": "rgb(115, 111, 76)",
          "line": {
           "color": "white",
           "width": 0.8
          },
          "opacity": 0.8,
          "size": 8,
          "symbol": "circle"
         },
         "mode": "markers",
         "name": "Colombia",
         "orientation": "v",
         "showlegend": true,
         "type": "scatter",
         "visible": false,
         "x": [
          13,
          53
         ],
         "xaxis": "x",
         "y": [
          0.18371267025126248,
          -0.7441909882614909
         ],
         "yaxis": "y"
        },
        {
         "hovertemplate": "Country=California<br>Aboard=%{x}<br>Shap interaction value=%{y}<extra></extra>",
         "legendgroup": "California",
         "marker": {
          "color": "rgb(82, 106, 131)",
          "line": {
           "color": "white",
           "width": 0.8
          },
          "opacity": 0.8,
          "size": 8,
          "symbol": "circle"
         },
         "mode": "markers",
         "name": "California",
         "orientation": "v",
         "showlegend": true,
         "type": "scatter",
         "visible": false,
         "x": [
          1,
          51,
          99,
          19,
          49
         ],
         "xaxis": "x",
         "y": [
          1.910516283086513,
          -2.4844649463588873,
          -7.527297593100942,
          1.060094340673821,
          -3.740143473056456
         ],
         "yaxis": "y"
        },
        {
         "hovertemplate": "Country=Bolivia<br>Aboard=%{x}<br>Shap interaction value=%{y}<extra></extra>",
         "legendgroup": "Bolivia",
         "marker": {
          "color": "rgb(98, 83, 119)",
          "line": {
           "color": "white",
           "width": 0.8
          },
          "opacity": 0.8,
          "size": 8,
          "symbol": "circle"
         },
         "mode": "markers",
         "name": "Bolivia",
         "orientation": "v",
         "showlegend": true,
         "type": "scatter",
         "visible": false,
         "x": [
          7
         ],
         "xaxis": "x",
         "y": [
          -3.2377157003671027
         ],
         "yaxis": "y"
        },
        {
         "hovertemplate": "Country=Afghanistan<br>Aboard=%{x}<br>Shap interaction value=%{y}<extra></extra>",
         "legendgroup": "Afghanistan",
         "marker": {
          "color": "rgb(104, 133, 92)",
          "line": {
           "color": "white",
           "width": 0.8
          },
          "opacity": 0.8,
          "size": 8,
          "symbol": "circle"
         },
         "mode": "markers",
         "name": "Afghanistan",
         "orientation": "v",
         "showlegend": true,
         "type": "scatter",
         "visible": false,
         "x": [
          50,
          16
         ],
         "xaxis": "x",
         "y": [
          2.278169012302233,
          -1.8863677761254949
         ],
         "yaxis": "y"
        },
        {
         "hovertemplate": "Country=Tennessee<br>Aboard=%{x}<br>Shap interaction value=%{y}<extra></extra>",
         "legendgroup": "Tennessee",
         "marker": {
          "color": "rgb(156, 156, 94)",
          "line": {
           "color": "white",
           "width": 0.8
          },
          "opacity": 0.8,
          "size": 8,
          "symbol": "circle"
         },
         "mode": "markers",
         "name": "Tennessee",
         "orientation": "v",
         "showlegend": true,
         "type": "scatter",
         "visible": false,
         "x": [
          20,
          1
         ],
         "xaxis": "x",
         "y": [
          0.07681571270223941,
          0.2942038008291882
         ],
         "yaxis": "y"
        },
        {
         "hovertemplate": "Country=Indian Ocean<br>Aboard=%{x}<br>Shap interaction value=%{y}<extra></extra>",
         "legendgroup": "Indian Ocean",
         "marker": {
          "color": "rgb(160, 97, 119)",
          "line": {
           "color": "white",
           "width": 0.8
          },
          "opacity": 0.8,
          "size": 8,
          "symbol": "circle"
         },
         "mode": "markers",
         "name": "Indian Ocean",
         "orientation": "v",
         "showlegend": true,
         "type": "scatter",
         "visible": false,
         "x": [
          10
         ],
         "xaxis": "x",
         "y": [
          -0.5745486911491915
         ],
         "yaxis": "y"
        },
        {
         "hovertemplate": "Country=Northern Ireland<br>Aboard=%{x}<br>Shap interaction value=%{y}<extra></extra>",
         "legendgroup": "Northern Ireland",
         "marker": {
          "color": "rgb(140, 120, 93)",
          "line": {
           "color": "white",
           "width": 0.8
          },
          "opacity": 0.8,
          "size": 8,
          "symbol": "circle"
         },
         "mode": "markers",
         "name": "Northern Ireland",
         "orientation": "v",
         "showlegend": true,
         "type": "scatter",
         "visible": false,
         "x": [
          35
         ],
         "xaxis": "x",
         "y": [
          -1.2787310290247627
         ],
         "yaxis": "y"
        },
        {
         "hovertemplate": "Country=Libya<br>Aboard=%{x}<br>Shap interaction value=%{y}<extra></extra>",
         "legendgroup": "Libya",
         "marker": {
          "color": "rgb(124, 124, 124)",
          "line": {
           "color": "white",
           "width": 0.8
          },
          "opacity": 0.8,
          "size": 8,
          "symbol": "circle"
         },
         "mode": "markers",
         "name": "Libya",
         "orientation": "v",
         "showlegend": true,
         "type": "scatter",
         "visible": false,
         "x": [
          47
         ],
         "xaxis": "x",
         "y": [
          0.48113183885980415
         ],
         "yaxis": "y"
        },
        {
         "hovertemplate": "Country=South Carolina<br>Aboard=%{x}<br>Shap interaction value=%{y}<extra></extra>",
         "legendgroup": "South Carolina",
         "marker": {
          "color": "rgb(133, 92, 117)",
          "line": {
           "color": "white",
           "width": 0.8
          },
          "opacity": 0.8,
          "size": 8,
          "symbol": "circle"
         },
         "mode": "markers",
         "name": "South Carolina",
         "orientation": "v",
         "showlegend": true,
         "type": "scatter",
         "visible": false,
         "x": [
          39
         ],
         "xaxis": "x",
         "y": [
          -0.1309126555841662
         ],
         "yaxis": "y"
        },
        {
         "hovertemplate": "Country=HI<br>Aboard=%{x}<br>Shap interaction value=%{y}<extra></extra>",
         "legendgroup": "HI",
         "marker": {
          "color": "rgb(217, 175, 107)",
          "line": {
           "color": "white",
           "width": 0.8
          },
          "opacity": 0.8,
          "size": 8,
          "symbol": "circle"
         },
         "mode": "markers",
         "name": "HI",
         "orientation": "v",
         "showlegend": true,
         "type": "scatter",
         "visible": false,
         "x": [
          298
         ],
         "xaxis": "x",
         "y": [
          17.114253772009576
         ],
         "yaxis": "y"
        },
        {
         "hovertemplate": "Country=New Mexico<br>Aboard=%{x}<br>Shap interaction value=%{y}<extra></extra>",
         "legendgroup": "New Mexico",
         "marker": {
          "color": "rgb(175, 100, 88)",
          "line": {
           "color": "white",
           "width": 0.8
          },
          "opacity": 0.8,
          "size": 8,
          "symbol": "circle"
         },
         "mode": "markers",
         "name": "New Mexico",
         "orientation": "v",
         "showlegend": true,
         "type": "scatter",
         "visible": false,
         "x": [
          25
         ],
         "xaxis": "x",
         "y": [
          -0.7789128624008878
         ],
         "yaxis": "y"
        },
        {
         "hovertemplate": "Country=Montana<br>Aboard=%{x}<br>Shap interaction value=%{y}<extra></extra>",
         "legendgroup": "Montana",
         "marker": {
          "color": "rgb(115, 111, 76)",
          "line": {
           "color": "white",
           "width": 0.8
          },
          "opacity": 0.8,
          "size": 8,
          "symbol": "circle"
         },
         "mode": "markers",
         "name": "Montana",
         "orientation": "v",
         "showlegend": true,
         "type": "scatter",
         "visible": false,
         "x": [
          13
         ],
         "xaxis": "x",
         "y": [
          -0.34891213255196796
         ],
         "yaxis": "y"
        },
        {
         "hovertemplate": "Country=Alaska<br>Aboard=%{x}<br>Shap interaction value=%{y}<extra></extra>",
         "legendgroup": "Alaska",
         "marker": {
          "color": "rgb(82, 106, 131)",
          "line": {
           "color": "white",
           "width": 0.8
          },
          "opacity": 0.8,
          "size": 8,
          "symbol": "circle"
         },
         "mode": "markers",
         "name": "Alaska",
         "orientation": "v",
         "showlegend": true,
         "type": "scatter",
         "visible": false,
         "x": [
          10,
          13
         ],
         "xaxis": "x",
         "y": [
          -0.5163461310215772,
          -0.4173823305326291
         ],
         "yaxis": "y"
        },
        {
         "hovertemplate": "Country=Egypt<br>Aboard=%{x}<br>Shap interaction value=%{y}<extra></extra>",
         "legendgroup": "Egypt",
         "marker": {
          "color": "rgb(98, 83, 119)",
          "line": {
           "color": "white",
           "width": 0.8
          },
          "opacity": 0.8,
          "size": 8,
          "symbol": "circle"
         },
         "mode": "markers",
         "name": "Egypt",
         "orientation": "v",
         "showlegend": true,
         "type": "scatter",
         "visible": false,
         "x": [
          64,
          13
         ],
         "xaxis": "x",
         "y": [
          0.06360401045668047,
          0.13667818171863702
         ],
         "yaxis": "y"
        },
        {
         "hovertemplate": "Country=NE of Bermuda<br>Aboard=%{x}<br>Shap interaction value=%{y}<extra></extra>",
         "legendgroup": "NE of Bermuda",
         "marker": {
          "color": "rgb(104, 133, 92)",
          "line": {
           "color": "white",
           "width": 0.8
          },
          "opacity": 0.8,
          "size": 8,
          "symbol": "circle"
         },
         "mode": "markers",
         "name": "NE of Bermuda",
         "orientation": "v",
         "showlegend": true,
         "type": "scatter",
         "visible": false,
         "x": [
          31
         ],
         "xaxis": "x",
         "y": [
          -1.3354172009877605
         ],
         "yaxis": "y"
        },
        {
         "hovertemplate": "Country=Washington<br>Aboard=%{x}<br>Shap interaction value=%{y}<extra></extra>",
         "legendgroup": "Washington",
         "marker": {
          "color": "rgb(156, 156, 94)",
          "line": {
           "color": "white",
           "width": 0.8
          },
          "opacity": 0.8,
          "size": 8,
          "symbol": "circle"
         },
         "mode": "markers",
         "name": "Washington",
         "orientation": "v",
         "showlegend": true,
         "type": "scatter",
         "visible": false,
         "x": [
          38,
          44
         ],
         "xaxis": "x",
         "y": [
          0.5329584857799685,
          1.4836430721063083
         ],
         "yaxis": "y"
        },
        {
         "hovertemplate": "Country=New Zealand<br>Aboard=%{x}<br>Shap interaction value=%{y}<extra></extra>",
         "legendgroup": "New Zealand",
         "marker": {
          "color": "rgb(160, 97, 119)",
          "line": {
           "color": "white",
           "width": 0.8
          },
          "opacity": 0.8,
          "size": 8,
          "symbol": "circle"
         },
         "mode": "markers",
         "name": "New Zealand",
         "orientation": "v",
         "showlegend": true,
         "type": "scatter",
         "visible": false,
         "x": [
          9
         ],
         "xaxis": "x",
         "y": [
          -3.581450262167597
         ],
         "yaxis": "y"
        },
        {
         "hovertemplate": "Country=Georgia<br>Aboard=%{x}<br>Shap interaction value=%{y}<extra></extra>",
         "legendgroup": "Georgia",
         "marker": {
          "color": "rgb(140, 120, 93)",
          "line": {
           "color": "white",
           "width": 0.8
          },
          "opacity": 0.8,
          "size": 8,
          "symbol": "circle"
         },
         "mode": "markers",
         "name": "Georgia",
         "orientation": "v",
         "showlegend": true,
         "type": "scatter",
         "visible": false,
         "x": [
          61,
          18
         ],
         "xaxis": "x",
         "y": [
          -0.9695982158872529,
          0.6232672580249533
         ],
         "yaxis": "y"
        },
        {
         "hovertemplate": "Country=Inodnesia<br>Aboard=%{x}<br>Shap interaction value=%{y}<extra></extra>",
         "legendgroup": "Inodnesia",
         "marker": {
          "color": "rgb(124, 124, 124)",
          "line": {
           "color": "white",
           "width": 0.8
          },
          "opacity": 0.8,
          "size": 8,
          "symbol": "circle"
         },
         "mode": "markers",
         "name": "Inodnesia",
         "orientation": "v",
         "showlegend": true,
         "type": "scatter",
         "visible": false,
         "x": [
          14
         ],
         "xaxis": "x",
         "y": [
          -0.6644797412006698
         ],
         "yaxis": "y"
        },
        {
         "hovertemplate": "Country=South Korea<br>Aboard=%{x}<br>Shap interaction value=%{y}<extra></extra>",
         "legendgroup": "South Korea",
         "marker": {
          "color": "rgb(133, 92, 117)",
          "line": {
           "color": "white",
           "width": 0.8
          },
          "opacity": 0.8,
          "size": 8,
          "symbol": "circle"
         },
         "mode": "markers",
         "name": "South Korea",
         "orientation": "v",
         "showlegend": true,
         "type": "scatter",
         "visible": false,
         "x": [
          166
         ],
         "xaxis": "x",
         "y": [
          2.480972013016509
         ],
         "yaxis": "y"
        },
        {
         "hovertemplate": "Country=Saudi Arabia<br>Aboard=%{x}<br>Shap interaction value=%{y}<extra></extra>",
         "legendgroup": "Saudi Arabia",
         "marker": {
          "color": "rgb(217, 175, 107)",
          "line": {
           "color": "white",
           "width": 0.8
          },
          "opacity": 0.8,
          "size": 8,
          "symbol": "circle"
         },
         "mode": "markers",
         "name": "Saudi Arabia",
         "orientation": "v",
         "showlegend": true,
         "type": "scatter",
         "visible": false,
         "x": [
          37
         ],
         "xaxis": "x",
         "y": [
          0.47322090667767586
         ],
         "yaxis": "y"
        },
        {
         "hovertemplate": "Country=Qld. Australia<br>Aboard=%{x}<br>Shap interaction value=%{y}<extra></extra>",
         "legendgroup": "Qld. Australia",
         "marker": {
          "color": "rgb(175, 100, 88)",
          "line": {
           "color": "white",
           "width": 0.8
          },
          "opacity": 0.8,
          "size": 8,
          "symbol": "circle"
         },
         "mode": "markers",
         "name": "Qld. Australia",
         "orientation": "v",
         "showlegend": true,
         "type": "scatter",
         "visible": false,
         "x": [
          29
         ],
         "xaxis": "x",
         "y": [
          -0.2363992915130952
         ],
         "yaxis": "y"
        },
        {
         "hovertemplate": "Country=Newfoundland<br>Aboard=%{x}<br>Shap interaction value=%{y}<extra></extra>",
         "legendgroup": "Newfoundland",
         "marker": {
          "color": "rgb(115, 111, 76)",
          "line": {
           "color": "white",
           "width": 0.8
          },
          "opacity": 0.8,
          "size": 8,
          "symbol": "circle"
         },
         "mode": "markers",
         "name": "Newfoundland",
         "orientation": "v",
         "showlegend": true,
         "type": "scatter",
         "visible": false,
         "x": [
          23
         ],
         "xaxis": "x",
         "y": [
          -0.20252155682063544
         ],
         "yaxis": "y"
        },
        {
         "hovertemplate": "Country=Indiana<br>Aboard=%{x}<br>Shap interaction value=%{y}<extra></extra>",
         "legendgroup": "Indiana",
         "marker": {
          "color": "rgb(82, 106, 131)",
          "line": {
           "color": "white",
           "width": 0.8
          },
          "opacity": 0.8,
          "size": 8,
          "symbol": "circle"
         },
         "mode": "markers",
         "name": "Indiana",
         "orientation": "v",
         "showlegend": true,
         "type": "scatter",
         "visible": false,
         "x": [
          68
         ],
         "xaxis": "x",
         "y": [
          0.6493800505897126
         ],
         "yaxis": "y"
        },
        {
         "hovertemplate": "Country=Louisiana<br>Aboard=%{x}<br>Shap interaction value=%{y}<extra></extra>",
         "legendgroup": "Louisiana",
         "marker": {
          "color": "rgb(98, 83, 119)",
          "line": {
           "color": "white",
           "width": 0.8
          },
          "opacity": 0.8,
          "size": 8,
          "symbol": "circle"
         },
         "mode": "markers",
         "name": "Louisiana",
         "orientation": "v",
         "showlegend": true,
         "type": "scatter",
         "visible": false,
         "x": [
          145
         ],
         "xaxis": "x",
         "y": [
          20.57511796010749
         ],
         "yaxis": "y"
        },
        {
         "hovertemplate": "Country=Norway<br>Aboard=%{x}<br>Shap interaction value=%{y}<extra></extra>",
         "legendgroup": "Norway",
         "marker": {
          "color": "rgb(104, 133, 92)",
          "line": {
           "color": "white",
           "width": 0.8
          },
          "opacity": 0.8,
          "size": 8,
          "symbol": "circle"
         },
         "mode": "markers",
         "name": "Norway",
         "orientation": "v",
         "showlegend": true,
         "type": "scatter",
         "visible": false,
         "x": [
          15
         ],
         "xaxis": "x",
         "y": [
          -0.7146695099629274
         ],
         "yaxis": "y"
        },
        {
         "hovertemplate": "Country=Greenland<br>Aboard=%{x}<br>Shap interaction value=%{y}<extra></extra>",
         "legendgroup": "Greenland",
         "marker": {
          "color": "rgb(156, 156, 94)",
          "line": {
           "color": "white",
           "width": 0.8
          },
          "opacity": 0.8,
          "size": 8,
          "symbol": "circle"
         },
         "mode": "markers",
         "name": "Greenland",
         "orientation": "v",
         "showlegend": true,
         "type": "scatter",
         "visible": false,
         "x": [
          3
         ],
         "xaxis": "x",
         "y": [
          -0.43910490693102244
         ],
         "yaxis": "y"
        },
        {
         "hovertemplate": "Country=Hawaii<br>Aboard=%{x}<br>Shap interaction value=%{y}<extra></extra>",
         "legendgroup": "Hawaii",
         "marker": {
          "color": "rgb(160, 97, 119)",
          "line": {
           "color": "white",
           "width": 0.8
          },
          "opacity": 0.8,
          "size": 8,
          "symbol": "circle"
         },
         "mode": "markers",
         "name": "Hawaii",
         "orientation": "v",
         "showlegend": true,
         "type": "scatter",
         "visible": false,
         "x": [
          6
         ],
         "xaxis": "x",
         "y": [
          -0.30722540830871337
         ],
         "yaxis": "y"
        },
        {
         "hovertemplate": "Country=New Hampshire<br>Aboard=%{x}<br>Shap interaction value=%{y}<extra></extra>",
         "legendgroup": "New Hampshire",
         "marker": {
          "color": "rgb(140, 120, 93)",
          "line": {
           "color": "white",
           "width": 0.8
          },
          "opacity": 0.8,
          "size": 8,
          "symbol": "circle"
         },
         "mode": "markers",
         "name": "New Hampshire",
         "orientation": "v",
         "showlegend": true,
         "type": "scatter",
         "visible": false,
         "x": [
          4
         ],
         "xaxis": "x",
         "y": [
          0.3795088239303671
         ],
         "yaxis": "y"
        },
        {
         "hovertemplate": "Country=Canary Islands<br>Aboard=%{x}<br>Shap interaction value=%{y}<extra></extra>",
         "legendgroup": "Canary Islands",
         "marker": {
          "color": "rgb(124, 124, 124)",
          "line": {
           "color": "white",
           "width": 0.8
          },
          "opacity": 0.8,
          "size": 8,
          "symbol": "circle"
         },
         "mode": "markers",
         "name": "Canary Islands",
         "orientation": "v",
         "showlegend": true,
         "type": "scatter",
         "visible": false,
         "x": [
          13
         ],
         "xaxis": "x",
         "y": [
          -2.973867114322472
         ],
         "yaxis": "y"
        },
        {
         "hovertemplate": "Country=Dutch Guyana<br>Aboard=%{x}<br>Shap interaction value=%{y}<extra></extra>",
         "legendgroup": "Dutch Guyana",
         "marker": {
          "color": "rgb(133, 92, 117)",
          "line": {
           "color": "white",
           "width": 0.8
          },
          "opacity": 0.8,
          "size": 8,
          "symbol": "circle"
         },
         "mode": "markers",
         "name": "Dutch Guyana",
         "orientation": "v",
         "showlegend": true,
         "type": "scatter",
         "visible": false,
         "x": [
          35
         ],
         "xaxis": "x",
         "y": [
          -0.82687973755871
         ],
         "yaxis": "y"
        },
        {
         "hovertemplate": "Country=Ohio<br>Aboard=%{x}<br>Shap interaction value=%{y}<extra></extra>",
         "legendgroup": "Ohio",
         "marker": {
          "color": "rgb(217, 175, 107)",
          "line": {
           "color": "white",
           "width": 0.8
          },
          "opacity": 0.8,
          "size": 8,
          "symbol": "circle"
         },
         "mode": "markers",
         "name": "Ohio",
         "orientation": "v",
         "showlegend": true,
         "type": "scatter",
         "visible": false,
         "x": [
          2
         ],
         "xaxis": "x",
         "y": [
          2.153984630118927
         ],
         "yaxis": "y"
        },
        {
         "hovertemplate": "Country=Ireland<br>Aboard=%{x}<br>Shap interaction value=%{y}<extra></extra>",
         "legendgroup": "Ireland",
         "marker": {
          "color": "rgb(175, 100, 88)",
          "line": {
           "color": "white",
           "width": 0.8
          },
          "opacity": 0.8,
          "size": 8,
          "symbol": "circle"
         },
         "mode": "markers",
         "name": "Ireland",
         "orientation": "v",
         "showlegend": true,
         "type": "scatter",
         "visible": false,
         "x": [
          31
         ],
         "xaxis": "x",
         "y": [
          -1.5316742866717319
         ],
         "yaxis": "y"
        },
        {
         "line": {
          "color": "rgba(117, 152, 189, 0.9)"
         },
         "marker": {
          "line": {
           "color": "white",
           "width": 0.8
          },
          "opacity": 0.8,
          "size": 8
         },
         "meanline": {
          "visible": true
         },
         "scalemode": "count",
         "showlegend": false,
         "type": "violin",
         "visible": false,
         "x": [
          "Canada",
          "Canada"
         ],
         "y": [
          0.03964008522812494,
          -0.701514098151375
         ]
        },
        {
         "line": {
          "color": "rgba(117, 152, 189, 0.9)"
         },
         "marker": {
          "line": {
           "color": "white",
           "width": 0.8
          },
          "opacity": 0.8,
          "size": 8
         },
         "meanline": {
          "visible": true
         },
         "scalemode": "count",
         "showlegend": false,
         "type": "violin",
         "visible": false,
         "x": [
          "China",
          "China",
          "China",
          "China",
          "China",
          "China",
          "China",
          "China",
          "China",
          "China",
          "China",
          "China",
          "China",
          "China",
          "China",
          "China",
          "China",
          "China",
          "China",
          "China"
         ],
         "y": [
          -1.0359351660228737,
          8.005907881722136,
          -0.8748610703773191,
          7.305234044979003,
          -0.9203714016209318,
          4.911155955205719,
          -0.7213015792405367,
          -0.757431365058388,
          -0.9108270847384717,
          -0.9549400582122667,
          -1.388640778850739,
          7.9781915728088,
          -1.0475147840799013,
          4.965131723116807,
          -1.002581412998576,
          -0.9432227578658983,
          -1.4127192693655093,
          -1.1044890936823826,
          -1.1031709918564483,
          7.462864119594945
         ]
        },
        {
         "line": {
          "color": "rgba(117, 152, 189, 0.9)"
         },
         "marker": {
          "line": {
           "color": "white",
           "width": 0.8
          },
          "opacity": 0.8,
          "size": 8
         },
         "meanline": {
          "visible": true
         },
         "scalemode": "count",
         "showlegend": false,
         "type": "violin",
         "visible": false,
         "x": [
          "France",
          "France",
          "France",
          "France",
          "France",
          "France",
          "France",
          "France",
          "France",
          "France",
          "France",
          "France",
          "France",
          "France",
          "France",
          "France",
          "France"
         ],
         "y": [
          -1.4634247522546324,
          -1.0910538870753608,
          -0.8513449038891043,
          -0.8665744389525025,
          7.3462882787114605,
          5.6983249828699565,
          3.9827074690288238,
          6.793761267625906,
          -1.0492664666741365,
          -1.2818440060825562,
          -0.9087418919208011,
          4.34699536738948,
          5.494149300822587,
          -1.691779914575815,
          -1.0531065032494493,
          8.480484950886074,
          -1.433623271318058
         ]
        },
        {
         "line": {
          "color": "rgba(117, 152, 189, 0.9)"
         },
         "marker": {
          "line": {
           "color": "white",
           "width": 0.8
          },
          "opacity": 0.8,
          "size": 8
         },
         "meanline": {
          "visible": true
         },
         "scalemode": "count",
         "showlegend": false,
         "type": "violin",
         "visible": false,
         "x": [
          "Russia",
          "Russia",
          "Russia",
          "Russia",
          "Russia",
          "Russia"
         ],
         "y": [
          4.596180689516688,
          -1.1077998170709176,
          4.185351788584439,
          3.929434121456459,
          -1.027454713957207,
          5.911422434772396
         ]
        },
        {
         "line": {
          "color": "rgba(117, 152, 189, 0.9)"
         },
         "marker": {
          "line": {
           "color": "white",
           "width": 0.8
          },
          "opacity": 0.8,
          "size": 8
         },
         "meanline": {
          "visible": true
         },
         "scalemode": "count",
         "showlegend": false,
         "type": "violin",
         "visible": false,
         "x": [
          "United Kingdom",
          "United Kingdom",
          "United Kingdom",
          "United Kingdom",
          "United Kingdom",
          "United Kingdom",
          "United Kingdom",
          "United Kingdom",
          "United Kingdom",
          "United Kingdom",
          "United Kingdom",
          "United Kingdom",
          "United Kingdom",
          "United Kingdom",
          "United Kingdom",
          "United Kingdom",
          "United Kingdom",
          "United Kingdom"
         ],
         "y": [
          0.23512406771875344,
          -0.35843052574913353,
          0.46198303676294283,
          0.5314399739136534,
          -0.22265692188932493,
          0.33759584516728414,
          0.5200337998319262,
          -0.9047577923602026,
          -0.793034653068158,
          -0.1217413009537829,
          0.18957481115497055,
          -1.0551312632707202,
          0.41868382635716744,
          0.36933837258961333,
          0.09049428089595901,
          -0.3018693849438333,
          0.31750329227401725,
          -0.7088966022046994
         ]
        },
        {
         "line": {
          "color": "rgba(117, 152, 189, 0.9)"
         },
         "marker": {
          "line": {
           "color": "white",
           "width": 0.8
          },
          "opacity": 0.8,
          "size": 8
         },
         "meanline": {
          "visible": true
         },
         "scalemode": "count",
         "showlegend": false,
         "type": "violin",
         "visible": false,
         "x": [
          "United States<br />of America",
          "United States<br />of America",
          "United States<br />of America",
          "United States<br />of America",
          "United States<br />of America",
          "United States<br />of America",
          "United States<br />of America",
          "United States<br />of America",
          "United States<br />of America",
          "United States<br />of America",
          "United States<br />of America",
          "United States<br />of America",
          "United States<br />of America",
          "United States<br />of America",
          "United States<br />of America",
          "United States<br />of America",
          "United States<br />of America",
          "United States<br />of America",
          "United States<br />of America",
          "United States<br />of America",
          "United States<br />of America",
          "United States<br />of America",
          "United States<br />of America",
          "United States<br />of America",
          "United States<br />of America",
          "United States<br />of America",
          "United States<br />of America",
          "United States<br />of America",
          "United States<br />of America",
          "United States<br />of America",
          "United States<br />of America",
          "United States<br />of America",
          "United States<br />of America",
          "United States<br />of America",
          "United States<br />of America",
          "United States<br />of America",
          "United States<br />of America",
          "United States<br />of America",
          "United States<br />of America",
          "United States<br />of America",
          "United States<br />of America",
          "United States<br />of America",
          "United States<br />of America",
          "United States<br />of America",
          "United States<br />of America",
          "United States<br />of America",
          "United States<br />of America",
          "United States<br />of America",
          "United States<br />of America",
          "United States<br />of America",
          "United States<br />of America",
          "United States<br />of America",
          "United States<br />of America",
          "United States<br />of America",
          "United States<br />of America",
          "United States<br />of America",
          "United States<br />of America",
          "United States<br />of America",
          "United States<br />of America",
          "United States<br />of America",
          "United States<br />of America",
          "United States<br />of America",
          "United States<br />of America",
          "United States<br />of America",
          "United States<br />of America",
          "United States<br />of America",
          "United States<br />of America",
          "United States<br />of America",
          "United States<br />of America",
          "United States<br />of America",
          "United States<br />of America",
          "United States<br />of America",
          "United States<br />of America",
          "United States<br />of America",
          "United States<br />of America",
          "United States<br />of America",
          "United States<br />of America",
          "United States<br />of America",
          "United States<br />of America",
          "United States<br />of America",
          "United States<br />of America",
          "United States<br />of America",
          "United States<br />of America",
          "United States<br />of America",
          "United States<br />of America",
          "United States<br />of America",
          "United States<br />of America",
          "United States<br />of America",
          "United States<br />of America",
          "United States<br />of America",
          "United States<br />of America",
          "United States<br />of America",
          "United States<br />of America",
          "United States<br />of America",
          "United States<br />of America",
          "United States<br />of America",
          "United States<br />of America",
          "United States<br />of America",
          "United States<br />of America",
          "United States<br />of America",
          "United States<br />of America",
          "United States<br />of America",
          "United States<br />of America",
          "United States<br />of America",
          "United States<br />of America",
          "United States<br />of America",
          "United States<br />of America",
          "United States<br />of America",
          "United States<br />of America",
          "United States<br />of America",
          "United States<br />of America",
          "United States<br />of America",
          "United States<br />of America",
          "United States<br />of America",
          "United States<br />of America",
          "United States<br />of America",
          "United States<br />of America",
          "United States<br />of America",
          "United States<br />of America",
          "United States<br />of America",
          "United States<br />of America",
          "United States<br />of America",
          "United States<br />of America",
          "United States<br />of America",
          "United States<br />of America",
          "United States<br />of America",
          "United States<br />of America",
          "United States<br />of America",
          "United States<br />of America",
          "United States<br />of America",
          "United States<br />of America",
          "United States<br />of America",
          "United States<br />of America",
          "United States<br />of America",
          "United States<br />of America",
          "United States<br />of America",
          "United States<br />of America"
         ],
         "y": [
          0.2685475999720926,
          0.3822080103811689,
          0.31104678846197387,
          0.29824527012780827,
          -2.1085142708109195,
          0.3814622293270154,
          0.3831256103492649,
          0.3894470226428596,
          0.3715624753543095,
          0.3592125625517161,
          -1.5358314108456954,
          0.22923675288465287,
          0.4689005215795329,
          -1.7260760336516991,
          0.231908665538163,
          -1.66606803215575,
          0.43029216066616693,
          0.3423431420763345,
          0.4119797059016,
          0.27515231657343414,
          0.2654294982555872,
          0.33968328332611797,
          0.37815263678668815,
          0.29430298056002546,
          0.33377752897414137,
          0.4608855846727574,
          0.4288829752653268,
          0.26944579412794767,
          0.4383464309652922,
          -1.9060211446024489,
          0.5156604554869145,
          0.25626800384077814,
          0.36917565272954705,
          0.41854558426073757,
          0.2756872780736075,
          -0.4014712028540162,
          0.5204346852843913,
          0.32552840122854665,
          -1.57675360153108,
          0.3376252987142909,
          -1.4111764000286946,
          0.27990146109266806,
          0.5355442871681123,
          0.2659342588446285,
          0.24139907043499514,
          0.3811276743755842,
          -1.713389122151254,
          0.2468949969445166,
          0.2862503223364001,
          0.500388637272733,
          -0.26312483135471454,
          -2.361844548396929,
          -1.337634882863061,
          0.3077519305247058,
          0.40601441754045375,
          -0.27247541208157966,
          0.4526959125223721,
          0.2545405446474982,
          0.3255514944039183,
          0.35098807085109485,
          0.3776868057161716,
          0.4299179985145634,
          0.4653308875154942,
          0.44713832344622834,
          0.3705532136510552,
          0.19963253524545382,
          0.35636532617118066,
          0.378187455629153,
          0.2755002205517607,
          0.33326759291036284,
          -1.4126934112881244,
          -2.519444113619604,
          0.5240088723367465,
          0.3220450880029404,
          -0.3079526038688485,
          0.4713900835220602,
          0.4887266389852211,
          0.4159561593968964,
          0.3107083581872625,
          0.3529719604657928,
          0.3206370181463496,
          0.41240796743201086,
          0.4606365104589358,
          0.47097245132765064,
          0.3086079374998907,
          0.3294636553856132,
          0.36178833322275716,
          0.3519203938791151,
          -2.0807160015427706,
          0.40801387506772746,
          0.30683365214387226,
          0.34244233923876566,
          0.2520675351920414,
          0.24960025649705894,
          -1.6269292278694718,
          -0.33745938630042494,
          -2.22776860165478,
          0.3758293598035713,
          0.22820907170234134,
          0.2836613052078793,
          0.3636668736903642,
          0.40283087368718495,
          -1.4946821651439937,
          0.3376823428934549,
          0.4096772870455801,
          0.27308984179406026,
          0.2796445720203143,
          0.45274437369474607,
          0.3119149013385809,
          0.30147792994264583,
          0.2894308830794564,
          0.3274596034385125,
          -2.6912099647700884,
          0.365251523115555,
          0.3241694892829414,
          0.2883514954615403,
          -1.628979517241264,
          0.3609380794656216,
          0.401154658504056,
          -2.3267558493441687,
          0.378425022206403,
          0.35427827069986795,
          0.266189802193418,
          0.32195329973509057,
          0.25002559963364474,
          0.28443641342929876,
          -1.2773779246296426,
          0.3335499628223655,
          0.4271386367517386,
          0.4584127687545497,
          0.35761975820330943,
          0.5460117156867059,
          0.34045084394198294,
          0.40167526894096883,
          0.2856433571738408,
          0.2453831396741174,
          0.23612163790599888
         ]
        },
        {
         "hovertemplate": "airline_country=%{x}<br>Shap interaction value=%{y}<br>Aboard=%{marker.color}<extra></extra>",
         "legendgroup": "",
         "marker": {
          "color": [
           5,
           32,
           25,
           26,
           16,
           79,
           16,
           27,
           13,
           31,
           17,
           22,
           23,
           59,
           2,
           21,
           62,
           7,
           16,
           57,
           16,
           16,
           11,
           3,
           113,
           7,
           75,
           3,
           5,
           15,
           27,
           5,
           3,
           18,
           7,
           12,
           4,
           27,
           79,
           7,
           20,
           5,
           23,
           4,
           14,
           135,
           132,
           10,
           4,
           44,
           36,
           20,
           24,
           5,
           51,
           9,
           69,
           28,
           70,
           18,
           3,
           4,
           12,
           3,
           11,
           48,
           59,
           4,
           2,
           8,
           22,
           176,
           46,
           98,
           54,
           3,
           51,
           6,
           260,
           45,
           19,
           5,
           26,
           78,
           10,
           12,
           29,
           20,
           6,
           37,
           63,
           13,
           1,
           309,
           8,
           109,
           14,
           31,
           7,
           152,
           24,
           51,
           50,
           99,
           13,
           20,
           13,
           12,
           9,
           10,
           35,
           47,
           3,
           39,
           25,
           17,
           31,
           298,
           47,
           1,
           25,
           13,
           15,
           10,
           102,
           10,
           64,
           14,
           9,
           15,
           31,
           10,
           85,
           2,
           23,
           25,
           3,
           38,
           10,
           53,
           2,
           53,
           225,
           38,
           69,
           44,
           78,
           6,
           9,
           2,
           2,
           12,
           26,
           61,
           8,
           34,
           63,
           14,
           13,
           17,
           155,
           166,
           2,
           19,
           12,
           7,
           4,
           37,
           6,
           29,
           107,
           23,
           14,
           3,
           68,
           18,
           9,
           145,
           15,
           13,
           3,
           22,
           6,
           3,
           4,
           124,
           49,
           13,
           16,
           22,
           35,
           80,
           18,
           95,
           2,
           16,
           31,
           7,
           30,
           239
          ],
          "coloraxis": "coloraxis",
          "line": {
           "color": "white",
           "width": 0.8
          },
          "opacity": 0.8,
          "size": 8,
          "symbol": "circle"
         },
         "mode": "markers",
         "name": "",
         "orientation": "v",
         "showlegend": false,
         "type": "scatter",
         "visible": false,
         "x": [
          "United States<br<br />/>of America",
          "United States<br<br />/>of America",
          "United States<br<br />/>of America",
          "United States<br<br />/>of America",
          "France",
          "United States<br<br />/>of America",
          "United States<br<br />/>of America",
          "United Kingdom",
          "United States<br<br />/>of America",
          "United States<br<br />/>of America",
          "United Kingdom",
          "United States<br<br />/>of America",
          "United States<br<br />/>of America",
          "United States<br<br />/>of America",
          "United States<br<br />/>of America",
          "United States<br<br />/>of America",
          "United States<br<br />/>of America",
          "United States<br<br />/>of America",
          "France",
          "United States<br<br />/>of America",
          "United States<br<br />/>of America",
          "United States<br<br />/>of America",
          "United States<br<br />/>of America",
          "China",
          "China",
          "United States<br<br />/>of America",
          "Russia",
          "France",
          "United States<br<br />/>of America",
          "United States<br<br />/>of America",
          "United States<br<br />/>of America",
          "United States<br<br />/>of America",
          "United States<br<br />/>of America",
          "United States<br<br />/>of America",
          "France",
          "United States<br<br />/>of America",
          "United States<br<br />/>of America",
          "United States<br<br />/>of America",
          "United States<br<br />/>of America",
          "United Kingdom",
          "United States<br<br />/>of America",
          "China",
          "Russia",
          "United States<br<br />/>of America",
          "United States<br<br />/>of America",
          "China",
          "France",
          "United States<br<br />/>of America",
          "United States<br<br />/>of America",
          "United States<br<br />/>of America",
          "United Kingdom",
          "United States<br<br />/>of America",
          "China",
          "United States<br<br />/>of America",
          "United States<br<br />/>of America",
          "United States<br<br />/>of America",
          "United States<br<br />/>of America",
          "United States<br<br />/>of America",
          "France",
          "United States<br<br />/>of America",
          "United States<br<br />/>of America",
          "United States<br<br />/>of America",
          "Canada",
          "United States<br<br />/>of America",
          "United Kingdom",
          "France",
          "United States<br<br />/>of America",
          "United Kingdom",
          "United States<br<br />/>of America",
          "United States<br<br />/>of America",
          "United States<br<br />/>of America",
          "United Kingdom",
          "United States<br<br />/>of America",
          "United States<br<br />/>of America",
          "China",
          "China",
          "United States<br<br />/>of America",
          "United States<br<br />/>of America",
          "United States<br<br />/>of America",
          "United States<br<br />/>of America",
          "United States<br<br />/>of America",
          "United States<br<br />/>of America",
          "United States<br<br />/>of America",
          "France",
          "United States<br<br />/>of America",
          "United States<br<br />/>of America",
          "United States<br<br />/>of America",
          "United States<br<br />/>of America",
          "China",
          "United States<br<br />/>of America",
          "United Kingdom",
          "United States<br<br />/>of America",
          "United States<br<br />/>of America",
          "France",
          "United States<br<br />/>of America",
          "Canada",
          "United States<br<br />/>of America",
          "China",
          "United States<br<br />/>of America",
          "United Kingdom",
          "United States<br<br />/>of America",
          "United States<br<br />/>of America",
          "Russia",
          "United States<br<br />/>of America",
          "China",
          "United States<br<br />/>of America",
          "United States<br<br />/>of America",
          "China",
          "France",
          "United Kingdom",
          "United Kingdom",
          "United Kingdom",
          "France",
          "United States<br<br />/>of America",
          "United States<br<br />/>of America",
          "United States<br<br />/>of America",
          "United States<br<br />/>of America",
          "United States<br<br />/>of America",
          "Russia",
          "United States<br<br />/>of America",
          "United States<br<br />/>of America",
          "United States<br<br />/>of America",
          "Russia",
          "United States<br<br />/>of America",
          "China",
          "United States<br<br />/>of America",
          "France",
          "United States<br<br />/>of America",
          "United States<br<br />/>of America",
          "United States<br<br />/>of America",
          "United Kingdom",
          "United States<br<br />/>of America",
          "United States<br<br />/>of America",
          "United Kingdom",
          "United States<br<br />/>of America",
          "United States<br<br />/>of America",
          "China",
          "United States<br<br />/>of America",
          "United Kingdom",
          "France",
          "United States<br<br />/>of America",
          "China",
          "China",
          "United States<br<br />/>of America",
          "United States<br<br />/>of America",
          "United States<br<br />/>of America",
          "United States<br<br />/>of America",
          "China",
          "United States<br<br />/>of America",
          "United States<br<br />/>of America",
          "United States<br<br />/>of America",
          "United States<br<br />/>of America",
          "China",
          "Russia",
          "United States<br<br />/>of America",
          "France",
          "United States<br<br />/>of America",
          "United States<br<br />/>of America",
          "United States<br<br />/>of America",
          "China",
          "United States<br<br />/>of America",
          "China",
          "United States<br<br />/>of America",
          "United Kingdom",
          "United States<br<br />/>of America",
          "France",
          "United States<br<br />/>of America",
          "United States<br<br />/>of America",
          "United States<br<br />/>of America",
          "United States<br<br />/>of America",
          "United States<br<br />/>of America",
          "United States<br<br />/>of America",
          "United States<br<br />/>of America",
          "United States<br<br />/>of America",
          "United States<br<br />/>of America",
          "United States<br<br />/>of America",
          "United States<br<br />/>of America",
          "United States<br<br />/>of America",
          "United States<br<br />/>of America",
          "United States<br<br />/>of America",
          "United States<br<br />/>of America",
          "United States<br<br />/>of America",
          "United States<br<br />/>of America",
          "United States<br<br />/>of America",
          "United Kingdom",
          "United Kingdom",
          "United States<br<br />/>of America",
          "United States<br<br />/>of America",
          "United States<br<br />/>of America",
          "United States<br<br />/>of America",
          "United States<br<br />/>of America",
          "China",
          "United States<br<br />/>of America",
          "France",
          "United States<br<br />/>of America",
          "United States<br<br />/>of America",
          "United States<br<br />/>of America",
          "United States<br<br />/>of America",
          "United States<br<br />/>of America",
          "France"
         ],
         "xaxis": "x",
         "y": [
          0.2685475999720926,
          0.3822080103811689,
          0.31104678846197387,
          0.29824527012780827,
          -1.4634247522546324,
          -2.1085142708109195,
          0.3814622293270154,
          0.23512406771875344,
          0.3831256103492649,
          0.3894470226428596,
          -0.35843052574913353,
          0.3715624753543095,
          0.3592125625517161,
          -1.5358314108456954,
          0.22923675288465287,
          0.4689005215795329,
          -1.7260760336516991,
          0.231908665538163,
          -1.0910538870753608,
          -1.66606803215575,
          0.43029216066616693,
          0.3423431420763345,
          0.4119797059016,
          -1.0359351660228737,
          8.005907881722136,
          0.27515231657343414,
          4.596180689516688,
          -0.8513449038891043,
          0.2654294982555872,
          0.33968328332611797,
          0.37815263678668815,
          0.29430298056002546,
          0.33377752897414137,
          0.4608855846727574,
          -0.8665744389525025,
          0.4288829752653268,
          0.26944579412794767,
          0.4383464309652922,
          -1.9060211446024489,
          0.46198303676294283,
          0.5156604554869145,
          -0.8748610703773191,
          -1.1077998170709176,
          0.25626800384077814,
          0.36917565272954705,
          7.305234044979003,
          7.3462882787114605,
          0.41854558426073757,
          0.2756872780736075,
          -0.4014712028540162,
          0.5314399739136534,
          0.5204346852843913,
          -0.9203714016209318,
          0.32552840122854665,
          -1.57675360153108,
          0.3376252987142909,
          -1.4111764000286946,
          0.27990146109266806,
          5.6983249828699565,
          0.5355442871681123,
          0.2659342588446285,
          0.24139907043499514,
          0.03964008522812494,
          0.3811276743755842,
          -0.22265692188932493,
          3.9827074690288238,
          -1.713389122151254,
          0.33759584516728414,
          0.2468949969445166,
          0.2862503223364001,
          0.500388637272733,
          0.5200337998319262,
          -0.26312483135471454,
          -2.361844548396929,
          4.911155955205719,
          -0.7213015792405367,
          -1.337634882863061,
          0.3077519305247058,
          0.40601441754045375,
          -0.27247541208157966,
          0.4526959125223721,
          0.2545405446474982,
          0.3255514944039183,
          6.793761267625906,
          0.35098807085109485,
          0.3776868057161716,
          0.4299179985145634,
          0.4653308875154942,
          -0.757431365058388,
          0.44713832344622834,
          -0.9047577923602026,
          0.3705532136510552,
          0.19963253524545382,
          -1.0492664666741365,
          0.35636532617118066,
          -0.701514098151375,
          0.378187455629153,
          -0.9108270847384717,
          0.2755002205517607,
          -0.793034653068158,
          0.33326759291036284,
          -1.4126934112881244,
          4.185351788584439,
          -2.519444113619604,
          -0.9549400582122667,
          0.5240088723367465,
          0.3220450880029404,
          -1.388640778850739,
          -1.2818440060825562,
          -0.1217413009537829,
          0.18957481115497055,
          -1.0551312632707202,
          -0.9087418919208011,
          -0.3079526038688485,
          0.4713900835220602,
          0.4887266389852211,
          0.4159561593968964,
          0.3107083581872625,
          3.929434121456459,
          0.3529719604657928,
          0.3206370181463496,
          0.41240796743201086,
          -1.027454713957207,
          0.4606365104589358,
          7.9781915728088,
          0.47097245132765064,
          4.34699536738948,
          0.3086079374998907,
          0.3294636553856132,
          0.36178833322275716,
          0.41868382635716744,
          0.3519203938791151,
          -2.0807160015427706,
          0.36933837258961333,
          0.40801387506772746,
          0.30683365214387226,
          -1.0475147840799013,
          0.34244233923876566,
          0.09049428089595901,
          5.494149300822587,
          0.2520675351920414,
          4.965131723116807,
          -1.002581412998576,
          0.24960025649705894,
          -1.6269292278694718,
          -0.33745938630042494,
          -2.22776860165478,
          -0.9432227578658983,
          0.3758293598035713,
          0.22820907170234134,
          0.2836613052078793,
          0.3636668736903642,
          -1.4127192693655093,
          5.911422434772396,
          0.40283087368718495,
          -1.691779914575815,
          -1.4946821651439937,
          0.3376823428934549,
          0.4096772870455801,
          -1.1044890936823826,
          0.27308984179406026,
          -1.1031709918564483,
          0.2796445720203143,
          -0.3018693849438333,
          0.45274437369474607,
          -1.0531065032494493,
          0.3119149013385809,
          0.30147792994264583,
          0.2894308830794564,
          0.3274596034385125,
          -2.6912099647700884,
          0.365251523115555,
          0.3241694892829414,
          0.2883514954615403,
          -1.628979517241264,
          0.3609380794656216,
          0.401154658504056,
          -2.3267558493441687,
          0.378425022206403,
          0.35427827069986795,
          0.266189802193418,
          0.32195329973509057,
          0.25002559963364474,
          0.28443641342929876,
          0.31750329227401725,
          -0.7088966022046994,
          -1.2773779246296426,
          0.3335499628223655,
          0.4271386367517386,
          0.4584127687545497,
          0.35761975820330943,
          7.462864119594945,
          0.5460117156867059,
          8.480484950886074,
          0.34045084394198294,
          0.40167526894096883,
          0.2856433571738408,
          0.2453831396741174,
          0.23612163790599888,
          -1.433623271318058
         ],
         "yaxis": "y"
        },
        {
         "line": {
          "color": "rgba(117, 152, 189, 0.9)"
         },
         "marker": {
          "line": {
           "color": "white",
           "width": 0.8
          },
          "opacity": 0.8,
          "size": 8
         },
         "meanline": {
          "visible": true
         },
         "scalemode": "count",
         "showlegend": false,
         "type": "violin",
         "visible": false,
         "x": [
          0,
          0,
          0,
          0,
          0,
          0,
          0,
          0,
          0,
          0,
          0,
          0,
          0,
          0,
          0,
          0,
          0,
          0,
          0,
          0,
          0,
          0,
          0,
          0,
          0,
          0,
          0,
          0,
          0,
          0
         ],
         "y": [
          -2.203153249234836,
          -1.5796535530609082,
          1.0372390211980778,
          0.8120261368250685,
          0.4582116668569306,
          0.680836902721012,
          1.1757793352332147,
          0.9987474529801995,
          1.3927905504205211,
          -1.2160281659162413,
          0.9835436537417246,
          1.4108920235797002,
          1.1307501746158442,
          1.3719863982812674,
          -1.4691731541907262,
          -0.36166968876079764,
          1.4396063389304865,
          -0.49121016777379833,
          -1.8384735259491127,
          0.9965603499512681,
          -1.9117796334452646,
          1.3439849675006663,
          -1.6994374231277076,
          0.12120163040744764,
          -4.107808493579327,
          -2.329768666466305,
          1.1504888711269887,
          1.144797155991508,
          1.1795171051778126,
          0.3397611134979069
         ]
        },
        {
         "line": {
          "color": "rgba(117, 152, 189, 0.9)"
         },
         "marker": {
          "line": {
           "color": "white",
           "width": 0.8
          },
          "opacity": 0.8,
          "size": 8
         },
         "meanline": {
          "visible": true
         },
         "scalemode": "count",
         "showlegend": false,
         "type": "violin",
         "visible": false,
         "x": [
          1,
          1,
          1,
          1,
          1,
          1,
          1,
          1,
          1,
          1,
          1,
          1,
          1,
          1,
          1,
          1,
          1,
          1,
          1,
          1,
          1,
          1,
          1,
          1,
          1,
          1,
          1,
          1,
          1,
          1,
          1,
          1,
          1,
          1,
          1,
          1,
          1,
          1,
          1,
          1
         ],
         "y": [
          -0.5779437558190613,
          1.2847836394349095,
          0.49821646858802787,
          -0.2917275447343929,
          -0.32742108746431203,
          1.1769293760317028,
          -0.014042358143947171,
          -0.28666948807040066,
          -0.11079272205070917,
          -0.7704633744885745,
          0.7094456303537259,
          -0.38778470090702255,
          -0.32607627272042405,
          -0.08679553784509128,
          -0.41858600787034406,
          -0.28104977804668146,
          0.40245469156459884,
          0.707353390987141,
          1.1429310464785136,
          -0.2810205115242254,
          -0.8875122030962599,
          -0.14437712962274724,
          0.9131376977429487,
          -0.25999565869600855,
          0.17087125769690373,
          1.1977871722428173,
          -0.25310017722879175,
          1.099352742293951,
          1.0463533327843102,
          -0.070745478567554,
          0.87437357785634,
          -0.22816359864727573,
          -0.25335977636680396,
          0.7439545566393416,
          -0.07047200929465863,
          -0.22518066363675387,
          -0.14471464394037922,
          -0.04894787833300657,
          -0.5662486833606895,
          -0.12971475763323853
         ]
        },
        {
         "line": {
          "color": "rgba(117, 152, 189, 0.9)"
         },
         "marker": {
          "line": {
           "color": "white",
           "width": 0.8
          },
          "opacity": 0.8,
          "size": 8
         },
         "meanline": {
          "visible": true
         },
         "scalemode": "count",
         "showlegend": false,
         "type": "violin",
         "visible": false,
         "x": [
          2,
          2,
          2,
          2,
          2,
          2,
          2,
          2,
          2,
          2,
          2,
          2,
          2,
          2,
          2,
          2,
          2,
          2,
          2,
          2,
          2,
          2,
          2,
          2,
          2,
          2,
          2,
          2,
          2,
          2
         ],
         "y": [
          -0.22183287527608803,
          0.8190656914606868,
          0.8331657910475574,
          -0.26731998729774753,
          -0.42564561864883943,
          0.165140261996568,
          -0.38307037031549995,
          0.040385469578681686,
          -0.24016564510136584,
          0.2553709744738381,
          -0.7207381679009084,
          -0.21692118401125357,
          0.4946790825651819,
          0.07954089926993763,
          -0.20323612133030416,
          -0.4510351522205597,
          -0.1273505218163044,
          -0.19738793559349885,
          -0.4538299970543234,
          -0.8374152160180237,
          -0.5575622828131332,
          -0.31168664851929656,
          -0.7721829459494828,
          -0.004755568839944371,
          -0.11378373217277232,
          0.45810322261546743,
          -0.10411330122533145,
          0.43843976290745323,
          0.5533251341451687,
          -0.16626563155610397
         ]
        },
        {
         "line": {
          "color": "rgba(117, 152, 189, 0.9)"
         },
         "marker": {
          "line": {
           "color": "white",
           "width": 0.8
          },
          "opacity": 0.8,
          "size": 8
         },
         "meanline": {
          "visible": true
         },
         "scalemode": "count",
         "showlegend": false,
         "type": "violin",
         "visible": false,
         "x": [
          3,
          3,
          3,
          3,
          3,
          3,
          3,
          3,
          3,
          3,
          3,
          3,
          3,
          3,
          3,
          3,
          3,
          3,
          3,
          3,
          3,
          3,
          3,
          3,
          3,
          3
         ],
         "y": [
          -0.22114809804585778,
          0.2693044351475414,
          -0.5375854958789776,
          -0.16606104216461423,
          -0.5065283212715983,
          0.6195924148943135,
          0.5520980794887519,
          -0.3907678548992083,
          -0.6171677946193956,
          -0.5124401548055725,
          0.5394349072284835,
          0.07412557949758393,
          -0.4660473692734092,
          -0.23610534283895968,
          0.06568514157326272,
          -0.2576273649192941,
          -0.48073203196674935,
          0.6259656986499077,
          -1.1544871553363625,
          -0.49286843982266587,
          0.1641679435702673,
          -0.5173529836605011,
          -0.507034082771837,
          0.6548350187991908,
          -0.5392695009794922,
          0.7056246472685933
         ]
        },
        {
         "line": {
          "color": "rgba(117, 152, 189, 0.9)"
         },
         "marker": {
          "line": {
           "color": "white",
           "width": 0.8
          },
          "opacity": 0.8,
          "size": 8
         },
         "meanline": {
          "visible": true
         },
         "scalemode": "count",
         "showlegend": false,
         "type": "violin",
         "visible": false,
         "x": [
          4,
          4,
          4,
          4,
          4,
          4,
          4,
          4,
          4,
          4,
          4,
          4,
          4,
          4,
          4,
          4,
          4,
          4,
          4,
          4,
          4,
          4,
          4,
          4,
          4,
          4,
          4,
          4,
          4,
          4,
          4,
          4,
          4,
          4
         ],
         "y": [
          0.44524836130132744,
          0.610060033719016,
          1.7139997232073005,
          -0.5446192112180608,
          1.0422575519557924,
          -0.6657475911299239,
          0.6975023048836526,
          -0.5639257237501102,
          -0.6872662039750715,
          -0.44484295854010186,
          1.432231888409822,
          -0.5547891119801914,
          1.3244188390775966,
          -0.5726162631685379,
          -1.1719637869392723,
          1.1270590096531323,
          1.3856633356585548,
          1.111020787928944,
          0.9698648201301941,
          1.225203401783495,
          -0.6112319653951422,
          1.218820809296184,
          0.9296452940574337,
          -0.42046847316012853,
          -0.47037584044996106,
          -0.5284601583923231,
          0.9849828501380646,
          -0.4444737293544743,
          0.6359461082323878,
          -0.3385326864860095,
          0.03428887830016242,
          -0.011795376061659627,
          -0.5708168633893559,
          1.111955832018307
         ]
        },
        {
         "line": {
          "color": "rgba(117, 152, 189, 0.9)"
         },
         "marker": {
          "line": {
           "color": "white",
           "width": 0.8
          },
          "opacity": 0.8,
          "size": 8
         },
         "meanline": {
          "visible": true
         },
         "scalemode": "count",
         "showlegend": false,
         "type": "violin",
         "visible": false,
         "x": [
          5,
          5,
          5,
          5,
          5,
          5,
          5,
          5,
          5,
          5,
          5,
          5,
          5,
          5,
          5,
          5,
          5,
          5,
          5,
          5,
          5,
          5,
          5
         ],
         "y": [
          -0.06889150450564893,
          0.11832577414525955,
          0.12683644461275537,
          0.059682504944749665,
          0.8574247464107039,
          0.0020189427355099855,
          -0.10253896906416432,
          -0.014648775361973234,
          0.03910621790636346,
          -1.2773305824554715,
          1.133866344628861,
          -0.45527453380160776,
          0.08320015092689238,
          -0.49354055107249517,
          0.13807938541095277,
          0.6309378540669015,
          1.6274883016317383,
          -0.9093795850937302,
          0.14426097668319213,
          0.37320463837428636,
          0.31890778968550165,
          1.2964179835596648,
          0.524257025652184
         ]
        },
        {
         "line": {
          "color": "rgba(117, 152, 189, 0.9)"
         },
         "marker": {
          "line": {
           "color": "white",
           "width": 0.8
          },
          "opacity": 0.8,
          "size": 8
         },
         "meanline": {
          "visible": true
         },
         "scalemode": "count",
         "showlegend": false,
         "type": "violin",
         "visible": false,
         "x": [
          6,
          6,
          6,
          6,
          6,
          6,
          6,
          6,
          6,
          6,
          6,
          6,
          6,
          6,
          6,
          6,
          6
         ],
         "y": [
          -0.2051175447408169,
          0.28393927433148275,
          0.8697476050949581,
          0.07674271692834263,
          -1.6785485312818955,
          0.2119551498048081,
          0.166189360809434,
          -0.40516189655111556,
          -0.050726558402103133,
          -0.942081773775622,
          0.11594143900380811,
          -0.0985525660241501,
          0.46066713745242344,
          -0.11423048886538824,
          -2.4584246354179466,
          -0.42941732705131724,
          0.0746278783855433
         ]
        },
        {
         "hovertemplate": "day=%{x}<br>Shap interaction value=%{y}<br>Aboard=%{marker.color}<extra></extra>",
         "legendgroup": "",
         "marker": {
          "color": [
           5,
           32,
           25,
           26,
           16,
           79,
           16,
           27,
           13,
           31,
           17,
           22,
           23,
           59,
           2,
           21,
           62,
           7,
           16,
           57,
           16,
           16,
           11,
           3,
           113,
           7,
           75,
           3,
           5,
           15,
           27,
           5,
           3,
           18,
           7,
           12,
           4,
           27,
           79,
           7,
           20,
           5,
           23,
           4,
           14,
           135,
           132,
           10,
           4,
           44,
           36,
           20,
           24,
           5,
           51,
           9,
           69,
           28,
           70,
           18,
           3,
           4,
           12,
           3,
           11,
           48,
           59,
           4,
           2,
           8,
           22,
           176,
           46,
           98,
           54,
           3,
           51,
           6,
           260,
           45,
           19,
           5,
           26,
           78,
           10,
           12,
           29,
           20,
           6,
           37,
           63,
           13,
           1,
           309,
           8,
           109,
           14,
           31,
           7,
           152,
           24,
           51,
           50,
           99,
           13,
           20,
           13,
           12,
           9,
           10,
           35,
           47,
           3,
           39,
           25,
           17,
           31,
           298,
           47,
           1,
           25,
           13,
           15,
           10,
           102,
           10,
           64,
           14,
           9,
           15,
           31,
           10,
           85,
           2,
           23,
           25,
           3,
           38,
           10,
           53,
           2,
           53,
           225,
           38,
           69,
           44,
           78,
           6,
           9,
           2,
           2,
           12,
           26,
           61,
           8,
           34,
           63,
           14,
           13,
           17,
           155,
           166,
           2,
           19,
           12,
           7,
           4,
           37,
           6,
           29,
           107,
           23,
           14,
           3,
           68,
           18,
           9,
           145,
           15,
           13,
           3,
           22,
           6,
           3,
           4,
           124,
           49,
           13,
           16,
           22,
           35,
           80,
           18,
           95,
           2,
           16,
           31,
           7,
           30,
           239
          ],
          "coloraxis": "coloraxis",
          "line": {
           "color": "white",
           "width": 0.8
          },
          "opacity": 0.8,
          "size": 8,
          "symbol": "circle"
         },
         "mode": "markers",
         "name": "",
         "orientation": "v",
         "showlegend": false,
         "type": "scatter",
         "visible": false,
         "x": [
          2,
          2,
          4,
          4,
          1,
          4,
          3,
          2,
          5,
          1,
          2,
          3,
          1,
          2,
          3,
          2,
          0,
          2,
          5,
          0,
          2,
          3,
          6,
          4,
          4,
          5,
          2,
          6,
          0,
          4,
          4,
          4,
          3,
          1,
          0,
          4,
          1,
          1,
          6,
          1,
          0,
          6,
          2,
          4,
          5,
          2,
          6,
          2,
          1,
          5,
          2,
          2,
          3,
          1,
          1,
          5,
          4,
          3,
          1,
          1,
          1,
          4,
          3,
          1,
          5,
          4,
          1,
          4,
          1,
          5,
          1,
          4,
          4,
          4,
          3,
          3,
          3,
          5,
          0,
          1,
          3,
          0,
          5,
          2,
          6,
          0,
          1,
          6,
          3,
          4,
          5,
          1,
          2,
          1,
          0,
          6,
          1,
          5,
          6,
          3,
          1,
          6,
          4,
          4,
          6,
          3,
          3,
          4,
          1,
          5,
          0,
          2,
          0,
          1,
          1,
          1,
          1,
          5,
          4,
          5,
          1,
          0,
          0,
          0,
          5,
          1,
          0,
          2,
          3,
          6,
          4,
          4,
          5,
          4,
          0,
          3,
          4,
          1,
          0,
          0,
          2,
          6,
          5,
          4,
          2,
          0,
          2,
          1,
          0,
          2,
          5,
          1,
          1,
          0,
          0,
          0,
          2,
          1,
          2,
          5,
          3,
          0,
          3,
          3,
          1,
          2,
          6,
          6,
          4,
          4,
          0,
          2,
          1,
          5,
          0,
          4,
          2,
          4,
          0,
          1,
          0,
          4,
          4,
          3,
          3,
          5,
          5,
          6,
          6,
          2,
          4,
          1,
          1,
          2,
          2,
          0,
          3,
          3,
          3,
          0
         ],
         "xaxis": "x",
         "y": [
          -0.22183287527608803,
          0.8190656914606868,
          0.44524836130132744,
          0.610060033719016,
          -0.5779437558190613,
          1.7139997232073005,
          -0.22114809804585778,
          0.8331657910475574,
          -0.06889150450564893,
          1.2847836394349095,
          -0.26731998729774753,
          0.2693044351475414,
          0.49821646858802787,
          -0.42564561864883943,
          -0.5375854958789776,
          0.165140261996568,
          -2.203153249234836,
          -0.38307037031549995,
          0.11832577414525955,
          -1.5796535530609082,
          0.040385469578681686,
          -0.16606104216461423,
          -0.2051175447408169,
          -0.5446192112180608,
          1.0422575519557924,
          0.12683644461275537,
          -0.24016564510136584,
          0.28393927433148275,
          1.0372390211980778,
          -0.6657475911299239,
          0.6975023048836526,
          -0.5639257237501102,
          -0.5065283212715983,
          -0.2917275447343929,
          0.8120261368250685,
          -0.6872662039750715,
          -0.32742108746431203,
          1.1769293760317028,
          0.8697476050949581,
          -0.014042358143947171,
          0.4582116668569306,
          0.07674271692834263,
          0.2553709744738381,
          -0.44484295854010186,
          0.059682504944749665,
          -0.7207381679009084,
          -1.6785485312818955,
          -0.21692118401125357,
          -0.28666948807040066,
          0.8574247464107039,
          0.4946790825651819,
          0.07954089926993763,
          0.6195924148943135,
          -0.11079272205070917,
          -0.7704633744885745,
          0.0020189427355099855,
          1.432231888409822,
          0.5520980794887519,
          0.7094456303537259,
          -0.38778470090702255,
          -0.32607627272042405,
          -0.5547891119801914,
          -0.3907678548992083,
          -0.08679553784509128,
          -0.10253896906416432,
          1.3244188390775966,
          -0.41858600787034406,
          -0.5726162631685379,
          -0.28104977804668146,
          -0.014648775361973234,
          0.40245469156459884,
          -1.1719637869392723,
          1.1270590096531323,
          1.3856633356585548,
          -0.6171677946193956,
          -0.5124401548055725,
          0.5394349072284835,
          0.03910621790636346,
          0.680836902721012,
          0.707353390987141,
          0.07412557949758393,
          1.1757793352332147,
          -1.2773305824554715,
          -0.20323612133030416,
          0.2119551498048081,
          0.9987474529801995,
          1.1429310464785136,
          0.166189360809434,
          -0.4660473692734092,
          1.111020787928944,
          1.133866344628861,
          -0.2810205115242254,
          -0.4510351522205597,
          -0.8875122030962599,
          1.3927905504205211,
          -0.40516189655111556,
          -0.14437712962274724,
          -0.45527453380160776,
          -0.050726558402103133,
          -0.23610534283895968,
          0.9131376977429487,
          -0.942081773775622,
          0.9698648201301941,
          1.225203401783495,
          0.11594143900380811,
          0.06568514157326272,
          -0.2576273649192941,
          -0.6112319653951422,
          -0.25999565869600855,
          0.08320015092689238,
          -1.2160281659162413,
          -0.1273505218163044,
          0.9835436537417246,
          0.17087125769690373,
          1.1977871722428173,
          -0.25310017722879175,
          1.099352742293951,
          -0.49354055107249517,
          1.218820809296184,
          0.13807938541095277,
          1.0463533327843102,
          1.4108920235797002,
          1.1307501746158442,
          1.3719863982812674,
          0.6309378540669015,
          -0.070745478567554,
          -1.4691731541907262,
          -0.19738793559349885,
          -0.48073203196674935,
          -0.0985525660241501,
          0.9296452940574337,
          -0.42046847316012853,
          1.6274883016317383,
          -0.47037584044996106,
          -0.36166968876079764,
          0.6259656986499077,
          -0.5284601583923231,
          0.87437357785634,
          1.4396063389304865,
          -0.49121016777379833,
          -0.4538299970543234,
          0.46066713745242344,
          -0.9093795850937302,
          0.9849828501380646,
          -0.8374152160180237,
          -1.8384735259491127,
          -0.5575622828131332,
          -0.22816359864727573,
          0.9965603499512681,
          -0.31168664851929656,
          0.14426097668319213,
          -0.25335977636680396,
          0.7439545566393416,
          -1.9117796334452646,
          1.3439849675006663,
          -1.6994374231277076,
          -0.7721829459494828,
          -0.07047200929465863,
          -0.004755568839944371,
          0.37320463837428636,
          -1.1544871553363625,
          0.12120163040744764,
          -0.49286843982266587,
          0.1641679435702673,
          -0.22518066363675387,
          -0.11378373217277232,
          -0.11423048886538824,
          -2.4584246354179466,
          -0.4444737293544743,
          0.6359461082323878,
          -4.107808493579327,
          0.45810322261546743,
          -0.14471464394037922,
          0.31890778968550165,
          -2.329768666466305,
          -0.3385326864860095,
          -0.10411330122533145,
          0.03428887830016242,
          1.1504888711269887,
          -0.04894787833300657,
          1.144797155991508,
          -0.011795376061659627,
          -0.5708168633893559,
          -0.5173529836605011,
          -0.507034082771837,
          1.2964179835596648,
          0.524257025652184,
          -0.42941732705131724,
          0.0746278783855433,
          0.43843976290745323,
          1.111955832018307,
          -0.5662486833606895,
          -0.12971475763323853,
          0.5533251341451687,
          -0.16626563155610397,
          1.1795171051778126,
          0.6548350187991908,
          -0.5392695009794922,
          0.7056246472685933,
          0.3397611134979069
         ],
         "yaxis": "y"
        },
        {
         "hovertemplate": "month=%{x}<br>Shap interaction value=%{y}<br>Aboard=%{marker.color}<extra></extra>",
         "legendgroup": "",
         "marker": {
          "color": [
           5,
           32,
           25,
           26,
           16,
           79,
           16,
           27,
           13,
           31,
           17,
           22,
           23,
           59,
           2,
           21,
           62,
           7,
           16,
           57,
           16,
           16,
           11,
           3,
           113,
           7,
           75,
           3,
           5,
           15,
           27,
           5,
           3,
           18,
           7,
           12,
           4,
           27,
           79,
           7,
           20,
           5,
           23,
           4,
           14,
           135,
           132,
           10,
           4,
           44,
           36,
           20,
           24,
           5,
           51,
           9,
           69,
           28,
           70,
           18,
           3,
           4,
           12,
           3,
           11,
           48,
           59,
           4,
           2,
           8,
           22,
           176,
           46,
           98,
           54,
           3,
           51,
           6,
           260,
           45,
           19,
           5,
           26,
           78,
           10,
           12,
           29,
           20,
           6,
           37,
           63,
           13,
           1,
           309,
           8,
           109,
           14,
           31,
           7,
           152,
           24,
           51,
           50,
           99,
           13,
           20,
           13,
           12,
           9,
           10,
           35,
           47,
           3,
           39,
           25,
           17,
           31,
           298,
           47,
           1,
           25,
           13,
           15,
           10,
           102,
           10,
           64,
           14,
           9,
           15,
           31,
           10,
           85,
           2,
           23,
           25,
           3,
           38,
           10,
           53,
           2,
           53,
           225,
           38,
           69,
           44,
           78,
           6,
           9,
           2,
           2,
           12,
           26,
           61,
           8,
           34,
           63,
           14,
           13,
           17,
           155,
           166,
           2,
           19,
           12,
           7,
           4,
           37,
           6,
           29,
           107,
           23,
           14,
           3,
           68,
           18,
           9,
           145,
           15,
           13,
           3,
           22,
           6,
           3,
           4,
           124,
           49,
           13,
           16,
           22,
           35,
           80,
           18,
           95,
           2,
           16,
           31,
           7,
           30,
           239
          ],
          "coloraxis": "coloraxis",
          "line": {
           "color": "white",
           "width": 0.8
          },
          "opacity": 0.8,
          "size": 8,
          "symbol": "circle"
         },
         "mode": "markers",
         "name": "",
         "orientation": "v",
         "showlegend": false,
         "type": "scatter",
         "visible": false,
         "x": [
          7,
          8,
          4,
          3,
          1,
          11,
          12,
          4,
          10,
          4,
          1,
          10,
          1,
          10,
          4,
          5,
          11,
          3,
          2,
          6,
          10,
          3,
          11,
          11,
          7,
          6,
          3,
          8,
          5,
          1,
          8,
          12,
          12,
          2,
          3,
          11,
          6,
          4,
          7,
          10,
          1,
          12,
          11,
          3,
          6,
          2,
          6,
          5,
          9,
          11,
          10,
          5,
          1,
          12,
          9,
          8,
          4,
          11,
          1,
          10,
          6,
          10,
          2,
          11,
          8,
          10,
          10,
          4,
          8,
          5,
          6,
          9,
          7,
          4,
          10,
          3,
          12,
          6,
          11,
          2,
          10,
          6,
          7,
          5,
          1,
          4,
          6,
          9,
          3,
          10,
          10,
          3,
          1,
          8,
          10,
          7,
          8,
          10,
          8,
          1,
          12,
          6,
          9,
          2,
          2,
          12,
          10,
          6,
          5,
          3,
          1,
          9,
          4,
          5,
          7,
          10,
          8,
          2,
          8,
          12,
          11,
          11,
          9,
          12,
          11,
          12,
          2,
          1,
          8,
          11,
          1,
          2,
          12,
          2,
          10,
          10,
          11,
          12,
          9,
          4,
          4,
          11,
          5,
          11,
          11,
          9,
          4,
          9,
          10,
          8,
          10,
          1,
          1,
          12,
          12,
          4,
          9,
          1,
          11,
          3,
          1,
          4,
          9,
          10,
          4,
          12,
          11,
          12,
          3,
          6,
          4,
          3,
          3,
          7,
          10,
          3,
          9,
          7,
          10,
          9,
          5,
          9,
          9,
          9,
          4,
          3,
          2,
          12,
          8,
          7,
          1,
          10,
          6,
          9,
          12,
          4,
          4,
          6,
          11,
          12
         ],
         "xaxis": "x",
         "y": [
          0.42945315926806327,
          -0.5312036300736571,
          -0.20179402624746923,
          -0.35450328714471563,
          -0.6941327475953977,
          -2.0346737240578876,
          -0.18959366245905318,
          -0.05577790482606835,
          -0.19712083644017875,
          0.46062144457622567,
          -0.6666567987378696,
          0.2877924121939039,
          -0.4048253870446609,
          -0.3296584421608481,
          -0.19254924447060826,
          0.40334304835833396,
          -0.22923952343808682,
          -0.756035776828582,
          -0.5655424701862681,
          -1.4918821712792083,
          -0.3108612323840678,
          -0.2814983916688794,
          0.14693310549612193,
          0.19005659735291133,
          0.43106520635866774,
          0.17187872280422006,
          0.8694217170490819,
          -0.06186766922236789,
          0.056315455787643354,
          -0.7414264846338376,
          0.1713781980167041,
          0.25476910664373675,
          0.3373628326210529,
          -0.775559434337628,
          -0.7831105947028969,
          0.2471001840989482,
          0.38479572788161687,
          -0.007323679174478572,
          -0.4718346051376201,
          0.38025477993351364,
          -0.810345314989384,
          -0.13863432981488188,
          0.04346384158696598,
          -0.4929432039211163,
          0.9035965759425756,
          0.9409291263491943,
          -0.0855013827976202,
          -0.07034408599426992,
          -0.0016707052156425461,
          -0.019984576209997437,
          -0.7027593414723444,
          0.20979006409970982,
          -0.3278798262120328,
          0.3885229763591815,
          -0.7997681241368365,
          0.1640982658666947,
          -0.15035302903522524,
          -0.059933890659544124,
          1.0286709036430777,
          -0.009272942628491048,
          0.32694723470203857,
          -0.007297042432928686,
          -0.7252373768670216,
          0.5198840026193381,
          0.19615740575275287,
          0.008629551187035732,
          -0.283778599121959,
          -0.08284623307074312,
          0.12245588031799036,
          0.02263536811520955,
          0.5036095322949947,
          -0.463580394654009,
          -2.216282384431942,
          -0.15638180178889585,
          -0.45598654109268283,
          -0.47320893972854405,
          0.1515316183911344,
          0.2205720854945675,
          0.13820527906415708,
          2.2598899632982747,
          -0.13187206261033588,
          0.3028233252595989,
          -0.011923654667917566,
          -1.5567381854721716,
          -0.26095543779099617,
          0.28036941253960374,
          -0.6043386423494741,
          0.1973534012463003,
          -0.5246796990468536,
          -0.430790665571696,
          0.23568483307392593,
          -0.8317109751858445,
          -0.6711448236369781,
          -0.19590131988475043,
          0.5175926862289691,
          0.01478532991201556,
          -0.13925712830011308,
          -0.3369368757297946,
          0.12662058705848772,
          1.2933386132189424,
          -0.29874915955141057,
          -1.8207083680614589,
          0.21847676892946832,
          1.2671913037469025,
          -0.2965844935187714,
          -0.2899506256237499,
          -0.21326039018085166,
          0.7841415101102209,
          -0.07980800085308024,
          -0.45265125948961565,
          0.9235469831132248,
          -0.250119046722132,
          -0.1863669874051809,
          -0.34243186123846586,
          0.000922255944709174,
          0.0135269913031597,
          -0.6014147663591803,
          0.6540435953786417,
          0.5071116391616398,
          0.23028991230050486,
          -0.2324111995711149,
          0.286289247255523,
          -0.08599845720095836,
          0.7470008467945874,
          -1.589032618065811,
          0.5907929328014412,
          1.3910321606103264,
          -0.5797107333577496,
          0.32444461045529593,
          -0.43459440182707976,
          0.12981949300937742,
          -0.6069335562129294,
          -2.004828490863161,
          -0.3299508699815169,
          0.130720147203815,
          0.41777863025773,
          0.19773946216452123,
          -0.7123252968243056,
          0.4205479100404081,
          -0.0978644290794018,
          -0.25483157503388704,
          0.8058341765959067,
          0.5644434703165845,
          -0.525194752415338,
          -0.20976854331356987,
          -0.7729552952797507,
          -0.11378154567581698,
          0.14403877958186662,
          0.25755604233831564,
          0.06117894062947035,
          0.09556811499445901,
          -0.8692013535412942,
          0.0963172436645604,
          0.5057017567976902,
          0.6919474493160694,
          1.1711734855209792,
          -0.7133538907954491,
          -0.5140889100273438,
          0.2134409954256639,
          -0.18461605328614483,
          0.3617854273579817,
          0.6803830885582507,
          0.08304611261698286,
          -0.07887420775498219,
          -0.033200579396492375,
          0.3511061759428345,
          0.044633318970757674,
          0.11536649374830973,
          -0.5903645211661153,
          -0.6045750824937596,
          -0.38570728038443525,
          -0.389719801158089,
          -0.5510335707847466,
          0.3500518056488774,
          -0.33005119033395514,
          -0.3078583027289536,
          0.34827680943528794,
          -0.2058853708684685,
          -0.23544570076608326,
          -0.14343238616027718,
          0.07423947592885922,
          0.3866677091153159,
          -0.016692063031051425,
          0.08395970407513878,
          -0.09027976926704,
          0.8961435127868965,
          0.9222472072426625,
          -0.25488142877001374,
          0.01768208399465768,
          0.2235401848384083,
          1.2198080002656397,
          0.02620504502618099,
          0.6612106200798878,
          -0.21819353530381763,
          0.40939293447861347,
          0.33150846915621895,
          0.4624585382396645,
          0.1201818697642409,
          -0.22206552721821038,
          -0.16623376196825765
         ],
         "yaxis": "y"
        }
       ],
       "layout": {
        "annotations": [
         {
          "align": "left",
          "showarrow": false,
          "text": "Sorted top 5 SHAP interaction Variables :",
          "x": 0,
          "xref": "paper",
          "y": 1.2,
          "yref": "paper"
         }
        ],
        "coloraxis": {
         "colorbar": {
          "title": {
           "text": "Aboard"
          }
         },
         "colorscale": [
          [
           0,
           "rgb(175, 169, 157)"
          ],
          [
           0.5,
           "rgb(255, 255, 255)"
          ],
          [
           1,
           "rgb(255, 77, 7)"
          ]
         ]
        },
        "height": 600,
        "hovermode": "closest",
        "template": {
         "data": {
          "scatter": [
           {
            "type": "scatter"
           }
          ]
         }
        },
        "title": {
         "font": {
          "color": "rgb(50, 50, 50)",
          "family": "Arial",
          "size": 24
         },
         "text": "<b>Cause and Aboard</b> shap interaction values",
         "x": 0.5,
         "xanchor": "center",
         "y": 0.88,
         "yanchor": "top"
        },
        "updatemenus": [
         {
          "active": 0,
          "buttons": [
           {
            "args": [
             {
              "visible": [
               true,
               true,
               true,
               true,
               true,
               true,
               true,
               false,
               false,
               false,
               false,
               false,
               false,
               false,
               false,
               false,
               false,
               false,
               false,
               false,
               false,
               false,
               false,
               false,
               false,
               false,
               false,
               false,
               false,
               false,
               false,
               false,
               false,
               false,
               false,
               false,
               false,
               false,
               false,
               false,
               false,
               false,
               false,
               false,
               false,
               false,
               false,
               false,
               false,
               false,
               false,
               false,
               false,
               false,
               false,
               false,
               false,
               false,
               false,
               false,
               false,
               false,
               false,
               false,
               false,
               false,
               false,
               false,
               false,
               false,
               false,
               false,
               false,
               false,
               false,
               false,
               false,
               false,
               false,
               false,
               false,
               false,
               false,
               false,
               false,
               false,
               false,
               false,
               false,
               false,
               false,
               false,
               false,
               false,
               false,
               false,
               false,
               false,
               false,
               false,
               false,
               false,
               false,
               false,
               false,
               false,
               false,
               false,
               false,
               false,
               false,
               false,
               false,
               false
              ]
             },
             {
              "coloraxis": {
               "colorbar": {
                "title": {
                 "text": "Aboard"
                }
               },
               "colorscale": [
                [
                 0,
                 "rgb(175, 169, 157)"
                ],
                [
                 0.5,
                 "rgb(255, 255, 255)"
                ],
                [
                 1,
                 "rgb(255, 77, 7)"
                ]
               ]
              },
              "legend": {
               "title": {
                "text": "Aboard"
               }
              },
              "title": {
               "font": {
                "color": "rgb(50, 50, 50)",
                "family": "Arial",
                "size": 24
               },
               "text": "<b>Cause and Aboard</b> shap interaction values",
               "x": 0.5,
               "xanchor": "center",
               "y": 0.88,
               "yanchor": "top"
              },
              "xaxis": {
               "title": {
                "font": {
                 "color": "rgb(50, 50, 50)",
                 "family": "Arial Black",
                 "size": 16
                },
                "text": "Cause"
               }
              }
             }
            ],
            "label": "Cause - Aboard",
            "method": "update"
           },
           {
            "args": [
             {
              "visible": [
               false,
               false,
               false,
               false,
               false,
               false,
               false,
               true,
               true,
               true,
               true,
               true,
               true,
               true,
               true,
               true,
               true,
               true,
               true,
               true,
               true,
               true,
               true,
               true,
               true,
               true,
               true,
               true,
               true,
               true,
               true,
               true,
               true,
               true,
               true,
               true,
               true,
               true,
               true,
               true,
               true,
               true,
               true,
               true,
               true,
               true,
               true,
               true,
               true,
               true,
               true,
               true,
               true,
               true,
               true,
               true,
               true,
               true,
               true,
               true,
               true,
               true,
               true,
               true,
               true,
               true,
               true,
               true,
               true,
               true,
               true,
               true,
               true,
               true,
               true,
               true,
               true,
               true,
               true,
               true,
               true,
               true,
               true,
               true,
               true,
               true,
               true,
               true,
               true,
               true,
               true,
               true,
               true,
               true,
               true,
               true,
               true,
               true,
               false,
               false,
               false,
               false,
               false,
               false,
               false,
               false,
               false,
               false,
               false,
               false,
               false,
               false,
               false,
               false
              ]
             },
             {
              "coloraxis": {
               "colorbar": {
                "title": {
                 "text": "Country"
                }
               },
               "colorscale": [
                [
                 0,
                 "rgb(175, 169, 157)"
                ],
                [
                 0.5,
                 "rgb(255, 255, 255)"
                ],
                [
                 1,
                 "rgb(255, 77, 7)"
                ]
               ]
              },
              "legend": {
               "title": {
                "text": "Country"
               }
              },
              "title": {
               "font": {
                "color": "rgb(50, 50, 50)",
                "family": "Arial",
                "size": 24
               },
               "text": "<b>Aboard and Country</b> shap interaction values",
               "x": 0.5,
               "xanchor": "center",
               "y": 0.88,
               "yanchor": "top"
              },
              "xaxis": {
               "title": {
                "font": {
                 "color": "rgb(50, 50, 50)",
                 "family": "Arial Black",
                 "size": 16
                },
                "text": "Aboard"
               }
              }
             }
            ],
            "label": "Aboard - Country",
            "method": "update"
           },
           {
            "args": [
             {
              "visible": [
               false,
               false,
               false,
               false,
               false,
               false,
               false,
               false,
               false,
               false,
               false,
               false,
               false,
               false,
               false,
               false,
               false,
               false,
               false,
               false,
               false,
               false,
               false,
               false,
               false,
               false,
               false,
               false,
               false,
               false,
               false,
               false,
               false,
               false,
               false,
               false,
               false,
               false,
               false,
               false,
               false,
               false,
               false,
               false,
               false,
               false,
               false,
               false,
               false,
               false,
               false,
               false,
               false,
               false,
               false,
               false,
               false,
               false,
               false,
               false,
               false,
               false,
               false,
               false,
               false,
               false,
               false,
               false,
               false,
               false,
               false,
               false,
               false,
               false,
               false,
               false,
               false,
               false,
               false,
               false,
               false,
               false,
               false,
               false,
               false,
               false,
               false,
               false,
               false,
               false,
               false,
               false,
               false,
               false,
               false,
               false,
               false,
               false,
               true,
               true,
               true,
               true,
               true,
               true,
               true,
               false,
               false,
               false,
               false,
               false,
               false,
               false,
               false,
               false
              ]
             },
             {
              "coloraxis": {
               "colorbar": {
                "title": {
                 "text": "Aboard"
                }
               },
               "colorscale": [
                [
                 0,
                 "rgb(175, 169, 157)"
                ],
                [
                 0.5,
                 "rgb(255, 255, 255)"
                ],
                [
                 1,
                 "rgb(255, 77, 7)"
                ]
               ]
              },
              "legend": {
               "title": {
                "text": "Aboard"
               }
              },
              "title": {
               "font": {
                "color": "rgb(50, 50, 50)",
                "family": "Arial",
                "size": 24
               },
               "text": "<b>airline_country and Aboard</b> shap interaction values",
               "x": 0.5,
               "xanchor": "center",
               "y": 0.88,
               "yanchor": "top"
              },
              "xaxis": {
               "title": {
                "font": {
                 "color": "rgb(50, 50, 50)",
                 "family": "Arial Black",
                 "size": 16
                },
                "text": "airline_country"
               }
              }
             }
            ],
            "label": "airline_country - Aboard",
            "method": "update"
           },
           {
            "args": [
             {
              "visible": [
               false,
               false,
               false,
               false,
               false,
               false,
               false,
               false,
               false,
               false,
               false,
               false,
               false,
               false,
               false,
               false,
               false,
               false,
               false,
               false,
               false,
               false,
               false,
               false,
               false,
               false,
               false,
               false,
               false,
               false,
               false,
               false,
               false,
               false,
               false,
               false,
               false,
               false,
               false,
               false,
               false,
               false,
               false,
               false,
               false,
               false,
               false,
               false,
               false,
               false,
               false,
               false,
               false,
               false,
               false,
               false,
               false,
               false,
               false,
               false,
               false,
               false,
               false,
               false,
               false,
               false,
               false,
               false,
               false,
               false,
               false,
               false,
               false,
               false,
               false,
               false,
               false,
               false,
               false,
               false,
               false,
               false,
               false,
               false,
               false,
               false,
               false,
               false,
               false,
               false,
               false,
               false,
               false,
               false,
               false,
               false,
               false,
               false,
               false,
               false,
               false,
               false,
               false,
               false,
               false,
               true,
               true,
               true,
               true,
               true,
               true,
               true,
               true,
               false
              ]
             },
             {
              "coloraxis": {
               "colorbar": {
                "title": {
                 "text": "Aboard"
                }
               },
               "colorscale": [
                [
                 0,
                 "rgb(175, 169, 157)"
                ],
                [
                 0.5,
                 "rgb(255, 255, 255)"
                ],
                [
                 1,
                 "rgb(255, 77, 7)"
                ]
               ]
              },
              "legend": {
               "title": {
                "text": "Aboard"
               }
              },
              "title": {
               "font": {
                "color": "rgb(50, 50, 50)",
                "family": "Arial",
                "size": 24
               },
               "text": "<b>day and Aboard</b> shap interaction values",
               "x": 0.5,
               "xanchor": "center",
               "y": 0.88,
               "yanchor": "top"
              },
              "xaxis": {
               "title": {
                "font": {
                 "color": "rgb(50, 50, 50)",
                 "family": "Arial Black",
                 "size": 16
                },
                "text": "day"
               }
              }
             }
            ],
            "label": "day - Aboard",
            "method": "update"
           },
           {
            "args": [
             {
              "visible": [
               false,
               false,
               false,
               false,
               false,
               false,
               false,
               false,
               false,
               false,
               false,
               false,
               false,
               false,
               false,
               false,
               false,
               false,
               false,
               false,
               false,
               false,
               false,
               false,
               false,
               false,
               false,
               false,
               false,
               false,
               false,
               false,
               false,
               false,
               false,
               false,
               false,
               false,
               false,
               false,
               false,
               false,
               false,
               false,
               false,
               false,
               false,
               false,
               false,
               false,
               false,
               false,
               false,
               false,
               false,
               false,
               false,
               false,
               false,
               false,
               false,
               false,
               false,
               false,
               false,
               false,
               false,
               false,
               false,
               false,
               false,
               false,
               false,
               false,
               false,
               false,
               false,
               false,
               false,
               false,
               false,
               false,
               false,
               false,
               false,
               false,
               false,
               false,
               false,
               false,
               false,
               false,
               false,
               false,
               false,
               false,
               false,
               false,
               false,
               false,
               false,
               false,
               false,
               false,
               false,
               false,
               false,
               false,
               false,
               false,
               false,
               false,
               false,
               true
              ]
             },
             {
              "coloraxis": {
               "colorbar": {
                "title": {
                 "text": "Aboard"
                }
               },
               "colorscale": [
                [
                 0,
                 "rgb(175, 169, 157)"
                ],
                [
                 0.5,
                 "rgb(255, 255, 255)"
                ],
                [
                 1,
                 "rgb(255, 77, 7)"
                ]
               ]
              },
              "legend": {
               "title": {
                "text": "Aboard"
               }
              },
              "title": {
               "font": {
                "color": "rgb(50, 50, 50)",
                "family": "Arial",
                "size": 24
               },
               "text": "<b>month and Aboard</b> shap interaction values",
               "x": 0.5,
               "xanchor": "center",
               "y": 0.88,
               "yanchor": "top"
              },
              "xaxis": {
               "title": {
                "font": {
                 "color": "rgb(50, 50, 50)",
                 "family": "Arial Black",
                 "size": 16
                },
                "text": "month"
               }
              }
             }
            ],
            "label": "month - Aboard",
            "method": "update"
           }
          ],
          "direction": "down",
          "pad": {
           "r": 10,
           "t": 10
          },
          "showactive": true,
          "x": 0.37,
          "xanchor": "left",
          "y": 1.25,
          "yanchor": "top"
         }
        ],
        "width": 900,
        "xaxis": {
         "automargin": true,
         "title": {
          "font": {
           "color": "rgb(50, 50, 50)",
           "family": "Arial Black",
           "size": 16
          },
          "text": "Cause"
         }
        },
        "yaxis": {
         "automargin": true,
         "title": {
          "font": {
           "color": "rgb(50, 50, 50)",
           "family": "Arial Black",
           "size": 16
          },
          "text": "Shap interaction value"
         }
        }
       }
      }
     },
     "metadata": {},
     "output_type": "display_data"
    }
   ],
   "source": [
    "xpl_lgb.plot.top_interactions_plot(nb_top_interactions=5)"
   ]
  },
  {
   "cell_type": "code",
   "execution_count": null,
   "metadata": {},
   "outputs": [],
   "source": []
  }
 ],
 "metadata": {
  "kernelspec": {
   "display_name": "eurybia39",
   "language": "python",
   "name": "eurybia39"
  },
  "language_info": {
   "codemirror_mode": {
    "name": "ipython",
    "version": 3
   },
   "file_extension": ".py",
   "mimetype": "text/x-python",
   "name": "python",
   "nbconvert_exporter": "python",
   "pygments_lexer": "ipython3",
   "version": "3.9.7"
  },
  "toc": {
   "base_numbering": 1,
   "nav_menu": {},
   "number_sections": true,
   "sideBar": true,
   "skip_h1_title": false,
   "title_cell": "Table of Contents",
   "title_sidebar": "Contents",
   "toc_cell": false,
   "toc_position": {},
   "toc_section_display": true,
   "toc_window_display": false
  }
 },
 "nbformat": 4,
 "nbformat_minor": 4
}
